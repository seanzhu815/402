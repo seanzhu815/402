{
  "nbformat": 4,
  "nbformat_minor": 0,
  "metadata": {
    "colab": {
      "provenance": [],
      "mount_file_id": "1gZ_eNxqD_7NsOWaKBG_1lQDiaiCXRc-r",
      "authorship_tag": "ABX9TyPXsVbib6yN/+Ceq3Ux6gaG",
      "include_colab_link": true
    },
    "kernelspec": {
      "name": "python3",
      "display_name": "Python 3"
    },
    "language_info": {
      "name": "python"
    }
  },
  "cells": [
    {
      "cell_type": "markdown",
      "metadata": {
        "id": "view-in-github",
        "colab_type": "text"
      },
      "source": [
        "<a href=\"https://colab.research.google.com/github/seanzhu815/402/blob/main/402quiz5.ipynb\" target=\"_parent\"><img src=\"https://colab.research.google.com/assets/colab-badge.svg\" alt=\"Open In Colab\"/></a>"
      ]
    },
    {
      "cell_type": "code",
      "execution_count": 183,
      "metadata": {
        "id": "SJSTqthpgUPE"
      },
      "outputs": [],
      "source": [
        "import pandas            as pd   \n",
        "import numpy             as np   \n",
        "import scipy             as scp  \n",
        "import matplotlib.pyplot as plt  \n",
        "import os                as os   \n",
        "from datetime import date as dd  \n",
        "from scipy import optimize\n",
        "from scipy import stats\n",
        "import statsmodels.api as sm\n"
      ]
    },
    {
      "cell_type": "code",
      "source": [
        "datafile='/content/drive/MyDrive/MGTF402/JPMorganfund .xlsx'\n",
        "data = pd.read_excel(datafile) \n",
        "df=pd.DataFrame(data)"
      ],
      "metadata": {
        "id": "oba0mPoCgXa1"
      },
      "execution_count": 184,
      "outputs": []
    },
    {
      "cell_type": "markdown",
      "source": [
        "# 1"
      ],
      "metadata": {
        "id": "ltajU9Rulgah"
      }
    },
    {
      "cell_type": "code",
      "source": [
        "df['excess_return']=df['JPM']-df['RF']"
      ],
      "metadata": {
        "id": "lJhcEGAZj8Jh"
      },
      "execution_count": 185,
      "outputs": []
    },
    {
      "cell_type": "code",
      "source": [
        "df"
      ],
      "metadata": {
        "colab": {
          "base_uri": "https://localhost:8080/",
          "height": 424
        },
        "id": "qdXy3-m8sI3W",
        "outputId": "6983ea48-b936-42f7-b4df-c75504ec78fb"
      },
      "execution_count": 186,
      "outputs": [
        {
          "output_type": "execute_result",
          "data": {
            "text/plain": [
              "     Unnamed: 0       JPM  Mkt-RF   SMB   HML    RF  excess_return\n",
              "0        199703 -2.868051   -5.02 -0.35  3.40  0.43      -3.298051\n",
              "1        199704  3.515705    4.04 -5.78  0.07  0.43       3.085705\n",
              "2        199705  6.112972    6.74  5.19 -4.12  0.49       5.622972\n",
              "3        199706  3.163822    4.10  1.24  1.59  0.37       2.793822\n",
              "4        199707  7.301207    7.33 -2.73  0.29  0.43       6.871207\n",
              "..          ...       ...     ...   ...   ...   ...            ...\n",
              "289      202104  4.249566    4.93 -3.11 -0.93  0.00       4.249566\n",
              "290      202105  1.297171    0.29 -0.28  7.04  0.00       1.297171\n",
              "291      202106  0.388054    2.79  1.80 -7.76  0.00       0.388054\n",
              "292      202107  0.843176    1.19 -3.96 -1.75  0.00       0.843176\n",
              "293      202108  1.994630    2.91 -0.45 -0.07  0.00       1.994630\n",
              "\n",
              "[294 rows x 7 columns]"
            ],
            "text/html": [
              "\n",
              "  <div id=\"df-9eefb3a8-e679-430e-acf9-291091bda130\">\n",
              "    <div class=\"colab-df-container\">\n",
              "      <div>\n",
              "<style scoped>\n",
              "    .dataframe tbody tr th:only-of-type {\n",
              "        vertical-align: middle;\n",
              "    }\n",
              "\n",
              "    .dataframe tbody tr th {\n",
              "        vertical-align: top;\n",
              "    }\n",
              "\n",
              "    .dataframe thead th {\n",
              "        text-align: right;\n",
              "    }\n",
              "</style>\n",
              "<table border=\"1\" class=\"dataframe\">\n",
              "  <thead>\n",
              "    <tr style=\"text-align: right;\">\n",
              "      <th></th>\n",
              "      <th>Unnamed: 0</th>\n",
              "      <th>JPM</th>\n",
              "      <th>Mkt-RF</th>\n",
              "      <th>SMB</th>\n",
              "      <th>HML</th>\n",
              "      <th>RF</th>\n",
              "      <th>excess_return</th>\n",
              "    </tr>\n",
              "  </thead>\n",
              "  <tbody>\n",
              "    <tr>\n",
              "      <th>0</th>\n",
              "      <td>199703</td>\n",
              "      <td>-2.868051</td>\n",
              "      <td>-5.02</td>\n",
              "      <td>-0.35</td>\n",
              "      <td>3.40</td>\n",
              "      <td>0.43</td>\n",
              "      <td>-3.298051</td>\n",
              "    </tr>\n",
              "    <tr>\n",
              "      <th>1</th>\n",
              "      <td>199704</td>\n",
              "      <td>3.515705</td>\n",
              "      <td>4.04</td>\n",
              "      <td>-5.78</td>\n",
              "      <td>0.07</td>\n",
              "      <td>0.43</td>\n",
              "      <td>3.085705</td>\n",
              "    </tr>\n",
              "    <tr>\n",
              "      <th>2</th>\n",
              "      <td>199705</td>\n",
              "      <td>6.112972</td>\n",
              "      <td>6.74</td>\n",
              "      <td>5.19</td>\n",
              "      <td>-4.12</td>\n",
              "      <td>0.49</td>\n",
              "      <td>5.622972</td>\n",
              "    </tr>\n",
              "    <tr>\n",
              "      <th>3</th>\n",
              "      <td>199706</td>\n",
              "      <td>3.163822</td>\n",
              "      <td>4.10</td>\n",
              "      <td>1.24</td>\n",
              "      <td>1.59</td>\n",
              "      <td>0.37</td>\n",
              "      <td>2.793822</td>\n",
              "    </tr>\n",
              "    <tr>\n",
              "      <th>4</th>\n",
              "      <td>199707</td>\n",
              "      <td>7.301207</td>\n",
              "      <td>7.33</td>\n",
              "      <td>-2.73</td>\n",
              "      <td>0.29</td>\n",
              "      <td>0.43</td>\n",
              "      <td>6.871207</td>\n",
              "    </tr>\n",
              "    <tr>\n",
              "      <th>...</th>\n",
              "      <td>...</td>\n",
              "      <td>...</td>\n",
              "      <td>...</td>\n",
              "      <td>...</td>\n",
              "      <td>...</td>\n",
              "      <td>...</td>\n",
              "      <td>...</td>\n",
              "    </tr>\n",
              "    <tr>\n",
              "      <th>289</th>\n",
              "      <td>202104</td>\n",
              "      <td>4.249566</td>\n",
              "      <td>4.93</td>\n",
              "      <td>-3.11</td>\n",
              "      <td>-0.93</td>\n",
              "      <td>0.00</td>\n",
              "      <td>4.249566</td>\n",
              "    </tr>\n",
              "    <tr>\n",
              "      <th>290</th>\n",
              "      <td>202105</td>\n",
              "      <td>1.297171</td>\n",
              "      <td>0.29</td>\n",
              "      <td>-0.28</td>\n",
              "      <td>7.04</td>\n",
              "      <td>0.00</td>\n",
              "      <td>1.297171</td>\n",
              "    </tr>\n",
              "    <tr>\n",
              "      <th>291</th>\n",
              "      <td>202106</td>\n",
              "      <td>0.388054</td>\n",
              "      <td>2.79</td>\n",
              "      <td>1.80</td>\n",
              "      <td>-7.76</td>\n",
              "      <td>0.00</td>\n",
              "      <td>0.388054</td>\n",
              "    </tr>\n",
              "    <tr>\n",
              "      <th>292</th>\n",
              "      <td>202107</td>\n",
              "      <td>0.843176</td>\n",
              "      <td>1.19</td>\n",
              "      <td>-3.96</td>\n",
              "      <td>-1.75</td>\n",
              "      <td>0.00</td>\n",
              "      <td>0.843176</td>\n",
              "    </tr>\n",
              "    <tr>\n",
              "      <th>293</th>\n",
              "      <td>202108</td>\n",
              "      <td>1.994630</td>\n",
              "      <td>2.91</td>\n",
              "      <td>-0.45</td>\n",
              "      <td>-0.07</td>\n",
              "      <td>0.00</td>\n",
              "      <td>1.994630</td>\n",
              "    </tr>\n",
              "  </tbody>\n",
              "</table>\n",
              "<p>294 rows × 7 columns</p>\n",
              "</div>\n",
              "      <button class=\"colab-df-convert\" onclick=\"convertToInteractive('df-9eefb3a8-e679-430e-acf9-291091bda130')\"\n",
              "              title=\"Convert this dataframe to an interactive table.\"\n",
              "              style=\"display:none;\">\n",
              "        \n",
              "  <svg xmlns=\"http://www.w3.org/2000/svg\" height=\"24px\"viewBox=\"0 0 24 24\"\n",
              "       width=\"24px\">\n",
              "    <path d=\"M0 0h24v24H0V0z\" fill=\"none\"/>\n",
              "    <path d=\"M18.56 5.44l.94 2.06.94-2.06 2.06-.94-2.06-.94-.94-2.06-.94 2.06-2.06.94zm-11 1L8.5 8.5l.94-2.06 2.06-.94-2.06-.94L8.5 2.5l-.94 2.06-2.06.94zm10 10l.94 2.06.94-2.06 2.06-.94-2.06-.94-.94-2.06-.94 2.06-2.06.94z\"/><path d=\"M17.41 7.96l-1.37-1.37c-.4-.4-.92-.59-1.43-.59-.52 0-1.04.2-1.43.59L10.3 9.45l-7.72 7.72c-.78.78-.78 2.05 0 2.83L4 21.41c.39.39.9.59 1.41.59.51 0 1.02-.2 1.41-.59l7.78-7.78 2.81-2.81c.8-.78.8-2.07 0-2.86zM5.41 20L4 18.59l7.72-7.72 1.47 1.35L5.41 20z\"/>\n",
              "  </svg>\n",
              "      </button>\n",
              "      \n",
              "  <style>\n",
              "    .colab-df-container {\n",
              "      display:flex;\n",
              "      flex-wrap:wrap;\n",
              "      gap: 12px;\n",
              "    }\n",
              "\n",
              "    .colab-df-convert {\n",
              "      background-color: #E8F0FE;\n",
              "      border: none;\n",
              "      border-radius: 50%;\n",
              "      cursor: pointer;\n",
              "      display: none;\n",
              "      fill: #1967D2;\n",
              "      height: 32px;\n",
              "      padding: 0 0 0 0;\n",
              "      width: 32px;\n",
              "    }\n",
              "\n",
              "    .colab-df-convert:hover {\n",
              "      background-color: #E2EBFA;\n",
              "      box-shadow: 0px 1px 2px rgba(60, 64, 67, 0.3), 0px 1px 3px 1px rgba(60, 64, 67, 0.15);\n",
              "      fill: #174EA6;\n",
              "    }\n",
              "\n",
              "    [theme=dark] .colab-df-convert {\n",
              "      background-color: #3B4455;\n",
              "      fill: #D2E3FC;\n",
              "    }\n",
              "\n",
              "    [theme=dark] .colab-df-convert:hover {\n",
              "      background-color: #434B5C;\n",
              "      box-shadow: 0px 1px 3px 1px rgba(0, 0, 0, 0.15);\n",
              "      filter: drop-shadow(0px 1px 2px rgba(0, 0, 0, 0.3));\n",
              "      fill: #FFFFFF;\n",
              "    }\n",
              "  </style>\n",
              "\n",
              "      <script>\n",
              "        const buttonEl =\n",
              "          document.querySelector('#df-9eefb3a8-e679-430e-acf9-291091bda130 button.colab-df-convert');\n",
              "        buttonEl.style.display =\n",
              "          google.colab.kernel.accessAllowed ? 'block' : 'none';\n",
              "\n",
              "        async function convertToInteractive(key) {\n",
              "          const element = document.querySelector('#df-9eefb3a8-e679-430e-acf9-291091bda130');\n",
              "          const dataTable =\n",
              "            await google.colab.kernel.invokeFunction('convertToInteractive',\n",
              "                                                     [key], {});\n",
              "          if (!dataTable) return;\n",
              "\n",
              "          const docLinkHtml = 'Like what you see? Visit the ' +\n",
              "            '<a target=\"_blank\" href=https://colab.research.google.com/notebooks/data_table.ipynb>data table notebook</a>'\n",
              "            + ' to learn more about interactive tables.';\n",
              "          element.innerHTML = '';\n",
              "          dataTable['output_type'] = 'display_data';\n",
              "          await google.colab.output.renderOutput(dataTable, element);\n",
              "          const docLink = document.createElement('div');\n",
              "          docLink.innerHTML = docLinkHtml;\n",
              "          element.appendChild(docLink);\n",
              "        }\n",
              "      </script>\n",
              "    </div>\n",
              "  </div>\n",
              "  "
            ]
          },
          "metadata": {},
          "execution_count": 186
        }
      ]
    },
    {
      "cell_type": "code",
      "source": [
        "mod=sm.OLS(df['excess_return'],sm.add_constant(df['Mkt-RF']))\n",
        "res=mod.fit()"
      ],
      "metadata": {
        "colab": {
          "base_uri": "https://localhost:8080/"
        },
        "id": "FnVlAGP7ksRp",
        "outputId": "7eadcee7-f286-457f-c505-6aa48b2e5095"
      },
      "execution_count": 187,
      "outputs": [
        {
          "output_type": "stream",
          "name": "stderr",
          "text": [
            "/usr/local/lib/python3.7/dist-packages/statsmodels/tsa/tsatools.py:142: FutureWarning: In a future version of pandas all arguments of concat except for the argument 'objs' will be keyword-only\n",
            "  x = pd.concat(x[::order], 1)\n"
          ]
        }
      ]
    },
    {
      "cell_type": "code",
      "source": [
        "alpha=res.params[0]"
      ],
      "metadata": {
        "id": "iJag8_5klLy6"
      },
      "execution_count": 188,
      "outputs": []
    },
    {
      "cell_type": "code",
      "source": [
        "alpha"
      ],
      "metadata": {
        "colab": {
          "base_uri": "https://localhost:8080/"
        },
        "id": "U4gkJyHZoKOj",
        "outputId": "c123e509-bcc3-4aba-cb4b-b642cccd4b6f"
      },
      "execution_count": 189,
      "outputs": [
        {
          "output_type": "execute_result",
          "data": {
            "text/plain": [
              "0.013883750666609865"
            ]
          },
          "metadata": {},
          "execution_count": 189
        }
      ]
    },
    {
      "cell_type": "code",
      "source": [
        "beta=res.params[1]"
      ],
      "metadata": {
        "id": "Qifw9qW9pGMG"
      },
      "execution_count": 190,
      "outputs": []
    },
    {
      "cell_type": "markdown",
      "source": [
        "# 2"
      ],
      "metadata": {
        "id": "4Ja8yIh-lh3w"
      }
    },
    {
      "cell_type": "code",
      "source": [
        "sigma=df['excess_return']-(beta*df['Mkt-RF'])-alpha"
      ],
      "metadata": {
        "id": "OkdVbNtElO7i"
      },
      "execution_count": 191,
      "outputs": []
    },
    {
      "cell_type": "code",
      "source": [
        "sigma"
      ],
      "metadata": {
        "colab": {
          "base_uri": "https://localhost:8080/"
        },
        "id": "ofk6gu0Ko67w",
        "outputId": "2a756ab4-3569-4327-fd7d-671b788e9697"
      },
      "execution_count": 192,
      "outputs": [
        {
          "output_type": "execute_result",
          "data": {
            "text/plain": [
              "0      0.991814\n",
              "1     -0.391753\n",
              "2     -0.169251\n",
              "3     -0.735075\n",
              "4      0.573165\n",
              "         ...   \n",
              "289    0.009093\n",
              "290    1.034665\n",
              "291   -2.017754\n",
              "292   -0.190919\n",
              "293   -0.514056\n",
              "Length: 294, dtype: float64"
            ]
          },
          "metadata": {},
          "execution_count": 192
        }
      ]
    },
    {
      "cell_type": "code",
      "source": [
        "IR=alpha/sigma.std()\n",
        "IR=IR.mean()\n",
        "IR"
      ],
      "metadata": {
        "colab": {
          "base_uri": "https://localhost:8080/"
        },
        "id": "xtYlOYyOmeY9",
        "outputId": "ec008adb-a950-4ddf-f487-827db0b1a9b7"
      },
      "execution_count": 193,
      "outputs": [
        {
          "output_type": "execute_result",
          "data": {
            "text/plain": [
              "0.006941434705488074"
            ]
          },
          "metadata": {},
          "execution_count": 193
        }
      ]
    },
    {
      "cell_type": "markdown",
      "source": [
        "# 3"
      ],
      "metadata": {
        "id": "BkIn9z3Mpqt4"
      }
    },
    {
      "cell_type": "code",
      "source": [
        "SR1=df['excess_return']/df['JPM'].std()"
      ],
      "metadata": {
        "id": "FNMNrwhOqPJG"
      },
      "execution_count": 194,
      "outputs": []
    },
    {
      "cell_type": "code",
      "source": [
        "SR1=SR1.mean()\n",
        "SR1"
      ],
      "metadata": {
        "colab": {
          "base_uri": "https://localhost:8080/"
        },
        "id": "Txk01gjkrLAp",
        "outputId": "f4ee5458-246b-44b1-d26b-5bea9682608d"
      },
      "execution_count": 195,
      "outputs": [
        {
          "output_type": "execute_result",
          "data": {
            "text/plain": [
              "0.14451632567784486"
            ]
          },
          "metadata": {},
          "execution_count": 195
        }
      ]
    },
    {
      "cell_type": "code",
      "source": [
        "SR=df['excess_return']/df['excess_return'].std()"
      ],
      "metadata": {
        "id": "oTKfqF1gprew"
      },
      "execution_count": 196,
      "outputs": []
    },
    {
      "cell_type": "code",
      "source": [
        "SR=SR.mean()\n",
        "SR"
      ],
      "metadata": {
        "colab": {
          "base_uri": "https://localhost:8080/"
        },
        "id": "77TEDvrtqJW4",
        "outputId": "4b2d6f5b-83f2-4103-b97d-7cb843f5207d"
      },
      "execution_count": 197,
      "outputs": [
        {
          "output_type": "execute_result",
          "data": {
            "text/plain": [
              "0.1442290992901877"
            ]
          },
          "metadata": {},
          "execution_count": 197
        }
      ]
    },
    {
      "cell_type": "markdown",
      "source": [
        "# 4"
      ],
      "metadata": {
        "id": "bk8h0gjIrc6e"
      }
    },
    {
      "cell_type": "code",
      "source": [
        "beta"
      ],
      "metadata": {
        "colab": {
          "base_uri": "https://localhost:8080/"
        },
        "id": "G4yGlSjIrd2y",
        "outputId": "89718f4b-32e4-42c1-ca91-836acaf6373b"
      },
      "execution_count": 198,
      "outputs": [
        {
          "output_type": "execute_result",
          "data": {
            "text/plain": [
              "0.8573203787433935"
            ]
          },
          "metadata": {},
          "execution_count": 198
        }
      ]
    },
    {
      "cell_type": "markdown",
      "source": [
        "# 5"
      ],
      "metadata": {
        "id": "HwKsUghCrzYI"
      }
    },
    {
      "cell_type": "code",
      "source": [
        "df['bull']=0\n",
        "df['bear']=0"
      ],
      "metadata": {
        "id": "KpdZlMJx5oBR"
      },
      "execution_count": 219,
      "outputs": []
    },
    {
      "cell_type": "code",
      "source": [
        "for i in range(df.shape[0]):\n",
        "  if df.loc[i,'Mkt-RF']>=0:\n",
        "    df.loc[i,'bull']=df.loc[i,'Mkt-RF']\n",
        "  else:\n",
        "    df.loc[i,'bull']=0"
      ],
      "metadata": {
        "id": "YAtCv_57rqLm"
      },
      "execution_count": 221,
      "outputs": []
    },
    {
      "cell_type": "code",
      "source": [
        "for i in range(df.shape[0]):\n",
        "  if df.loc[i,'Mkt-RF']<0:\n",
        "    df.loc[i,'bear']=df.loc[i,'Mkt-RF']\n",
        "  else:\n",
        "    df.loc[i,'bear']=0"
      ],
      "metadata": {
        "id": "iqd2LrLS3tSD"
      },
      "execution_count": 223,
      "outputs": []
    },
    {
      "cell_type": "code",
      "source": [
        "df"
      ],
      "metadata": {
        "colab": {
          "base_uri": "https://localhost:8080/",
          "height": 424
        },
        "id": "18dE3B9d4Un_",
        "outputId": "d9aff23e-c6db-4085-fdda-ee83f7e7a671"
      },
      "execution_count": 225,
      "outputs": [
        {
          "output_type": "execute_result",
          "data": {
            "text/plain": [
              "     Unnamed: 0       JPM  Mkt-RF   SMB   HML    RF  excess_return  bull  bear\n",
              "0        199703 -2.868051   -5.02 -0.35  3.40  0.43      -3.298051  0.00 -5.02\n",
              "1        199704  3.515705    4.04 -5.78  0.07  0.43       3.085705  4.04  0.00\n",
              "2        199705  6.112972    6.74  5.19 -4.12  0.49       5.622972  6.74  0.00\n",
              "3        199706  3.163822    4.10  1.24  1.59  0.37       2.793822  4.10  0.00\n",
              "4        199707  7.301207    7.33 -2.73  0.29  0.43       6.871207  7.33  0.00\n",
              "..          ...       ...     ...   ...   ...   ...            ...   ...   ...\n",
              "289      202104  4.249566    4.93 -3.11 -0.93  0.00       4.249566  4.93  0.00\n",
              "290      202105  1.297171    0.29 -0.28  7.04  0.00       1.297171  0.29  0.00\n",
              "291      202106  0.388054    2.79  1.80 -7.76  0.00       0.388054  2.79  0.00\n",
              "292      202107  0.843176    1.19 -3.96 -1.75  0.00       0.843176  1.19  0.00\n",
              "293      202108  1.994630    2.91 -0.45 -0.07  0.00       1.994630  2.91  0.00\n",
              "\n",
              "[294 rows x 9 columns]"
            ],
            "text/html": [
              "\n",
              "  <div id=\"df-af91b414-3ae3-4ae8-b951-0a2d06f9f39c\">\n",
              "    <div class=\"colab-df-container\">\n",
              "      <div>\n",
              "<style scoped>\n",
              "    .dataframe tbody tr th:only-of-type {\n",
              "        vertical-align: middle;\n",
              "    }\n",
              "\n",
              "    .dataframe tbody tr th {\n",
              "        vertical-align: top;\n",
              "    }\n",
              "\n",
              "    .dataframe thead th {\n",
              "        text-align: right;\n",
              "    }\n",
              "</style>\n",
              "<table border=\"1\" class=\"dataframe\">\n",
              "  <thead>\n",
              "    <tr style=\"text-align: right;\">\n",
              "      <th></th>\n",
              "      <th>Unnamed: 0</th>\n",
              "      <th>JPM</th>\n",
              "      <th>Mkt-RF</th>\n",
              "      <th>SMB</th>\n",
              "      <th>HML</th>\n",
              "      <th>RF</th>\n",
              "      <th>excess_return</th>\n",
              "      <th>bull</th>\n",
              "      <th>bear</th>\n",
              "    </tr>\n",
              "  </thead>\n",
              "  <tbody>\n",
              "    <tr>\n",
              "      <th>0</th>\n",
              "      <td>199703</td>\n",
              "      <td>-2.868051</td>\n",
              "      <td>-5.02</td>\n",
              "      <td>-0.35</td>\n",
              "      <td>3.40</td>\n",
              "      <td>0.43</td>\n",
              "      <td>-3.298051</td>\n",
              "      <td>0.00</td>\n",
              "      <td>-5.02</td>\n",
              "    </tr>\n",
              "    <tr>\n",
              "      <th>1</th>\n",
              "      <td>199704</td>\n",
              "      <td>3.515705</td>\n",
              "      <td>4.04</td>\n",
              "      <td>-5.78</td>\n",
              "      <td>0.07</td>\n",
              "      <td>0.43</td>\n",
              "      <td>3.085705</td>\n",
              "      <td>4.04</td>\n",
              "      <td>0.00</td>\n",
              "    </tr>\n",
              "    <tr>\n",
              "      <th>2</th>\n",
              "      <td>199705</td>\n",
              "      <td>6.112972</td>\n",
              "      <td>6.74</td>\n",
              "      <td>5.19</td>\n",
              "      <td>-4.12</td>\n",
              "      <td>0.49</td>\n",
              "      <td>5.622972</td>\n",
              "      <td>6.74</td>\n",
              "      <td>0.00</td>\n",
              "    </tr>\n",
              "    <tr>\n",
              "      <th>3</th>\n",
              "      <td>199706</td>\n",
              "      <td>3.163822</td>\n",
              "      <td>4.10</td>\n",
              "      <td>1.24</td>\n",
              "      <td>1.59</td>\n",
              "      <td>0.37</td>\n",
              "      <td>2.793822</td>\n",
              "      <td>4.10</td>\n",
              "      <td>0.00</td>\n",
              "    </tr>\n",
              "    <tr>\n",
              "      <th>4</th>\n",
              "      <td>199707</td>\n",
              "      <td>7.301207</td>\n",
              "      <td>7.33</td>\n",
              "      <td>-2.73</td>\n",
              "      <td>0.29</td>\n",
              "      <td>0.43</td>\n",
              "      <td>6.871207</td>\n",
              "      <td>7.33</td>\n",
              "      <td>0.00</td>\n",
              "    </tr>\n",
              "    <tr>\n",
              "      <th>...</th>\n",
              "      <td>...</td>\n",
              "      <td>...</td>\n",
              "      <td>...</td>\n",
              "      <td>...</td>\n",
              "      <td>...</td>\n",
              "      <td>...</td>\n",
              "      <td>...</td>\n",
              "      <td>...</td>\n",
              "      <td>...</td>\n",
              "    </tr>\n",
              "    <tr>\n",
              "      <th>289</th>\n",
              "      <td>202104</td>\n",
              "      <td>4.249566</td>\n",
              "      <td>4.93</td>\n",
              "      <td>-3.11</td>\n",
              "      <td>-0.93</td>\n",
              "      <td>0.00</td>\n",
              "      <td>4.249566</td>\n",
              "      <td>4.93</td>\n",
              "      <td>0.00</td>\n",
              "    </tr>\n",
              "    <tr>\n",
              "      <th>290</th>\n",
              "      <td>202105</td>\n",
              "      <td>1.297171</td>\n",
              "      <td>0.29</td>\n",
              "      <td>-0.28</td>\n",
              "      <td>7.04</td>\n",
              "      <td>0.00</td>\n",
              "      <td>1.297171</td>\n",
              "      <td>0.29</td>\n",
              "      <td>0.00</td>\n",
              "    </tr>\n",
              "    <tr>\n",
              "      <th>291</th>\n",
              "      <td>202106</td>\n",
              "      <td>0.388054</td>\n",
              "      <td>2.79</td>\n",
              "      <td>1.80</td>\n",
              "      <td>-7.76</td>\n",
              "      <td>0.00</td>\n",
              "      <td>0.388054</td>\n",
              "      <td>2.79</td>\n",
              "      <td>0.00</td>\n",
              "    </tr>\n",
              "    <tr>\n",
              "      <th>292</th>\n",
              "      <td>202107</td>\n",
              "      <td>0.843176</td>\n",
              "      <td>1.19</td>\n",
              "      <td>-3.96</td>\n",
              "      <td>-1.75</td>\n",
              "      <td>0.00</td>\n",
              "      <td>0.843176</td>\n",
              "      <td>1.19</td>\n",
              "      <td>0.00</td>\n",
              "    </tr>\n",
              "    <tr>\n",
              "      <th>293</th>\n",
              "      <td>202108</td>\n",
              "      <td>1.994630</td>\n",
              "      <td>2.91</td>\n",
              "      <td>-0.45</td>\n",
              "      <td>-0.07</td>\n",
              "      <td>0.00</td>\n",
              "      <td>1.994630</td>\n",
              "      <td>2.91</td>\n",
              "      <td>0.00</td>\n",
              "    </tr>\n",
              "  </tbody>\n",
              "</table>\n",
              "<p>294 rows × 9 columns</p>\n",
              "</div>\n",
              "      <button class=\"colab-df-convert\" onclick=\"convertToInteractive('df-af91b414-3ae3-4ae8-b951-0a2d06f9f39c')\"\n",
              "              title=\"Convert this dataframe to an interactive table.\"\n",
              "              style=\"display:none;\">\n",
              "        \n",
              "  <svg xmlns=\"http://www.w3.org/2000/svg\" height=\"24px\"viewBox=\"0 0 24 24\"\n",
              "       width=\"24px\">\n",
              "    <path d=\"M0 0h24v24H0V0z\" fill=\"none\"/>\n",
              "    <path d=\"M18.56 5.44l.94 2.06.94-2.06 2.06-.94-2.06-.94-.94-2.06-.94 2.06-2.06.94zm-11 1L8.5 8.5l.94-2.06 2.06-.94-2.06-.94L8.5 2.5l-.94 2.06-2.06.94zm10 10l.94 2.06.94-2.06 2.06-.94-2.06-.94-.94-2.06-.94 2.06-2.06.94z\"/><path d=\"M17.41 7.96l-1.37-1.37c-.4-.4-.92-.59-1.43-.59-.52 0-1.04.2-1.43.59L10.3 9.45l-7.72 7.72c-.78.78-.78 2.05 0 2.83L4 21.41c.39.39.9.59 1.41.59.51 0 1.02-.2 1.41-.59l7.78-7.78 2.81-2.81c.8-.78.8-2.07 0-2.86zM5.41 20L4 18.59l7.72-7.72 1.47 1.35L5.41 20z\"/>\n",
              "  </svg>\n",
              "      </button>\n",
              "      \n",
              "  <style>\n",
              "    .colab-df-container {\n",
              "      display:flex;\n",
              "      flex-wrap:wrap;\n",
              "      gap: 12px;\n",
              "    }\n",
              "\n",
              "    .colab-df-convert {\n",
              "      background-color: #E8F0FE;\n",
              "      border: none;\n",
              "      border-radius: 50%;\n",
              "      cursor: pointer;\n",
              "      display: none;\n",
              "      fill: #1967D2;\n",
              "      height: 32px;\n",
              "      padding: 0 0 0 0;\n",
              "      width: 32px;\n",
              "    }\n",
              "\n",
              "    .colab-df-convert:hover {\n",
              "      background-color: #E2EBFA;\n",
              "      box-shadow: 0px 1px 2px rgba(60, 64, 67, 0.3), 0px 1px 3px 1px rgba(60, 64, 67, 0.15);\n",
              "      fill: #174EA6;\n",
              "    }\n",
              "\n",
              "    [theme=dark] .colab-df-convert {\n",
              "      background-color: #3B4455;\n",
              "      fill: #D2E3FC;\n",
              "    }\n",
              "\n",
              "    [theme=dark] .colab-df-convert:hover {\n",
              "      background-color: #434B5C;\n",
              "      box-shadow: 0px 1px 3px 1px rgba(0, 0, 0, 0.15);\n",
              "      filter: drop-shadow(0px 1px 2px rgba(0, 0, 0, 0.3));\n",
              "      fill: #FFFFFF;\n",
              "    }\n",
              "  </style>\n",
              "\n",
              "      <script>\n",
              "        const buttonEl =\n",
              "          document.querySelector('#df-af91b414-3ae3-4ae8-b951-0a2d06f9f39c button.colab-df-convert');\n",
              "        buttonEl.style.display =\n",
              "          google.colab.kernel.accessAllowed ? 'block' : 'none';\n",
              "\n",
              "        async function convertToInteractive(key) {\n",
              "          const element = document.querySelector('#df-af91b414-3ae3-4ae8-b951-0a2d06f9f39c');\n",
              "          const dataTable =\n",
              "            await google.colab.kernel.invokeFunction('convertToInteractive',\n",
              "                                                     [key], {});\n",
              "          if (!dataTable) return;\n",
              "\n",
              "          const docLinkHtml = 'Like what you see? Visit the ' +\n",
              "            '<a target=\"_blank\" href=https://colab.research.google.com/notebooks/data_table.ipynb>data table notebook</a>'\n",
              "            + ' to learn more about interactive tables.';\n",
              "          element.innerHTML = '';\n",
              "          dataTable['output_type'] = 'display_data';\n",
              "          await google.colab.output.renderOutput(dataTable, element);\n",
              "          const docLink = document.createElement('div');\n",
              "          docLink.innerHTML = docLinkHtml;\n",
              "          element.appendChild(docLink);\n",
              "        }\n",
              "      </script>\n",
              "    </div>\n",
              "  </div>\n",
              "  "
            ]
          },
          "metadata": {},
          "execution_count": 225
        }
      ]
    },
    {
      "cell_type": "code",
      "source": [
        "factors=df[['bull','bear']]"
      ],
      "metadata": {
        "id": "418cnxrJs5gh"
      },
      "execution_count": 226,
      "outputs": []
    },
    {
      "cell_type": "code",
      "source": [
        "mod=sm.OLS(df['excess_return'],sm.add_constant(factors))"
      ],
      "metadata": {
        "colab": {
          "base_uri": "https://localhost:8080/"
        },
        "id": "e8EZ-0Eotfkt",
        "outputId": "53d2d7cb-48e9-4f25-d8f4-3fe43b445dec"
      },
      "execution_count": 227,
      "outputs": [
        {
          "output_type": "stream",
          "name": "stderr",
          "text": [
            "/usr/local/lib/python3.7/dist-packages/statsmodels/tsa/tsatools.py:142: FutureWarning: In a future version of pandas all arguments of concat except for the argument 'objs' will be keyword-only\n",
            "  x = pd.concat(x[::order], 1)\n"
          ]
        }
      ]
    },
    {
      "cell_type": "code",
      "source": [
        "res=mod.fit()"
      ],
      "metadata": {
        "id": "RcR_TWMUtrOq"
      },
      "execution_count": 228,
      "outputs": []
    },
    {
      "cell_type": "code",
      "source": [
        "res.params[1]"
      ],
      "metadata": {
        "colab": {
          "base_uri": "https://localhost:8080/"
        },
        "id": "1zK9WigPtwbt",
        "outputId": "db1fb8c0-2812-4edf-bc1d-3948c24ea77d"
      },
      "execution_count": 229,
      "outputs": [
        {
          "output_type": "execute_result",
          "data": {
            "text/plain": [
              "0.8875075939564931"
            ]
          },
          "metadata": {},
          "execution_count": 229
        }
      ]
    },
    {
      "cell_type": "code",
      "source": [
        "res.params[2]"
      ],
      "metadata": {
        "colab": {
          "base_uri": "https://localhost:8080/"
        },
        "id": "mFIYSiRQt0Ei",
        "outputId": "2ba5e492-7304-4032-cf4c-eeddd693d35e"
      },
      "execution_count": 230,
      "outputs": [
        {
          "output_type": "execute_result",
          "data": {
            "text/plain": [
              "0.8301731299033673"
            ]
          },
          "metadata": {},
          "execution_count": 230
        }
      ]
    },
    {
      "cell_type": "markdown",
      "source": [
        "# 6"
      ],
      "metadata": {
        "id": "B88HaBVbw09d"
      }
    },
    {
      "cell_type": "code",
      "source": [
        "print(f'It is {res.params[1]*10} %')"
      ],
      "metadata": {
        "colab": {
          "base_uri": "https://localhost:8080/"
        },
        "id": "0e5K4ydQw6oz",
        "outputId": "5fe13fc1-f985-4ce8-d4bb-a752a72afd96"
      },
      "execution_count": 231,
      "outputs": [
        {
          "output_type": "stream",
          "name": "stdout",
          "text": [
            "It is 8.875075939564931 %\n"
          ]
        }
      ]
    },
    {
      "cell_type": "code",
      "source": [
        "print(f'It is {res.params[2]*10} %')"
      ],
      "metadata": {
        "colab": {
          "base_uri": "https://localhost:8080/"
        },
        "id": "grv_8HmdxOgo",
        "outputId": "d04449a4-710a-4f29-e99c-5d5900bd5dac"
      },
      "execution_count": 233,
      "outputs": [
        {
          "output_type": "stream",
          "name": "stdout",
          "text": [
            "It is 8.301731299033673 %\n"
          ]
        }
      ]
    },
    {
      "cell_type": "markdown",
      "source": [
        "# 7"
      ],
      "metadata": {
        "id": "RUOLwRgww0Ul"
      }
    },
    {
      "cell_type": "code",
      "source": [
        "factors=df[['Mkt-RF','SMB','HML']]"
      ],
      "metadata": {
        "id": "n3Mw7y-6w3Mb"
      },
      "execution_count": 234,
      "outputs": []
    },
    {
      "cell_type": "code",
      "source": [
        "mod = sm.OLS(df['excess_return'],sm.add_constant(factors))"
      ],
      "metadata": {
        "id": "81dJ7Oq3xbDq"
      },
      "execution_count": 235,
      "outputs": []
    },
    {
      "cell_type": "code",
      "source": [
        "res=mod.fit()"
      ],
      "metadata": {
        "id": "xD_tv3g0xmT-"
      },
      "execution_count": 236,
      "outputs": []
    },
    {
      "cell_type": "markdown",
      "source": [
        "## a"
      ],
      "metadata": {
        "id": "oxz6BXvfxxxu"
      }
    },
    {
      "cell_type": "code",
      "source": [
        "res.params[2]"
      ],
      "metadata": {
        "colab": {
          "base_uri": "https://localhost:8080/"
        },
        "id": "BXbXs0Q-xn92",
        "outputId": "680b811f-cdfc-4a72-cd14-87b823b3a416"
      },
      "execution_count": 237,
      "outputs": [
        {
          "output_type": "execute_result",
          "data": {
            "text/plain": [
              "-0.012167058616484264"
            ]
          },
          "metadata": {},
          "execution_count": 237
        }
      ]
    },
    {
      "cell_type": "markdown",
      "source": [
        "## b"
      ],
      "metadata": {
        "id": "7tqdsluOxywU"
      }
    },
    {
      "cell_type": "code",
      "source": [
        "res.params[3]"
      ],
      "metadata": {
        "colab": {
          "base_uri": "https://localhost:8080/"
        },
        "id": "Gi2s1aIRxqtI",
        "outputId": "7a5f7e3e-8ea8-4e92-a906-767921037521"
      },
      "execution_count": 238,
      "outputs": [
        {
          "output_type": "execute_result",
          "data": {
            "text/plain": [
              "0.011866257435271471"
            ]
          },
          "metadata": {},
          "execution_count": 238
        }
      ]
    }
  ]
}