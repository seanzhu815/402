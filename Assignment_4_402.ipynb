{
  "cells": [
    {
      "cell_type": "markdown",
      "metadata": {
        "id": "view-in-github",
        "colab_type": "text"
      },
      "source": [
        "<a href=\"https://colab.research.google.com/github/seanzhu815/402/blob/main/Assignment_4_402.ipynb\" target=\"_parent\"><img src=\"https://colab.research.google.com/assets/colab-badge.svg\" alt=\"Open In Colab\"/></a>"
      ]
    },
    {
      "cell_type": "code",
      "execution_count": 1,
      "metadata": {
        "id": "xCEU3DV18r0L"
      },
      "outputs": [],
      "source": [
        "import pandas as pd\n",
        "import numpy as np\n",
        "from matplotlib import pyplot as plt "
      ]
    },
    {
      "cell_type": "code",
      "source": [
        "from google.colab import drive\n",
        "drive.mount('/content/drive')"
      ],
      "metadata": {
        "colab": {
          "base_uri": "https://localhost:8080/"
        },
        "id": "yXBWrSrO8u3p",
        "outputId": "ea50a8ea-256f-47e4-e67d-352791cd7a35"
      },
      "execution_count": 2,
      "outputs": [
        {
          "output_type": "stream",
          "name": "stdout",
          "text": [
            "Mounted at /content/drive\n"
          ]
        }
      ]
    },
    {
      "cell_type": "markdown",
      "metadata": {
        "id": "Svy262WE8r0N"
      },
      "source": [
        "# Part 1"
      ]
    },
    {
      "cell_type": "markdown",
      "metadata": {
        "id": "7GLajUKd8r0O"
      },
      "source": [
        "## i)"
      ]
    },
    {
      "cell_type": "code",
      "execution_count": 35,
      "metadata": {
        "id": "tKzPIWCd8r0P"
      },
      "outputs": [],
      "source": [
        "# I have used sample cashflows. But you have to construct the entire cashflows for sleeping beauties.\n",
        "df = pd.read_excel('drive/MyDrive/MGTF402/cashflows_sample.xlsx', header = 0) \n"
      ]
    },
    {
      "cell_type": "code",
      "source": [
        "df.iloc[7,2]=7.55"
      ],
      "metadata": {
        "id": "UB1wOPk6_vab"
      },
      "execution_count": 36,
      "outputs": []
    },
    {
      "cell_type": "code",
      "source": [
        "df = df.iloc[range(1,len(df))]  # Remove the first NaN value\n",
        "r = 7.55/100"
      ],
      "metadata": {
        "id": "8iFRTeYC9CcQ"
      },
      "execution_count": 37,
      "outputs": []
    },
    {
      "cell_type": "code",
      "source": [
        "for i in range(8,100):\n",
        "  df.loc[i] = [1993+i, i, 7.55]"
      ],
      "metadata": {
        "id": "27c_6t3p_6BQ"
      },
      "execution_count": 38,
      "outputs": []
    },
    {
      "cell_type": "code",
      "source": [
        "df.loc[100]=[2093,100,107.55]"
      ],
      "metadata": {
        "id": "9vnY0nerBSyI"
      },
      "execution_count": 41,
      "outputs": []
    },
    {
      "cell_type": "code",
      "source": [
        "df"
      ],
      "metadata": {
        "colab": {
          "base_uri": "https://localhost:8080/",
          "height": 424
        },
        "id": "Q6N1lyF6CTsL",
        "outputId": "eb44a82c-30c0-4e78-aed5-13fcc583e8d3"
      },
      "execution_count": 45,
      "outputs": [
        {
          "output_type": "execute_result",
          "data": {
            "text/plain": [
              "       Year  Period  CF per $100  discount_factor\n",
              "1    1994.0     1.0         7.55         1.075500\n",
              "2    1995.0     2.0         7.55         1.156700\n",
              "3    1996.0     3.0         7.55         1.244031\n",
              "4    1997.0     4.0         7.55         1.337955\n",
              "5    1998.0     5.0         7.55         1.438971\n",
              "..      ...     ...          ...              ...\n",
              "96   2089.0    96.0         7.55      1082.928575\n",
              "97   2090.0    97.0         7.55      1164.689682\n",
              "98   2091.0    98.0         7.55      1252.623753\n",
              "99   2092.0    99.0         7.55      1347.196847\n",
              "100  2093.0   100.0       107.55      1448.910209\n",
              "\n",
              "[100 rows x 4 columns]"
            ],
            "text/html": [
              "\n",
              "  <div id=\"df-1e874df3-1643-41e6-8f08-63754f6ecf75\">\n",
              "    <div class=\"colab-df-container\">\n",
              "      <div>\n",
              "<style scoped>\n",
              "    .dataframe tbody tr th:only-of-type {\n",
              "        vertical-align: middle;\n",
              "    }\n",
              "\n",
              "    .dataframe tbody tr th {\n",
              "        vertical-align: top;\n",
              "    }\n",
              "\n",
              "    .dataframe thead th {\n",
              "        text-align: right;\n",
              "    }\n",
              "</style>\n",
              "<table border=\"1\" class=\"dataframe\">\n",
              "  <thead>\n",
              "    <tr style=\"text-align: right;\">\n",
              "      <th></th>\n",
              "      <th>Year</th>\n",
              "      <th>Period</th>\n",
              "      <th>CF per $100</th>\n",
              "      <th>discount_factor</th>\n",
              "    </tr>\n",
              "  </thead>\n",
              "  <tbody>\n",
              "    <tr>\n",
              "      <th>1</th>\n",
              "      <td>1994.0</td>\n",
              "      <td>1.0</td>\n",
              "      <td>7.55</td>\n",
              "      <td>1.075500</td>\n",
              "    </tr>\n",
              "    <tr>\n",
              "      <th>2</th>\n",
              "      <td>1995.0</td>\n",
              "      <td>2.0</td>\n",
              "      <td>7.55</td>\n",
              "      <td>1.156700</td>\n",
              "    </tr>\n",
              "    <tr>\n",
              "      <th>3</th>\n",
              "      <td>1996.0</td>\n",
              "      <td>3.0</td>\n",
              "      <td>7.55</td>\n",
              "      <td>1.244031</td>\n",
              "    </tr>\n",
              "    <tr>\n",
              "      <th>4</th>\n",
              "      <td>1997.0</td>\n",
              "      <td>4.0</td>\n",
              "      <td>7.55</td>\n",
              "      <td>1.337955</td>\n",
              "    </tr>\n",
              "    <tr>\n",
              "      <th>5</th>\n",
              "      <td>1998.0</td>\n",
              "      <td>5.0</td>\n",
              "      <td>7.55</td>\n",
              "      <td>1.438971</td>\n",
              "    </tr>\n",
              "    <tr>\n",
              "      <th>...</th>\n",
              "      <td>...</td>\n",
              "      <td>...</td>\n",
              "      <td>...</td>\n",
              "      <td>...</td>\n",
              "    </tr>\n",
              "    <tr>\n",
              "      <th>96</th>\n",
              "      <td>2089.0</td>\n",
              "      <td>96.0</td>\n",
              "      <td>7.55</td>\n",
              "      <td>1082.928575</td>\n",
              "    </tr>\n",
              "    <tr>\n",
              "      <th>97</th>\n",
              "      <td>2090.0</td>\n",
              "      <td>97.0</td>\n",
              "      <td>7.55</td>\n",
              "      <td>1164.689682</td>\n",
              "    </tr>\n",
              "    <tr>\n",
              "      <th>98</th>\n",
              "      <td>2091.0</td>\n",
              "      <td>98.0</td>\n",
              "      <td>7.55</td>\n",
              "      <td>1252.623753</td>\n",
              "    </tr>\n",
              "    <tr>\n",
              "      <th>99</th>\n",
              "      <td>2092.0</td>\n",
              "      <td>99.0</td>\n",
              "      <td>7.55</td>\n",
              "      <td>1347.196847</td>\n",
              "    </tr>\n",
              "    <tr>\n",
              "      <th>100</th>\n",
              "      <td>2093.0</td>\n",
              "      <td>100.0</td>\n",
              "      <td>107.55</td>\n",
              "      <td>1448.910209</td>\n",
              "    </tr>\n",
              "  </tbody>\n",
              "</table>\n",
              "<p>100 rows × 4 columns</p>\n",
              "</div>\n",
              "      <button class=\"colab-df-convert\" onclick=\"convertToInteractive('df-1e874df3-1643-41e6-8f08-63754f6ecf75')\"\n",
              "              title=\"Convert this dataframe to an interactive table.\"\n",
              "              style=\"display:none;\">\n",
              "        \n",
              "  <svg xmlns=\"http://www.w3.org/2000/svg\" height=\"24px\"viewBox=\"0 0 24 24\"\n",
              "       width=\"24px\">\n",
              "    <path d=\"M0 0h24v24H0V0z\" fill=\"none\"/>\n",
              "    <path d=\"M18.56 5.44l.94 2.06.94-2.06 2.06-.94-2.06-.94-.94-2.06-.94 2.06-2.06.94zm-11 1L8.5 8.5l.94-2.06 2.06-.94-2.06-.94L8.5 2.5l-.94 2.06-2.06.94zm10 10l.94 2.06.94-2.06 2.06-.94-2.06-.94-.94-2.06-.94 2.06-2.06.94z\"/><path d=\"M17.41 7.96l-1.37-1.37c-.4-.4-.92-.59-1.43-.59-.52 0-1.04.2-1.43.59L10.3 9.45l-7.72 7.72c-.78.78-.78 2.05 0 2.83L4 21.41c.39.39.9.59 1.41.59.51 0 1.02-.2 1.41-.59l7.78-7.78 2.81-2.81c.8-.78.8-2.07 0-2.86zM5.41 20L4 18.59l7.72-7.72 1.47 1.35L5.41 20z\"/>\n",
              "  </svg>\n",
              "      </button>\n",
              "      \n",
              "  <style>\n",
              "    .colab-df-container {\n",
              "      display:flex;\n",
              "      flex-wrap:wrap;\n",
              "      gap: 12px;\n",
              "    }\n",
              "\n",
              "    .colab-df-convert {\n",
              "      background-color: #E8F0FE;\n",
              "      border: none;\n",
              "      border-radius: 50%;\n",
              "      cursor: pointer;\n",
              "      display: none;\n",
              "      fill: #1967D2;\n",
              "      height: 32px;\n",
              "      padding: 0 0 0 0;\n",
              "      width: 32px;\n",
              "    }\n",
              "\n",
              "    .colab-df-convert:hover {\n",
              "      background-color: #E2EBFA;\n",
              "      box-shadow: 0px 1px 2px rgba(60, 64, 67, 0.3), 0px 1px 3px 1px rgba(60, 64, 67, 0.15);\n",
              "      fill: #174EA6;\n",
              "    }\n",
              "\n",
              "    [theme=dark] .colab-df-convert {\n",
              "      background-color: #3B4455;\n",
              "      fill: #D2E3FC;\n",
              "    }\n",
              "\n",
              "    [theme=dark] .colab-df-convert:hover {\n",
              "      background-color: #434B5C;\n",
              "      box-shadow: 0px 1px 3px 1px rgba(0, 0, 0, 0.15);\n",
              "      filter: drop-shadow(0px 1px 2px rgba(0, 0, 0, 0.3));\n",
              "      fill: #FFFFFF;\n",
              "    }\n",
              "  </style>\n",
              "\n",
              "      <script>\n",
              "        const buttonEl =\n",
              "          document.querySelector('#df-1e874df3-1643-41e6-8f08-63754f6ecf75 button.colab-df-convert');\n",
              "        buttonEl.style.display =\n",
              "          google.colab.kernel.accessAllowed ? 'block' : 'none';\n",
              "\n",
              "        async function convertToInteractive(key) {\n",
              "          const element = document.querySelector('#df-1e874df3-1643-41e6-8f08-63754f6ecf75');\n",
              "          const dataTable =\n",
              "            await google.colab.kernel.invokeFunction('convertToInteractive',\n",
              "                                                     [key], {});\n",
              "          if (!dataTable) return;\n",
              "\n",
              "          const docLinkHtml = 'Like what you see? Visit the ' +\n",
              "            '<a target=\"_blank\" href=https://colab.research.google.com/notebooks/data_table.ipynb>data table notebook</a>'\n",
              "            + ' to learn more about interactive tables.';\n",
              "          element.innerHTML = '';\n",
              "          dataTable['output_type'] = 'display_data';\n",
              "          await google.colab.output.renderOutput(dataTable, element);\n",
              "          const docLink = document.createElement('div');\n",
              "          docLink.innerHTML = docLinkHtml;\n",
              "          element.appendChild(docLink);\n",
              "        }\n",
              "      </script>\n",
              "    </div>\n",
              "  </div>\n",
              "  "
            ]
          },
          "metadata": {},
          "execution_count": 45
        }
      ]
    },
    {
      "cell_type": "markdown",
      "metadata": {
        "id": "1Z0WSO418r0P"
      },
      "source": [
        "## ii)"
      ]
    },
    {
      "cell_type": "code",
      "execution_count": 43,
      "metadata": {
        "id": "CqKgLuos8r0Q"
      },
      "outputs": [],
      "source": [
        "df[\"discount_factor\"] = (1+r)**df.index\n"
      ]
    },
    {
      "cell_type": "code",
      "source": [
        "df[\"discount_factor\"]"
      ],
      "metadata": {
        "colab": {
          "base_uri": "https://localhost:8080/"
        },
        "id": "XfahsY1DCDfD",
        "outputId": "cf5c8b9f-46e5-4354-a03b-b7158043be56"
      },
      "execution_count": 44,
      "outputs": [
        {
          "output_type": "execute_result",
          "data": {
            "text/plain": [
              "1         1.075500\n",
              "2         1.156700\n",
              "3         1.244031\n",
              "4         1.337955\n",
              "5         1.438971\n",
              "          ...     \n",
              "96     1082.928575\n",
              "97     1164.689682\n",
              "98     1252.623753\n",
              "99     1347.196847\n",
              "100    1448.910209\n",
              "Name: discount_factor, Length: 100, dtype: float64"
            ]
          },
          "metadata": {},
          "execution_count": 44
        }
      ]
    },
    {
      "cell_type": "code",
      "source": [
        "bondvalue =  sum(df['CF per $100']/df['discount_factor'])                              # Calculate the bond value using the discount factor calculated above and the cash flows in the dataframe\n",
        "print(f'The value of the bond per 100$ face value is {bondvalue:.2f}')"
      ],
      "metadata": {
        "colab": {
          "base_uri": "https://localhost:8080/"
        },
        "id": "DMX8C195CF69",
        "outputId": "bbafd0fb-7a7a-4227-c619-e792bc0cc4d6"
      },
      "execution_count": 46,
      "outputs": [
        {
          "output_type": "stream",
          "name": "stdout",
          "text": [
            "The value of the bond per 100$ face value is 100.00\n"
          ]
        }
      ]
    },
    {
      "cell_type": "markdown",
      "metadata": {
        "id": "2LVZclef8r0R"
      },
      "source": [
        "## iii)"
      ]
    },
    {
      "cell_type": "code",
      "execution_count": 47,
      "metadata": {
        "colab": {
          "base_uri": "https://localhost:8080/"
        },
        "id": "KYc9htG_8r0R",
        "outputId": "432b25be-aa3a-403c-c8ef-8ddcbe2a8be3"
      },
      "outputs": [
        {
          "output_type": "stream",
          "name": "stdout",
          "text": [
            "The value of the bond wtth 8.55% is 88.31\n"
          ]
        }
      ],
      "source": [
        "r2 = 8.55/100\n",
        "df[\"discount_factor2\"] =  (1+r2)**df.index                    # Fill in the updated discount factor\n",
        "bondvalue2 =   sum(df['CF per $100']/df['discount_factor2'])                               # Fill in the bond value\n",
        "print(f'The value of the bond wtth 8.55% is {bondvalue2:.2f}')"
      ]
    },
    {
      "cell_type": "markdown",
      "metadata": {
        "id": "kxdKh4zp8r0R"
      },
      "source": [
        "## iv) "
      ]
    },
    {
      "cell_type": "code",
      "source": [
        "r3 = 6.55/100\n",
        "df[\"discount_factor3\"] =  (1+r3)**df.index\n",
        "bondvalue3 =   sum(df['CF per $100']/df['discount_factor3'])\n",
        "print(f'The value of the bond wtth 6.55% is {bondvalue3:.2f}')"
      ],
      "metadata": {
        "colab": {
          "base_uri": "https://localhost:8080/"
        },
        "id": "d_0ibbhEEEjh",
        "outputId": "1024a10b-22ca-454e-d692-3e2805849ae3"
      },
      "execution_count": 49,
      "outputs": [
        {
          "output_type": "stream",
          "name": "stdout",
          "text": [
            "The value of the bond wtth 6.55% is 115.24\n"
          ]
        }
      ]
    },
    {
      "cell_type": "markdown",
      "metadata": {
        "id": "UBVQwz4I8r0S"
      },
      "source": [
        "## v)"
      ]
    },
    {
      "cell_type": "code",
      "execution_count": 55,
      "metadata": {
        "id": "VM9DPaCr8r0S"
      },
      "outputs": [],
      "source": [
        "sleepCF = df.iloc[:, [2]] \n",
        "nap_CF = df.iloc[:10, [2]]             # Cash flows of Napping beauties assuming only 5 years. You have to do this for 10 years.\n",
        "nap_CF.iloc[9] = nap_CF.iloc[9] + 100"
      ]
    },
    {
      "cell_type": "code",
      "source": [
        "nap_CF"
      ],
      "metadata": {
        "colab": {
          "base_uri": "https://localhost:8080/",
          "height": 363
        },
        "id": "1furjlSRFEF-",
        "outputId": "f8c1d51c-cd63-48dc-b0b4-e89823e9c173"
      },
      "execution_count": 70,
      "outputs": [
        {
          "output_type": "execute_result",
          "data": {
            "text/plain": [
              "    CF per $100  discount_factor         PV\n",
              "1          7.55         1.200000   6.291667\n",
              "2          7.55         1.440000   5.243056\n",
              "3          7.55         1.728000   4.369213\n",
              "4          7.55         2.073600   3.641011\n",
              "5          7.55         2.488320   3.034176\n",
              "6          7.55         2.985984   2.528480\n",
              "7          7.55         3.583181   2.107066\n",
              "8          7.55         4.299817   1.755889\n",
              "9          7.55         5.159780   1.463241\n",
              "10       107.55         6.191736  17.369925"
            ],
            "text/html": [
              "\n",
              "  <div id=\"df-a9544bad-62f9-4689-8bf1-a4f2ebf28ed1\">\n",
              "    <div class=\"colab-df-container\">\n",
              "      <div>\n",
              "<style scoped>\n",
              "    .dataframe tbody tr th:only-of-type {\n",
              "        vertical-align: middle;\n",
              "    }\n",
              "\n",
              "    .dataframe tbody tr th {\n",
              "        vertical-align: top;\n",
              "    }\n",
              "\n",
              "    .dataframe thead th {\n",
              "        text-align: right;\n",
              "    }\n",
              "</style>\n",
              "<table border=\"1\" class=\"dataframe\">\n",
              "  <thead>\n",
              "    <tr style=\"text-align: right;\">\n",
              "      <th></th>\n",
              "      <th>CF per $100</th>\n",
              "      <th>discount_factor</th>\n",
              "      <th>PV</th>\n",
              "    </tr>\n",
              "  </thead>\n",
              "  <tbody>\n",
              "    <tr>\n",
              "      <th>1</th>\n",
              "      <td>7.55</td>\n",
              "      <td>1.200000</td>\n",
              "      <td>6.291667</td>\n",
              "    </tr>\n",
              "    <tr>\n",
              "      <th>2</th>\n",
              "      <td>7.55</td>\n",
              "      <td>1.440000</td>\n",
              "      <td>5.243056</td>\n",
              "    </tr>\n",
              "    <tr>\n",
              "      <th>3</th>\n",
              "      <td>7.55</td>\n",
              "      <td>1.728000</td>\n",
              "      <td>4.369213</td>\n",
              "    </tr>\n",
              "    <tr>\n",
              "      <th>4</th>\n",
              "      <td>7.55</td>\n",
              "      <td>2.073600</td>\n",
              "      <td>3.641011</td>\n",
              "    </tr>\n",
              "    <tr>\n",
              "      <th>5</th>\n",
              "      <td>7.55</td>\n",
              "      <td>2.488320</td>\n",
              "      <td>3.034176</td>\n",
              "    </tr>\n",
              "    <tr>\n",
              "      <th>6</th>\n",
              "      <td>7.55</td>\n",
              "      <td>2.985984</td>\n",
              "      <td>2.528480</td>\n",
              "    </tr>\n",
              "    <tr>\n",
              "      <th>7</th>\n",
              "      <td>7.55</td>\n",
              "      <td>3.583181</td>\n",
              "      <td>2.107066</td>\n",
              "    </tr>\n",
              "    <tr>\n",
              "      <th>8</th>\n",
              "      <td>7.55</td>\n",
              "      <td>4.299817</td>\n",
              "      <td>1.755889</td>\n",
              "    </tr>\n",
              "    <tr>\n",
              "      <th>9</th>\n",
              "      <td>7.55</td>\n",
              "      <td>5.159780</td>\n",
              "      <td>1.463241</td>\n",
              "    </tr>\n",
              "    <tr>\n",
              "      <th>10</th>\n",
              "      <td>107.55</td>\n",
              "      <td>6.191736</td>\n",
              "      <td>17.369925</td>\n",
              "    </tr>\n",
              "  </tbody>\n",
              "</table>\n",
              "</div>\n",
              "      <button class=\"colab-df-convert\" onclick=\"convertToInteractive('df-a9544bad-62f9-4689-8bf1-a4f2ebf28ed1')\"\n",
              "              title=\"Convert this dataframe to an interactive table.\"\n",
              "              style=\"display:none;\">\n",
              "        \n",
              "  <svg xmlns=\"http://www.w3.org/2000/svg\" height=\"24px\"viewBox=\"0 0 24 24\"\n",
              "       width=\"24px\">\n",
              "    <path d=\"M0 0h24v24H0V0z\" fill=\"none\"/>\n",
              "    <path d=\"M18.56 5.44l.94 2.06.94-2.06 2.06-.94-2.06-.94-.94-2.06-.94 2.06-2.06.94zm-11 1L8.5 8.5l.94-2.06 2.06-.94-2.06-.94L8.5 2.5l-.94 2.06-2.06.94zm10 10l.94 2.06.94-2.06 2.06-.94-2.06-.94-.94-2.06-.94 2.06-2.06.94z\"/><path d=\"M17.41 7.96l-1.37-1.37c-.4-.4-.92-.59-1.43-.59-.52 0-1.04.2-1.43.59L10.3 9.45l-7.72 7.72c-.78.78-.78 2.05 0 2.83L4 21.41c.39.39.9.59 1.41.59.51 0 1.02-.2 1.41-.59l7.78-7.78 2.81-2.81c.8-.78.8-2.07 0-2.86zM5.41 20L4 18.59l7.72-7.72 1.47 1.35L5.41 20z\"/>\n",
              "  </svg>\n",
              "      </button>\n",
              "      \n",
              "  <style>\n",
              "    .colab-df-container {\n",
              "      display:flex;\n",
              "      flex-wrap:wrap;\n",
              "      gap: 12px;\n",
              "    }\n",
              "\n",
              "    .colab-df-convert {\n",
              "      background-color: #E8F0FE;\n",
              "      border: none;\n",
              "      border-radius: 50%;\n",
              "      cursor: pointer;\n",
              "      display: none;\n",
              "      fill: #1967D2;\n",
              "      height: 32px;\n",
              "      padding: 0 0 0 0;\n",
              "      width: 32px;\n",
              "    }\n",
              "\n",
              "    .colab-df-convert:hover {\n",
              "      background-color: #E2EBFA;\n",
              "      box-shadow: 0px 1px 2px rgba(60, 64, 67, 0.3), 0px 1px 3px 1px rgba(60, 64, 67, 0.15);\n",
              "      fill: #174EA6;\n",
              "    }\n",
              "\n",
              "    [theme=dark] .colab-df-convert {\n",
              "      background-color: #3B4455;\n",
              "      fill: #D2E3FC;\n",
              "    }\n",
              "\n",
              "    [theme=dark] .colab-df-convert:hover {\n",
              "      background-color: #434B5C;\n",
              "      box-shadow: 0px 1px 3px 1px rgba(0, 0, 0, 0.15);\n",
              "      filter: drop-shadow(0px 1px 2px rgba(0, 0, 0, 0.3));\n",
              "      fill: #FFFFFF;\n",
              "    }\n",
              "  </style>\n",
              "\n",
              "      <script>\n",
              "        const buttonEl =\n",
              "          document.querySelector('#df-a9544bad-62f9-4689-8bf1-a4f2ebf28ed1 button.colab-df-convert');\n",
              "        buttonEl.style.display =\n",
              "          google.colab.kernel.accessAllowed ? 'block' : 'none';\n",
              "\n",
              "        async function convertToInteractive(key) {\n",
              "          const element = document.querySelector('#df-a9544bad-62f9-4689-8bf1-a4f2ebf28ed1');\n",
              "          const dataTable =\n",
              "            await google.colab.kernel.invokeFunction('convertToInteractive',\n",
              "                                                     [key], {});\n",
              "          if (!dataTable) return;\n",
              "\n",
              "          const docLinkHtml = 'Like what you see? Visit the ' +\n",
              "            '<a target=\"_blank\" href=https://colab.research.google.com/notebooks/data_table.ipynb>data table notebook</a>'\n",
              "            + ' to learn more about interactive tables.';\n",
              "          element.innerHTML = '';\n",
              "          dataTable['output_type'] = 'display_data';\n",
              "          await google.colab.output.renderOutput(dataTable, element);\n",
              "          const docLink = document.createElement('div');\n",
              "          docLink.innerHTML = docLinkHtml;\n",
              "          element.appendChild(docLink);\n",
              "        }\n",
              "      </script>\n",
              "    </div>\n",
              "  </div>\n",
              "  "
            ]
          },
          "metadata": {},
          "execution_count": 70
        }
      ]
    },
    {
      "cell_type": "markdown",
      "metadata": {
        "id": "yvmoKuPF8r0S"
      },
      "source": [
        "## vi)"
      ]
    },
    {
      "cell_type": "code",
      "execution_count": 57,
      "metadata": {
        "id": "53Wf9lZC8r0T"
      },
      "outputs": [],
      "source": [
        "# Define bond price function\n",
        "def bondprice(CF, r):\n",
        "    CF['discount_factor'] = (1+r)**(CF.index.values)\n",
        "    CF['PV'] =  CF['CF per $100']/CF['discount_factor']                               # Complete this function\n",
        "    price = CF['PV'].sum()\n",
        "    return price"
      ]
    },
    {
      "cell_type": "code",
      "execution_count": 58,
      "metadata": {
        "id": "fOoLU_Tt8r0T"
      },
      "outputs": [],
      "source": [
        "# Calculate the bond prices\n",
        "sleepprice = np.zeros(20)\n",
        "napprice = np.zeros(20)\n"
      ]
    },
    {
      "cell_type": "code",
      "source": [
        "for i in range(1, 21):\n",
        "    sleepprice[i-1] = bondprice(sleepCF,i/100) # Complete the argument\n",
        "    napprice[i-1] = bondprice(nap_CF,i/100)   "
      ],
      "metadata": {
        "id": "D54GWNV4G-Ci"
      },
      "execution_count": null,
      "outputs": []
    },
    {
      "cell_type": "code",
      "execution_count": 69,
      "metadata": {
        "colab": {
          "base_uri": "https://localhost:8080/",
          "height": 295
        },
        "id": "5SYTqrg78r0T",
        "outputId": "63892308-8d59-4e78-d3a6-cdbfbb342b00"
      },
      "outputs": [
        {
          "output_type": "display_data",
          "data": {
            "text/plain": [
              "<Figure size 432x288 with 1 Axes>"
            ],
            "image/png": "[encoded data removed]"
          },
          "metadata": {
            "needs_background": "light"
          }
        }
      ],
      "source": [
        "plt.title(\"Interest rate sensitivity\") \n",
        "plt.xlabel(\"Interest Rate\") \n",
        "plt.ylabel(\"Bond Price\") \n",
        "plt.plot(range(1,21),napprice, 'b', label = \"napping\")\n",
        "plt.plot(range(1,21),sleepprice, 'r', label = \"sleeping\")\n",
        "plt.legend(loc=\"upper right\")\n",
        "plt.show()"
      ]
    },
    {
      "cell_type": "markdown",
      "source": [
        "## Vii)"
      ],
      "metadata": {
        "id": "6seNZfJtQQtj"
      }
    },
    {
      "cell_type": "code",
      "source": [
        "bondprice(sleepCF, 0.0755)"
      ],
      "metadata": {
        "colab": {
          "base_uri": "https://localhost:8080/"
        },
        "id": "P2djooY6QQNx",
        "outputId": "83a25610-943e-466b-94b4-7942f383b988"
      },
      "execution_count": 72,
      "outputs": [
        {
          "output_type": "stream",
          "name": "stderr",
          "text": [
            "/usr/local/lib/python3.7/dist-packages/ipykernel_launcher.py:3: SettingWithCopyWarning: \n",
            "A value is trying to be set on a copy of a slice from a DataFrame.\n",
            "Try using .loc[row_indexer,col_indexer] = value instead\n",
            "\n",
            "See the caveats in the documentation: https://pandas.pydata.org/pandas-docs/stable/user_guide/indexing.html#returning-a-view-versus-a-copy\n",
            "  This is separate from the ipykernel package so we can avoid doing imports until\n",
            "/usr/local/lib/python3.7/dist-packages/ipykernel_launcher.py:4: SettingWithCopyWarning: \n",
            "A value is trying to be set on a copy of a slice from a DataFrame.\n",
            "Try using .loc[row_indexer,col_indexer] = value instead\n",
            "\n",
            "See the caveats in the documentation: https://pandas.pydata.org/pandas-docs/stable/user_guide/indexing.html#returning-a-view-versus-a-copy\n",
            "  after removing the cwd from sys.path.\n"
          ]
        },
        {
          "output_type": "execute_result",
          "data": {
            "text/plain": [
              "100.00000000000013"
            ]
          },
          "metadata": {},
          "execution_count": 72
        }
      ]
    },
    {
      "cell_type": "code",
      "source": [
        "bondprice(nap_CF, 0.0755)"
      ],
      "metadata": {
        "colab": {
          "base_uri": "https://localhost:8080/"
        },
        "id": "rERLmiPjQp3M",
        "outputId": "a8692cf0-26f4-444e-8a6f-a74515845332"
      },
      "execution_count": 73,
      "outputs": [
        {
          "output_type": "execute_result",
          "data": {
            "text/plain": [
              "100.00000000000006"
            ]
          },
          "metadata": {},
          "execution_count": 73
        }
      ]
    },
    {
      "cell_type": "markdown",
      "metadata": {
        "id": "B1shnJbH8r0U"
      },
      "source": [
        "## x)"
      ]
    },
    {
      "cell_type": "code",
      "execution_count": 76,
      "metadata": {
        "id": "3JVtXjRz8r0U"
      },
      "outputs": [],
      "source": [
        "def duration(CF, r):\n",
        "    CF['discount_factor'] = (1+r)**(CF.index.values)\n",
        "    CF['PV'] = (CF.iloc[:,0]/CF['discount_factor'])\n",
        "    CF['weights'] = CF['PV']/(CF['PV'].sum())\n",
        "    CF['time'] = CF.index.values \n",
        "    duration =  sum(CF['weights']* CF['time'])                  \n",
        "    return duration"
      ]
    },
    {
      "cell_type": "code",
      "source": [
        "r=7.55/100"
      ],
      "metadata": {
        "id": "irxXj7dzbkWG"
      },
      "execution_count": 77,
      "outputs": []
    },
    {
      "cell_type": "code",
      "execution_count": 78,
      "metadata": {
        "colab": {
          "base_uri": "https://localhost:8080/"
        },
        "id": "U9kcCngW8r0U",
        "outputId": "f9f2927e-e557-446f-cfb8-d8ccbaf5a3cd"
      },
      "outputs": [
        {
          "output_type": "stream",
          "name": "stdout",
          "text": [
            "The Macaulay Duration of Sleeping Beauties is  14.24\n",
            "The Macaulay Duration of Napping Beauties is  7.37\n",
            "The price change of Sleeping Beauties is -0.13\n",
            "The price change of Napping Beauties is -0.07\n"
          ]
        },
        {
          "output_type": "stream",
          "name": "stderr",
          "text": [
            "/usr/local/lib/python3.7/dist-packages/ipykernel_launcher.py:2: SettingWithCopyWarning: \n",
            "A value is trying to be set on a copy of a slice from a DataFrame.\n",
            "Try using .loc[row_indexer,col_indexer] = value instead\n",
            "\n",
            "See the caveats in the documentation: https://pandas.pydata.org/pandas-docs/stable/user_guide/indexing.html#returning-a-view-versus-a-copy\n",
            "  \n",
            "/usr/local/lib/python3.7/dist-packages/ipykernel_launcher.py:3: SettingWithCopyWarning: \n",
            "A value is trying to be set on a copy of a slice from a DataFrame.\n",
            "Try using .loc[row_indexer,col_indexer] = value instead\n",
            "\n",
            "See the caveats in the documentation: https://pandas.pydata.org/pandas-docs/stable/user_guide/indexing.html#returning-a-view-versus-a-copy\n",
            "  This is separate from the ipykernel package so we can avoid doing imports until\n",
            "/usr/local/lib/python3.7/dist-packages/ipykernel_launcher.py:4: SettingWithCopyWarning: \n",
            "A value is trying to be set on a copy of a slice from a DataFrame.\n",
            "Try using .loc[row_indexer,col_indexer] = value instead\n",
            "\n",
            "See the caveats in the documentation: https://pandas.pydata.org/pandas-docs/stable/user_guide/indexing.html#returning-a-view-versus-a-copy\n",
            "  after removing the cwd from sys.path.\n",
            "/usr/local/lib/python3.7/dist-packages/ipykernel_launcher.py:5: SettingWithCopyWarning: \n",
            "A value is trying to be set on a copy of a slice from a DataFrame.\n",
            "Try using .loc[row_indexer,col_indexer] = value instead\n",
            "\n",
            "See the caveats in the documentation: https://pandas.pydata.org/pandas-docs/stable/user_guide/indexing.html#returning-a-view-versus-a-copy\n",
            "  \"\"\"\n"
          ]
        }
      ],
      "source": [
        "macaulay_duartion_sleep = duration(sleepCF,r)           # Complete the arguments\n",
        "macaulay_duartion_nap = duration(nap_CF,r)\n",
        "MD_sleep = macaulay_duartion_sleep /(1+r)                                 # Compute modified duration using the Macaulay duration\n",
        "MD_nap = macaulay_duartion_nap/(1+r)\n",
        "delta_price_sleep = - MD_sleep*0.01\n",
        "delta_price_nap = - MD_nap*0.01\n",
        "print(f'The Macaulay Duration of Sleeping Beauties is {macaulay_duartion_sleep: .2f}')\n",
        "print(f'The Macaulay Duration of Napping Beauties is {macaulay_duartion_nap: .2f}')\n",
        "print(f'The price change of Sleeping Beauties is {delta_price_sleep: .2f}')\n",
        "print(f'The price change of Napping Beauties is {delta_price_nap: .2f}')"
      ]
    }
  ],
  "metadata": {
    "kernelspec": {
      "display_name": "Python 3.9.7 ('base')",
      "language": "python",
      "name": "python3"
    },
    "language_info": {
      "codemirror_mode": {
        "name": "ipython",
        "version": 3
      },
      "file_extension": ".py",
      "mimetype": "text/x-python",
      "name": "python",
      "nbconvert_exporter": "python",
      "pygments_lexer": "ipython3",
      "version": "3.9.7"
    },
    "orig_nbformat": 4,
    "vscode": {
      "interpreter": {
        "hash": "639e406a5771ae6be96f4b944df43e571a63d1198e3617b1046929a34f060e05"
      }
    },
    "colab": {
      "provenance": [],
      "collapsed_sections": [],
      "include_colab_link": true
    }
  },
  "nbformat": 4,
  "nbformat_minor": 0
}