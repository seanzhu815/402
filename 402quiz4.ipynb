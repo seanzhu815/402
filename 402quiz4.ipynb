{
  "nbformat": 4,
  "nbformat_minor": 0,
  "metadata": {
    "colab": {
      "provenance": [],
      "authorship_tag": "ABX9TyMQYvRPXIh1tYfKU1TJW9wV",
      "include_colab_link": true
    },
    "kernelspec": {
      "name": "python3",
      "display_name": "Python 3"
    },
    "language_info": {
      "name": "python"
    }
  },
  "cells": [
    {
      "cell_type": "markdown",
      "metadata": {
        "id": "view-in-github",
        "colab_type": "text"
      },
      "source": [
        "<a href=\"https://colab.research.google.com/github/seanzhu815/402/blob/main/402quiz4.ipynb\" target=\"_parent\"><img src=\"https://colab.research.google.com/assets/colab-badge.svg\" alt=\"Open In Colab\"/></a>"
      ]
    },
    {
      "cell_type": "markdown",
      "source": [
        "1&2"
      ],
      "metadata": {
        "id": "aGZ-mX642Ur5"
      }
    },
    {
      "cell_type": "code",
      "execution_count": 43,
      "metadata": {
        "id": "fDriYvpVv_e_"
      },
      "outputs": [],
      "source": [
        "import pandas            as pd   \n",
        "import numpy             as np   \n",
        "import scipy             as scp  \n",
        "import matplotlib.pyplot as plt  \n",
        "import os                as os   \n",
        "from datetime import date as dd  \n",
        "from scipy import optimize\n",
        "from scipy import stats\n",
        "import statsmodels.api as sm\n",
        "\n"
      ]
    },
    {
      "cell_type": "code",
      "source": [
        "datafile='Asia_Profits_afternoon.xlsx'\n",
        "data = pd.read_excel(datafile) \n",
        "df=pd.DataFrame(data)"
      ],
      "metadata": {
        "id": "eqJrwJbawSrw"
      },
      "execution_count": 56,
      "outputs": []
    },
    {
      "cell_type": "code",
      "source": [
        "df['ExR']=df['HiProfit']-df['RF']"
      ],
      "metadata": {
        "id": "aSYu74XtyHp-"
      },
      "execution_count": 57,
      "outputs": []
    },
    {
      "cell_type": "code",
      "source": [
        "\n",
        "\n",
        "# spread\n",
        "mod = sm.OLS(df['ExR'],sm.add_constant(df['Mkt-RF']))\n",
        "res = mod.fit()\n",
        "print(res.summary())\n",
        "print(f'alpha of wml is { res.params.const:.4}' )"
      ],
      "metadata": {
        "id": "Ik2FwUSdwCpG"
      },
      "execution_count": null,
      "outputs": []
    },
    {
      "cell_type": "markdown",
      "source": [
        "3a"
      ],
      "metadata": {
        "id": "LDBjfPxL2SXo"
      }
    },
    {
      "cell_type": "code",
      "source": [
        "factors=factors = pd.read_excel(datafile, usecols = \"D:F\", header = 0)"
      ],
      "metadata": {
        "id": "Rm1vz85Vyhfb"
      },
      "execution_count": 51,
      "outputs": []
    },
    {
      "cell_type": "code",
      "source": [
        "mod = sm.OLS(df['ExR'],sm.add_constant(factors))\n",
        "res1 = mod.fit()\n",
        "print(res1.summary())\n",
        "print(f'alpha of FF is { res1.params.const:.4}' )"
      ],
      "metadata": {
        "colab": {
          "base_uri": "https://localhost:8080/"
        },
        "id": "zHgybn541BHI",
        "outputId": "77449dd7-d76f-4ffc-bf5a-dad3d93ac383"
      },
      "execution_count": 53,
      "outputs": [
        {
          "output_type": "stream",
          "name": "stdout",
          "text": [
            "                            OLS Regression Results                            \n",
            "==============================================================================\n",
            "Dep. Variable:                    ExR   R-squared:                       0.938\n",
            "Model:                            OLS   Adj. R-squared:                  0.938\n",
            "Method:                 Least Squares   F-statistic:                     1868.\n",
            "Date:                Sat, 15 Oct 2022   Prob (F-statistic):          5.00e-223\n",
            "Time:                        22:49:35   Log-Likelihood:                -648.28\n",
            "No. Observations:                 374   AIC:                             1305.\n",
            "Df Residuals:                     370   BIC:                             1320.\n",
            "Df Model:                           3                                         \n",
            "Covariance Type:            nonrobust                                         \n",
            "==============================================================================\n",
            "                 coef    std err          t      P>|t|      [0.025      0.975]\n",
            "------------------------------------------------------------------------------\n",
            "const          0.2913      0.073      4.005      0.000       0.148       0.434\n",
            "Mkt-RF         0.9169      0.012     74.324      0.000       0.893       0.941\n",
            "SMB           -0.0706      0.025     -2.866      0.004      -0.119      -0.022\n",
            "HML           -0.3779      0.024    -15.721      0.000      -0.425      -0.331\n",
            "==============================================================================\n",
            "Omnibus:                       19.027   Durbin-Watson:                   1.880\n",
            "Prob(Omnibus):                  0.000   Jarque-Bera (JB):               32.883\n",
            "Skew:                           0.324   Prob(JB):                     7.24e-08\n",
            "Kurtosis:                       4.300   Cond. No.                         5.99\n",
            "==============================================================================\n",
            "\n",
            "Notes:\n",
            "[1] Standard Errors assume that the covariance matrix of the errors is correctly specified.\n",
            "alpha of FF is 0.2913\n"
          ]
        },
        {
          "output_type": "stream",
          "name": "stderr",
          "text": [
            "/usr/local/lib/python3.7/dist-packages/statsmodels/tsa/tsatools.py:142: FutureWarning: In a future version of pandas all arguments of concat except for the argument 'objs' will be keyword-only\n",
            "  x = pd.concat(x[::order], 1)\n"
          ]
        }
      ]
    },
    {
      "cell_type": "markdown",
      "source": [
        "3b"
      ],
      "metadata": {
        "id": "hZDxxAeL2Jbi"
      }
    },
    {
      "cell_type": "code",
      "source": [
        "df['hs']=df['HiProfit']-df['LoProfit']\n",
        "df['hs'].mean()"
      ],
      "metadata": {
        "id": "S-6AHFxT13tO"
      },
      "execution_count": null,
      "outputs": []
    },
    {
      "cell_type": "markdown",
      "source": [
        "4"
      ],
      "metadata": {
        "id": "sXzsggEi2hbr"
      }
    },
    {
      "cell_type": "code",
      "source": [
        "a=df['HiProfit'].std()\n",
        "a"
      ],
      "metadata": {
        "colab": {
          "base_uri": "https://localhost:8080/"
        },
        "id": "iE86x6kc2Ep0",
        "outputId": "72382e59-58f4-47cf-d746-e59928a11ae0"
      },
      "execution_count": 68,
      "outputs": [
        {
          "output_type": "execute_result",
          "data": {
            "text/plain": [
              "5.50194297993518"
            ]
          },
          "metadata": {},
          "execution_count": 68
        }
      ]
    },
    {
      "cell_type": "code",
      "source": [
        "b=df['LoProfit'].std()\n",
        "b"
      ],
      "metadata": {
        "colab": {
          "base_uri": "https://localhost:8080/"
        },
        "id": "3fWsLOC62th3",
        "outputId": "4b27260c-da50-4bd6-f6d0-8ed3afc40c5d"
      },
      "execution_count": 69,
      "outputs": [
        {
          "output_type": "execute_result",
          "data": {
            "text/plain": [
              "6.914906369363185"
            ]
          },
          "metadata": {},
          "execution_count": 69
        }
      ]
    },
    {
      "cell_type": "code",
      "source": [
        "if a>b:\n",
        "  print('high-profitability is risker')\n",
        "else:\n",
        "  print('low-profitability is risker')"
      ],
      "metadata": {
        "colab": {
          "base_uri": "https://localhost:8080/"
        },
        "id": "TYs4wr0k2ycD",
        "outputId": "af523f69-3b3f-497d-f386-8bcdbf4999b3"
      },
      "execution_count": 70,
      "outputs": [
        {
          "output_type": "stream",
          "name": "stdout",
          "text": [
            "low-profitability is risker\n"
          ]
        }
      ]
    },
    {
      "cell_type": "markdown",
      "source": [
        "5"
      ],
      "metadata": {
        "id": "YcCsj43P3NfL"
      }
    },
    {
      "cell_type": "code",
      "source": [
        "alpha=0\n",
        "beta=0.8"
      ],
      "metadata": {
        "id": "0Try-Y_B3N31"
      },
      "execution_count": 75,
      "outputs": []
    },
    {
      "cell_type": "code",
      "source": [
        "cp=[1.3,2.2,5.0,0.8,-0.2,-1.2,1]\n",
        "mk=[0.3,0.5,0.9,1.0,0.1,-1.0,1.2]"
      ],
      "metadata": {
        "id": "3x4qFix34MF9"
      },
      "execution_count": 72,
      "outputs": []
    },
    {
      "cell_type": "code",
      "source": [
        "cp=np.array(cp)\n",
        "mk=np.array(mk)"
      ],
      "metadata": {
        "id": "0DWbQ1n74b4P"
      },
      "execution_count": 73,
      "outputs": []
    },
    {
      "cell_type": "code",
      "source": [
        "ar=cp-(+beta*mk)+alpha\n",
        "ar"
      ],
      "metadata": {
        "colab": {
          "base_uri": "https://localhost:8080/"
        },
        "id": "gl22QQqk4i9t",
        "outputId": "84010d90-4fb7-4034-f119-10407b5fece2"
      },
      "execution_count": 77,
      "outputs": [
        {
          "output_type": "execute_result",
          "data": {
            "text/plain": [
              "array([2.06, 2.8 , 5.28, 1.  , 0.72, 0.6 , 1.04])"
            ]
          },
          "metadata": {},
          "execution_count": 77
        }
      ]
    },
    {
      "cell_type": "code",
      "source": [],
      "metadata": {
        "id": "kAHdjWIo4uRD"
      },
      "execution_count": null,
      "outputs": []
    }
  ]
}