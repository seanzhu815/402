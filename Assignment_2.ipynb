{
  "cells": [
    {
      "cell_type": "markdown",
      "metadata": {
        "id": "view-in-github",
        "colab_type": "text"
      },
      "source": [
        "<a href=\"https://colab.research.google.com/github/seanzhu815/402/blob/main/Assignment_2.ipynb\" target=\"_parent\"><img src=\"https://colab.research.google.com/assets/colab-badge.svg\" alt=\"Open In Colab\"/></a>"
      ]
    },
    {
      "cell_type": "markdown",
      "id": "8923df72",
      "metadata": {
        "id": "8923df72"
      },
      "source": [
        "# Assignment 2 Solution"
      ]
    },
    {
      "cell_type": "code",
      "source": [
        "from google.colab import drive\n",
        "drive.mount('/content/drive')"
      ],
      "metadata": {
        "colab": {
          "base_uri": "https://localhost:8080/"
        },
        "id": "8m3ASLmOCXIl",
        "outputId": "b752f14f-e461-4c1e-f7f4-f79fa0bea0db"
      },
      "id": "8m3ASLmOCXIl",
      "execution_count": 1,
      "outputs": [
        {
          "output_type": "stream",
          "name": "stdout",
          "text": [
            "Mounted at /content/drive\n"
          ]
        }
      ]
    },
    {
      "cell_type": "markdown",
      "id": "a2fbd971",
      "metadata": {
        "id": "a2fbd971"
      },
      "source": [
        "### Import modules"
      ]
    },
    {
      "cell_type": "code",
      "execution_count": 2,
      "id": "91717cf4",
      "metadata": {
        "id": "91717cf4"
      },
      "outputs": [],
      "source": [
        "import pandas            as pd   \n",
        "import numpy             as np   \n",
        "import scipy             as scp  \n",
        "import matplotlib.pyplot as plt  \n",
        "import os                as os   \n",
        "from datetime import date as dd  \n",
        "from scipy import optimize\n",
        "from scipy import stats\n",
        "import statsmodels.api as sm"
      ]
    },
    {
      "cell_type": "code",
      "execution_count": 3,
      "id": "e7549abf",
      "metadata": {
        "id": "e7549abf"
      },
      "outputs": [],
      "source": [
        "np.set_printoptions(precision=2) # Set precision of numpy arrays while printing uless specified otherwise\n",
        "#%% Set directories and define files\n",
        "os.chdir(os.path.abspath(''))   # Change directory to location of the script\n",
        "datafile1 = 'drive/MyDrive/industry_returns.xlsx'"
      ]
    },
    {
      "cell_type": "code",
      "execution_count": 4,
      "id": "59e07d7d",
      "metadata": {
        "id": "59e07d7d"
      },
      "outputs": [],
      "source": [
        "#%% Define helper function for Sharpe Ratio (Since this is used very frequently)\n",
        "def Shratio(w,mu,Sigma,Rf): \n",
        "    portfolio_return = np.inner(mu, w) - Rf    # portfolio excess return\n",
        "    portfolio_vol    = np.sqrt((w.T@Sigma@w))  # portfolio volatility\n",
        "    return portfolio_return / portfolio_vol"
      ]
    },
    {
      "cell_type": "code",
      "execution_count": 5,
      "id": "c9cb207d",
      "metadata": {
        "id": "c9cb207d"
      },
      "outputs": [],
      "source": [
        "#%% Read data\n",
        "returns_data = pd.read_excel(datafile1, usecols = \"B:M\", header = 1)\n",
        "dates = pd.read_excel(datafile1, usecols = \"A\", header = 1)\n",
        "dates.columns = ['dates']\n",
        "dates['dates'] = pd.to_datetime(dates['dates'],format='%Y%m')"
      ]
    },
    {
      "cell_type": "code",
      "source": [
        "dates"
      ],
      "metadata": {
        "colab": {
          "base_uri": "https://localhost:8080/",
          "height": 424
        },
        "id": "3JWohj0hs5aC",
        "outputId": "92a626b8-c127-45ef-964d-030e6a35a8fc"
      },
      "id": "3JWohj0hs5aC",
      "execution_count": null,
      "outputs": [
        {
          "output_type": "execute_result",
          "data": {
            "text/plain": [
              "          dates\n",
              "0    1926-07-01\n",
              "1    1926-08-01\n",
              "2    1926-09-01\n",
              "3    1926-10-01\n",
              "4    1926-11-01\n",
              "...         ...\n",
              "1148 2022-03-01\n",
              "1149 2022-04-01\n",
              "1150 2022-05-01\n",
              "1151 2022-06-01\n",
              "1152 2022-07-01\n",
              "\n",
              "[1153 rows x 1 columns]"
            ],
            "text/html": [
              "\n",
              "  <div id=\"df-32efd338-bac8-4b0c-9ea7-ab9fd1c9fd56\">\n",
              "    <div class=\"colab-df-container\">\n",
              "      <div>\n",
              "<style scoped>\n",
              "    .dataframe tbody tr th:only-of-type {\n",
              "        vertical-align: middle;\n",
              "    }\n",
              "\n",
              "    .dataframe tbody tr th {\n",
              "        vertical-align: top;\n",
              "    }\n",
              "\n",
              "    .dataframe thead th {\n",
              "        text-align: right;\n",
              "    }\n",
              "</style>\n",
              "<table border=\"1\" class=\"dataframe\">\n",
              "  <thead>\n",
              "    <tr style=\"text-align: right;\">\n",
              "      <th></th>\n",
              "      <th>dates</th>\n",
              "    </tr>\n",
              "  </thead>\n",
              "  <tbody>\n",
              "    <tr>\n",
              "      <th>0</th>\n",
              "      <td>1926-07-01</td>\n",
              "    </tr>\n",
              "    <tr>\n",
              "      <th>1</th>\n",
              "      <td>1926-08-01</td>\n",
              "    </tr>\n",
              "    <tr>\n",
              "      <th>2</th>\n",
              "      <td>1926-09-01</td>\n",
              "    </tr>\n",
              "    <tr>\n",
              "      <th>3</th>\n",
              "      <td>1926-10-01</td>\n",
              "    </tr>\n",
              "    <tr>\n",
              "      <th>4</th>\n",
              "      <td>1926-11-01</td>\n",
              "    </tr>\n",
              "    <tr>\n",
              "      <th>...</th>\n",
              "      <td>...</td>\n",
              "    </tr>\n",
              "    <tr>\n",
              "      <th>1148</th>\n",
              "      <td>2022-03-01</td>\n",
              "    </tr>\n",
              "    <tr>\n",
              "      <th>1149</th>\n",
              "      <td>2022-04-01</td>\n",
              "    </tr>\n",
              "    <tr>\n",
              "      <th>1150</th>\n",
              "      <td>2022-05-01</td>\n",
              "    </tr>\n",
              "    <tr>\n",
              "      <th>1151</th>\n",
              "      <td>2022-06-01</td>\n",
              "    </tr>\n",
              "    <tr>\n",
              "      <th>1152</th>\n",
              "      <td>2022-07-01</td>\n",
              "    </tr>\n",
              "  </tbody>\n",
              "</table>\n",
              "<p>1153 rows × 1 columns</p>\n",
              "</div>\n",
              "      <button class=\"colab-df-convert\" onclick=\"convertToInteractive('df-32efd338-bac8-4b0c-9ea7-ab9fd1c9fd56')\"\n",
              "              title=\"Convert this dataframe to an interactive table.\"\n",
              "              style=\"display:none;\">\n",
              "        \n",
              "  <svg xmlns=\"http://www.w3.org/2000/svg\" height=\"24px\"viewBox=\"0 0 24 24\"\n",
              "       width=\"24px\">\n",
              "    <path d=\"M0 0h24v24H0V0z\" fill=\"none\"/>\n",
              "    <path d=\"M18.56 5.44l.94 2.06.94-2.06 2.06-.94-2.06-.94-.94-2.06-.94 2.06-2.06.94zm-11 1L8.5 8.5l.94-2.06 2.06-.94-2.06-.94L8.5 2.5l-.94 2.06-2.06.94zm10 10l.94 2.06.94-2.06 2.06-.94-2.06-.94-.94-2.06-.94 2.06-2.06.94z\"/><path d=\"M17.41 7.96l-1.37-1.37c-.4-.4-.92-.59-1.43-.59-.52 0-1.04.2-1.43.59L10.3 9.45l-7.72 7.72c-.78.78-.78 2.05 0 2.83L4 21.41c.39.39.9.59 1.41.59.51 0 1.02-.2 1.41-.59l7.78-7.78 2.81-2.81c.8-.78.8-2.07 0-2.86zM5.41 20L4 18.59l7.72-7.72 1.47 1.35L5.41 20z\"/>\n",
              "  </svg>\n",
              "      </button>\n",
              "      \n",
              "  <style>\n",
              "    .colab-df-container {\n",
              "      display:flex;\n",
              "      flex-wrap:wrap;\n",
              "      gap: 12px;\n",
              "    }\n",
              "\n",
              "    .colab-df-convert {\n",
              "      background-color: #E8F0FE;\n",
              "      border: none;\n",
              "      border-radius: 50%;\n",
              "      cursor: pointer;\n",
              "      display: none;\n",
              "      fill: #1967D2;\n",
              "      height: 32px;\n",
              "      padding: 0 0 0 0;\n",
              "      width: 32px;\n",
              "    }\n",
              "\n",
              "    .colab-df-convert:hover {\n",
              "      background-color: #E2EBFA;\n",
              "      box-shadow: 0px 1px 2px rgba(60, 64, 67, 0.3), 0px 1px 3px 1px rgba(60, 64, 67, 0.15);\n",
              "      fill: #174EA6;\n",
              "    }\n",
              "\n",
              "    [theme=dark] .colab-df-convert {\n",
              "      background-color: #3B4455;\n",
              "      fill: #D2E3FC;\n",
              "    }\n",
              "\n",
              "    [theme=dark] .colab-df-convert:hover {\n",
              "      background-color: #434B5C;\n",
              "      box-shadow: 0px 1px 3px 1px rgba(0, 0, 0, 0.15);\n",
              "      filter: drop-shadow(0px 1px 2px rgba(0, 0, 0, 0.3));\n",
              "      fill: #FFFFFF;\n",
              "    }\n",
              "  </style>\n",
              "\n",
              "      <script>\n",
              "        const buttonEl =\n",
              "          document.querySelector('#df-32efd338-bac8-4b0c-9ea7-ab9fd1c9fd56 button.colab-df-convert');\n",
              "        buttonEl.style.display =\n",
              "          google.colab.kernel.accessAllowed ? 'block' : 'none';\n",
              "\n",
              "        async function convertToInteractive(key) {\n",
              "          const element = document.querySelector('#df-32efd338-bac8-4b0c-9ea7-ab9fd1c9fd56');\n",
              "          const dataTable =\n",
              "            await google.colab.kernel.invokeFunction('convertToInteractive',\n",
              "                                                     [key], {});\n",
              "          if (!dataTable) return;\n",
              "\n",
              "          const docLinkHtml = 'Like what you see? Visit the ' +\n",
              "            '<a target=\"_blank\" href=https://colab.research.google.com/notebooks/data_table.ipynb>data table notebook</a>'\n",
              "            + ' to learn more about interactive tables.';\n",
              "          element.innerHTML = '';\n",
              "          dataTable['output_type'] = 'display_data';\n",
              "          await google.colab.output.renderOutput(dataTable, element);\n",
              "          const docLink = document.createElement('div');\n",
              "          docLink.innerHTML = docLinkHtml;\n",
              "          element.appendChild(docLink);\n",
              "        }\n",
              "      </script>\n",
              "    </div>\n",
              "  </div>\n",
              "  "
            ]
          },
          "metadata": {},
          "execution_count": 105
        }
      ]
    },
    {
      "cell_type": "code",
      "execution_count": 6,
      "id": "29e01efb",
      "metadata": {
        "id": "29e01efb"
      },
      "outputs": [],
      "source": [
        "# Set parameters\n",
        "Rf = .04 / 12                         # monthly risk free rate\n",
        "n = returns_data.shape[1]             # number of risky assets (columns)\n",
        "T = returns_data.shape[0]             # number of observations (rows)\n",
        "ret = returns_data/100                # convert returns from percent to decimals\n",
        "mu = ret.sum()/T                      # mean returns "
      ]
    },
    {
      "cell_type": "code",
      "source": [
        "m=[]\n",
        "for i in range(12):\n",
        "  m.append(returns_data.iloc[:,i])\n",
        "m=np.array(m)"
      ],
      "metadata": {
        "id": "7yCKQdE3hbOM"
      },
      "id": "7yCKQdE3hbOM",
      "execution_count": 7,
      "outputs": []
    },
    {
      "cell_type": "code",
      "source": [
        "Sigma=np.cov(m)\n",
        "Sigma=Sigma/100"
      ],
      "metadata": {
        "id": "KsUc1h0o_uw6"
      },
      "id": "KsUc1h0o_uw6",
      "execution_count": 8,
      "outputs": []
    },
    {
      "cell_type": "code",
      "source": [
        "Sigma"
      ],
      "metadata": {
        "colab": {
          "base_uri": "https://localhost:8080/"
        },
        "id": "JKd5GiFuY-NE",
        "outputId": "2901c9f4-0690-4195-853d-5bc84067740b"
      },
      "id": "JKd5GiFuY-NE",
      "execution_count": 9,
      "outputs": [
        {
          "output_type": "execute_result",
          "data": {
            "text/plain": [
              "array([[0.21, 0.26, 0.25, 0.18, 0.22, 0.25, 0.14, 0.18, 0.23, 0.2 , 0.26,\n",
              "        0.24],\n",
              "       [0.26, 0.64, 0.45, 0.31, 0.36, 0.46, 0.23, 0.26, 0.37, 0.27, 0.42,\n",
              "        0.41],\n",
              "       [0.25, 0.45, 0.44, 0.3 , 0.34, 0.43, 0.21, 0.25, 0.32, 0.27, 0.39,\n",
              "        0.4 ],\n",
              "       [0.18, 0.31, 0.3 , 0.41, 0.24, 0.28, 0.15, 0.2 , 0.21, 0.19, 0.29,\n",
              "        0.28],\n",
              "       [0.22, 0.36, 0.34, 0.24, 0.32, 0.33, 0.17, 0.21, 0.26, 0.24, 0.31,\n",
              "        0.3 ],\n",
              "       [0.25, 0.46, 0.43, 0.28, 0.33, 0.55, 0.23, 0.25, 0.34, 0.29, 0.4 ,\n",
              "        0.39],\n",
              "       [0.14, 0.23, 0.21, 0.15, 0.17, 0.23, 0.21, 0.16, 0.18, 0.15, 0.22,\n",
              "        0.21],\n",
              "       [0.18, 0.26, 0.25, 0.2 , 0.21, 0.25, 0.16, 0.3 , 0.21, 0.19, 0.28,\n",
              "        0.24],\n",
              "       [0.23, 0.37, 0.32, 0.21, 0.26, 0.34, 0.18, 0.21, 0.34, 0.24, 0.32,\n",
              "        0.31],\n",
              "       [0.2 , 0.27, 0.27, 0.19, 0.24, 0.29, 0.15, 0.19, 0.24, 0.31, 0.28,\n",
              "        0.26],\n",
              "       [0.26, 0.42, 0.39, 0.29, 0.31, 0.4 , 0.22, 0.28, 0.32, 0.28, 0.46,\n",
              "        0.38],\n",
              "       [0.24, 0.41, 0.4 , 0.28, 0.3 , 0.39, 0.21, 0.24, 0.31, 0.26, 0.38,\n",
              "        0.42]])"
            ]
          },
          "metadata": {},
          "execution_count": 9
        }
      ]
    },
    {
      "cell_type": "markdown",
      "id": "bb643555",
      "metadata": {
        "id": "bb643555"
      },
      "source": [
        "## Part 1"
      ]
    },
    {
      "cell_type": "markdown",
      "id": "454881f7",
      "metadata": {
        "id": "454881f7"
      },
      "source": [
        "### Q 1.1"
      ]
    },
    {
      "cell_type": "code",
      "execution_count": 10,
      "id": "d71ee215",
      "metadata": {
        "id": "d71ee215"
      },
      "outputs": [],
      "source": [
        "# Unconstrained optimization:\n",
        "w0 = np.ones((n,1)) / n  # starting weights\n",
        "cons = ({'type' : 'eq', 'fun': lambda x: np.sum(x) - 1}) # portfolio weights sum to 1\n",
        "\n",
        "sol = scp.optimize.minimize(lambda w: -Shratio(w, mu, Sigma, Rf), x0 = w0, constraints = cons)\n",
        "w_uncon = sol.x\n",
        "val_uncon = sol.fun"
      ]
    },
    {
      "cell_type": "code",
      "execution_count": 11,
      "id": "a9e26145",
      "metadata": {
        "id": "a9e26145",
        "outputId": "b8874541-3c4d-4a43-a011-8d777d22d014",
        "colab": {
          "base_uri": "https://localhost:8080/",
          "height": 0
        }
      },
      "outputs": [
        {
          "output_type": "display_data",
          "data": {
            "text/plain": [
              "<Figure size 432x288 with 1 Axes>"
            ],
            "image/png": "[encoded data removed]"
          },
          "metadata": {
            "needs_background": "light"
          }
        }
      ],
      "source": [
        "# Construct EML\n",
        "A = (mu.T.dot(np.linalg.inv(Sigma))).dot(mu)\n",
        "B = mu.T.dot(np.linalg.solve(Sigma, np.ones((n,1))))\n",
        "C = np.ones((n,1)).T.dot(np.linalg.solve(Sigma, np.ones((n,1))))\n",
        "mu0 = np.arange(0,.015,.001)\n",
        "varR0 = (C*(mu0**2) - 2*B*mu0 + A) /( A*C-B**2)\n",
        "stdR0 = np.sqrt(varR0)\n",
        "dummy = np.arange(0,np.max(stdR0)+.01, .01)\n",
        "Sharpe_ratio = -val_uncon                                                # From the optimization above\n",
        "Line_sharpe = Rf + Sharpe_ratio * dummy\n",
        "plt.plot(stdR0.reshape((mu0.shape)), mu0, linewidth = .8)\n",
        "plt.plot(dummy, Line_sharpe, color = 'green', linewidth = .8)\n",
        "plt.show()"
      ]
    },
    {
      "cell_type": "markdown",
      "id": "0119a87c",
      "metadata": {
        "id": "0119a87c"
      },
      "source": [
        "### Q 1.2:"
      ]
    },
    {
      "cell_type": "code",
      "execution_count": 12,
      "id": "5a6bc229",
      "metadata": {
        "id": "5a6bc229",
        "outputId": "44ebb5a1-26c2-4898-e9e4-8336f19372cf",
        "colab": {
          "base_uri": "https://localhost:8080/"
        }
      },
      "outputs": [
        {
          "output_type": "stream",
          "name": "stdout",
          "text": [
            "Annualized Sharpe ratio of tangency portfolio is 0.06149.\n",
            "Weights of tangency portfolio is [ 0.73  0.13 -0.05  0.29  0.03  0.17  0.23  0.05  0.09  0.33 -0.27 -0.72].\n"
          ]
        }
      ],
      "source": [
        "print(f'Annualized Sharpe ratio of tangency portfolio is {-np.sqrt(12) * val_uncon :.4}.')\n",
        "print(f'Weights of tangency portfolio is {w_uncon}.')"
      ]
    },
    {
      "cell_type": "markdown",
      "id": "874540c9",
      "metadata": {
        "id": "874540c9"
      },
      "source": [
        "### Q 1.3:"
      ]
    },
    {
      "cell_type": "code",
      "execution_count": 13,
      "id": "6264f018",
      "metadata": {
        "id": "6264f018"
      },
      "outputs": [],
      "source": [
        "# 1.3: Constrained optimization\n",
        "w0 = np.ones((n,1)) / n  # starting weights\n",
        "cons = ({'type' : 'eq', 'fun': lambda x: np.sum(x) - 1}) # portfolio weights sum to 1\n",
        "bnds = scp.optimize.Bounds(0,.25) # upper and lower bounds"
      ]
    },
    {
      "cell_type": "code",
      "source": [
        "sol =  scp.optimize.minimize(lambda w: -Shratio(w, mu, Sigma, Rf), x0 = w0, constraints = cons,bounds=bnds)                           # Perfrom optimization here\n",
        "w_con = sol.x\n",
        "val_con = sol.fun\n",
        "print(f'Annualized Sharpe ratio of tangency portfolio under constraints is {-np.sqrt(12) * val_con :.4}.')\n",
        "print(f'Weights of tangency portfolio is {w_con}.')"
      ],
      "metadata": {
        "colab": {
          "base_uri": "https://localhost:8080/"
        },
        "id": "y3Hp69FQiTXQ",
        "outputId": "bf241f1b-e4bd-48b0-9bfe-70294beb8bd5"
      },
      "id": "y3Hp69FQiTXQ",
      "execution_count": 14,
      "outputs": [
        {
          "output_type": "stream",
          "name": "stdout",
          "text": [
            "Annualized Sharpe ratio of tangency portfolio under constraints is 0.05011.\n",
            "Weights of tangency portfolio is [2.50e-01 0.00e+00 9.45e-17 1.84e-01 6.94e-02 1.08e-17 1.41e-01 3.45e-02\n",
            " 7.12e-02 2.50e-01 7.29e-17 1.11e-16].\n"
          ]
        }
      ]
    },
    {
      "cell_type": "markdown",
      "id": "38043790",
      "metadata": {
        "id": "38043790"
      },
      "source": [
        "### Q 1.4:"
      ]
    },
    {
      "cell_type": "code",
      "execution_count": 15,
      "id": "1a60a306",
      "metadata": {
        "id": "1a60a306"
      },
      "outputs": [],
      "source": [
        "# 1.4: Training weights (Sample upto 2009)\n",
        "ret_train = ret[dates['dates'].dt.year<2010]     # Training sample\n",
        "ret_test = ret[dates['dates'].dt.year>=2010]     # Testing sample\n",
        "mu_train = ret_train.sum()/len(ret_train) "
      ]
    },
    {
      "cell_type": "code",
      "source": [
        "m1=[]\n",
        "for i in range(12):\n",
        "  m1.append(ret_train.iloc[:,i])\n",
        "m1=np.array(m1)\n",
        "Sigma_train = np.cov(m1)"
      ],
      "metadata": {
        "id": "LK5NWy9FAqwS"
      },
      "id": "LK5NWy9FAqwS",
      "execution_count": 16,
      "outputs": []
    },
    {
      "cell_type": "code",
      "source": [
        "cons = ({'type' : 'eq', 'fun': lambda x: np.sum(x) - 1}) # portfolio weights sum to 1\n",
        "sol = scp.optimize.minimize(lambda w: -Shratio(w, mu_train, Sigma_train, Rf), x0 = w0, constraints = cons)                             # Solve the optimization problem for training weights.\n",
        "w_train = sol.x\n",
        "val_train = sol.fun\n",
        "print(f' Optimal portfolio weights of of training data is {w_train}.')"
      ],
      "metadata": {
        "colab": {
          "base_uri": "https://localhost:8080/"
        },
        "id": "uu_1GkWKA2jJ",
        "outputId": "df0da28a-7fee-4545-80cd-4daf9a66ca32"
      },
      "id": "uu_1GkWKA2jJ",
      "execution_count": 17,
      "outputs": [
        {
          "output_type": "stream",
          "name": "stdout",
          "text": [
            " Optimal portfolio weights of of training data is [ 0.81  0.06 -0.01  0.41  0.09  0.1   0.27 -0.02 -0.04  0.27 -0.25 -0.69].\n"
          ]
        }
      ]
    },
    {
      "cell_type": "code",
      "execution_count": 18,
      "id": "305bb439",
      "metadata": {
        "id": "305bb439"
      },
      "outputs": [],
      "source": [
        "# Test data Sharpe Ratio\n",
        "mu_test =  ret_test.sum()/len(ret_test)   \n",
        "\n",
        "m2=[]\n",
        "for i in range(12):\n",
        "  m2.append(ret_test.iloc[:,i])\n",
        "m2=np.array(m2)                                        # mean returns of testing set\n",
        "Sigma_test =  np.cov(m2)                               # covariance matrix of testing set"
      ]
    },
    {
      "cell_type": "code",
      "source": [
        "val_test = Shratio(w_train,mu_test,Sigma_test,Rf)                                       # Use the Shratio with approopriate weights\n",
        "print(f'Annualized Sharpe using optimal training weights is {val_test:.4}')"
      ],
      "metadata": {
        "colab": {
          "base_uri": "https://localhost:8080/"
        },
        "id": "Wv-LeHAean-o",
        "outputId": "17e10a0a-3237-46cc-d677-600cab1a29fc"
      },
      "id": "Wv-LeHAean-o",
      "execution_count": 19,
      "outputs": [
        {
          "output_type": "stream",
          "name": "stdout",
          "text": [
            "Annualized Sharpe using optimal training weights is 0.136\n"
          ]
        }
      ]
    },
    {
      "cell_type": "code",
      "execution_count": 20,
      "id": "c7643212",
      "metadata": {
        "id": "c7643212",
        "outputId": "ddc6e895-9639-4f70-9e95-330f4162e85e",
        "colab": {
          "base_uri": "https://localhost:8080/"
        }
      },
      "outputs": [
        {
          "output_type": "stream",
          "name": "stdout",
          "text": [
            "Annualized Sharpe using equal weights is 0.1817\n"
          ]
        }
      ],
      "source": [
        "# Equal weighted Sharpe Ratio\n",
        "w_eq = np.ones((n)) / n  # Equal weights to all assets\n",
        "\n",
        "val_test_eqweight=Shratio(w_eq,mu_test,Sigma_test,Rf)       # Use the Shratio with approopriate weights\n",
        "print(f'Annualized Sharpe using equal weights is {val_test_eqweight:.4}')"
      ]
    },
    {
      "cell_type": "markdown",
      "id": "7faba16f",
      "metadata": {
        "id": "7faba16f"
      },
      "source": [
        "Thus the sharpe ratio with equal weights is better."
      ]
    },
    {
      "cell_type": "markdown",
      "id": "4692faff",
      "metadata": {
        "id": "4692faff"
      },
      "source": [
        "# Part 2: Momentum"
      ]
    },
    {
      "cell_type": "markdown",
      "id": "b5c385e2",
      "metadata": {
        "id": "b5c385e2"
      },
      "source": [
        "### Q 2.1:"
      ]
    },
    {
      "cell_type": "code",
      "execution_count": 21,
      "id": "63ded395",
      "metadata": {
        "id": "63ded395",
        "colab": {
          "base_uri": "https://localhost:8080/"
        },
        "outputId": "4a200463-9bfe-45ab-c652-e65ea9807c59"
      },
      "outputs": [
        {
          "output_type": "execute_result",
          "data": {
            "text/plain": [
              "1153"
            ]
          },
          "metadata": {},
          "execution_count": 21
        }
      ],
      "source": [
        "#%% Part 2: Momentum\n",
        "returns = returns_data.values\n",
        "T = returns.shape[0]                   # Number of time periods\n",
        "n = returns.shape[1]                   # Number of assets\n",
        "returns_data\n",
        "T"
      ]
    },
    {
      "cell_type": "code",
      "source": [
        "avg_ret_11months = np.ones((T,n))      # Matrix with average returns for past 11 months for n firms\n",
        "winner_portfolio_ret = np.ones((T,1))  # return of the winning portfolio\n",
        "loser_portfolio_ret = np.ones((T,1))\n",
        "winner_ind = np.ones((T,1))            # index  of winning industry in that month\n",
        "loser_ind = np.ones((T,1))"
      ],
      "metadata": {
        "id": "jT6Za93zh4z7"
      },
      "id": "jT6Za93zh4z7",
      "execution_count": 22,
      "outputs": []
    },
    {
      "cell_type": "code",
      "source": [
        "# loop over time series, start from 1950/01\n",
        "burn = sum((dates['dates'].dt.year<1950) == True) # Number of time periods before 1950/01 that must be \"burned\"\n",
        "burn"
      ],
      "metadata": {
        "colab": {
          "base_uri": "https://localhost:8080/"
        },
        "id": "x5-bX2JKiJf3",
        "outputId": "9da0a273-0e86-4c03-ae16-b532908a5c88"
      },
      "id": "x5-bX2JKiJf3",
      "execution_count": 23,
      "outputs": [
        {
          "output_type": "execute_result",
          "data": {
            "text/plain": [
              "282"
            ]
          },
          "metadata": {},
          "execution_count": 23
        }
      ]
    },
    {
      "cell_type": "code",
      "source": [
        "for i in range((burn+1),T): \n",
        "    # loop over industries\n",
        "    for j in range(n):\n",
        "        avg_ret_11months[i-1,j] =  np.mean(returns[i-12:i-1,j])                # take average of previous 11 months with one-skip-month\n",
        "        sorted_ret = np.sort(avg_ret_11months[i-1,:])\n",
        "        order = np.argsort(avg_ret_11months[i-1,:])\n",
        "\n",
        "        long = order[-1]                        # Index of the winner industry\n",
        "        short = order[0]                        # Index of the loser industry\n",
        "        winner_portfolio_ret[i] = returns[i,long]   \n",
        "        loser_portfolio_ret[i] = returns[i,short]\n",
        "    \n",
        "        winner_ind[i] = long\n",
        "        loser_ind[i] = short\n",
        "\n",
        "\n",
        "spread = winner_portfolio_ret - loser_portfolio_ret"
      ],
      "metadata": {
        "id": "mkr_F4AemVjH"
      },
      "id": "mkr_F4AemVjH",
      "execution_count": 24,
      "outputs": []
    },
    {
      "cell_type": "code",
      "source": [
        "spread"
      ],
      "metadata": {
        "colab": {
          "base_uri": "https://localhost:8080/"
        },
        "id": "tdLsAKmi5gro",
        "outputId": "86534cb9-4d21-4caa-f65e-7f53eb32724d"
      },
      "id": "tdLsAKmi5gro",
      "execution_count": 25,
      "outputs": [
        {
          "output_type": "execute_result",
          "data": {
            "text/plain": [
              "array([[ 0.  ],\n",
              "       [ 0.  ],\n",
              "       [ 0.  ],\n",
              "       ...,\n",
              "       [ 6.85],\n",
              "       [-9.53],\n",
              "       [10.89]])"
            ]
          },
          "metadata": {},
          "execution_count": 25
        }
      ]
    },
    {
      "cell_type": "code",
      "execution_count": 26,
      "id": "b68ed2f1",
      "metadata": {
        "id": "b68ed2f1",
        "outputId": "249bc91b-c691-4d3e-e0f0-72b5518e716d",
        "colab": {
          "base_uri": "https://localhost:8080/"
        }
      },
      "outputs": [
        {
          "output_type": "stream",
          "name": "stdout",
          "text": [
            "Annualized average return for winner, loser and spread is winner_ret    19.218875\n",
            "loser_ret     10.259656\n",
            "spread         8.959219\n",
            "dtype: float64 percent\n",
            "Annualized standard deviation for winner, loser and spread is winner_ret    20.692797\n",
            "loser_ret     20.705296\n",
            "spread        22.677906\n",
            "dtype: float64 percent\n"
          ]
        }
      ],
      "source": [
        "# 2.1: Winner Minus Loser\n",
        "wl_ret = pd.DataFrame(data=np.hstack((winner_portfolio_ret,loser_portfolio_ret,spread)), columns=[\"winner_ret\", \"loser_ret\",'spread'])\n",
        "wl_ret = wl_ret.loc[burn:]\n",
        "print(f'Annualized average return for winner, loser and spread is {12*wl_ret.mean()} percent' )\n",
        "print(f'Annualized standard deviation for winner, loser and spread is {np.sqrt(12)*wl_ret.std()} percent')"
      ]
    },
    {
      "cell_type": "code",
      "execution_count": 27,
      "id": "de387317",
      "metadata": {
        "id": "de387317"
      },
      "outputs": [],
      "source": [
        "# 2.2: Rolling time series (36 months)\n",
        "wl_ret_rolling = wl_ret[[\"winner_ret\", \"loser_ret\"]].rolling(36, min_periods=36).apply(lambda x: (np.prod(1.0+x/100)-1)/36*12)"
      ]
    },
    {
      "cell_type": "code",
      "source": [
        "import seaborn as sns\n",
        "wl_ret_rolling['spread'] = wl_ret['winner_ret']-wl_ret['loser_ret']                        # Calculate the rolling spread\n",
        "wl_ret_rolling['dates'] = dates[(burn+36):]\n",
        "sns.lineplot(data=wl_ret_rolling,x='dates',y='spread',)                                       # Plot the spread"
      ],
      "metadata": {
        "colab": {
          "base_uri": "https://localhost:8080/",
          "height": 297
        },
        "id": "ceurHxR3VFiS",
        "outputId": "015a6478-5bd5-46d5-af53-b3165cb8c555"
      },
      "id": "ceurHxR3VFiS",
      "execution_count": 28,
      "outputs": [
        {
          "output_type": "execute_result",
          "data": {
            "text/plain": [
              "<matplotlib.axes._subplots.AxesSubplot at 0x7f557eacbd10>"
            ]
          },
          "metadata": {},
          "execution_count": 28
        },
        {
          "output_type": "display_data",
          "data": {
            "text/plain": [
              "<Figure size 432x288 with 1 Axes>"
            ],
            "image/png": "[encoded data removed]"
          },
          "metadata": {
            "needs_background": "light"
          }
        }
      ]
    },
    {
      "cell_type": "markdown",
      "id": "e22990fa",
      "metadata": {
        "id": "e22990fa"
      },
      "source": [
        "### Q 2.3:"
      ]
    },
    {
      "cell_type": "code",
      "execution_count": 29,
      "id": "c3dae11c",
      "metadata": {
        "id": "c3dae11c",
        "outputId": "5ccec247-62d9-4f3f-d677-69eab8510d2b",
        "colab": {
          "base_uri": "https://localhost:8080/"
        }
      },
      "outputs": [
        {
          "output_type": "stream",
          "name": "stdout",
          "text": [
            "From most often to least ofter, winner portfolio consists of ['Enrgy', 'Durbl', 'Hlth ', 'BusEq', 'Telcm', 'Money', 'Shops', 'Utils', 'NoDur', 'Other', 'Chems', 'Manuf']\n"
          ]
        }
      ],
      "source": [
        "# 2.3: Winner industries\n",
        "winner_ind_df = pd.DataFrame(data= winner_ind[(burn+1):], columns=['industry'])\n",
        "winner_count = winner_ind_df['industry'].value_counts() #number of times in winner portfolio\n",
        "winner_order = returns_data.columns[winner_count.index.astype(int)].to_list()\n",
        "print(f'From most often to least ofter, winner portfolio consists of {winner_order}' )"
      ]
    },
    {
      "cell_type": "markdown",
      "id": "5106e1f0",
      "metadata": {
        "id": "5106e1f0"
      },
      "source": [
        "### Q 2.4: Do this yourself"
      ]
    },
    {
      "cell_type": "code",
      "source": [
        "# 2.3: Loser industries\n",
        "loser_ind_df = pd.DataFrame(data= loser_ind[(burn+1):], columns=['industry'])\n",
        "loser_count = loser_ind_df['industry'].value_counts() #number of times in loser portfolio\n",
        "loser_order = returns_data.columns[loser_count.index.astype(int)].to_list()\n",
        "print(f'From most often to least ofter, loser portfolio consists of {loser_order}' )"
      ],
      "metadata": {
        "colab": {
          "base_uri": "https://localhost:8080/"
        },
        "id": "7UqqlUM0WudM",
        "outputId": "d03fceeb-0741-44a8-94f1-b33f31a31005"
      },
      "id": "7UqqlUM0WudM",
      "execution_count": 30,
      "outputs": [
        {
          "output_type": "stream",
          "name": "stdout",
          "text": [
            "From most often to least ofter, loser portfolio consists of ['Enrgy', 'Telcm', 'BusEq', 'Durbl', 'Utils', 'Hlth ', 'Money', 'NoDur', 'Other', 'Shops', 'Chems', 'Manuf']\n"
          ]
        }
      ]
    },
    {
      "cell_type": "markdown",
      "id": "c5c1ddbb",
      "metadata": {
        "id": "c5c1ddbb"
      },
      "source": [
        "### Q 2.5:"
      ]
    },
    {
      "cell_type": "code",
      "execution_count": 31,
      "id": "4f249301",
      "metadata": {
        "id": "4f249301"
      },
      "outputs": [],
      "source": [
        "# 2.5: Turnover\n",
        "winner_turn=[]\n",
        "c=1\n",
        "d=0\n",
        "for i in range(T):\n",
        "  if winner_ind[i]!=winner_ind[i-1]:\n",
        "    winner_turn.append(c)\n",
        "  else:\n",
        "    winner_turn.append(d)\n",
        "winner_turn=np.array(winner_turn)"
      ]
    },
    {
      "cell_type": "code",
      "source": [
        "loser_turn=[]\n",
        "c=1\n",
        "d=0\n",
        "for i in range(T):\n",
        "  if loser_ind[i]!=loser_ind[i-1]:\n",
        "    loser_turn.append(c)\n",
        "  else:\n",
        "    loser_turn.append(d)\n",
        "loser_turn=np.array(loser_turn)"
      ],
      "metadata": {
        "id": "DEuOPfiWp2WN"
      },
      "id": "DEuOPfiWp2WN",
      "execution_count": 32,
      "outputs": []
    },
    {
      "cell_type": "code",
      "source": [
        "turnover_rate = sum(winner_turn|loser_turn)/(T-12)\n",
        "print(f'frequency that either winner or loser portfolio changes is {turnover_rate:.4}' )"
      ],
      "metadata": {
        "colab": {
          "base_uri": "https://localhost:8080/"
        },
        "id": "trOjUkbapcxc",
        "outputId": "674d8b05-4a4b-4326-acb4-3258b99e2b91"
      },
      "id": "trOjUkbapcxc",
      "execution_count": 33,
      "outputs": [
        {
          "output_type": "stream",
          "name": "stdout",
          "text": [
            "frequency that either winner or loser portfolio changes is 0.3672\n"
          ]
        }
      ]
    },
    {
      "cell_type": "markdown",
      "id": "06d0cb12",
      "metadata": {
        "id": "06d0cb12"
      },
      "source": [
        "### Q 2.6: Do this yourself"
      ]
    },
    {
      "cell_type": "markdown",
      "source": [
        "standard deviation"
      ],
      "metadata": {
        "id": "JtBX6I2urz5L"
      },
      "id": "JtBX6I2urz5L"
    },
    {
      "cell_type": "code",
      "source": [
        "spread_new=spread[burn:,]\n",
        "np.std(spread_new)"
      ],
      "metadata": {
        "colab": {
          "base_uri": "https://localhost:8080/"
        },
        "id": "VddnFRMBqbrt",
        "outputId": "4261d91e-dcc5-4c43-9628-b9e4edebe255"
      },
      "id": "VddnFRMBqbrt",
      "execution_count": 34,
      "outputs": [
        {
          "output_type": "execute_result",
          "data": {
            "text/plain": [
              "6.542788366630397"
            ]
          },
          "metadata": {},
          "execution_count": 34
        }
      ]
    },
    {
      "cell_type": "markdown",
      "source": [
        "skew"
      ],
      "metadata": {
        "id": "_AjX2ZGRr2Ek"
      },
      "id": "_AjX2ZGRr2Ek"
    },
    {
      "cell_type": "code",
      "source": [
        "sk=scp.stats.skew(spread_new)\n",
        "print(\"The skewness is %.2f\" % sk)"
      ],
      "metadata": {
        "colab": {
          "base_uri": "https://localhost:8080/"
        },
        "id": "Hl9ntWJLrK1g",
        "outputId": "5d974294-0f6e-491f-d403-bd9d6deff652"
      },
      "id": "Hl9ntWJLrK1g",
      "execution_count": 35,
      "outputs": [
        {
          "output_type": "stream",
          "name": "stdout",
          "text": [
            "The skewness is -0.23\n"
          ]
        }
      ]
    },
    {
      "cell_type": "markdown",
      "source": [
        "maximum drawdown"
      ],
      "metadata": {
        "id": "j_RlpV77sNL0"
      },
      "id": "j_RlpV77sNL0"
    },
    {
      "cell_type": "code",
      "source": [
        "def maxdrawdown(x): \n",
        "    \"\"\"\n",
        "    NumPy analog to corresponding MATLAB Financial Toolbox Function\n",
        "    OUTPUT: start, end, and max drawdown in terms of max percentage drop from a peak\n",
        "    \"\"\"\n",
        "    i = np.argmax(np.maximum.accumulate(x) - x) # end of period\n",
        "    j = np.argmax(x[:i]) # start of the period\n",
        "    percent_change = 100*( x[i] - x[j] ) / x[j]\n",
        "    return j,i,percent_change\n",
        "\n",
        "def datenum(date):\n",
        "    \"\"\"\n",
        "    Converts yyyymmdd dates to ordinal code\n",
        "    \"\"\"\n",
        "    dn = np.zeros(date.shape)\n",
        "    for i in range(len(date)):\n",
        "        dt = str(date[i])\n",
        "        dn[i] = dd.toordinal(dd(int(dt[0:4]),int(dt[5:7]),int(dt[8:10])))\n",
        "    return dn"
      ],
      "metadata": {
        "id": "gOn0XY8OsHMy"
      },
      "id": "gOn0XY8OsHMy",
      "execution_count": 36,
      "outputs": []
    },
    {
      "cell_type": "code",
      "source": [
        "cumulativeret = np.cumprod(1+spread/100)\n",
        "MaxDDStartIndex, MaxDDEndIndex, MaxDD = maxdrawdown(cumulativeret)"
      ],
      "metadata": {
        "id": "NfL0kdQiszhY"
      },
      "id": "NfL0kdQiszhY",
      "execution_count": 37,
      "outputs": []
    },
    {
      "cell_type": "code",
      "source": [
        "print(f'The Maximum Drawdown is {MaxDD:.4}%')"
      ],
      "metadata": {
        "colab": {
          "base_uri": "https://localhost:8080/"
        },
        "id": "sqB9cqLxstgR",
        "outputId": "bbcd0f3c-8af1-4825-867d-f2e06a8f5a91"
      },
      "id": "sqB9cqLxstgR",
      "execution_count": 38,
      "outputs": [
        {
          "output_type": "stream",
          "name": "stdout",
          "text": [
            "The Maximum Drawdown is -40.26%\n"
          ]
        }
      ]
    },
    {
      "cell_type": "markdown",
      "source": [
        "expected return"
      ],
      "metadata": {
        "id": "NVVN5edKxq9-"
      },
      "id": "NVVN5edKxq9-"
    },
    {
      "cell_type": "code",
      "source": [
        "ER=np.mean(spread_new)+Rf*100\n",
        "print(f'The expected return is equal to {ER:.4}%')"
      ],
      "metadata": {
        "colab": {
          "base_uri": "https://localhost:8080/"
        },
        "id": "zdVmRf-mxgeX",
        "outputId": "b38962e4-4b08-4334-8d0c-58c3f2091bb9"
      },
      "id": "zdVmRf-mxgeX",
      "execution_count": 39,
      "outputs": [
        {
          "output_type": "stream",
          "name": "stdout",
          "text": [
            "The expected return is equal to 1.08%\n"
          ]
        }
      ]
    },
    {
      "cell_type": "markdown",
      "id": "0812755e",
      "metadata": {
        "id": "0812755e"
      },
      "source": [
        "### Q 2.7"
      ]
    },
    {
      "cell_type": "code",
      "source": [
        "wl_ret"
      ],
      "metadata": {
        "colab": {
          "base_uri": "https://localhost:8080/",
          "height": 424
        },
        "id": "6F6hThdjzRK_",
        "outputId": "fb0dd90b-24f8-40f7-ecb2-e082f3bd926e"
      },
      "id": "6F6hThdjzRK_",
      "execution_count": 40,
      "outputs": [
        {
          "output_type": "execute_result",
          "data": {
            "text/plain": [
              "      winner_ret  loser_ret  spread\n",
              "282         1.00       1.00    0.00\n",
              "283         3.44       0.66    2.78\n",
              "284        -0.02       4.57   -4.59\n",
              "285        10.57       2.37    8.20\n",
              "286         6.44       8.80   -2.36\n",
              "...          ...        ...     ...\n",
              "1148        9.83      -2.46   12.29\n",
              "1149       -1.12     -10.70    9.58\n",
              "1150       15.39       8.54    6.85\n",
              "1151      -16.25      -6.72   -9.53\n",
              "1152       10.49      -0.40   10.89\n",
              "\n",
              "[871 rows x 3 columns]"
            ],
            "text/html": [
              "\n",
              "  <div id=\"df-58a77f73-4647-48f0-a5da-148ad7c3c859\">\n",
              "    <div class=\"colab-df-container\">\n",
              "      <div>\n",
              "<style scoped>\n",
              "    .dataframe tbody tr th:only-of-type {\n",
              "        vertical-align: middle;\n",
              "    }\n",
              "\n",
              "    .dataframe tbody tr th {\n",
              "        vertical-align: top;\n",
              "    }\n",
              "\n",
              "    .dataframe thead th {\n",
              "        text-align: right;\n",
              "    }\n",
              "</style>\n",
              "<table border=\"1\" class=\"dataframe\">\n",
              "  <thead>\n",
              "    <tr style=\"text-align: right;\">\n",
              "      <th></th>\n",
              "      <th>winner_ret</th>\n",
              "      <th>loser_ret</th>\n",
              "      <th>spread</th>\n",
              "    </tr>\n",
              "  </thead>\n",
              "  <tbody>\n",
              "    <tr>\n",
              "      <th>282</th>\n",
              "      <td>1.00</td>\n",
              "      <td>1.00</td>\n",
              "      <td>0.00</td>\n",
              "    </tr>\n",
              "    <tr>\n",
              "      <th>283</th>\n",
              "      <td>3.44</td>\n",
              "      <td>0.66</td>\n",
              "      <td>2.78</td>\n",
              "    </tr>\n",
              "    <tr>\n",
              "      <th>284</th>\n",
              "      <td>-0.02</td>\n",
              "      <td>4.57</td>\n",
              "      <td>-4.59</td>\n",
              "    </tr>\n",
              "    <tr>\n",
              "      <th>285</th>\n",
              "      <td>10.57</td>\n",
              "      <td>2.37</td>\n",
              "      <td>8.20</td>\n",
              "    </tr>\n",
              "    <tr>\n",
              "      <th>286</th>\n",
              "      <td>6.44</td>\n",
              "      <td>8.80</td>\n",
              "      <td>-2.36</td>\n",
              "    </tr>\n",
              "    <tr>\n",
              "      <th>...</th>\n",
              "      <td>...</td>\n",
              "      <td>...</td>\n",
              "      <td>...</td>\n",
              "    </tr>\n",
              "    <tr>\n",
              "      <th>1148</th>\n",
              "      <td>9.83</td>\n",
              "      <td>-2.46</td>\n",
              "      <td>12.29</td>\n",
              "    </tr>\n",
              "    <tr>\n",
              "      <th>1149</th>\n",
              "      <td>-1.12</td>\n",
              "      <td>-10.70</td>\n",
              "      <td>9.58</td>\n",
              "    </tr>\n",
              "    <tr>\n",
              "      <th>1150</th>\n",
              "      <td>15.39</td>\n",
              "      <td>8.54</td>\n",
              "      <td>6.85</td>\n",
              "    </tr>\n",
              "    <tr>\n",
              "      <th>1151</th>\n",
              "      <td>-16.25</td>\n",
              "      <td>-6.72</td>\n",
              "      <td>-9.53</td>\n",
              "    </tr>\n",
              "    <tr>\n",
              "      <th>1152</th>\n",
              "      <td>10.49</td>\n",
              "      <td>-0.40</td>\n",
              "      <td>10.89</td>\n",
              "    </tr>\n",
              "  </tbody>\n",
              "</table>\n",
              "<p>871 rows × 3 columns</p>\n",
              "</div>\n",
              "      <button class=\"colab-df-convert\" onclick=\"convertToInteractive('df-58a77f73-4647-48f0-a5da-148ad7c3c859')\"\n",
              "              title=\"Convert this dataframe to an interactive table.\"\n",
              "              style=\"display:none;\">\n",
              "        \n",
              "  <svg xmlns=\"http://www.w3.org/2000/svg\" height=\"24px\"viewBox=\"0 0 24 24\"\n",
              "       width=\"24px\">\n",
              "    <path d=\"M0 0h24v24H0V0z\" fill=\"none\"/>\n",
              "    <path d=\"M18.56 5.44l.94 2.06.94-2.06 2.06-.94-2.06-.94-.94-2.06-.94 2.06-2.06.94zm-11 1L8.5 8.5l.94-2.06 2.06-.94-2.06-.94L8.5 2.5l-.94 2.06-2.06.94zm10 10l.94 2.06.94-2.06 2.06-.94-2.06-.94-.94-2.06-.94 2.06-2.06.94z\"/><path d=\"M17.41 7.96l-1.37-1.37c-.4-.4-.92-.59-1.43-.59-.52 0-1.04.2-1.43.59L10.3 9.45l-7.72 7.72c-.78.78-.78 2.05 0 2.83L4 21.41c.39.39.9.59 1.41.59.51 0 1.02-.2 1.41-.59l7.78-7.78 2.81-2.81c.8-.78.8-2.07 0-2.86zM5.41 20L4 18.59l7.72-7.72 1.47 1.35L5.41 20z\"/>\n",
              "  </svg>\n",
              "      </button>\n",
              "      \n",
              "  <style>\n",
              "    .colab-df-container {\n",
              "      display:flex;\n",
              "      flex-wrap:wrap;\n",
              "      gap: 12px;\n",
              "    }\n",
              "\n",
              "    .colab-df-convert {\n",
              "      background-color: #E8F0FE;\n",
              "      border: none;\n",
              "      border-radius: 50%;\n",
              "      cursor: pointer;\n",
              "      display: none;\n",
              "      fill: #1967D2;\n",
              "      height: 32px;\n",
              "      padding: 0 0 0 0;\n",
              "      width: 32px;\n",
              "    }\n",
              "\n",
              "    .colab-df-convert:hover {\n",
              "      background-color: #E2EBFA;\n",
              "      box-shadow: 0px 1px 2px rgba(60, 64, 67, 0.3), 0px 1px 3px 1px rgba(60, 64, 67, 0.15);\n",
              "      fill: #174EA6;\n",
              "    }\n",
              "\n",
              "    [theme=dark] .colab-df-convert {\n",
              "      background-color: #3B4455;\n",
              "      fill: #D2E3FC;\n",
              "    }\n",
              "\n",
              "    [theme=dark] .colab-df-convert:hover {\n",
              "      background-color: #434B5C;\n",
              "      box-shadow: 0px 1px 3px 1px rgba(0, 0, 0, 0.15);\n",
              "      filter: drop-shadow(0px 1px 2px rgba(0, 0, 0, 0.3));\n",
              "      fill: #FFFFFF;\n",
              "    }\n",
              "  </style>\n",
              "\n",
              "      <script>\n",
              "        const buttonEl =\n",
              "          document.querySelector('#df-58a77f73-4647-48f0-a5da-148ad7c3c859 button.colab-df-convert');\n",
              "        buttonEl.style.display =\n",
              "          google.colab.kernel.accessAllowed ? 'block' : 'none';\n",
              "\n",
              "        async function convertToInteractive(key) {\n",
              "          const element = document.querySelector('#df-58a77f73-4647-48f0-a5da-148ad7c3c859');\n",
              "          const dataTable =\n",
              "            await google.colab.kernel.invokeFunction('convertToInteractive',\n",
              "                                                     [key], {});\n",
              "          if (!dataTable) return;\n",
              "\n",
              "          const docLinkHtml = 'Like what you see? Visit the ' +\n",
              "            '<a target=\"_blank\" href=https://colab.research.google.com/notebooks/data_table.ipynb>data table notebook</a>'\n",
              "            + ' to learn more about interactive tables.';\n",
              "          element.innerHTML = '';\n",
              "          dataTable['output_type'] = 'display_data';\n",
              "          await google.colab.output.renderOutput(dataTable, element);\n",
              "          const docLink = document.createElement('div');\n",
              "          docLink.innerHTML = docLinkHtml;\n",
              "          element.appendChild(docLink);\n",
              "        }\n",
              "      </script>\n",
              "    </div>\n",
              "  </div>\n",
              "  "
            ]
          },
          "metadata": {},
          "execution_count": 40
        }
      ]
    },
    {
      "cell_type": "code",
      "execution_count": 41,
      "id": "314fa714",
      "metadata": {
        "id": "314fa714",
        "outputId": "68b60759-7d49-4639-f8c0-f7e1a3c73a31",
        "colab": {
          "base_uri": "https://localhost:8080/"
        }
      },
      "outputs": [
        {
          "output_type": "stream",
          "name": "stdout",
          "text": [
            "alpha of wml is 0.9104\n",
            "alpha of winner is 0.9733\n",
            "alpha of loser is 0.06297\n"
          ]
        },
        {
          "output_type": "stream",
          "name": "stderr",
          "text": [
            "/usr/local/lib/python3.7/dist-packages/statsmodels/tsa/tsatools.py:142: FutureWarning: In a future version of pandas all arguments of concat except for the argument 'objs' will be keyword-only\n",
            "  x = pd.concat(x[::order], 1)\n",
            "/usr/local/lib/python3.7/dist-packages/statsmodels/tsa/tsatools.py:142: FutureWarning: In a future version of pandas all arguments of concat except for the argument 'objs' will be keyword-only\n",
            "  x = pd.concat(x[::order], 1)\n",
            "/usr/local/lib/python3.7/dist-packages/statsmodels/tsa/tsatools.py:142: FutureWarning: In a future version of pandas all arguments of concat except for the argument 'objs' will be keyword-only\n",
            "  x = pd.concat(x[::order], 1)\n"
          ]
        }
      ],
      "source": [
        "# 2.7: Alpha\n",
        "factors = pd.read_excel(datafile1, usecols = \"O:Q\", header = 1) #3 factors\n",
        "#Rf = pd.read_excel(datafile1, usecols = \"R\", header = 0) #risk free rate\n",
        "factors = factors[burn:] #3 factor\n",
        "\n",
        "# spread\n",
        "mod = sm.OLS(wl_ret['spread'],sm.add_constant( factors))\n",
        "res = mod.fit()\n",
        "res.summary()\n",
        "print(f'alpha of wml is { res.params.const:.4}' )\n",
        "\n",
        "# winner\n",
        "mod = sm.OLS(wl_ret['winner_ret'],sm.add_constant( factors))\n",
        "res = mod.fit()\n",
        "res.summary()\n",
        "print(f'alpha of winner is { res.params.const:.4}' )\n",
        "\n",
        "# loser\n",
        "mod = sm.OLS(wl_ret['loser_ret'],sm.add_constant( factors))\n",
        "res = mod.fit()\n",
        "res.summary()\n",
        "print(f'alpha of loser is { res.params.const:.4}' )\n"
      ]
    }
  ],
  "metadata": {
    "kernelspec": {
      "display_name": "Python 3.9.7 ('base')",
      "language": "python",
      "name": "python3"
    },
    "language_info": {
      "codemirror_mode": {
        "name": "ipython",
        "version": 3
      },
      "file_extension": ".py",
      "mimetype": "text/x-python",
      "name": "python",
      "nbconvert_exporter": "python",
      "pygments_lexer": "ipython3",
      "version": "3.9.7"
    },
    "vscode": {
      "interpreter": {
        "hash": "639e406a5771ae6be96f4b944df43e571a63d1198e3617b1046929a34f060e05"
      }
    },
    "colab": {
      "provenance": [],
      "collapsed_sections": [
        "bb643555",
        "38043790"
      ],
      "include_colab_link": true
    }
  },
  "nbformat": 4,
  "nbformat_minor": 5
}