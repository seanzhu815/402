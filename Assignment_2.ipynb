{
  "cells": [
    {
      "cell_type": "markdown",
      "metadata": {
        "id": "view-in-github",
        "colab_type": "text"
      },
      "source": [
        "<a href=\"https://colab.research.google.com/github/seanzhu815/402/blob/main/Assignment_2.ipynb\" target=\"_parent\"><img src=\"https://colab.research.google.com/assets/colab-badge.svg\" alt=\"Open In Colab\"/></a>"
      ]
    },
    {
      "cell_type": "markdown",
      "id": "8923df72",
      "metadata": {
        "id": "8923df72"
      },
      "source": [
        "# Assignment 2 Solution"
      ]
    },
    {
      "cell_type": "code",
      "source": [
        "from google.colab import drive\n",
        "drive.mount('/content/drive')"
      ],
      "metadata": {
        "colab": {
          "base_uri": "https://localhost:8080/"
        },
        "id": "8m3ASLmOCXIl",
        "outputId": "72afe909-a771-484f-b9a3-aad19d499e9c"
      },
      "id": "8m3ASLmOCXIl",
      "execution_count": 163,
      "outputs": [
        {
          "output_type": "stream",
          "name": "stdout",
          "text": [
            "Drive already mounted at /content/drive; to attempt to forcibly remount, call drive.mount(\"/content/drive\", force_remount=True).\n"
          ]
        }
      ]
    },
    {
      "cell_type": "markdown",
      "id": "a2fbd971",
      "metadata": {
        "id": "a2fbd971"
      },
      "source": [
        "### Import modules"
      ]
    },
    {
      "cell_type": "code",
      "execution_count": 164,
      "id": "91717cf4",
      "metadata": {
        "id": "91717cf4"
      },
      "outputs": [],
      "source": [
        "import pandas            as pd   \n",
        "import numpy             as np   \n",
        "import scipy             as scp  \n",
        "import matplotlib.pyplot as plt  \n",
        "import os                as os   \n",
        "from datetime import date as dd  \n",
        "from scipy import optimize\n",
        "from scipy import stats\n",
        "import statsmodels.api as sm"
      ]
    },
    {
      "cell_type": "code",
      "execution_count": 165,
      "id": "e7549abf",
      "metadata": {
        "id": "e7549abf"
      },
      "outputs": [],
      "source": [
        "np.set_printoptions(precision=2) # Set precision of numpy arrays while printing uless specified otherwise\n",
        "#%% Set directories and define files\n",
        "os.chdir(os.path.abspath(''))   # Change directory to location of the script\n",
        "datafile1 = 'drive/MyDrive/industry_returns.xlsx'"
      ]
    },
    {
      "cell_type": "code",
      "execution_count": 166,
      "id": "59e07d7d",
      "metadata": {
        "id": "59e07d7d"
      },
      "outputs": [],
      "source": [
        "#%% Define helper function for Sharpe Ratio (Since this is used very frequently)\n",
        "def Shratio(w,mu,Sigma,Rf): \n",
        "    portfolio_return = np.inner(mu, w) - Rf    # portfolio excess return\n",
        "    portfolio_vol    = np.sqrt((w.T@Sigma@w))  # portfolio volatility\n",
        "    return portfolio_return / portfolio_vol"
      ]
    },
    {
      "cell_type": "code",
      "execution_count": 167,
      "id": "c9cb207d",
      "metadata": {
        "id": "c9cb207d"
      },
      "outputs": [],
      "source": [
        "#%% Read data\n",
        "returns_data = pd.read_excel(datafile1, usecols = \"B:M\", header = 1)\n",
        "dates = pd.read_excel(datafile1, usecols = \"A\", header = 1)\n",
        "dates.columns = ['dates']\n",
        "dates['dates'] = pd.to_datetime(dates['dates'],format='%Y%m')"
      ]
    },
    {
      "cell_type": "code",
      "execution_count": 6,
      "id": "29e01efb",
      "metadata": {
        "id": "29e01efb"
      },
      "outputs": [],
      "source": [
        "# Set parameters\n",
        "Rf = .04 / 12                         # monthly risk free rate\n",
        "n = returns_data.shape[1]             # number of risky assets (columns)\n",
        "T = returns_data.shape[0]             # number of observations (rows)\n",
        "ret = returns_data/100                # convert returns from percent to decimals\n",
        "mu = ret.sum()/T                      # mean returns "
      ]
    },
    {
      "cell_type": "code",
      "source": [
        "m=[]\n",
        "for i in range(12):\n",
        "  m.append(returns_data.iloc[:,i])\n",
        "m=np.array(m)"
      ],
      "metadata": {
        "id": "7yCKQdE3hbOM"
      },
      "id": "7yCKQdE3hbOM",
      "execution_count": 7,
      "outputs": []
    },
    {
      "cell_type": "code",
      "source": [
        "Sigma=np.cov(m)\n",
        "Sigma=Sigma/100"
      ],
      "metadata": {
        "id": "KsUc1h0o_uw6"
      },
      "id": "KsUc1h0o_uw6",
      "execution_count": 8,
      "outputs": []
    },
    {
      "cell_type": "code",
      "source": [
        "Sigma"
      ],
      "metadata": {
        "colab": {
          "base_uri": "https://localhost:8080/"
        },
        "id": "JKd5GiFuY-NE",
        "outputId": "bbd40475-d51d-40fd-b28f-d8d6936b34e2"
      },
      "id": "JKd5GiFuY-NE",
      "execution_count": 9,
      "outputs": [
        {
          "output_type": "execute_result",
          "data": {
            "text/plain": [
              "array([[0.21, 0.26, 0.25, 0.18, 0.22, 0.25, 0.14, 0.18, 0.23, 0.2 , 0.26,\n",
              "        0.24],\n",
              "       [0.26, 0.64, 0.45, 0.31, 0.36, 0.46, 0.23, 0.26, 0.37, 0.27, 0.42,\n",
              "        0.41],\n",
              "       [0.25, 0.45, 0.44, 0.3 , 0.34, 0.43, 0.21, 0.25, 0.32, 0.27, 0.39,\n",
              "        0.4 ],\n",
              "       [0.18, 0.31, 0.3 , 0.41, 0.24, 0.28, 0.15, 0.2 , 0.21, 0.19, 0.29,\n",
              "        0.28],\n",
              "       [0.22, 0.36, 0.34, 0.24, 0.32, 0.33, 0.17, 0.21, 0.26, 0.24, 0.31,\n",
              "        0.3 ],\n",
              "       [0.25, 0.46, 0.43, 0.28, 0.33, 0.55, 0.23, 0.25, 0.34, 0.29, 0.4 ,\n",
              "        0.39],\n",
              "       [0.14, 0.23, 0.21, 0.15, 0.17, 0.23, 0.21, 0.16, 0.18, 0.15, 0.22,\n",
              "        0.21],\n",
              "       [0.18, 0.26, 0.25, 0.2 , 0.21, 0.25, 0.16, 0.3 , 0.21, 0.19, 0.28,\n",
              "        0.24],\n",
              "       [0.23, 0.37, 0.32, 0.21, 0.26, 0.34, 0.18, 0.21, 0.34, 0.24, 0.32,\n",
              "        0.31],\n",
              "       [0.2 , 0.27, 0.27, 0.19, 0.24, 0.29, 0.15, 0.19, 0.24, 0.31, 0.28,\n",
              "        0.26],\n",
              "       [0.26, 0.42, 0.39, 0.29, 0.31, 0.4 , 0.22, 0.28, 0.32, 0.28, 0.46,\n",
              "        0.38],\n",
              "       [0.24, 0.41, 0.4 , 0.28, 0.3 , 0.39, 0.21, 0.24, 0.31, 0.26, 0.38,\n",
              "        0.42]])"
            ]
          },
          "metadata": {},
          "execution_count": 9
        }
      ]
    },
    {
      "cell_type": "markdown",
      "id": "bb643555",
      "metadata": {
        "id": "bb643555"
      },
      "source": [
        "## Part 1"
      ]
    },
    {
      "cell_type": "markdown",
      "id": "454881f7",
      "metadata": {
        "id": "454881f7"
      },
      "source": [
        "### Q 1.1"
      ]
    },
    {
      "cell_type": "code",
      "execution_count": 10,
      "id": "d71ee215",
      "metadata": {
        "id": "d71ee215"
      },
      "outputs": [],
      "source": [
        "# Unconstrained optimization:\n",
        "w0 = np.ones((n,1)) / n  # starting weights\n",
        "cons = ({'type' : 'eq', 'fun': lambda x: np.sum(x) - 1}) # portfolio weights sum to 1\n",
        "\n",
        "sol = scp.optimize.minimize(lambda w: -Shratio(w, mu, Sigma, Rf), x0 = w0, constraints = cons)\n",
        "w_uncon = sol.x\n",
        "val_uncon = sol.fun"
      ]
    },
    {
      "cell_type": "code",
      "execution_count": 11,
      "id": "a9e26145",
      "metadata": {
        "id": "a9e26145",
        "outputId": "8cc11a63-4438-4cd3-dc18-ef7becd4f31a",
        "colab": {
          "base_uri": "https://localhost:8080/",
          "height": 265
        }
      },
      "outputs": [
        {
          "output_type": "display_data",
          "data": {
            "text/plain": [
              "<Figure size 432x288 with 1 Axes>"
            ],
            "image/png": "[encoded data removed]"
          },
          "metadata": {
            "needs_background": "light"
          }
        }
      ],
      "source": [
        "# Construct EML\n",
        "A = (mu.T.dot(np.linalg.inv(Sigma))).dot(mu)\n",
        "B = mu.T.dot(np.linalg.solve(Sigma, np.ones((n,1))))\n",
        "C = np.ones((n,1)).T.dot(np.linalg.solve(Sigma, np.ones((n,1))))\n",
        "mu0 = np.arange(0,.015,.001)\n",
        "varR0 = (C*(mu0**2) - 2*B*mu0 + A) /( A*C-B**2)\n",
        "stdR0 = np.sqrt(varR0)\n",
        "dummy = np.arange(0,np.max(stdR0)+.01, .01)\n",
        "Sharpe_ratio = -val_uncon                                                # From the optimization above\n",
        "Line_sharpe = Rf + Sharpe_ratio * dummy\n",
        "plt.plot(stdR0.reshape((mu0.shape)), mu0, linewidth = .8)\n",
        "plt.plot(dummy, Line_sharpe, color = 'green', linewidth = .8)\n",
        "plt.show()"
      ]
    },
    {
      "cell_type": "markdown",
      "id": "0119a87c",
      "metadata": {
        "id": "0119a87c"
      },
      "source": [
        "### Q 1.2:"
      ]
    },
    {
      "cell_type": "code",
      "execution_count": 260,
      "id": "5a6bc229",
      "metadata": {
        "id": "5a6bc229",
        "outputId": "9aef2fbd-fb0e-419f-fba2-ee4b2dc64a8a",
        "colab": {
          "base_uri": "https://localhost:8080/"
        }
      },
      "outputs": [
        {
          "output_type": "stream",
          "name": "stdout",
          "text": [
            "Annualized Sharpe ratio of tangency portfolio is 0.06149.\n",
            "Weights of tangency portfolio is [ 0.73  0.13 -0.05  0.29  0.03  0.17  0.23  0.05  0.09  0.33 -0.27 -0.72].\n"
          ]
        }
      ],
      "source": [
        "print(f'Annualized Sharpe ratio of tangency portfolio is {-np.sqrt(12) * val_uncon :.4}.')\n",
        "print(f'Weights of tangency portfolio is {w_uncon}.')"
      ]
    },
    {
      "cell_type": "markdown",
      "id": "874540c9",
      "metadata": {
        "id": "874540c9"
      },
      "source": [
        "### Q 1.3:"
      ]
    },
    {
      "cell_type": "code",
      "execution_count": 261,
      "id": "6264f018",
      "metadata": {
        "id": "6264f018"
      },
      "outputs": [],
      "source": [
        "# 1.3: Constrained optimization\n",
        "w0 = np.ones((n,1)) / n  # starting weights\n",
        "cons = ({'type' : 'eq', 'fun': lambda x: np.sum(x) - 1}) # portfolio weights sum to 1\n",
        "bnds = scp.optimize.Bounds(0,.25) # upper and lower bounds"
      ]
    },
    {
      "cell_type": "code",
      "source": [
        "sol =  scp.optimize.minimize(lambda w: -Shratio(w, mu, Sigma, Rf), x0 = w0, constraints = cons,bounds=bnds)                           # Perfrom optimization here\n",
        "w_con = sol.x\n",
        "val_con = sol.fun\n",
        "print(f'Annualized Sharpe ratio of tangency portfolio under constraints is {-np.sqrt(12) * val_con :.4}.')\n",
        "print(f'Weights of tangency portfolio is {w_con}.')"
      ],
      "metadata": {
        "colab": {
          "base_uri": "https://localhost:8080/"
        },
        "id": "y3Hp69FQiTXQ",
        "outputId": "ec50abc1-18a2-47da-a4ac-0230c634921f"
      },
      "id": "y3Hp69FQiTXQ",
      "execution_count": 262,
      "outputs": [
        {
          "output_type": "stream",
          "name": "stdout",
          "text": [
            "Annualized Sharpe ratio of tangency portfolio under constraints is 0.05011.\n",
            "Weights of tangency portfolio is [2.50e-01 0.00e+00 9.45e-17 1.84e-01 6.94e-02 1.08e-17 1.41e-01 3.45e-02\n",
            " 7.12e-02 2.50e-01 7.29e-17 1.11e-16].\n"
          ]
        }
      ]
    },
    {
      "cell_type": "markdown",
      "id": "38043790",
      "metadata": {
        "id": "38043790"
      },
      "source": [
        "### Q 1.4:"
      ]
    },
    {
      "cell_type": "code",
      "execution_count": 263,
      "id": "1a60a306",
      "metadata": {
        "id": "1a60a306"
      },
      "outputs": [],
      "source": [
        "# 1.4: Training weights (Sample upto 2009)\n",
        "ret_train = ret[dates['dates'].dt.year<2010]     # Training sample\n",
        "ret_test = ret[dates['dates'].dt.year>=2010]     # Testing sample\n",
        "mu_train = ret_train.sum()/len(ret_train) "
      ]
    },
    {
      "cell_type": "code",
      "source": [
        "m1=[]\n",
        "for i in range(12):\n",
        "  m1.append(ret_train.iloc[:,i])\n",
        "m1=np.array(m1)\n",
        "Sigma_train = np.cov(m1)"
      ],
      "metadata": {
        "id": "LK5NWy9FAqwS"
      },
      "id": "LK5NWy9FAqwS",
      "execution_count": 264,
      "outputs": []
    },
    {
      "cell_type": "code",
      "source": [
        "cons = ({'type' : 'eq', 'fun': lambda x: np.sum(x) - 1}) # portfolio weights sum to 1\n",
        "sol = scp.optimize.minimize(lambda w: -Shratio(w, mu_train, Sigma_train, Rf), x0 = w0, constraints = cons)                             # Solve the optimization problem for training weights.\n",
        "w_train = sol.x\n",
        "val_train = sol.fun\n",
        "print(f' Optimal portfolio weights of of training data is {w_train}.')"
      ],
      "metadata": {
        "colab": {
          "base_uri": "https://localhost:8080/"
        },
        "id": "uu_1GkWKA2jJ",
        "outputId": "7e0c3293-7e2b-42fe-adc2-44639da8fce4"
      },
      "id": "uu_1GkWKA2jJ",
      "execution_count": 265,
      "outputs": [
        {
          "output_type": "stream",
          "name": "stdout",
          "text": [
            " Optimal portfolio weights of of training data is [ 0.81  0.06 -0.01  0.41  0.09  0.1   0.27 -0.02 -0.04  0.27 -0.25 -0.69].\n"
          ]
        }
      ]
    },
    {
      "cell_type": "code",
      "execution_count": 266,
      "id": "305bb439",
      "metadata": {
        "id": "305bb439"
      },
      "outputs": [],
      "source": [
        "# Test data Sharpe Ratio\n",
        "mu_test =  ret_test.sum()/len(ret_test)   \n",
        "\n",
        "m2=[]\n",
        "for i in range(12):\n",
        "  m2.append(ret_test.iloc[:,i])\n",
        "m2=np.array(m2)                                        # mean returns of testing set\n",
        "Sigma_test =  np.cov(m2)                               # covariance matrix of testing set"
      ]
    },
    {
      "cell_type": "code",
      "source": [
        "val_test = Shratio(w_train,mu_test,Sigma_test,Rf)                                       # Use the Shratio with approopriate weights\n",
        "print(f'Annualized Sharpe using optimal training weights is {val_test:.4}')"
      ],
      "metadata": {
        "colab": {
          "base_uri": "https://localhost:8080/"
        },
        "id": "Wv-LeHAean-o",
        "outputId": "7263048a-bbda-42ec-cae5-cbdbdcc2221f"
      },
      "id": "Wv-LeHAean-o",
      "execution_count": 273,
      "outputs": [
        {
          "output_type": "stream",
          "name": "stdout",
          "text": [
            "Annualized Sharpe using optimal training weights is 0.136\n"
          ]
        }
      ]
    },
    {
      "cell_type": "code",
      "execution_count": 272,
      "id": "c7643212",
      "metadata": {
        "id": "c7643212",
        "outputId": "6d379eb9-3719-44a7-aa2f-35b2e4725ff8",
        "colab": {
          "base_uri": "https://localhost:8080/"
        }
      },
      "outputs": [
        {
          "output_type": "stream",
          "name": "stdout",
          "text": [
            "Annualized Sharpe using equal weights is 0.1817\n"
          ]
        }
      ],
      "source": [
        "# Equal weighted Sharpe Ratio\n",
        "w_eq = np.ones((n)) / n  # Equal weights to all assets\n",
        "\n",
        "val_test_eqweight=Shratio(w_eq,mu_test,Sigma_test,Rf)       # Use the Shratio with approopriate weights\n",
        "print(f'Annualized Sharpe using equal weights is {val_test_eqweight:.4}')"
      ]
    },
    {
      "cell_type": "markdown",
      "id": "7faba16f",
      "metadata": {
        "id": "7faba16f"
      },
      "source": [
        "Thus the sharpe ratio with equal weights is better."
      ]
    },
    {
      "cell_type": "markdown",
      "id": "4692faff",
      "metadata": {
        "id": "4692faff"
      },
      "source": [
        "# Part 2: Momentum"
      ]
    },
    {
      "cell_type": "markdown",
      "id": "b5c385e2",
      "metadata": {
        "id": "b5c385e2"
      },
      "source": [
        "### Q 2.1:"
      ]
    },
    {
      "cell_type": "code",
      "execution_count": 240,
      "id": "63ded395",
      "metadata": {
        "id": "63ded395",
        "colab": {
          "base_uri": "https://localhost:8080/",
          "height": 424
        },
        "outputId": "6e0d8736-b12e-44fa-bf7f-68e5d6c106bf"
      },
      "outputs": [
        {
          "output_type": "execute_result",
          "data": {
            "text/plain": [
              "      NoDur  Durbl  Manuf  Enrgy  Chems  BusEq  Telcm  Utils  Shops  Hlth   \\\n",
              "0      1.45  15.55   3.67  -1.18   8.01   3.16   0.83   7.04   0.11   1.77   \n",
              "1      3.97   3.68   2.42   3.47   5.14   1.97   2.17  -1.69  -0.71   4.25   \n",
              "2      1.14   4.80  -0.07  -3.39   5.30  -0.34   2.41   2.04   0.21   0.69   \n",
              "3     -1.24  -8.23  -3.16  -0.78  -4.55  -5.38  -0.11  -2.63  -2.29  -0.57   \n",
              "4      5.20  -0.19   3.82   0.01   5.11   4.79   1.63   3.71   6.43   5.42   \n",
              "...     ...    ...    ...    ...    ...    ...    ...    ...    ...    ...   \n",
              "1148   0.40  14.67   1.20   9.83  -0.25   3.23  -2.46   9.68   2.91   5.13   \n",
              "1149   2.20 -16.97  -7.92  -1.12   0.39 -12.66 -10.70  -3.71  -9.91  -6.80   \n",
              "1150  -1.68  -8.84  -0.19  15.39  -1.16  -2.16   8.54   4.79  -4.12   0.99   \n",
              "1151  -3.90 -11.97 -10.06 -16.25  -8.12  -8.37  -6.72  -6.55  -7.65  -2.05   \n",
              "1152   4.21  27.47  11.02  10.49   3.17  11.63  -0.40   6.26  14.64   2.75   \n",
              "\n",
              "      Money  Other  \n",
              "0     -0.02   2.22  \n",
              "1      4.47   4.34  \n",
              "2     -1.61   0.37  \n",
              "3     -5.51  -2.73  \n",
              "4      2.34   2.10  \n",
              "...     ...    ...  \n",
              "1148  -0.99   5.11  \n",
              "1149  -7.99 -10.29  \n",
              "1150   2.80  -2.96  \n",
              "1151  -9.05 -11.29  \n",
              "1152   7.38  10.81  \n",
              "\n",
              "[1153 rows x 12 columns]"
            ],
            "text/html": [
              "\n",
              "  <div id=\"df-fa951488-645e-47be-bbb0-aa2c5bcc3748\">\n",
              "    <div class=\"colab-df-container\">\n",
              "      <div>\n",
              "<style scoped>\n",
              "    .dataframe tbody tr th:only-of-type {\n",
              "        vertical-align: middle;\n",
              "    }\n",
              "\n",
              "    .dataframe tbody tr th {\n",
              "        vertical-align: top;\n",
              "    }\n",
              "\n",
              "    .dataframe thead th {\n",
              "        text-align: right;\n",
              "    }\n",
              "</style>\n",
              "<table border=\"1\" class=\"dataframe\">\n",
              "  <thead>\n",
              "    <tr style=\"text-align: right;\">\n",
              "      <th></th>\n",
              "      <th>NoDur</th>\n",
              "      <th>Durbl</th>\n",
              "      <th>Manuf</th>\n",
              "      <th>Enrgy</th>\n",
              "      <th>Chems</th>\n",
              "      <th>BusEq</th>\n",
              "      <th>Telcm</th>\n",
              "      <th>Utils</th>\n",
              "      <th>Shops</th>\n",
              "      <th>Hlth</th>\n",
              "      <th>Money</th>\n",
              "      <th>Other</th>\n",
              "    </tr>\n",
              "  </thead>\n",
              "  <tbody>\n",
              "    <tr>\n",
              "      <th>0</th>\n",
              "      <td>1.45</td>\n",
              "      <td>15.55</td>\n",
              "      <td>3.67</td>\n",
              "      <td>-1.18</td>\n",
              "      <td>8.01</td>\n",
              "      <td>3.16</td>\n",
              "      <td>0.83</td>\n",
              "      <td>7.04</td>\n",
              "      <td>0.11</td>\n",
              "      <td>1.77</td>\n",
              "      <td>-0.02</td>\n",
              "      <td>2.22</td>\n",
              "    </tr>\n",
              "    <tr>\n",
              "      <th>1</th>\n",
              "      <td>3.97</td>\n",
              "      <td>3.68</td>\n",
              "      <td>2.42</td>\n",
              "      <td>3.47</td>\n",
              "      <td>5.14</td>\n",
              "      <td>1.97</td>\n",
              "      <td>2.17</td>\n",
              "      <td>-1.69</td>\n",
              "      <td>-0.71</td>\n",
              "      <td>4.25</td>\n",
              "      <td>4.47</td>\n",
              "      <td>4.34</td>\n",
              "    </tr>\n",
              "    <tr>\n",
              "      <th>2</th>\n",
              "      <td>1.14</td>\n",
              "      <td>4.80</td>\n",
              "      <td>-0.07</td>\n",
              "      <td>-3.39</td>\n",
              "      <td>5.30</td>\n",
              "      <td>-0.34</td>\n",
              "      <td>2.41</td>\n",
              "      <td>2.04</td>\n",
              "      <td>0.21</td>\n",
              "      <td>0.69</td>\n",
              "      <td>-1.61</td>\n",
              "      <td>0.37</td>\n",
              "    </tr>\n",
              "    <tr>\n",
              "      <th>3</th>\n",
              "      <td>-1.24</td>\n",
              "      <td>-8.23</td>\n",
              "      <td>-3.16</td>\n",
              "      <td>-0.78</td>\n",
              "      <td>-4.55</td>\n",
              "      <td>-5.38</td>\n",
              "      <td>-0.11</td>\n",
              "      <td>-2.63</td>\n",
              "      <td>-2.29</td>\n",
              "      <td>-0.57</td>\n",
              "      <td>-5.51</td>\n",
              "      <td>-2.73</td>\n",
              "    </tr>\n",
              "    <tr>\n",
              "      <th>4</th>\n",
              "      <td>5.20</td>\n",
              "      <td>-0.19</td>\n",
              "      <td>3.82</td>\n",
              "      <td>0.01</td>\n",
              "      <td>5.11</td>\n",
              "      <td>4.79</td>\n",
              "      <td>1.63</td>\n",
              "      <td>3.71</td>\n",
              "      <td>6.43</td>\n",
              "      <td>5.42</td>\n",
              "      <td>2.34</td>\n",
              "      <td>2.10</td>\n",
              "    </tr>\n",
              "    <tr>\n",
              "      <th>...</th>\n",
              "      <td>...</td>\n",
              "      <td>...</td>\n",
              "      <td>...</td>\n",
              "      <td>...</td>\n",
              "      <td>...</td>\n",
              "      <td>...</td>\n",
              "      <td>...</td>\n",
              "      <td>...</td>\n",
              "      <td>...</td>\n",
              "      <td>...</td>\n",
              "      <td>...</td>\n",
              "      <td>...</td>\n",
              "    </tr>\n",
              "    <tr>\n",
              "      <th>1148</th>\n",
              "      <td>0.40</td>\n",
              "      <td>14.67</td>\n",
              "      <td>1.20</td>\n",
              "      <td>9.83</td>\n",
              "      <td>-0.25</td>\n",
              "      <td>3.23</td>\n",
              "      <td>-2.46</td>\n",
              "      <td>9.68</td>\n",
              "      <td>2.91</td>\n",
              "      <td>5.13</td>\n",
              "      <td>-0.99</td>\n",
              "      <td>5.11</td>\n",
              "    </tr>\n",
              "    <tr>\n",
              "      <th>1149</th>\n",
              "      <td>2.20</td>\n",
              "      <td>-16.97</td>\n",
              "      <td>-7.92</td>\n",
              "      <td>-1.12</td>\n",
              "      <td>0.39</td>\n",
              "      <td>-12.66</td>\n",
              "      <td>-10.70</td>\n",
              "      <td>-3.71</td>\n",
              "      <td>-9.91</td>\n",
              "      <td>-6.80</td>\n",
              "      <td>-7.99</td>\n",
              "      <td>-10.29</td>\n",
              "    </tr>\n",
              "    <tr>\n",
              "      <th>1150</th>\n",
              "      <td>-1.68</td>\n",
              "      <td>-8.84</td>\n",
              "      <td>-0.19</td>\n",
              "      <td>15.39</td>\n",
              "      <td>-1.16</td>\n",
              "      <td>-2.16</td>\n",
              "      <td>8.54</td>\n",
              "      <td>4.79</td>\n",
              "      <td>-4.12</td>\n",
              "      <td>0.99</td>\n",
              "      <td>2.80</td>\n",
              "      <td>-2.96</td>\n",
              "    </tr>\n",
              "    <tr>\n",
              "      <th>1151</th>\n",
              "      <td>-3.90</td>\n",
              "      <td>-11.97</td>\n",
              "      <td>-10.06</td>\n",
              "      <td>-16.25</td>\n",
              "      <td>-8.12</td>\n",
              "      <td>-8.37</td>\n",
              "      <td>-6.72</td>\n",
              "      <td>-6.55</td>\n",
              "      <td>-7.65</td>\n",
              "      <td>-2.05</td>\n",
              "      <td>-9.05</td>\n",
              "      <td>-11.29</td>\n",
              "    </tr>\n",
              "    <tr>\n",
              "      <th>1152</th>\n",
              "      <td>4.21</td>\n",
              "      <td>27.47</td>\n",
              "      <td>11.02</td>\n",
              "      <td>10.49</td>\n",
              "      <td>3.17</td>\n",
              "      <td>11.63</td>\n",
              "      <td>-0.40</td>\n",
              "      <td>6.26</td>\n",
              "      <td>14.64</td>\n",
              "      <td>2.75</td>\n",
              "      <td>7.38</td>\n",
              "      <td>10.81</td>\n",
              "    </tr>\n",
              "  </tbody>\n",
              "</table>\n",
              "<p>1153 rows × 12 columns</p>\n",
              "</div>\n",
              "      <button class=\"colab-df-convert\" onclick=\"convertToInteractive('df-fa951488-645e-47be-bbb0-aa2c5bcc3748')\"\n",
              "              title=\"Convert this dataframe to an interactive table.\"\n",
              "              style=\"display:none;\">\n",
              "        \n",
              "  <svg xmlns=\"http://www.w3.org/2000/svg\" height=\"24px\"viewBox=\"0 0 24 24\"\n",
              "       width=\"24px\">\n",
              "    <path d=\"M0 0h24v24H0V0z\" fill=\"none\"/>\n",
              "    <path d=\"M18.56 5.44l.94 2.06.94-2.06 2.06-.94-2.06-.94-.94-2.06-.94 2.06-2.06.94zm-11 1L8.5 8.5l.94-2.06 2.06-.94-2.06-.94L8.5 2.5l-.94 2.06-2.06.94zm10 10l.94 2.06.94-2.06 2.06-.94-2.06-.94-.94-2.06-.94 2.06-2.06.94z\"/><path d=\"M17.41 7.96l-1.37-1.37c-.4-.4-.92-.59-1.43-.59-.52 0-1.04.2-1.43.59L10.3 9.45l-7.72 7.72c-.78.78-.78 2.05 0 2.83L4 21.41c.39.39.9.59 1.41.59.51 0 1.02-.2 1.41-.59l7.78-7.78 2.81-2.81c.8-.78.8-2.07 0-2.86zM5.41 20L4 18.59l7.72-7.72 1.47 1.35L5.41 20z\"/>\n",
              "  </svg>\n",
              "      </button>\n",
              "      \n",
              "  <style>\n",
              "    .colab-df-container {\n",
              "      display:flex;\n",
              "      flex-wrap:wrap;\n",
              "      gap: 12px;\n",
              "    }\n",
              "\n",
              "    .colab-df-convert {\n",
              "      background-color: #E8F0FE;\n",
              "      border: none;\n",
              "      border-radius: 50%;\n",
              "      cursor: pointer;\n",
              "      display: none;\n",
              "      fill: #1967D2;\n",
              "      height: 32px;\n",
              "      padding: 0 0 0 0;\n",
              "      width: 32px;\n",
              "    }\n",
              "\n",
              "    .colab-df-convert:hover {\n",
              "      background-color: #E2EBFA;\n",
              "      box-shadow: 0px 1px 2px rgba(60, 64, 67, 0.3), 0px 1px 3px 1px rgba(60, 64, 67, 0.15);\n",
              "      fill: #174EA6;\n",
              "    }\n",
              "\n",
              "    [theme=dark] .colab-df-convert {\n",
              "      background-color: #3B4455;\n",
              "      fill: #D2E3FC;\n",
              "    }\n",
              "\n",
              "    [theme=dark] .colab-df-convert:hover {\n",
              "      background-color: #434B5C;\n",
              "      box-shadow: 0px 1px 3px 1px rgba(0, 0, 0, 0.15);\n",
              "      filter: drop-shadow(0px 1px 2px rgba(0, 0, 0, 0.3));\n",
              "      fill: #FFFFFF;\n",
              "    }\n",
              "  </style>\n",
              "\n",
              "      <script>\n",
              "        const buttonEl =\n",
              "          document.querySelector('#df-fa951488-645e-47be-bbb0-aa2c5bcc3748 button.colab-df-convert');\n",
              "        buttonEl.style.display =\n",
              "          google.colab.kernel.accessAllowed ? 'block' : 'none';\n",
              "\n",
              "        async function convertToInteractive(key) {\n",
              "          const element = document.querySelector('#df-fa951488-645e-47be-bbb0-aa2c5bcc3748');\n",
              "          const dataTable =\n",
              "            await google.colab.kernel.invokeFunction('convertToInteractive',\n",
              "                                                     [key], {});\n",
              "          if (!dataTable) return;\n",
              "\n",
              "          const docLinkHtml = 'Like what you see? Visit the ' +\n",
              "            '<a target=\"_blank\" href=https://colab.research.google.com/notebooks/data_table.ipynb>data table notebook</a>'\n",
              "            + ' to learn more about interactive tables.';\n",
              "          element.innerHTML = '';\n",
              "          dataTable['output_type'] = 'display_data';\n",
              "          await google.colab.output.renderOutput(dataTable, element);\n",
              "          const docLink = document.createElement('div');\n",
              "          docLink.innerHTML = docLinkHtml;\n",
              "          element.appendChild(docLink);\n",
              "        }\n",
              "      </script>\n",
              "    </div>\n",
              "  </div>\n",
              "  "
            ]
          },
          "metadata": {},
          "execution_count": 240
        }
      ],
      "source": [
        "#%% Part 2: Momentum\n",
        "returns = returns_data.values\n",
        "T = returns.shape[0]                   # Number of time periods\n",
        "n = returns.shape[1]                   # Number of assets\n",
        "returns_data"
      ]
    },
    {
      "cell_type": "code",
      "source": [
        "avg_ret_11months = np.ones((T,n))      # Matrix with average returns for past 11 months for n firms\n",
        "winner_portfolio_ret = np.ones((T,1))  # return of the winning portfolio\n",
        "loser_portfolio_ret = np.ones((T,1))\n",
        "winner_ind = np.ones((T,1))            # index  of winning industry in that month\n",
        "loser_ind = np.ones((T,1))"
      ],
      "metadata": {
        "id": "jT6Za93zh4z7"
      },
      "id": "jT6Za93zh4z7",
      "execution_count": 241,
      "outputs": []
    },
    {
      "cell_type": "code",
      "source": [
        "# loop over time series, start from 1950/01\n",
        "burn = sum((dates['dates'].dt.year<1950) == True) # Number of time periods before 1950/01 that must be \"burned\"\n",
        "burn"
      ],
      "metadata": {
        "colab": {
          "base_uri": "https://localhost:8080/"
        },
        "id": "x5-bX2JKiJf3",
        "outputId": "00fb5216-96e2-4984-9ace-69d5b99cf58e"
      },
      "id": "x5-bX2JKiJf3",
      "execution_count": 242,
      "outputs": [
        {
          "output_type": "execute_result",
          "data": {
            "text/plain": [
              "282"
            ]
          },
          "metadata": {},
          "execution_count": 242
        }
      ]
    },
    {
      "cell_type": "code",
      "source": [
        "\n",
        "for i in range((burn+1),T): \n",
        "    # loop over industries\n",
        "    for j in range(n):\n",
        "        avg_ret_11months[i-1,j] =  np.mean(returns[i-12:i-1,j])                # take average of previous 11 months with one-skip-month\n",
        "        sorted_ret = np.sort(avg_ret_11months[i-1,:])\n",
        "        order = np.argsort(avg_ret_11months[i-1,:])\n",
        "\n",
        "        long = order[-1]                        # Index of the winner industry\n",
        "        short = order[0]                        # Index of the loser industry\n",
        "        winner_portfolio_ret[i] = avg_ret_11months[i,long]   \n",
        "        loser_portfolio_ret[i] = avg_ret_11months[i,short]\n",
        "    \n",
        "        winner_ind[i] = long\n",
        "        loser_ind[i] = short\n",
        "\n",
        "\n",
        "spread = winner_portfolio_ret - loser_portfolio_ret"
      ],
      "metadata": {
        "id": "mkr_F4AemVjH"
      },
      "id": "mkr_F4AemVjH",
      "execution_count": 256,
      "outputs": []
    },
    {
      "cell_type": "code",
      "source": [
        "spread.shape"
      ],
      "metadata": {
        "colab": {
          "base_uri": "https://localhost:8080/"
        },
        "id": "tdLsAKmi5gro",
        "outputId": "60a8c84a-cb07-483c-aef3-81118d5cc834"
      },
      "id": "tdLsAKmi5gro",
      "execution_count": 258,
      "outputs": [
        {
          "output_type": "execute_result",
          "data": {
            "text/plain": [
              "(1153, 1)"
            ]
          },
          "metadata": {},
          "execution_count": 258
        }
      ]
    },
    {
      "cell_type": "code",
      "execution_count": 261,
      "id": "b68ed2f1",
      "metadata": {
        "id": "b68ed2f1",
        "outputId": "fa6515e3-9b86-4046-edaa-9bb80817aa5a",
        "colab": {
          "base_uri": "https://localhost:8080/"
        }
      },
      "outputs": [
        {
          "output_type": "stream",
          "name": "stdout",
          "text": [
            "Annualized average return for winner, loser and spread is winner_ret    31.457961\n",
            "loser_ret     -4.719553\n",
            "spread        36.177514\n",
            "dtype: float64 percent\n",
            "Annualized standard deviation for winner, loser and spread is winner_ret    5.910767\n",
            "loser_ret     5.505086\n",
            "spread        5.306371\n",
            "dtype: float64 percent\n"
          ]
        }
      ],
      "source": [
        "# 2.1: Winner Minus Loser\n",
        "wl_ret = pd.DataFrame(data=np.hstack((winner_portfolio_ret,loser_portfolio_ret,spread)), columns=[\"winner_ret\", \"loser_ret\",'spread'])\n",
        "wl_ret = wl_ret.loc[burn:]\n",
        "print(f'Annualized average return for winner, loser and spread is {12*wl_ret.mean()} percent' )\n",
        "print(f'Annualized standard deviation for winner, loser and spread is {np.sqrt(12)*wl_ret.std()} percent')"
      ]
    },
    {
      "cell_type": "code",
      "execution_count": null,
      "id": "de387317",
      "metadata": {
        "id": "de387317"
      },
      "outputs": [],
      "source": [
        "# 2.2: Rolling time series (36 months)\n",
        "wl_ret_rolling = wl_ret[[\"winner_ret\", \"loser_ret\"]].rolling(36, min_periods=36).apply(lambda x: (np.prod(1.0+x/100)-1)/36*12)"
      ]
    },
    {
      "cell_type": "code",
      "source": [
        "import seaborn as sns\n",
        "wl_ret_rolling['spread'] = wl_ret['winner_ret']-wl_ret['loser_ret']                        # Calculate the rolling spread\n",
        "wl_ret_rolling['dates'] = dates[(burn+36):]\n",
        "sns.lineplot(data=wl_ret_rolling,x='dates',y='spread',)                                       # Plot the spread"
      ],
      "metadata": {
        "colab": {
          "base_uri": "https://localhost:8080/",
          "height": 297
        },
        "id": "ceurHxR3VFiS",
        "outputId": "1525bd1c-1085-4bb1-b158-301e4dd5a984"
      },
      "id": "ceurHxR3VFiS",
      "execution_count": 277,
      "outputs": [
        {
          "output_type": "execute_result",
          "data": {
            "text/plain": [
              "<matplotlib.axes._subplots.AxesSubplot at 0x7fe31e201750>"
            ]
          },
          "metadata": {},
          "execution_count": 277
        },
        {
          "output_type": "display_data",
          "data": {
            "text/plain": [
              "<Figure size 432x288 with 1 Axes>"
            ],
            "image/png": "[encoded data removed]"
          },
          "metadata": {
            "needs_background": "light"
          }
        }
      ]
    },
    {
      "cell_type": "markdown",
      "id": "e22990fa",
      "metadata": {
        "id": "e22990fa"
      },
      "source": [
        "### Q 2.3:"
      ]
    },
    {
      "cell_type": "code",
      "execution_count": 278,
      "id": "c3dae11c",
      "metadata": {
        "id": "c3dae11c",
        "outputId": "0d921b04-f565-4371-c2c4-228c8ad35bc5",
        "colab": {
          "base_uri": "https://localhost:8080/"
        }
      },
      "outputs": [
        {
          "output_type": "stream",
          "name": "stdout",
          "text": [
            "From most often to least ofter, winner portfolio consists of ['Enrgy', 'Durbl', 'Hlth ', 'BusEq', 'Telcm', 'Money', 'Shops', 'Utils', 'NoDur', 'Other', 'Chems', 'Manuf']\n"
          ]
        }
      ],
      "source": [
        "# 2.3: Winner industries\n",
        "winner_ind_df = pd.DataFrame(data= winner_ind[(burn+1):], columns=['industry'])\n",
        "winner_count = winner_ind_df['industry'].value_counts() #number of times in winner portfolio\n",
        "winner_order = returns_data.columns[winner_count.index.astype(int)].to_list()\n",
        "print(f'From most often to least ofter, winner portfolio consists of {winner_order}' )"
      ]
    },
    {
      "cell_type": "markdown",
      "id": "5106e1f0",
      "metadata": {
        "id": "5106e1f0"
      },
      "source": [
        "### Q 2.4: Do this yourself"
      ]
    },
    {
      "cell_type": "code",
      "source": [
        "# 2.3: Loser industries\n",
        "loser_ind_df = pd.DataFrame(data= loser_ind[(burn+1):], columns=['industry'])\n",
        "loser_count = loser_ind_df['industry'].value_counts() #number of times in loser portfolio\n",
        "loser_order = returns_data.columns[loser_count.index.astype(int)].to_list()\n",
        "print(f'From most often to least ofter, loser portfolio consists of {loser_order}' )"
      ],
      "metadata": {
        "colab": {
          "base_uri": "https://localhost:8080/"
        },
        "id": "7UqqlUM0WudM",
        "outputId": "124b53aa-8470-43cd-88d6-fedcede87cb2"
      },
      "id": "7UqqlUM0WudM",
      "execution_count": 279,
      "outputs": [
        {
          "output_type": "stream",
          "name": "stdout",
          "text": [
            "From most often to least ofter, loser portfolio consists of ['Enrgy', 'Telcm', 'BusEq', 'Durbl', 'Utils', 'Hlth ', 'Money', 'NoDur', 'Other', 'Shops', 'Chems', 'Manuf']\n"
          ]
        }
      ]
    },
    {
      "cell_type": "markdown",
      "id": "c5c1ddbb",
      "metadata": {
        "id": "c5c1ddbb"
      },
      "source": [
        "### Q 2.5:"
      ]
    },
    {
      "cell_type": "code",
      "execution_count": null,
      "id": "4f249301",
      "metadata": {
        "id": "4f249301",
        "outputId": "9727f63a-f094-463f-8c2f-7ca9154c16f8"
      },
      "outputs": [
        {
          "name": "stdout",
          "output_type": "stream",
          "text": [
            "frequency that either winner or loser portfolio changes is 0.3883\n"
          ]
        }
      ],
      "source": [
        "# 2.5: Turnover\n",
        "winner_turn = # Time series of number of 0 or 1. 1 if the winner changed from last time period\n",
        "loser_turn =  # Same for loser\n",
        "turnover_rate = sum(winner_turn|loser_turn)/(T-12)\n",
        "print(f'frequency that either winner or loser portfolio changes is {turnover_rate:.4}' )\n"
      ]
    },
    {
      "cell_type": "markdown",
      "id": "06d0cb12",
      "metadata": {
        "id": "06d0cb12"
      },
      "source": [
        "### Q 2.6: Do this yourself"
      ]
    },
    {
      "cell_type": "markdown",
      "id": "0812755e",
      "metadata": {
        "id": "0812755e"
      },
      "source": [
        "### Q 2.7"
      ]
    },
    {
      "cell_type": "code",
      "execution_count": null,
      "id": "314fa714",
      "metadata": {
        "id": "314fa714",
        "outputId": "d0fe1d04-bf9b-4a63-d4a9-5d4570a7c82f"
      },
      "outputs": [
        {
          "name": "stdout",
          "output_type": "stream",
          "text": [
            "alpha of wml is 1.025\n",
            "alpha of winner is 0.9281\n",
            "alpha of loser is -0.09701\n"
          ]
        },
        {
          "name": "stderr",
          "output_type": "stream",
          "text": [
            "c:\\Users\\anind\\Anaconda3\\lib\\site-packages\\statsmodels\\tsa\\tsatools.py:142: FutureWarning: In a future version of pandas all arguments of concat except for the argument 'objs' will be keyword-only\n",
            "  x = pd.concat(x[::order], 1)\n",
            "c:\\Users\\anind\\Anaconda3\\lib\\site-packages\\statsmodels\\tsa\\tsatools.py:142: FutureWarning: In a future version of pandas all arguments of concat except for the argument 'objs' will be keyword-only\n",
            "  x = pd.concat(x[::order], 1)\n",
            "c:\\Users\\anind\\Anaconda3\\lib\\site-packages\\statsmodels\\tsa\\tsatools.py:142: FutureWarning: In a future version of pandas all arguments of concat except for the argument 'objs' will be keyword-only\n",
            "  x = pd.concat(x[::order], 1)\n"
          ]
        }
      ],
      "source": [
        "# 2.7: Alpha\n",
        "factors = pd.read_excel(datafile1, usecols = \"O:Q\", header = 1) #3 factors\n",
        "#Rf = pd.read_excel(datafile1, usecols = \"R\", header = 0) #risk free rate\n",
        "factors = factors[burn:] #3 factor\n",
        "\n",
        "# spread\n",
        "mod = sm.OLS(wl_ret['spread'],sm.add_constant( factors))\n",
        "res = mod.fit()\n",
        "res.summary()\n",
        "print(f'alpha of wml is { res.params.const:.4}' )\n",
        "\n",
        "# winner\n",
        "mod = # Fill in the model\n",
        "res = mod.fit()\n",
        "res.summary()\n",
        "print(f'alpha of winner is { res.params.const:.4}' )\n",
        "\n",
        "# loser\n",
        "mod = # Fill in the model\n",
        "res = mod.fit()\n",
        "res.summary()\n",
        "print(f'alpha of loser is { res.params.const:.4}' )\n"
      ]
    }
  ],
  "metadata": {
    "kernelspec": {
      "display_name": "Python 3.9.7 ('base')",
      "language": "python",
      "name": "python3"
    },
    "language_info": {
      "codemirror_mode": {
        "name": "ipython",
        "version": 3
      },
      "file_extension": ".py",
      "mimetype": "text/x-python",
      "name": "python",
      "nbconvert_exporter": "python",
      "pygments_lexer": "ipython3",
      "version": "3.9.7"
    },
    "vscode": {
      "interpreter": {
        "hash": "639e406a5771ae6be96f4b944df43e571a63d1198e3617b1046929a34f060e05"
      }
    },
    "colab": {
      "provenance": [],
      "collapsed_sections": [
        "bb643555",
        "38043790"
      ],
      "include_colab_link": true
    }
  },
  "nbformat": 4,
  "nbformat_minor": 5
}