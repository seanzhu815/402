{
  "cells": [
    {
      "cell_type": "markdown",
      "metadata": {
        "id": "view-in-github",
        "colab_type": "text"
      },
      "source": [
        "<a href=\"https://colab.research.google.com/github/seanzhu815/402/blob/main/Assignment_2_Sample_code.ipynb\" target=\"_parent\"><img src=\"https://colab.research.google.com/assets/colab-badge.svg\" alt=\"Open In Colab\"/></a>"
      ]
    },
    {
      "cell_type": "markdown",
      "id": "8923df72",
      "metadata": {
        "id": "8923df72"
      },
      "source": [
        "# Assignment 2 Solution"
      ]
    },
    {
      "cell_type": "code",
      "source": [
        "from google.colab import drive\n",
        "drive.mount('/content/drive')"
      ],
      "metadata": {
        "colab": {
          "base_uri": "https://localhost:8080/"
        },
        "id": "8m3ASLmOCXIl",
        "outputId": "17493e7d-59ad-4dd4-9c22-77186b0c940a"
      },
      "id": "8m3ASLmOCXIl",
      "execution_count": 3,
      "outputs": [
        {
          "output_type": "stream",
          "name": "stdout",
          "text": [
            "Drive already mounted at /content/drive; to attempt to forcibly remount, call drive.mount(\"/content/drive\", force_remount=True).\n"
          ]
        }
      ]
    },
    {
      "cell_type": "markdown",
      "id": "a2fbd971",
      "metadata": {
        "id": "a2fbd971"
      },
      "source": [
        "### Import modules"
      ]
    },
    {
      "cell_type": "code",
      "execution_count": 4,
      "id": "91717cf4",
      "metadata": {
        "id": "91717cf4"
      },
      "outputs": [],
      "source": [
        "import pandas            as pd   \n",
        "import numpy             as np   \n",
        "import scipy             as scp  \n",
        "import matplotlib.pyplot as plt  \n",
        "import os                as os   \n",
        "from datetime import date as dd  # for dates\n",
        "from scipy import optimize\n",
        "from scipy import stats\n",
        "import statsmodels.api as sm"
      ]
    },
    {
      "cell_type": "code",
      "execution_count": 5,
      "id": "e7549abf",
      "metadata": {
        "id": "e7549abf"
      },
      "outputs": [],
      "source": [
        "np.set_printoptions(precision=2) # Set precision of numpy arrays while printing uless specified otherwise\n",
        "#%% Set directories and define files\n",
        "os.chdir(os.path.abspath(''))   # Change directory to location of the script\n",
        "datafile1 = 'industry_returns.xlsx'"
      ]
    },
    {
      "cell_type": "code",
      "execution_count": 6,
      "id": "59e07d7d",
      "metadata": {
        "id": "59e07d7d"
      },
      "outputs": [],
      "source": [
        "#%% Define helper function for Sharpe Ratio (Since this is used very frequently)\n",
        "def Shratio(w,mu,Sigma,Rf): \n",
        "    portfolio_return = np.inner(mu, w) - Rf    # portfolio excess return\n",
        "    portfolio_vol    = np.sqrt((w.T@Sigma@w))  # portfolio volatility\n",
        "    return portfolio_return / portfolio_vol"
      ]
    },
    {
      "cell_type": "code",
      "execution_count": 7,
      "id": "c9cb207d",
      "metadata": {
        "colab": {
          "base_uri": "https://localhost:8080/",
          "height": 407
        },
        "id": "c9cb207d",
        "outputId": "189589c7-ea67-410d-bc72-af1cc9a82086"
      },
      "outputs": [
        {
          "output_type": "error",
          "ename": "FileNotFoundError",
          "evalue": "ignored",
          "traceback": [
            "\u001b[0;31m---------------------------------------------------------------------------\u001b[0m",
            "\u001b[0;31mFileNotFoundError\u001b[0m                         Traceback (most recent call last)",
            "\u001b[0;32m<ipython-input-7-c76d5349faee>\u001b[0m in \u001b[0;36m<module>\u001b[0;34m\u001b[0m\n\u001b[1;32m      1\u001b[0m \u001b[0;31m#%% Read data\u001b[0m\u001b[0;34m\u001b[0m\u001b[0;34m\u001b[0m\u001b[0;34m\u001b[0m\u001b[0m\n\u001b[0;32m----> 2\u001b[0;31m \u001b[0mreturns_data\u001b[0m \u001b[0;34m=\u001b[0m \u001b[0mpd\u001b[0m\u001b[0;34m.\u001b[0m\u001b[0mread_excel\u001b[0m\u001b[0;34m(\u001b[0m\u001b[0mdatafile1\u001b[0m\u001b[0;34m,\u001b[0m \u001b[0musecols\u001b[0m \u001b[0;34m=\u001b[0m \u001b[0;34m\"B:M\"\u001b[0m\u001b[0;34m,\u001b[0m \u001b[0mheader\u001b[0m \u001b[0;34m=\u001b[0m \u001b[0;36m1\u001b[0m\u001b[0;34m)\u001b[0m\u001b[0;34m\u001b[0m\u001b[0;34m\u001b[0m\u001b[0m\n\u001b[0m\u001b[1;32m      3\u001b[0m \u001b[0mdates\u001b[0m \u001b[0;34m=\u001b[0m \u001b[0mpd\u001b[0m\u001b[0;34m.\u001b[0m\u001b[0mread_excel\u001b[0m\u001b[0;34m(\u001b[0m\u001b[0mdatafile1\u001b[0m\u001b[0;34m,\u001b[0m \u001b[0musecols\u001b[0m \u001b[0;34m=\u001b[0m \u001b[0;34m\"A\"\u001b[0m\u001b[0;34m,\u001b[0m \u001b[0mheader\u001b[0m \u001b[0;34m=\u001b[0m \u001b[0;36m1\u001b[0m\u001b[0;34m)\u001b[0m\u001b[0;34m\u001b[0m\u001b[0;34m\u001b[0m\u001b[0m\n\u001b[1;32m      4\u001b[0m \u001b[0mdates\u001b[0m\u001b[0;34m.\u001b[0m\u001b[0mcolumns\u001b[0m \u001b[0;34m=\u001b[0m \u001b[0;34m[\u001b[0m\u001b[0;34m'dates'\u001b[0m\u001b[0;34m]\u001b[0m\u001b[0;34m\u001b[0m\u001b[0;34m\u001b[0m\u001b[0m\n\u001b[1;32m      5\u001b[0m \u001b[0mdates\u001b[0m\u001b[0;34m[\u001b[0m\u001b[0;34m'dates'\u001b[0m\u001b[0;34m]\u001b[0m \u001b[0;34m=\u001b[0m \u001b[0mpd\u001b[0m\u001b[0;34m.\u001b[0m\u001b[0mto_datetime\u001b[0m\u001b[0;34m(\u001b[0m\u001b[0mdates\u001b[0m\u001b[0;34m[\u001b[0m\u001b[0;34m'dates'\u001b[0m\u001b[0;34m]\u001b[0m\u001b[0;34m,\u001b[0m\u001b[0mformat\u001b[0m\u001b[0;34m=\u001b[0m\u001b[0;34m'%Y%m'\u001b[0m\u001b[0;34m)\u001b[0m\u001b[0;34m\u001b[0m\u001b[0;34m\u001b[0m\u001b[0m\n",
            "\u001b[0;32m/usr/local/lib/python3.7/dist-packages/pandas/util/_decorators.py\u001b[0m in \u001b[0;36mwrapper\u001b[0;34m(*args, **kwargs)\u001b[0m\n\u001b[1;32m    309\u001b[0m                     \u001b[0mstacklevel\u001b[0m\u001b[0;34m=\u001b[0m\u001b[0mstacklevel\u001b[0m\u001b[0;34m,\u001b[0m\u001b[0;34m\u001b[0m\u001b[0;34m\u001b[0m\u001b[0m\n\u001b[1;32m    310\u001b[0m                 )\n\u001b[0;32m--> 311\u001b[0;31m             \u001b[0;32mreturn\u001b[0m \u001b[0mfunc\u001b[0m\u001b[0;34m(\u001b[0m\u001b[0;34m*\u001b[0m\u001b[0margs\u001b[0m\u001b[0;34m,\u001b[0m \u001b[0;34m**\u001b[0m\u001b[0mkwargs\u001b[0m\u001b[0;34m)\u001b[0m\u001b[0;34m\u001b[0m\u001b[0;34m\u001b[0m\u001b[0m\n\u001b[0m\u001b[1;32m    312\u001b[0m \u001b[0;34m\u001b[0m\u001b[0m\n\u001b[1;32m    313\u001b[0m         \u001b[0;32mreturn\u001b[0m \u001b[0mwrapper\u001b[0m\u001b[0;34m\u001b[0m\u001b[0;34m\u001b[0m\u001b[0m\n",
            "\u001b[0;32m/usr/local/lib/python3.7/dist-packages/pandas/io/excel/_base.py\u001b[0m in \u001b[0;36mread_excel\u001b[0;34m(io, sheet_name, header, names, index_col, usecols, squeeze, dtype, engine, converters, true_values, false_values, skiprows, nrows, na_values, keep_default_na, na_filter, verbose, parse_dates, date_parser, thousands, comment, skipfooter, convert_float, mangle_dupe_cols, storage_options)\u001b[0m\n\u001b[1;32m    362\u001b[0m     \u001b[0;32mif\u001b[0m \u001b[0;32mnot\u001b[0m \u001b[0misinstance\u001b[0m\u001b[0;34m(\u001b[0m\u001b[0mio\u001b[0m\u001b[0;34m,\u001b[0m \u001b[0mExcelFile\u001b[0m\u001b[0;34m)\u001b[0m\u001b[0;34m:\u001b[0m\u001b[0;34m\u001b[0m\u001b[0;34m\u001b[0m\u001b[0m\n\u001b[1;32m    363\u001b[0m         \u001b[0mshould_close\u001b[0m \u001b[0;34m=\u001b[0m \u001b[0;32mTrue\u001b[0m\u001b[0;34m\u001b[0m\u001b[0;34m\u001b[0m\u001b[0m\n\u001b[0;32m--> 364\u001b[0;31m         \u001b[0mio\u001b[0m \u001b[0;34m=\u001b[0m \u001b[0mExcelFile\u001b[0m\u001b[0;34m(\u001b[0m\u001b[0mio\u001b[0m\u001b[0;34m,\u001b[0m \u001b[0mstorage_options\u001b[0m\u001b[0;34m=\u001b[0m\u001b[0mstorage_options\u001b[0m\u001b[0;34m,\u001b[0m \u001b[0mengine\u001b[0m\u001b[0;34m=\u001b[0m\u001b[0mengine\u001b[0m\u001b[0;34m)\u001b[0m\u001b[0;34m\u001b[0m\u001b[0;34m\u001b[0m\u001b[0m\n\u001b[0m\u001b[1;32m    365\u001b[0m     \u001b[0;32melif\u001b[0m \u001b[0mengine\u001b[0m \u001b[0;32mand\u001b[0m \u001b[0mengine\u001b[0m \u001b[0;34m!=\u001b[0m \u001b[0mio\u001b[0m\u001b[0;34m.\u001b[0m\u001b[0mengine\u001b[0m\u001b[0;34m:\u001b[0m\u001b[0;34m\u001b[0m\u001b[0;34m\u001b[0m\u001b[0m\n\u001b[1;32m    366\u001b[0m         raise ValueError(\n",
            "\u001b[0;32m/usr/local/lib/python3.7/dist-packages/pandas/io/excel/_base.py\u001b[0m in \u001b[0;36m__init__\u001b[0;34m(self, path_or_buffer, engine, storage_options)\u001b[0m\n\u001b[1;32m   1190\u001b[0m             \u001b[0;32melse\u001b[0m\u001b[0;34m:\u001b[0m\u001b[0;34m\u001b[0m\u001b[0;34m\u001b[0m\u001b[0m\n\u001b[1;32m   1191\u001b[0m                 ext = inspect_excel_format(\n\u001b[0;32m-> 1192\u001b[0;31m                     \u001b[0mcontent_or_path\u001b[0m\u001b[0;34m=\u001b[0m\u001b[0mpath_or_buffer\u001b[0m\u001b[0;34m,\u001b[0m \u001b[0mstorage_options\u001b[0m\u001b[0;34m=\u001b[0m\u001b[0mstorage_options\u001b[0m\u001b[0;34m\u001b[0m\u001b[0;34m\u001b[0m\u001b[0m\n\u001b[0m\u001b[1;32m   1193\u001b[0m                 )\n\u001b[1;32m   1194\u001b[0m                 \u001b[0;32mif\u001b[0m \u001b[0mext\u001b[0m \u001b[0;32mis\u001b[0m \u001b[0;32mNone\u001b[0m\u001b[0;34m:\u001b[0m\u001b[0;34m\u001b[0m\u001b[0;34m\u001b[0m\u001b[0m\n",
            "\u001b[0;32m/usr/local/lib/python3.7/dist-packages/pandas/io/excel/_base.py\u001b[0m in \u001b[0;36minspect_excel_format\u001b[0;34m(content_or_path, storage_options)\u001b[0m\n\u001b[1;32m   1069\u001b[0m \u001b[0;34m\u001b[0m\u001b[0m\n\u001b[1;32m   1070\u001b[0m     with get_handle(\n\u001b[0;32m-> 1071\u001b[0;31m         \u001b[0mcontent_or_path\u001b[0m\u001b[0;34m,\u001b[0m \u001b[0;34m\"rb\"\u001b[0m\u001b[0;34m,\u001b[0m \u001b[0mstorage_options\u001b[0m\u001b[0;34m=\u001b[0m\u001b[0mstorage_options\u001b[0m\u001b[0;34m,\u001b[0m \u001b[0mis_text\u001b[0m\u001b[0;34m=\u001b[0m\u001b[0;32mFalse\u001b[0m\u001b[0;34m\u001b[0m\u001b[0;34m\u001b[0m\u001b[0m\n\u001b[0m\u001b[1;32m   1072\u001b[0m     ) as handle:\n\u001b[1;32m   1073\u001b[0m         \u001b[0mstream\u001b[0m \u001b[0;34m=\u001b[0m \u001b[0mhandle\u001b[0m\u001b[0;34m.\u001b[0m\u001b[0mhandle\u001b[0m\u001b[0;34m\u001b[0m\u001b[0;34m\u001b[0m\u001b[0m\n",
            "\u001b[0;32m/usr/local/lib/python3.7/dist-packages/pandas/io/common.py\u001b[0m in \u001b[0;36mget_handle\u001b[0;34m(path_or_buf, mode, encoding, compression, memory_map, is_text, errors, storage_options)\u001b[0m\n\u001b[1;32m    709\u001b[0m         \u001b[0;32melse\u001b[0m\u001b[0;34m:\u001b[0m\u001b[0;34m\u001b[0m\u001b[0;34m\u001b[0m\u001b[0m\n\u001b[1;32m    710\u001b[0m             \u001b[0;31m# Binary mode\u001b[0m\u001b[0;34m\u001b[0m\u001b[0;34m\u001b[0m\u001b[0;34m\u001b[0m\u001b[0m\n\u001b[0;32m--> 711\u001b[0;31m             \u001b[0mhandle\u001b[0m \u001b[0;34m=\u001b[0m \u001b[0mopen\u001b[0m\u001b[0;34m(\u001b[0m\u001b[0mhandle\u001b[0m\u001b[0;34m,\u001b[0m \u001b[0mioargs\u001b[0m\u001b[0;34m.\u001b[0m\u001b[0mmode\u001b[0m\u001b[0;34m)\u001b[0m\u001b[0;34m\u001b[0m\u001b[0;34m\u001b[0m\u001b[0m\n\u001b[0m\u001b[1;32m    712\u001b[0m         \u001b[0mhandles\u001b[0m\u001b[0;34m.\u001b[0m\u001b[0mappend\u001b[0m\u001b[0;34m(\u001b[0m\u001b[0mhandle\u001b[0m\u001b[0;34m)\u001b[0m\u001b[0;34m\u001b[0m\u001b[0;34m\u001b[0m\u001b[0m\n\u001b[1;32m    713\u001b[0m \u001b[0;34m\u001b[0m\u001b[0m\n",
            "\u001b[0;31mFileNotFoundError\u001b[0m: [Errno 2] No such file or directory: 'industry_returns.xlsx'"
          ]
        }
      ],
      "source": [
        "#%% Read data\n",
        "returns_data = pd.read_excel(datafile1, usecols = \"B:M\", header = 1)\n",
        "dates = pd.read_excel(datafile1, usecols = \"A\", header = 1)\n",
        "dates.columns = ['dates']\n",
        "dates['dates'] = pd.to_datetime(dates['dates'],format='%Y%m')"
      ]
    },
    {
      "cell_type": "code",
      "execution_count": null,
      "id": "29e01efb",
      "metadata": {
        "id": "29e01efb"
      },
      "outputs": [],
      "source": [
        "# Set parameters\n",
        "Rf = .04 / 12                         # monthly risk free rate\n",
        "n = returns_data.shape[1]             # number of risky assets (columns)\n",
        "T = returns_data.shape[0]             # number of observations (rows)\n",
        "ret = returns_data / 100              # convert returns from percent to decimals\n",
        "mu =                                  # mean returns \n",
        "Sigma =                               # covariance matrix"
      ]
    },
    {
      "cell_type": "markdown",
      "id": "bb643555",
      "metadata": {
        "id": "bb643555"
      },
      "source": [
        "## Part 1"
      ]
    },
    {
      "cell_type": "markdown",
      "id": "454881f7",
      "metadata": {
        "id": "454881f7"
      },
      "source": [
        "### Q 1.1"
      ]
    },
    {
      "cell_type": "code",
      "execution_count": null,
      "id": "d71ee215",
      "metadata": {
        "id": "d71ee215"
      },
      "outputs": [],
      "source": [
        "# Unconstrained optimization:\n",
        "w0 = np.ones((n,1)) / n  # starting weights\n",
        "cons = ({'type' : 'eq', 'fun': lambda x: np.sum(x) - 1}) # portfolio weights sum to 1\n",
        "\n",
        "sol = scp.optimize.minimize(lambda w: -Shratio(w, mu, Sigma, Rf), x0 = w0, constraints = cons)\n",
        "w_uncon = sol.x\n",
        "val_uncon = sol.fun"
      ]
    },
    {
      "cell_type": "code",
      "execution_count": null,
      "id": "a9e26145",
      "metadata": {
        "id": "a9e26145",
        "outputId": "17ae48c3-8b1d-4b02-ccca-038580c6e7ff"
      },
      "outputs": [
        {
          "data": {
            "image/png": "[encoded data removed]",
            "text/plain": [
              "<Figure size 432x288 with 1 Axes>"
            ]
          },
          "metadata": {
            "needs_background": "light"
          },
          "output_type": "display_data"
        }
      ],
      "source": [
        "# Construct EML\n",
        "A = (mu.T.dot(np.linalg.inv(Sigma))).dot(mu)\n",
        "B = mu.T.dot(np.linalg.solve(Sigma, np.ones((n,1))))\n",
        "C = np.ones((n,1)).T.dot(np.linalg.solve(Sigma, np.ones((n,1))))\n",
        "mu0 = np.arange(0,.015,.001)\n",
        "varR0 = (C*(mu0**2) - 2*B*mu0 + A) /( A*C-B**2)\n",
        "stdR0 = np.sqrt(varR0)\n",
        "dummy = np.arange(0,np.max(stdR0)+.01, .01)\n",
        "Sharpe_ratio = -val_uncon                                                # From the optimization above\n",
        "Line_sharpe = Rf + Sharpe_ratio * dummy\n",
        "plt.plot(stdR0.reshape((mu0.shape)), mu0, linewidth = .8)\n",
        "plt.plot(dummy, Line_sharpe, color = 'green', linewidth = .8)\n",
        "plt.show()"
      ]
    },
    {
      "cell_type": "markdown",
      "id": "0119a87c",
      "metadata": {
        "id": "0119a87c"
      },
      "source": [
        "### Q 1.2:"
      ]
    },
    {
      "cell_type": "code",
      "execution_count": null,
      "id": "5a6bc229",
      "metadata": {
        "id": "5a6bc229",
        "outputId": "f2562617-bb05-426c-fd92-84e12403da3f"
      },
      "outputs": [
        {
          "name": "stdout",
          "output_type": "stream",
          "text": [
            "Annualized Sharpe ratio of tangency portfolio is 0.6153.\n",
            "Weights of tangency portfolio is [ 0.76  0.14 -0.03  0.3   0.01  0.16  0.21  0.04  0.05  0.35 -0.27 -0.72].\n"
          ]
        }
      ],
      "source": [
        "print(f'Annualized Sharpe ratio of tangency portfolio is {-np.sqrt(12) * val_uncon :.4}.')\n",
        "print(f'Weights of tangency portfolio is {w_uncon}.')"
      ]
    },
    {
      "cell_type": "markdown",
      "id": "874540c9",
      "metadata": {
        "id": "874540c9"
      },
      "source": [
        "### Q 1.3:"
      ]
    },
    {
      "cell_type": "code",
      "execution_count": null,
      "id": "6264f018",
      "metadata": {
        "id": "6264f018",
        "outputId": "a0d334ad-ea6a-4ace-e237-607ca829e954"
      },
      "outputs": [
        {
          "name": "stdout",
          "output_type": "stream",
          "text": [
            "Annualized Sharpe ratio of tangency portfolio under constraints is 0.5021.\n",
            "Weights of tangency portfolio is [2.50e-01 0.00e+00 2.30e-17 2.09e-01 3.42e-02 0.00e+00 2.10e-01 0.00e+00\n",
            " 4.70e-02 2.50e-01 0.00e+00 0.00e+00].\n"
          ]
        }
      ],
      "source": [
        "# 1.3: Constrained optimization\n",
        "w0 = np.ones((n,1)) / n  # starting weights\n",
        "cons = ({'type' : 'eq', 'fun': lambda x: np.sum(x) - 1}) # portfolio weights sum to 1\n",
        "bnds = scp.optimize.Bounds(0,.25) # upper and lower bounds\n",
        "\n",
        "sol =                             # Perfrom optimization here\n",
        "w_con = sol.x\n",
        "val_con = sol.fun\n",
        "print(f'Annualized Sharpe ratio of tangency portfolio under constraints is {-np.sqrt(12) * val_con :.4}.')\n",
        "print(f'Weights of tangency portfolio is {w_con}.')"
      ]
    },
    {
      "cell_type": "markdown",
      "id": "38043790",
      "metadata": {
        "id": "38043790"
      },
      "source": [
        "### Q 1.4:"
      ]
    },
    {
      "cell_type": "code",
      "execution_count": null,
      "id": "1a60a306",
      "metadata": {
        "id": "1a60a306",
        "outputId": "4c769378-d7b7-45a6-8fcf-a2f55f875bfd"
      },
      "outputs": [
        {
          "name": "stdout",
          "output_type": "stream",
          "text": [
            " Optimal portfolio weights of of training data is [ 0.81  0.06 -0.01  0.41  0.09  0.1   0.27 -0.02 -0.04  0.27 -0.25 -0.69].\n"
          ]
        }
      ],
      "source": [
        "# 1.4: Training weights (Sample upto 2009)\n",
        "ret_train = ret[dates['dates'].dt.year<2010]     # Training sample\n",
        "ret_test = ret[dates['dates'].dt.year>=2010]     # Testing sample\n",
        "mu =                                             # mean returns of the training sample\n",
        "Sigma =                                          # covariance of the trainig sample\n",
        "cons = ({'type' : 'eq', 'fun': lambda x: np.sum(x) - 1}) # portfolio weights sum to 1\n",
        "sol =                                            # Solve the optimization problem for training weights.\n",
        "w_train = sol.x\n",
        "val_train = sol.fun\n",
        "print(f' Optimal portfolio weights of of training data is {w_train}.')"
      ]
    },
    {
      "cell_type": "code",
      "execution_count": null,
      "id": "305bb439",
      "metadata": {
        "id": "305bb439",
        "outputId": "9e0c241d-16ef-43c3-e338-e85eca275844"
      },
      "outputs": [
        {
          "name": "stdout",
          "output_type": "stream",
          "text": [
            "Annualized Sharpe using optimal training weights is 0.4711\n"
          ]
        }
      ],
      "source": [
        "# Test data Sharpe Ratio\n",
        "mu_test =                                            # mean returns of testing set\n",
        "Sigma_test =                                         # covariance matrix of testing set\n",
        "val_test =                                           # Use the Shratio with approopriate weights\n",
        "print(f'Annualized Sharpe using optimal training weights is {val_test:.4}')"
      ]
    },
    {
      "cell_type": "code",
      "execution_count": null,
      "id": "c7643212",
      "metadata": {
        "id": "c7643212",
        "outputId": "4698d5c3-0e66-49fc-c08c-92b789ba49c4"
      },
      "outputs": [
        {
          "name": "stdout",
          "output_type": "stream",
          "text": [
            "Annualized Sharpe using equal weights is 0.6293\n"
          ]
        }
      ],
      "source": [
        "# Equal weighted Sharpe Ratio\n",
        "w_eq = np.ones((n)) / n  # Equal weights to all assets\n",
        "val_test_eqweight =      # Use the Shratio with approopriate weights\n",
        "print(f'Annualized Sharpe using equal weights is {val_test_eqweight:.4}')"
      ]
    },
    {
      "cell_type": "markdown",
      "id": "7faba16f",
      "metadata": {
        "id": "7faba16f"
      },
      "source": [
        "Thus the sharpe ratio with equal weights is better."
      ]
    },
    {
      "cell_type": "markdown",
      "id": "4692faff",
      "metadata": {
        "id": "4692faff"
      },
      "source": [
        "# Part 2: Momentum"
      ]
    },
    {
      "cell_type": "markdown",
      "id": "b5c385e2",
      "metadata": {
        "id": "b5c385e2"
      },
      "source": [
        "### Q 2.1:"
      ]
    },
    {
      "cell_type": "code",
      "execution_count": null,
      "id": "63ded395",
      "metadata": {
        "id": "63ded395"
      },
      "outputs": [],
      "source": [
        "#%% Part 2: Momentum\n",
        "returns = returns_data.values\n",
        "T = returns.shape[0]                   # Number of time periods\n",
        "n = returns.shape[1]                   # Number of assets\n",
        "\n",
        "avg_ret_11months = np.ones((T,n))      # Matrix with average returns for past 11 months for n firms\n",
        "winner_portfolio_ret = np.ones((T,1))  # return of the winning portfolio\n",
        "loser_portfolio_ret = np.ones((T,1))\n",
        "winner_ind = np.ones((T,1))            # index  of winning industry in that month\n",
        "loser_ind = np.ones((T,1))\n",
        "\n",
        "# loop over time series, start from 1950/01\n",
        "burn = sum((dates['dates'].dt.year<1950) == True) # Number of time periods before 1950/01 that must be \"burned\"\n",
        "\n",
        "for i in range((burn+1),T): \n",
        "    # loop over industries\n",
        "    for j in range(n):\n",
        "        avg_ret_11months[i-1,j] =                  # take average of previous 11 months with one-skip-month\n",
        "        \n",
        "        sorted_ret = np.sort(avg_ret_11months[i-1,:])\n",
        "        order = np.argsort(avg_ret_11months[i-1,:])\n",
        "        \n",
        "        long = order[xxx]                          # Index of the winner industry\n",
        "        short = order[xxx]                         # Index of the loser industry\n",
        "    \n",
        "        winner_portfolio_ret[i] = returns[i,xxx]   \n",
        "        loser_portfolio_ret[i] = returns[i,xxx]\n",
        "    \n",
        "        winner_ind[i] = long\n",
        "        loser_ind[i] = short\n",
        "    \n",
        "spread = winner_portfolio_ret - loser_portfolio_ret"
      ]
    },
    {
      "cell_type": "code",
      "execution_count": null,
      "id": "b68ed2f1",
      "metadata": {
        "id": "b68ed2f1",
        "outputId": "a075a612-9555-451c-ce17-87a132a1d2d5"
      },
      "outputs": [
        {
          "name": "stdout",
          "output_type": "stream",
          "text": [
            "Annualized average return for winner, loser and spread is winner_ret    18.819885\n",
            "loser_ret      8.368037\n",
            "spread        10.451848\n",
            "dtype: float64 percent\n",
            "Annualized standard deviation for winner, loser and spread is winner_ret    20.395547\n",
            "loser_ret     20.378370\n",
            "spread        22.304593\n",
            "dtype: float64 percent\n"
          ]
        }
      ],
      "source": [
        "# 2.1: Winner Minus Loser\n",
        "wl_ret = pd.DataFrame(data=np.hstack((winner_portfolio_ret,loser_portfolio_ret,spread)), columns=[\"winner_ret\", \"loser_ret\",'spread'])\n",
        "wl_ret = wl_ret.loc[burn:]\n",
        "print(f'Annualized average return for winner, loser and spread is {12*wl_ret.mean()} percent' )\n",
        "print(f'Annualized standard deviation for winner, loser and spread is {np.sqrt(12)*wl_ret.std()} percent')"
      ]
    },
    {
      "cell_type": "code",
      "execution_count": null,
      "id": "de387317",
      "metadata": {
        "id": "de387317",
        "outputId": "5a74bf21-2823-4359-f8a3-7e7a846b4b10"
      },
      "outputs": [
        {
          "data": {
            "image/png": "[encoded data removed]",
            "text/plain": [
              "<Figure size 432x288 with 1 Axes>"
            ]
          },
          "metadata": {
            "needs_background": "light"
          },
          "output_type": "display_data"
        }
      ],
      "source": [
        "# 2.2: Rolling time series (36 months)\n",
        "wl_ret_rolling = wl_ret[[\"winner_ret\", \"loser_ret\"]].rolling(36, min_periods=36).apply(lambda x: (np.prod(1.0+x/100)-1)/36*12)\n",
        "wl_ret_rolling['spread'] =                         # Calculate the rolling spread\n",
        "wl_ret_rolling['dates'] = dates[(burn+36):]\n",
        "plt.plot()                                         # Plot the spread\n",
        "plt.show()"
      ]
    },
    {
      "cell_type": "markdown",
      "id": "e22990fa",
      "metadata": {
        "id": "e22990fa"
      },
      "source": [
        "### Q 2.3:"
      ]
    },
    {
      "cell_type": "code",
      "execution_count": null,
      "id": "c3dae11c",
      "metadata": {
        "id": "c3dae11c",
        "outputId": "6685ee79-fbb8-471d-b5d2-8c639c424bb0"
      },
      "outputs": [
        {
          "name": "stdout",
          "output_type": "stream",
          "text": [
            "From most often to least ofter, winner portfolio consists of ['Enrgy', 'Durbl', 'Hlth ', 'BusEq', 'Telcm', 'Shops', 'Utils', 'Money', 'NoDur', 'Other', 'Manuf', 'Chems']\n"
          ]
        }
      ],
      "source": [
        "# 2.3: Winner industries\n",
        "winner_ind_df = pd.DataFrame(data= winner_ind[(burn+1):], columns=['industry'])\n",
        "winner_count = winner_ind_df['industry'].value_counts() #number of times in winner portfolio\n",
        "winner_order = returns_data.columns[winner_count.index.astype(int)].to_list()\n",
        "print(f'From most often to least ofter, winner portfolio consists of {winner_order}' )\n"
      ]
    },
    {
      "cell_type": "markdown",
      "id": "5106e1f0",
      "metadata": {
        "id": "5106e1f0"
      },
      "source": [
        "### Q 2.4: Do this yourself"
      ]
    },
    {
      "cell_type": "markdown",
      "id": "c5c1ddbb",
      "metadata": {
        "id": "c5c1ddbb"
      },
      "source": [
        "### Q 2.5:"
      ]
    },
    {
      "cell_type": "code",
      "execution_count": null,
      "id": "4f249301",
      "metadata": {
        "id": "4f249301",
        "outputId": "9727f63a-f094-463f-8c2f-7ca9154c16f8"
      },
      "outputs": [
        {
          "name": "stdout",
          "output_type": "stream",
          "text": [
            "frequency that either winner or loser portfolio changes is 0.3883\n"
          ]
        }
      ],
      "source": [
        "# 2.5: Turnover\n",
        "winner_turn = # Time series of number of 0 or 1. 1 if the winner changed from last time period\n",
        "loser_turn =  # Same for loser\n",
        "turnover_rate = sum(winner_turn|loser_turn)/(T-12)\n",
        "print(f'frequency that either winner or loser portfolio changes is {turnover_rate:.4}' )\n"
      ]
    },
    {
      "cell_type": "markdown",
      "id": "06d0cb12",
      "metadata": {
        "id": "06d0cb12"
      },
      "source": [
        "### Q 2.6: Do this yourself"
      ]
    },
    {
      "cell_type": "markdown",
      "id": "0812755e",
      "metadata": {
        "id": "0812755e"
      },
      "source": [
        "### Q 2.7"
      ]
    },
    {
      "cell_type": "code",
      "execution_count": null,
      "id": "314fa714",
      "metadata": {
        "id": "314fa714",
        "outputId": "d0fe1d04-bf9b-4a63-d4a9-5d4570a7c82f"
      },
      "outputs": [
        {
          "name": "stdout",
          "output_type": "stream",
          "text": [
            "alpha of wml is 1.025\n",
            "alpha of winner is 0.9281\n",
            "alpha of loser is -0.09701\n"
          ]
        },
        {
          "name": "stderr",
          "output_type": "stream",
          "text": [
            "c:\\Users\\anind\\Anaconda3\\lib\\site-packages\\statsmodels\\tsa\\tsatools.py:142: FutureWarning: In a future version of pandas all arguments of concat except for the argument 'objs' will be keyword-only\n",
            "  x = pd.concat(x[::order], 1)\n",
            "c:\\Users\\anind\\Anaconda3\\lib\\site-packages\\statsmodels\\tsa\\tsatools.py:142: FutureWarning: In a future version of pandas all arguments of concat except for the argument 'objs' will be keyword-only\n",
            "  x = pd.concat(x[::order], 1)\n",
            "c:\\Users\\anind\\Anaconda3\\lib\\site-packages\\statsmodels\\tsa\\tsatools.py:142: FutureWarning: In a future version of pandas all arguments of concat except for the argument 'objs' will be keyword-only\n",
            "  x = pd.concat(x[::order], 1)\n"
          ]
        }
      ],
      "source": [
        "# 2.7: Alpha\n",
        "factors = pd.read_excel(datafile1, usecols = \"O:Q\", header = 1) #3 factors\n",
        "#Rf = pd.read_excel(datafile1, usecols = \"R\", header = 0) #risk free rate\n",
        "factors = factors[burn:] #3 factor\n",
        "\n",
        "# spread\n",
        "mod = sm.OLS(wl_ret['spread'],sm.add_constant( factors))\n",
        "res = mod.fit()\n",
        "res.summary()\n",
        "print(f'alpha of wml is { res.params.const:.4}' )\n",
        "\n",
        "# winner\n",
        "mod = # Fill in the model\n",
        "res = mod.fit()\n",
        "res.summary()\n",
        "print(f'alpha of winner is { res.params.const:.4}' )\n",
        "\n",
        "# loser\n",
        "mod = # Fill in the model\n",
        "res = mod.fit()\n",
        "res.summary()\n",
        "print(f'alpha of loser is { res.params.const:.4}' )\n"
      ]
    }
  ],
  "metadata": {
    "kernelspec": {
      "display_name": "Python 3.9.7 ('base')",
      "language": "python",
      "name": "python3"
    },
    "language_info": {
      "codemirror_mode": {
        "name": "ipython",
        "version": 3
      },
      "file_extension": ".py",
      "mimetype": "text/x-python",
      "name": "python",
      "nbconvert_exporter": "python",
      "pygments_lexer": "ipython3",
      "version": "3.9.7"
    },
    "vscode": {
      "interpreter": {
        "hash": "639e406a5771ae6be96f4b944df43e571a63d1198e3617b1046929a34f060e05"
      }
    },
    "colab": {
      "provenance": [],
      "collapsed_sections": [],
      "include_colab_link": true
    }
  },
  "nbformat": 4,
  "nbformat_minor": 5
}