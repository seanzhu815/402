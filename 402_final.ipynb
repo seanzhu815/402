{
  "nbformat": 4,
  "nbformat_minor": 0,
  "metadata": {
    "colab": {
      "provenance": [],
      "authorship_tag": "ABX9TyN/QYeKlMBqfhqN7tN//BKv",
      "include_colab_link": true
    },
    "kernelspec": {
      "name": "python3",
      "display_name": "Python 3"
    },
    "language_info": {
      "name": "python"
    }
  },
  "cells": [
    {
      "cell_type": "markdown",
      "metadata": {
        "id": "view-in-github",
        "colab_type": "text"
      },
      "source": [
        "<a href=\"https://colab.research.google.com/github/seanzhu815/402/blob/main/402_final.ipynb\" target=\"_parent\"><img src=\"https://colab.research.google.com/assets/colab-badge.svg\" alt=\"Open In Colab\"/></a>"
      ]
    },
    {
      "cell_type": "code",
      "execution_count": null,
      "metadata": {
        "id": "3DhXpVz7Wv8A"
      },
      "outputs": [],
      "source": [
        "import pandas            as pd   \n",
        "import numpy             as np   \n",
        "import scipy             as scp  \n",
        "import matplotlib.pyplot as plt  \n",
        "import os                as os   \n",
        "from datetime import date as dd  # for dates\n",
        "from scipy import optimize\n",
        "from scipy import stats\n",
        "import statsmodels.api as sm"
      ]
    },
    {
      "cell_type": "markdown",
      "source": [
        "# 1"
      ],
      "metadata": {
        "id": "rr3XdZ0EW0IK"
      }
    },
    {
      "cell_type": "code",
      "source": [
        "contract_number=42000\n",
        "hedge_ratio=0.95\n",
        "num_need_future=10000000\n",
        "current_price=71"
      ],
      "metadata": {
        "id": "KOlq_mJ6WzqO"
      },
      "execution_count": null,
      "outputs": []
    },
    {
      "cell_type": "code",
      "source": [
        "con_need=(num_need_future*hedge_ratio)/contract_number\n",
        "con_need"
      ],
      "metadata": {
        "colab": {
          "base_uri": "https://localhost:8080/"
        },
        "id": "27lBG2nVXd1i",
        "outputId": "fedf4dd0-fb3e-45d0-aee1-4cd282c190ae"
      },
      "execution_count": null,
      "outputs": [
        {
          "output_type": "execute_result",
          "data": {
            "text/plain": [
              "226.1904761904762"
            ]
          },
          "metadata": {},
          "execution_count": 4
        }
      ]
    },
    {
      "cell_type": "markdown",
      "source": [
        "# 2"
      ],
      "metadata": {
        "id": "5VmN9Rd5YYoL"
      }
    },
    {
      "cell_type": "code",
      "source": [
        "future_price=75"
      ],
      "metadata": {
        "id": "i_4h849aYRTd"
      },
      "execution_count": null,
      "outputs": []
    },
    {
      "cell_type": "code",
      "source": [
        "dollar_gains=(future_price-current_price)*con_need*contract_number\n",
        "dollar_gains"
      ],
      "metadata": {
        "colab": {
          "base_uri": "https://localhost:8080/"
        },
        "id": "7I9t1LlbYi_L",
        "outputId": "3ed3dba3-539c-40ba-8936-fbc45965a99a"
      },
      "execution_count": null,
      "outputs": [
        {
          "output_type": "execute_result",
          "data": {
            "text/plain": [
              "38000000.0"
            ]
          },
          "metadata": {},
          "execution_count": 9
        }
      ]
    },
    {
      "cell_type": "markdown",
      "source": [
        "# 4"
      ],
      "metadata": {
        "id": "qkYwLk2EZdY7"
      }
    },
    {
      "cell_type": "code",
      "source": [
        "S0=0.73015\n",
        "F0=0.72895\n",
        "US_ir=0.001\n",
        "T=1\n",
        "t_ir=(S0/F0)*(1+US_ir)**(1/T)-1\n",
        "t_ir*100"
      ],
      "metadata": {
        "colab": {
          "base_uri": "https://localhost:8080/"
        },
        "id": "o6MBL9qWZO3P",
        "outputId": "ec9cc5a6-018b-4fa2-cd80-718ee6d5b0e5"
      },
      "execution_count": null,
      "outputs": [
        {
          "output_type": "execute_result",
          "data": {
            "text/plain": [
              "0.2647849646752132"
            ]
          },
          "metadata": {},
          "execution_count": 4
        }
      ]
    },
    {
      "cell_type": "markdown",
      "source": [
        "#5"
      ],
      "metadata": {
        "id": "20gqq_BFbA0Z"
      }
    },
    {
      "cell_type": "code",
      "source": [
        "S0=580\n",
        "T=1\n",
        "F0=510\n",
        "rf=0.001\n",
        "cost=0.02\n",
        "CCY=(1/T)*np.log(S0/F0)+rf+cost\n",
        "CCY*100"
      ],
      "metadata": {
        "colab": {
          "base_uri": "https://localhost:8080/"
        },
        "id": "um0pWWWWasRK",
        "outputId": "4b4fe043-7c17-439c-bbc3-d2c5b890d0df"
      },
      "execution_count": null,
      "outputs": [
        {
          "output_type": "execute_result",
          "data": {
            "text/plain": [
              "14.961737782209353"
            ]
          },
          "metadata": {},
          "execution_count": 20
        }
      ]
    },
    {
      "cell_type": "markdown",
      "source": [
        "# Part2"
      ],
      "metadata": {
        "id": "piZ90rTXA8_B"
      }
    },
    {
      "cell_type": "code",
      "source": [
        "a=[1,2,3,4,5]\n",
        "b=[80,80,80,80,1080]\n",
        "r=[0.02,0.025,0.03,0.04,0.045]\n",
        "d={'time':a,'cf':b,'r':r}\n",
        "df=pd.DataFrame(data=d)\n",
        "#c_y=df.iloc[0,0]/(1+r)\n",
        "df['dr']=(1+df['r'])**df['time']\n",
        "df['pv']=df['cf']/df['dr']\n",
        "df"
      ],
      "metadata": {
        "colab": {
          "base_uri": "https://localhost:8080/",
          "height": 206
        },
        "id": "Tms4pEblB9BC",
        "outputId": "50b45e7c-6236-481c-822a-19ba61052eae"
      },
      "execution_count": null,
      "outputs": [
        {
          "output_type": "execute_result",
          "data": {
            "text/plain": [
              "   time    cf      r        dr          pv\n",
              "0     1    80  0.020  1.020000   78.431373\n",
              "1     2    80  0.025  1.050625   76.145152\n",
              "2     3    80  0.030  1.092727   73.211333\n",
              "3     4    80  0.040  1.169859   68.384335\n",
              "4     5  1080  0.045  1.246182  866.647130"
            ],
            "text/html": [
              "\n",
              "  <div id=\"df-d4f2f35e-29b6-40bf-9196-40afa13e0781\">\n",
              "    <div class=\"colab-df-container\">\n",
              "      <div>\n",
              "<style scoped>\n",
              "    .dataframe tbody tr th:only-of-type {\n",
              "        vertical-align: middle;\n",
              "    }\n",
              "\n",
              "    .dataframe tbody tr th {\n",
              "        vertical-align: top;\n",
              "    }\n",
              "\n",
              "    .dataframe thead th {\n",
              "        text-align: right;\n",
              "    }\n",
              "</style>\n",
              "<table border=\"1\" class=\"dataframe\">\n",
              "  <thead>\n",
              "    <tr style=\"text-align: right;\">\n",
              "      <th></th>\n",
              "      <th>time</th>\n",
              "      <th>cf</th>\n",
              "      <th>r</th>\n",
              "      <th>dr</th>\n",
              "      <th>pv</th>\n",
              "    </tr>\n",
              "  </thead>\n",
              "  <tbody>\n",
              "    <tr>\n",
              "      <th>0</th>\n",
              "      <td>1</td>\n",
              "      <td>80</td>\n",
              "      <td>0.020</td>\n",
              "      <td>1.020000</td>\n",
              "      <td>78.431373</td>\n",
              "    </tr>\n",
              "    <tr>\n",
              "      <th>1</th>\n",
              "      <td>2</td>\n",
              "      <td>80</td>\n",
              "      <td>0.025</td>\n",
              "      <td>1.050625</td>\n",
              "      <td>76.145152</td>\n",
              "    </tr>\n",
              "    <tr>\n",
              "      <th>2</th>\n",
              "      <td>3</td>\n",
              "      <td>80</td>\n",
              "      <td>0.030</td>\n",
              "      <td>1.092727</td>\n",
              "      <td>73.211333</td>\n",
              "    </tr>\n",
              "    <tr>\n",
              "      <th>3</th>\n",
              "      <td>4</td>\n",
              "      <td>80</td>\n",
              "      <td>0.040</td>\n",
              "      <td>1.169859</td>\n",
              "      <td>68.384335</td>\n",
              "    </tr>\n",
              "    <tr>\n",
              "      <th>4</th>\n",
              "      <td>5</td>\n",
              "      <td>1080</td>\n",
              "      <td>0.045</td>\n",
              "      <td>1.246182</td>\n",
              "      <td>866.647130</td>\n",
              "    </tr>\n",
              "  </tbody>\n",
              "</table>\n",
              "</div>\n",
              "      <button class=\"colab-df-convert\" onclick=\"convertToInteractive('df-d4f2f35e-29b6-40bf-9196-40afa13e0781')\"\n",
              "              title=\"Convert this dataframe to an interactive table.\"\n",
              "              style=\"display:none;\">\n",
              "        \n",
              "  <svg xmlns=\"http://www.w3.org/2000/svg\" height=\"24px\"viewBox=\"0 0 24 24\"\n",
              "       width=\"24px\">\n",
              "    <path d=\"M0 0h24v24H0V0z\" fill=\"none\"/>\n",
              "    <path d=\"M18.56 5.44l.94 2.06.94-2.06 2.06-.94-2.06-.94-.94-2.06-.94 2.06-2.06.94zm-11 1L8.5 8.5l.94-2.06 2.06-.94-2.06-.94L8.5 2.5l-.94 2.06-2.06.94zm10 10l.94 2.06.94-2.06 2.06-.94-2.06-.94-.94-2.06-.94 2.06-2.06.94z\"/><path d=\"M17.41 7.96l-1.37-1.37c-.4-.4-.92-.59-1.43-.59-.52 0-1.04.2-1.43.59L10.3 9.45l-7.72 7.72c-.78.78-.78 2.05 0 2.83L4 21.41c.39.39.9.59 1.41.59.51 0 1.02-.2 1.41-.59l7.78-7.78 2.81-2.81c.8-.78.8-2.07 0-2.86zM5.41 20L4 18.59l7.72-7.72 1.47 1.35L5.41 20z\"/>\n",
              "  </svg>\n",
              "      </button>\n",
              "      \n",
              "  <style>\n",
              "    .colab-df-container {\n",
              "      display:flex;\n",
              "      flex-wrap:wrap;\n",
              "      gap: 12px;\n",
              "    }\n",
              "\n",
              "    .colab-df-convert {\n",
              "      background-color: #E8F0FE;\n",
              "      border: none;\n",
              "      border-radius: 50%;\n",
              "      cursor: pointer;\n",
              "      display: none;\n",
              "      fill: #1967D2;\n",
              "      height: 32px;\n",
              "      padding: 0 0 0 0;\n",
              "      width: 32px;\n",
              "    }\n",
              "\n",
              "    .colab-df-convert:hover {\n",
              "      background-color: #E2EBFA;\n",
              "      box-shadow: 0px 1px 2px rgba(60, 64, 67, 0.3), 0px 1px 3px 1px rgba(60, 64, 67, 0.15);\n",
              "      fill: #174EA6;\n",
              "    }\n",
              "\n",
              "    [theme=dark] .colab-df-convert {\n",
              "      background-color: #3B4455;\n",
              "      fill: #D2E3FC;\n",
              "    }\n",
              "\n",
              "    [theme=dark] .colab-df-convert:hover {\n",
              "      background-color: #434B5C;\n",
              "      box-shadow: 0px 1px 3px 1px rgba(0, 0, 0, 0.15);\n",
              "      filter: drop-shadow(0px 1px 2px rgba(0, 0, 0, 0.3));\n",
              "      fill: #FFFFFF;\n",
              "    }\n",
              "  </style>\n",
              "\n",
              "      <script>\n",
              "        const buttonEl =\n",
              "          document.querySelector('#df-d4f2f35e-29b6-40bf-9196-40afa13e0781 button.colab-df-convert');\n",
              "        buttonEl.style.display =\n",
              "          google.colab.kernel.accessAllowed ? 'block' : 'none';\n",
              "\n",
              "        async function convertToInteractive(key) {\n",
              "          const element = document.querySelector('#df-d4f2f35e-29b6-40bf-9196-40afa13e0781');\n",
              "          const dataTable =\n",
              "            await google.colab.kernel.invokeFunction('convertToInteractive',\n",
              "                                                     [key], {});\n",
              "          if (!dataTable) return;\n",
              "\n",
              "          const docLinkHtml = 'Like what you see? Visit the ' +\n",
              "            '<a target=\"_blank\" href=https://colab.research.google.com/notebooks/data_table.ipynb>data table notebook</a>'\n",
              "            + ' to learn more about interactive tables.';\n",
              "          element.innerHTML = '';\n",
              "          dataTable['output_type'] = 'display_data';\n",
              "          await google.colab.output.renderOutput(dataTable, element);\n",
              "          const docLink = document.createElement('div');\n",
              "          docLink.innerHTML = docLinkHtml;\n",
              "          element.appendChild(docLink);\n",
              "        }\n",
              "      </script>\n",
              "    </div>\n",
              "  </div>\n",
              "  "
            ]
          },
          "metadata": {},
          "execution_count": 4
        }
      ]
    },
    {
      "cell_type": "code",
      "source": [
        "bp=df['pv'].sum()\n",
        "bp"
      ],
      "metadata": {
        "colab": {
          "base_uri": "https://localhost:8080/"
        },
        "id": "2gGkkMn1B9dh",
        "outputId": "d768a164-9c07-4a03-c03b-2bf5b8fb8cb2"
      },
      "execution_count": null,
      "outputs": [
        {
          "output_type": "execute_result",
          "data": {
            "text/plain": [
              "1162.8193224958086"
            ]
          },
          "metadata": {},
          "execution_count": 5
        }
      ]
    },
    {
      "cell_type": "code",
      "source": [
        "a=[1,2,3,4,5]\n",
        "b=[1,1,1,1,101]\n",
        "r=0.03\n",
        "d={'time':a,'cf':b,'r':r}\n",
        "df=pd.DataFrame(data=d)\n",
        "#c_y=df.iloc[0,0]/(1+r)\n",
        "df['dr']=(1+df['r'])**df['time']\n",
        "df['pv']=df['cf']/df['dr']\n",
        "df"
      ],
      "metadata": {
        "id": "csaPXg9vCKzT",
        "colab": {
          "base_uri": "https://localhost:8080/",
          "height": 206
        },
        "outputId": "98dbead2-1c1a-45fe-bdb8-afd2f32b392b"
      },
      "execution_count": null,
      "outputs": [
        {
          "output_type": "execute_result",
          "data": {
            "text/plain": [
              "   time   cf     r        dr         pv\n",
              "0     1    1  0.03  1.030000   0.970874\n",
              "1     2    1  0.03  1.060900   0.942596\n",
              "2     3    1  0.03  1.092727   0.915142\n",
              "3     4    1  0.03  1.125509   0.888487\n",
              "4     5  101  0.03  1.159274  87.123487"
            ],
            "text/html": [
              "\n",
              "  <div id=\"df-bd6518da-73a3-45c8-a7c7-bcb5728ce043\">\n",
              "    <div class=\"colab-df-container\">\n",
              "      <div>\n",
              "<style scoped>\n",
              "    .dataframe tbody tr th:only-of-type {\n",
              "        vertical-align: middle;\n",
              "    }\n",
              "\n",
              "    .dataframe tbody tr th {\n",
              "        vertical-align: top;\n",
              "    }\n",
              "\n",
              "    .dataframe thead th {\n",
              "        text-align: right;\n",
              "    }\n",
              "</style>\n",
              "<table border=\"1\" class=\"dataframe\">\n",
              "  <thead>\n",
              "    <tr style=\"text-align: right;\">\n",
              "      <th></th>\n",
              "      <th>time</th>\n",
              "      <th>cf</th>\n",
              "      <th>r</th>\n",
              "      <th>dr</th>\n",
              "      <th>pv</th>\n",
              "    </tr>\n",
              "  </thead>\n",
              "  <tbody>\n",
              "    <tr>\n",
              "      <th>0</th>\n",
              "      <td>1</td>\n",
              "      <td>1</td>\n",
              "      <td>0.03</td>\n",
              "      <td>1.030000</td>\n",
              "      <td>0.970874</td>\n",
              "    </tr>\n",
              "    <tr>\n",
              "      <th>1</th>\n",
              "      <td>2</td>\n",
              "      <td>1</td>\n",
              "      <td>0.03</td>\n",
              "      <td>1.060900</td>\n",
              "      <td>0.942596</td>\n",
              "    </tr>\n",
              "    <tr>\n",
              "      <th>2</th>\n",
              "      <td>3</td>\n",
              "      <td>1</td>\n",
              "      <td>0.03</td>\n",
              "      <td>1.092727</td>\n",
              "      <td>0.915142</td>\n",
              "    </tr>\n",
              "    <tr>\n",
              "      <th>3</th>\n",
              "      <td>4</td>\n",
              "      <td>1</td>\n",
              "      <td>0.03</td>\n",
              "      <td>1.125509</td>\n",
              "      <td>0.888487</td>\n",
              "    </tr>\n",
              "    <tr>\n",
              "      <th>4</th>\n",
              "      <td>5</td>\n",
              "      <td>101</td>\n",
              "      <td>0.03</td>\n",
              "      <td>1.159274</td>\n",
              "      <td>87.123487</td>\n",
              "    </tr>\n",
              "  </tbody>\n",
              "</table>\n",
              "</div>\n",
              "      <button class=\"colab-df-convert\" onclick=\"convertToInteractive('df-bd6518da-73a3-45c8-a7c7-bcb5728ce043')\"\n",
              "              title=\"Convert this dataframe to an interactive table.\"\n",
              "              style=\"display:none;\">\n",
              "        \n",
              "  <svg xmlns=\"http://www.w3.org/2000/svg\" height=\"24px\"viewBox=\"0 0 24 24\"\n",
              "       width=\"24px\">\n",
              "    <path d=\"M0 0h24v24H0V0z\" fill=\"none\"/>\n",
              "    <path d=\"M18.56 5.44l.94 2.06.94-2.06 2.06-.94-2.06-.94-.94-2.06-.94 2.06-2.06.94zm-11 1L8.5 8.5l.94-2.06 2.06-.94-2.06-.94L8.5 2.5l-.94 2.06-2.06.94zm10 10l.94 2.06.94-2.06 2.06-.94-2.06-.94-.94-2.06-.94 2.06-2.06.94z\"/><path d=\"M17.41 7.96l-1.37-1.37c-.4-.4-.92-.59-1.43-.59-.52 0-1.04.2-1.43.59L10.3 9.45l-7.72 7.72c-.78.78-.78 2.05 0 2.83L4 21.41c.39.39.9.59 1.41.59.51 0 1.02-.2 1.41-.59l7.78-7.78 2.81-2.81c.8-.78.8-2.07 0-2.86zM5.41 20L4 18.59l7.72-7.72 1.47 1.35L5.41 20z\"/>\n",
              "  </svg>\n",
              "      </button>\n",
              "      \n",
              "  <style>\n",
              "    .colab-df-container {\n",
              "      display:flex;\n",
              "      flex-wrap:wrap;\n",
              "      gap: 12px;\n",
              "    }\n",
              "\n",
              "    .colab-df-convert {\n",
              "      background-color: #E8F0FE;\n",
              "      border: none;\n",
              "      border-radius: 50%;\n",
              "      cursor: pointer;\n",
              "      display: none;\n",
              "      fill: #1967D2;\n",
              "      height: 32px;\n",
              "      padding: 0 0 0 0;\n",
              "      width: 32px;\n",
              "    }\n",
              "\n",
              "    .colab-df-convert:hover {\n",
              "      background-color: #E2EBFA;\n",
              "      box-shadow: 0px 1px 2px rgba(60, 64, 67, 0.3), 0px 1px 3px 1px rgba(60, 64, 67, 0.15);\n",
              "      fill: #174EA6;\n",
              "    }\n",
              "\n",
              "    [theme=dark] .colab-df-convert {\n",
              "      background-color: #3B4455;\n",
              "      fill: #D2E3FC;\n",
              "    }\n",
              "\n",
              "    [theme=dark] .colab-df-convert:hover {\n",
              "      background-color: #434B5C;\n",
              "      box-shadow: 0px 1px 3px 1px rgba(0, 0, 0, 0.15);\n",
              "      filter: drop-shadow(0px 1px 2px rgba(0, 0, 0, 0.3));\n",
              "      fill: #FFFFFF;\n",
              "    }\n",
              "  </style>\n",
              "\n",
              "      <script>\n",
              "        const buttonEl =\n",
              "          document.querySelector('#df-bd6518da-73a3-45c8-a7c7-bcb5728ce043 button.colab-df-convert');\n",
              "        buttonEl.style.display =\n",
              "          google.colab.kernel.accessAllowed ? 'block' : 'none';\n",
              "\n",
              "        async function convertToInteractive(key) {\n",
              "          const element = document.querySelector('#df-bd6518da-73a3-45c8-a7c7-bcb5728ce043');\n",
              "          const dataTable =\n",
              "            await google.colab.kernel.invokeFunction('convertToInteractive',\n",
              "                                                     [key], {});\n",
              "          if (!dataTable) return;\n",
              "\n",
              "          const docLinkHtml = 'Like what you see? Visit the ' +\n",
              "            '<a target=\"_blank\" href=https://colab.research.google.com/notebooks/data_table.ipynb>data table notebook</a>'\n",
              "            + ' to learn more about interactive tables.';\n",
              "          element.innerHTML = '';\n",
              "          dataTable['output_type'] = 'display_data';\n",
              "          await google.colab.output.renderOutput(dataTable, element);\n",
              "          const docLink = document.createElement('div');\n",
              "          docLink.innerHTML = docLinkHtml;\n",
              "          element.appendChild(docLink);\n",
              "        }\n",
              "      </script>\n",
              "    </div>\n",
              "  </div>\n",
              "  "
            ]
          },
          "metadata": {},
          "execution_count": 12
        }
      ]
    },
    {
      "cell_type": "code",
      "source": [
        "bp=df['pv'].sum()\n",
        "bp"
      ],
      "metadata": {
        "colab": {
          "base_uri": "https://localhost:8080/"
        },
        "id": "PdkhVri2QuZb",
        "outputId": "4b5c67ea-0fef-478c-d922-e8e7d0f5fbde"
      },
      "execution_count": null,
      "outputs": [
        {
          "output_type": "execute_result",
          "data": {
            "text/plain": [
              "90.84058562561093"
            ]
          },
          "metadata": {},
          "execution_count": 13
        }
      ]
    },
    {
      "cell_type": "code",
      "source": [
        "horizon=2\n",
        "duration=3\n",
        "if horizon<duration:\n",
        "  print('sell better when interests decrease')\n",
        "else:\n",
        "  print('sell better when interests increase')"
      ],
      "metadata": {
        "colab": {
          "base_uri": "https://localhost:8080/"
        },
        "id": "CEdsPmxWj9GZ",
        "outputId": "367130ac-c12c-42e1-cb73-d0849426040a"
      },
      "execution_count": null,
      "outputs": [
        {
          "output_type": "stream",
          "name": "stdout",
          "text": [
            "sell better when interests decrease\n"
          ]
        }
      ]
    },
    {
      "cell_type": "code",
      "source": [
        "w=df['pv']*df['time']\n",
        "duration=w/bp\n",
        "duration=duration.sum()\n",
        "duration"
      ],
      "metadata": {
        "colab": {
          "base_uri": "https://localhost:8080/"
        },
        "id": "ZYmgWwx-Q40O",
        "outputId": "ebc8936c-b107-487d-8603-1a13b96afeba"
      },
      "execution_count": null,
      "outputs": [
        {
          "output_type": "execute_result",
          "data": {
            "text/plain": [
              "4.896191188391066"
            ]
          },
          "metadata": {},
          "execution_count": 16
        }
      ]
    },
    {
      "cell_type": "markdown",
      "source": [
        "# (v)"
      ],
      "metadata": {
        "id": "czwt4iX1jL64"
      }
    },
    {
      "cell_type": "code",
      "source": [
        "Pb=5\n",
        "YTM_1=0.03\n",
        "duration_3yr=2.5\n",
        "YTM_2=0.03\n",
        "\n",
        "Ph=((duration*Pb)/(1+YTM_1))/(duration_3yr/(1+YTM_2))\n",
        "Ph"
      ],
      "metadata": {
        "colab": {
          "base_uri": "https://localhost:8080/"
        },
        "id": "9bL-an2CQ8cm",
        "outputId": "b1d11dbf-1927-4360-d02e-93860cf94dcd"
      },
      "execution_count": null,
      "outputs": [
        {
          "output_type": "execute_result",
          "data": {
            "text/plain": [
              "9.792382376782133"
            ]
          },
          "metadata": {},
          "execution_count": 17
        }
      ]
    },
    {
      "cell_type": "code",
      "source": [
        "new_YTM1=0.035\n",
        "new_YTM2=0.033\n",
        "\n",
        "Net_loss=(-Pb*(duration/(1+YTM_1))*(new_YTM1-YTM_1)+Ph*(new_YTM2-YTM_2)*(duration_3yr/(1+YTM_2)))*1000000\n",
        "Net_loss"
      ],
      "metadata": {
        "colab": {
          "base_uri": "https://localhost:8080/"
        },
        "id": "rKX3iO67o6R7",
        "outputId": "5902789a-35a7-4343-8972-57afd315d1fd"
      },
      "execution_count": null,
      "outputs": [
        {
          "output_type": "execute_result",
          "data": {
            "text/plain": [
              "-47535.83678049585"
            ]
          },
          "metadata": {},
          "execution_count": 18
        }
      ]
    },
    {
      "cell_type": "markdown",
      "source": [
        "# Part3"
      ],
      "metadata": {
        "id": "mu4QB2EztP6k"
      }
    },
    {
      "cell_type": "code",
      "source": [
        "Strike_a=155\n",
        "Strike_b=165\n",
        "Strike_c=175\n",
        "Strike_d=185\n",
        "call_a=23\n",
        "call_b=17\n",
        "call_c=12\n",
        "call_d=8\n",
        "put_a=9\n",
        "put_b=13\n",
        "put_c=18\n",
        "put_d=24"
      ],
      "metadata": {
        "id": "5MCbDEk1qsyp"
      },
      "execution_count": null,
      "outputs": []
    },
    {
      "cell_type": "markdown",
      "source": [
        "## 1"
      ],
      "metadata": {
        "id": "41BLmuZTvFNm"
      }
    },
    {
      "cell_type": "code",
      "source": [
        "S0=168\n",
        "max_loss=S0-Strike_a+put_a\n",
        "max_loss"
      ],
      "metadata": {
        "colab": {
          "base_uri": "https://localhost:8080/"
        },
        "id": "qYqKGwG8uO6B",
        "outputId": "6259ae4e-e1f1-4cc7-aeb6-ad5178f49129"
      },
      "execution_count": null,
      "outputs": [
        {
          "output_type": "execute_result",
          "data": {
            "text/plain": [
              "22"
            ]
          },
          "metadata": {},
          "execution_count": 41
        }
      ]
    },
    {
      "cell_type": "code",
      "source": [
        "breake_even=S0+put_a\n",
        "breake_even"
      ],
      "metadata": {
        "colab": {
          "base_uri": "https://localhost:8080/"
        },
        "id": "-szJTokeus84",
        "outputId": "b31a184f-cc1c-4f47-e33e-10d3a968b471"
      },
      "execution_count": null,
      "outputs": [
        {
          "output_type": "execute_result",
          "data": {
            "text/plain": [
              "177"
            ]
          },
          "metadata": {},
          "execution_count": 43
        }
      ]
    },
    {
      "cell_type": "markdown",
      "source": [
        "## 2"
      ],
      "metadata": {
        "id": "I5RWBE4BvGVe"
      }
    },
    {
      "cell_type": "code",
      "source": [
        "max_profit=call_d+Strike_d-S0\n",
        "max_profit"
      ],
      "metadata": {
        "colab": {
          "base_uri": "https://localhost:8080/"
        },
        "id": "wSWVHKIxvC71",
        "outputId": "75cb6cbd-3ac4-4f54-a71c-72f162a58898"
      },
      "execution_count": null,
      "outputs": [
        {
          "output_type": "execute_result",
          "data": {
            "text/plain": [
              "25"
            ]
          },
          "metadata": {},
          "execution_count": 44
        }
      ]
    },
    {
      "cell_type": "code",
      "source": [
        "break_even=S0-call_d\n",
        "break_even"
      ],
      "metadata": {
        "colab": {
          "base_uri": "https://localhost:8080/"
        },
        "id": "IpYnmhKLwJeE",
        "outputId": "27e1b97c-536a-48e9-d682-5cf628c694ef"
      },
      "execution_count": null,
      "outputs": [
        {
          "output_type": "execute_result",
          "data": {
            "text/plain": [
              "160"
            ]
          },
          "metadata": {},
          "execution_count": 46
        }
      ]
    },
    {
      "cell_type": "markdown",
      "source": [
        "# 3"
      ],
      "metadata": {
        "id": "ZtxTWstzwYH7"
      }
    },
    {
      "cell_type": "code",
      "source": [
        "max_loss=call_b-call_d\n",
        "max_loss"
      ],
      "metadata": {
        "colab": {
          "base_uri": "https://localhost:8080/"
        },
        "id": "uBwblTiFwZDQ",
        "outputId": "5f5f3ae5-0abd-4977-9a0b-57ed53b88399"
      },
      "execution_count": null,
      "outputs": [
        {
          "output_type": "execute_result",
          "data": {
            "text/plain": [
              "9"
            ]
          },
          "metadata": {},
          "execution_count": 48
        }
      ]
    },
    {
      "cell_type": "code",
      "source": [
        "max_profit=Strike_d-Strike_b-max_loss\n",
        "max_profit"
      ],
      "metadata": {
        "colab": {
          "base_uri": "https://localhost:8080/"
        },
        "id": "fnjIkvaTw35p",
        "outputId": "6c66d00b-07d5-41ea-93fd-e36be18300da"
      },
      "execution_count": null,
      "outputs": [
        {
          "output_type": "execute_result",
          "data": {
            "text/plain": [
              "11"
            ]
          },
          "metadata": {},
          "execution_count": 50
        }
      ]
    },
    {
      "cell_type": "code",
      "source": [
        "break_even=Strike_b+max_loss\n",
        "break_even"
      ],
      "metadata": {
        "colab": {
          "base_uri": "https://localhost:8080/"
        },
        "id": "JVy69ELTxAM2",
        "outputId": "1466772d-163d-4e49-e86a-d0e9adf592d6"
      },
      "execution_count": null,
      "outputs": [
        {
          "output_type": "execute_result",
          "data": {
            "text/plain": [
              "174"
            ]
          },
          "metadata": {},
          "execution_count": 52
        }
      ]
    },
    {
      "cell_type": "markdown",
      "source": [
        "## 4"
      ],
      "metadata": {
        "id": "yv63eWQGxOI0"
      }
    },
    {
      "cell_type": "code",
      "source": [
        "max_loss=call_b+put_b\n",
        "max_loss"
      ],
      "metadata": {
        "colab": {
          "base_uri": "https://localhost:8080/"
        },
        "id": "j6Li7MAOxHN3",
        "outputId": "033ee62c-7efd-4f28-8a48-e9de95fff3be"
      },
      "execution_count": null,
      "outputs": [
        {
          "output_type": "execute_result",
          "data": {
            "text/plain": [
              "30"
            ]
          },
          "metadata": {},
          "execution_count": 53
        }
      ]
    },
    {
      "cell_type": "code",
      "source": [
        "break_even_low=Strike_b-max_loss\n",
        "break_even_low"
      ],
      "metadata": {
        "colab": {
          "base_uri": "https://localhost:8080/"
        },
        "id": "gdqtxuOcxZJ7",
        "outputId": "1afc78ed-60f4-4377-eb1d-9e5571a0bfab"
      },
      "execution_count": null,
      "outputs": [
        {
          "output_type": "execute_result",
          "data": {
            "text/plain": [
              "135"
            ]
          },
          "metadata": {},
          "execution_count": 54
        }
      ]
    },
    {
      "cell_type": "code",
      "source": [
        "break_even_hi=Strike_b+max_loss\n",
        "break_even_hi"
      ],
      "metadata": {
        "colab": {
          "base_uri": "https://localhost:8080/"
        },
        "id": "nqdkH8N7xliW",
        "outputId": "df02f3aa-f0f5-454a-8d03-5d787b878262"
      },
      "execution_count": null,
      "outputs": [
        {
          "output_type": "execute_result",
          "data": {
            "text/plain": [
              "195"
            ]
          },
          "metadata": {},
          "execution_count": 55
        }
      ]
    },
    {
      "cell_type": "markdown",
      "source": [
        "# 5"
      ],
      "metadata": {
        "id": "A8AR71cBxr0Y"
      }
    },
    {
      "cell_type": "code",
      "source": [
        "max_loss=call_d-put_a+Strike_a-S0\n",
        "max_loss"
      ],
      "metadata": {
        "colab": {
          "base_uri": "https://localhost:8080/"
        },
        "id": "UWJy2_UexssI",
        "outputId": "a0576cc1-5267-4817-d8d8-0a65174b1b13"
      },
      "execution_count": null,
      "outputs": [
        {
          "output_type": "execute_result",
          "data": {
            "text/plain": [
              "-14"
            ]
          },
          "metadata": {},
          "execution_count": 59
        }
      ]
    },
    {
      "cell_type": "code",
      "source": [
        "max_profit=call_d-put_a+Strike_d-S0\n",
        "max_profit"
      ],
      "metadata": {
        "colab": {
          "base_uri": "https://localhost:8080/"
        },
        "id": "XY7UeCjpyriH",
        "outputId": "79837996-42ab-46f7-bcf5-6f3f8ed12027"
      },
      "execution_count": null,
      "outputs": [
        {
          "output_type": "execute_result",
          "data": {
            "text/plain": [
              "16"
            ]
          },
          "metadata": {},
          "execution_count": 61
        }
      ]
    },
    {
      "cell_type": "code",
      "source": [
        "break_even=S0+(-(call_d-put_a))\n",
        "break_even"
      ],
      "metadata": {
        "colab": {
          "base_uri": "https://localhost:8080/"
        },
        "id": "M9sRCGN9zLGJ",
        "outputId": "1da7dad3-84af-4f71-ddfa-63bf173b1759"
      },
      "execution_count": null,
      "outputs": [
        {
          "output_type": "execute_result",
          "data": {
            "text/plain": [
              "169"
            ]
          },
          "metadata": {},
          "execution_count": 63
        }
      ]
    },
    {
      "cell_type": "markdown",
      "source": [
        "## 6"
      ],
      "metadata": {
        "id": "yejyjwWUzaV2"
      }
    },
    {
      "cell_type": "code",
      "source": [
        "Strike_new=190\n",
        "call_new=6\n",
        "r=0\n",
        "T=1\n",
        "put_price=call_new+(Strike_new/(1+r)**T)-S0\n",
        "put_price"
      ],
      "metadata": {
        "colab": {
          "base_uri": "https://localhost:8080/"
        },
        "id": "wnhsX9YPzehj",
        "outputId": "30572d86-5ef6-4159-f303-731109cb45c9"
      },
      "execution_count": null,
      "outputs": [
        {
          "output_type": "execute_result",
          "data": {
            "text/plain": [
              "28.0"
            ]
          },
          "metadata": {},
          "execution_count": 65
        }
      ]
    },
    {
      "cell_type": "markdown",
      "source": [
        "#part4"
      ],
      "metadata": {
        "id": "qyZsA94t0cUX"
      }
    },
    {
      "cell_type": "code",
      "source": [
        "r = 0.02                          # risk free rate\n",
        "d =  1-0.1                         # return in down state\n",
        "u =  1+0.1                         # return in up state\n",
        "p =  (1+r-d)/(u-d)                         # risk neutral probability of up state\n",
        "print(f'The probability is {p :.2f}.')"
      ],
      "metadata": {
        "colab": {
          "base_uri": "https://localhost:8080/"
        },
        "id": "dce3bsAP1z7O",
        "outputId": "88fffcef-d9c5-49f7-844a-9ef54c7905be"
      },
      "execution_count": 20,
      "outputs": [
        {
          "output_type": "stream",
          "name": "stdout",
          "text": [
            "The probability is 0.60.\n"
          ]
        }
      ]
    },
    {
      "cell_type": "code",
      "source": [
        "S0 =  50                                         # Fill in stock prices at all nodes\n",
        "Su =   55         \n",
        "Sd =   45 \n",
        "Suu =  60.5\n",
        "Sud = 49.5\n",
        "Sdd = 40.5\n",
        "K =   45                                         # Strike price\n",
        "Cuu = max(Suu-K ,0)                                        # Calculate call payoff at all nodes\n",
        "Cud =  max(Sud-K ,0)\n",
        "Cdd =  max(Sdd-K ,0)\n",
        "Cu = max((p*Cuu + (1-p)*Cud)/(1+r),Su-K)                 \n",
        "Cd = max((p*Cud + (1-p)*Cdd)/(1+r),Sd-K)\n",
        "C = (p*Cu + (1-p)*Cd)/(1+r)\n",
        "print(f'The option price at node uu is {Cuu :.2f}.')\n",
        "print(f'The option price at node du is {Cud :.2f}.')\n",
        "print(f'The option price at node dd is {Cdd :.2f}.')\n",
        "print(f'The option price at node u is {Cu :.2f}.')\n",
        "print(f'The option price at node d is {Cd :.2f}.')\n",
        "print(f'The option price at node 0 is {C :.2f}.')"
      ],
      "metadata": {
        "colab": {
          "base_uri": "https://localhost:8080/"
        },
        "id": "8TJ4D7C40dvh",
        "outputId": "7e3682e6-68e9-4bb7-bed0-1bfea2b8b870"
      },
      "execution_count": 21,
      "outputs": [
        {
          "output_type": "stream",
          "name": "stdout",
          "text": [
            "The option price at node uu is 15.50.\n",
            "The option price at node du is 4.50.\n",
            "The option price at node dd is 0.00.\n",
            "The option price at node u is 10.88.\n",
            "The option price at node d is 2.65.\n",
            "The option price at node 0 is 7.44.\n"
          ]
        }
      ]
    },
    {
      "cell_type": "markdown",
      "source": [
        "## put(3,4,5)"
      ],
      "metadata": {
        "id": "WzmSYhfR3myV"
      }
    },
    {
      "cell_type": "code",
      "source": [
        "S0 =  50                                         # Fill in stock prices at all nodes\n",
        "Su =   55         \n",
        "Sd =   45 \n",
        "Suu =  60.5\n",
        "Sud = 49.5\n",
        "Sdd = 40.5\n",
        "K =   52                                         # Strike price\n",
        "Cuu = max(K-Suu ,0)                                        # Calculate call payoff at all nodes\n",
        "Cud =  max(K-Sud ,0)\n",
        "Cdd =  max(K-Sdd ,0)\n",
        "Cu = max((p*Cuu + (1-p)*Cud)/(1+r),K-Su)                 \n",
        "Cd = max((p*Cud + (1-p)*Cdd)/(1+r),K-Sd)\n",
        "C_A = (p*Cu + (1-p)*Cd)/(1+r)\n",
        "print(f'The option price at node uu is {Cuu :.2f}.')\n",
        "print(f'The option price at node du is {Cud :.2f}.')\n",
        "print(f'The option price at node dd is {Cdd :.2f}.')\n",
        "print(f'The option price at node u is {Cu :.2f}.')\n",
        "print(f'The option price at node d is {Cd :.2f}.')\n",
        "print(f'The option price at node 0 is {C_A :.2f}.')"
      ],
      "metadata": {
        "colab": {
          "base_uri": "https://localhost:8080/"
        },
        "id": "FHT0OaJT13kt",
        "outputId": "369ad971-9050-4bdb-f633-7be80fc71d66"
      },
      "execution_count": 22,
      "outputs": [
        {
          "output_type": "stream",
          "name": "stdout",
          "text": [
            "The option price at node uu is 0.00.\n",
            "The option price at node du is 2.50.\n",
            "The option price at node dd is 11.50.\n",
            "The option price at node u is 0.98.\n",
            "The option price at node d is 7.00.\n",
            "The option price at node 0 is 3.32.\n"
          ]
        }
      ]
    },
    {
      "cell_type": "code",
      "source": [
        "S0 =  50                                         # Fill in stock prices at all nodes\n",
        "Su =   55         \n",
        "Sd =   45 \n",
        "Suu =  60.5\n",
        "Sud = 49.5\n",
        "Sdd = 40.5\n",
        "K =   52                                         # Strike price\n",
        "Cuu = max(K-Suu ,0)                                        # Calculate call payoff at all nodes\n",
        "Cud =  max(K-Sud ,0)\n",
        "Cdd =  max(K-Sdd ,0)\n",
        "Cu_E = (p*Cuu + (1-p)*Cud)/(1+r)            \n",
        "Cd_E = (p*Cud + (1-p)*Cdd)/(1+r)\n",
        "C_E = (p*Cu_E + (1-p)*Cd_E)/(1+r)"
      ],
      "metadata": {
        "id": "1ZBhcc5I3vDu"
      },
      "execution_count": null,
      "outputs": []
    },
    {
      "cell_type": "code",
      "source": [
        "C_A-C_E"
      ],
      "metadata": {
        "colab": {
          "base_uri": "https://localhost:8080/"
        },
        "id": "EK00fSMY4T9z",
        "outputId": "14b07d27-017d-407e-92b1-daf9eccebc90"
      },
      "execution_count": null,
      "outputs": [
        {
          "output_type": "execute_result",
          "data": {
            "text/plain": [
              "0.39984621299500134"
            ]
          },
          "metadata": {},
          "execution_count": 91
        }
      ]
    },
    {
      "cell_type": "code",
      "source": [
        "delta=(Cu-Cd)/(Su-Sd)\n",
        "delta"
      ],
      "metadata": {
        "colab": {
          "base_uri": "https://localhost:8080/"
        },
        "id": "VitdaxrF4Vg5",
        "outputId": "d23f9546-eb9a-4608-f0e7-84e9bf63cd2c"
      },
      "execution_count": null,
      "outputs": [
        {
          "output_type": "execute_result",
          "data": {
            "text/plain": [
              "-0.6019607843137254"
            ]
          },
          "metadata": {},
          "execution_count": 93
        }
      ]
    },
    {
      "cell_type": "markdown",
      "source": [
        "## 6"
      ],
      "metadata": {
        "id": "f1SFWaiG5JCY"
      }
    },
    {
      "cell_type": "code",
      "source": [
        "buy_Ap=100\n",
        "stock=delta*buy_Ap\n",
        "print(f'sell {stock:.2f} stocks')"
      ],
      "metadata": {
        "colab": {
          "base_uri": "https://localhost:8080/"
        },
        "id": "g2FvcgK95Kf5",
        "outputId": "21c37792-41b7-426c-8ad7-2dd9b96ca72c"
      },
      "execution_count": null,
      "outputs": [
        {
          "output_type": "stream",
          "name": "stdout",
          "text": [
            "sell -60.20 stocks\n"
          ]
        }
      ]
    },
    {
      "cell_type": "markdown",
      "source": [
        "#part5"
      ],
      "metadata": {
        "id": "a3JxSaCa6IeQ"
      }
    },
    {
      "cell_type": "code",
      "source": [
        "def BScholes(S,K,maturity, r, sigma, delta): \n",
        "    d1 = (np.log(S/K) + (r + sigma**2/2)*maturity)/(sigma*np.sqrt(maturity))\n",
        "    d2 = d1 - sigma*np.sqrt(maturity)\n",
        "    Nd1 = stats.norm.cdf(d1)\n",
        "    Nd2 = stats.norm.cdf(d2)\n",
        "    Nd1neg = stats.norm.cdf(-d1)\n",
        "    Nd2neg = stats.norm.cdf(-d2)\n",
        "\n",
        "    callprice = S*np.exp(-delta*maturity)*Nd1 - np.exp(-r*maturity)*K*Nd2\n",
        "    putprice = np.exp(-r*maturity)*K*Nd2neg - S*np.exp(-delta*maturity)*Nd1neg\n",
        "    return callprice, putprice, Nd1"
      ],
      "metadata": {
        "id": "eLhyNogb7BuV"
      },
      "execution_count": null,
      "outputs": []
    },
    {
      "cell_type": "code",
      "source": [
        "S0=50\n",
        "rf=0.02\n",
        "X=60\n",
        "T=0.25\n",
        "sigma=0.45\n",
        "delta=0\n",
        "c_value=BScholes(S0,X,T,rf,sigma,delta)\n",
        "c_value[0]"
      ],
      "metadata": {
        "colab": {
          "base_uri": "https://localhost:8080/"
        },
        "id": "AaGDa70b5zvS",
        "outputId": "aa1ce6cb-eda9-4990-e7c3-c229fcd35948"
      },
      "execution_count": null,
      "outputs": [
        {
          "output_type": "execute_result",
          "data": {
            "text/plain": [
              "1.503367459343126"
            ]
          },
          "metadata": {},
          "execution_count": 107
        }
      ]
    },
    {
      "cell_type": "markdown",
      "source": [
        "##(2)"
      ],
      "metadata": {
        "id": "MYmjrhC78cwu"
      }
    },
    {
      "cell_type": "code",
      "source": [
        "c_value[2]"
      ],
      "metadata": {
        "colab": {
          "base_uri": "https://localhost:8080/"
        },
        "id": "oTUcyXWJ8fj6",
        "outputId": "a9a2df13-408a-4bc6-dc42-66145ab89507"
      },
      "execution_count": null,
      "outputs": [
        {
          "output_type": "execute_result",
          "data": {
            "text/plain": [
              "0.24964865189553542"
            ]
          },
          "metadata": {},
          "execution_count": 108
        }
      ]
    },
    {
      "cell_type": "code",
      "source": [
        "call = 2\n",
        "put = 5\n",
        "def callfunc(x):                                      # callfunc takes input the volatility x and ouptputs the call price\n",
        "    return BScholes(S0,X,T, rf, x, delta)[0]\n",
        "\n",
        "def putfunc(x):\n",
        "    return  BScholes(S0,X,T, rf, x, delta)[1]                                   # Fill in the output for the putfunc\n",
        "\n"
      ],
      "metadata": {
        "id": "z1Lz7XaE6jsF"
      },
      "execution_count": null,
      "outputs": []
    },
    {
      "cell_type": "code",
      "source": [
        "impliedvol_call = (scp.optimize.minimize(lambda x: (callfunc(x) - call)**2, x0 = 0.2).x)[0]\n",
        "print(f'The implied vol with call is {impliedvol_call*100 :.2f} percent.')\n"
      ],
      "metadata": {
        "colab": {
          "base_uri": "https://localhost:8080/"
        },
        "id": "qpuVn_k98l8j",
        "outputId": "39a8def3-7088-4bcc-9076-d44309a48696"
      },
      "execution_count": null,
      "outputs": [
        {
          "output_type": "stream",
          "name": "stdout",
          "text": [
            "The implied vol with call is 51.03 percent.\n"
          ]
        }
      ]
    },
    {
      "cell_type": "code",
      "source": [
        "#impliedvol_put =  (scp.optimize.minimize(lambda x: (put-putfunc(x))**2, x0 = 0.2).x)[0]                           # Perform the optimization \n",
        "#print(f'The implied vol with put is {impliedvol_put*100 :.2f} percent.')"
      ],
      "metadata": {
        "id": "QvTktPJh86-T"
      },
      "execution_count": null,
      "outputs": []
    }
  ]
}