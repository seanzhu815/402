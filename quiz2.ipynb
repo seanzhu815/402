{
  "nbformat": 4,
  "nbformat_minor": 0,
  "metadata": {
    "colab": {
      "provenance": [],
      "collapsed_sections": [],
      "authorship_tag": "ABX9TyN/yP8kFUS2+s7KVlysqWQi",
      "include_colab_link": true
    },
    "kernelspec": {
      "name": "python3",
      "display_name": "Python 3"
    },
    "language_info": {
      "name": "python"
    }
  },
  "cells": [
    {
      "cell_type": "markdown",
      "metadata": {
        "id": "view-in-github",
        "colab_type": "text"
      },
      "source": [
        "<a href=\"https://colab.research.google.com/github/seanzhu815/402/blob/main/quiz2.ipynb\" target=\"_parent\"><img src=\"https://colab.research.google.com/assets/colab-badge.svg\" alt=\"Open In Colab\"/></a>"
      ]
    },
    {
      "cell_type": "code",
      "execution_count": null,
      "metadata": {
        "id": "Gi7XLxvfgrOo"
      },
      "outputs": [],
      "source": [
        "import numpy as np\n",
        "hw=0.3\n",
        "pw=0.4\n",
        "rw=0.3\n",
        "\n",
        "hr=0.02\n",
        "pr=0.12\n",
        "rr=0.2\n",
        "\n",
        "ah=0.4\n",
        "ap=0.5\n",
        "ar=0.1\n",
        "\n",
        "arh=0.08\n",
        "arp=0.15\n",
        "arr=0.18\n",
        "\n",
        "bw=[hw,pw,rw]\n",
        "br=[hr,pr,rr]\n",
        "aaw=[ah,ap,ar]\n",
        "aar=[arh,arp,arr]\n",
        "bw1=np.array(bw)\n",
        "br1=np.array(br)\n",
        "aaw1=np.array(aaw)\n",
        "aar1=np.array(aar)\n"
      ]
    },
    {
      "cell_type": "markdown",
      "source": [
        "total return"
      ],
      "metadata": {
        "id": "m9Ickj3nL-uB"
      }
    },
    {
      "cell_type": "code",
      "source": [
        "total_r=aaw1*aar1\n",
        "total_r.sum()"
      ],
      "metadata": {
        "colab": {
          "base_uri": "https://localhost:8080/"
        },
        "id": "EJkhyaLilYzm",
        "outputId": "508edcd8-3aa2-4d69-d991-f72171aa2ee0"
      },
      "execution_count": null,
      "outputs": [
        {
          "output_type": "execute_result",
          "data": {
            "text/plain": [
              "0.125"
            ]
          },
          "metadata": {},
          "execution_count": 5
        }
      ]
    },
    {
      "cell_type": "markdown",
      "source": [
        "selection"
      ],
      "metadata": {
        "id": "W3uehbTZMBRg"
      }
    },
    {
      "cell_type": "code",
      "source": [
        "c=(aar1-br1)*bw1\n",
        "sum(c)"
      ],
      "metadata": {
        "colab": {
          "base_uri": "https://localhost:8080/"
        },
        "id": "WxvnkcjalwMW",
        "outputId": "cab86009-9bd0-46c5-db09-66e80825c097"
      },
      "execution_count": null,
      "outputs": [
        {
          "output_type": "execute_result",
          "data": {
            "text/plain": [
              "0.023999999999999994"
            ]
          },
          "metadata": {},
          "execution_count": 6
        }
      ]
    },
    {
      "cell_type": "markdown",
      "source": [
        "timing"
      ],
      "metadata": {
        "id": "hagzQemKMCno"
      }
    },
    {
      "cell_type": "code",
      "source": [
        "d=(aaw1-bw1)*br1\n",
        "sum(d)"
      ],
      "metadata": {
        "colab": {
          "base_uri": "https://localhost:8080/"
        },
        "id": "ohk4llOTojwK",
        "outputId": "96da44fa-350e-49d8-b66d-95802e63449a"
      },
      "execution_count": null,
      "outputs": [
        {
          "output_type": "execute_result",
          "data": {
            "text/plain": [
              "-0.026000000000000002"
            ]
          },
          "metadata": {},
          "execution_count": 7
        }
      ]
    },
    {
      "cell_type": "markdown",
      "source": [
        "outperform the benchmark"
      ],
      "metadata": {
        "id": "aaPDyBKrMEDl"
      }
    },
    {
      "cell_type": "code",
      "source": [
        "benchmark=bw1*br1\n",
        "sum(benchmark)\n",
        "diff=sum(total_r)-sum(benchmark)\n",
        "diff"
      ],
      "metadata": {
        "colab": {
          "base_uri": "https://localhost:8080/"
        },
        "id": "OCi7SPikp42Y",
        "outputId": "e105904e-4d17-41ae-88c8-a48f308cdbbb"
      },
      "execution_count": null,
      "outputs": [
        {
          "output_type": "execute_result",
          "data": {
            "text/plain": [
              "0.01100000000000001"
            ]
          },
          "metadata": {},
          "execution_count": 8
        }
      ]
    },
    {
      "cell_type": "markdown",
      "source": [
        "residual"
      ],
      "metadata": {
        "id": "YI8IJazxNG-e"
      }
    },
    {
      "cell_type": "code",
      "source": [
        "diff-sum(c)-sum(d)"
      ],
      "metadata": {
        "colab": {
          "base_uri": "https://localhost:8080/"
        },
        "id": "fKx3Il3PNJn7",
        "outputId": "df5f8999-67b6-4989-d76d-798062576e94"
      },
      "execution_count": null,
      "outputs": [
        {
          "output_type": "execute_result",
          "data": {
            "text/plain": [
              "0.013000000000000018"
            ]
          },
          "metadata": {},
          "execution_count": 9
        }
      ]
    },
    {
      "cell_type": "markdown",
      "source": [
        "Question2"
      ],
      "metadata": {
        "id": "nNF6z7X5JdfX"
      }
    },
    {
      "cell_type": "code",
      "source": [
        "ERm=0.04\n",
        "VARRm=0.0225\n",
        "covERm=0\n",
        "a=-0.01\n",
        "B=1.2\n",
        "VARe=0.09\n"
      ],
      "metadata": {
        "id": "NjFlLw6XJcry"
      },
      "execution_count": null,
      "outputs": []
    },
    {
      "cell_type": "code",
      "source": [
        "ER=a+B*ERm\n",
        "ER"
      ],
      "metadata": {
        "colab": {
          "base_uri": "https://localhost:8080/"
        },
        "id": "sgEwTX_9ORm3",
        "outputId": "2210f502-44d2-44c7-8b00-eef7221b1357"
      },
      "execution_count": null,
      "outputs": [
        {
          "output_type": "execute_result",
          "data": {
            "text/plain": [
              "0.038"
            ]
          },
          "metadata": {},
          "execution_count": 12
        }
      ]
    },
    {
      "cell_type": "code",
      "source": [
        "stdR=(B**2*VARRm+VARe)**0.5\n",
        "stdR"
      ],
      "metadata": {
        "colab": {
          "base_uri": "https://localhost:8080/"
        },
        "id": "XnWcNRVLOcGI",
        "outputId": "460d668a-618b-42fa-f238-9dd484a1e769"
      },
      "execution_count": null,
      "outputs": [
        {
          "output_type": "execute_result",
          "data": {
            "text/plain": [
              "0.34985711369071804"
            ]
          },
          "metadata": {},
          "execution_count": 15
        }
      ]
    },
    {
      "cell_type": "code",
      "source": [],
      "metadata": {
        "id": "806KEQNWRA8X"
      },
      "execution_count": null,
      "outputs": []
    },
    {
      "cell_type": "code",
      "source": [],
      "metadata": {
        "id": "c9s_O_aXjNJ5"
      },
      "execution_count": null,
      "outputs": []
    }
  ]
}