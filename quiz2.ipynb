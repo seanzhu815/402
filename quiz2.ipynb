{
  "nbformat": 4,
  "nbformat_minor": 0,
  "metadata": {
    "colab": {
      "provenance": [],
      "collapsed_sections": [],
      "authorship_tag": "ABX9TyPSLIT++2TZq6wvk1eMXH6S",
      "include_colab_link": true
    },
    "kernelspec": {
      "name": "python3",
      "display_name": "Python 3"
    },
    "language_info": {
      "name": "python"
    }
  },
  "cells": [
    {
      "cell_type": "markdown",
      "metadata": {
        "id": "view-in-github",
        "colab_type": "text"
      },
      "source": [
        "<a href=\"https://colab.research.google.com/github/seanzhu815/402/blob/main/quiz2.ipynb\" target=\"_parent\"><img src=\"https://colab.research.google.com/assets/colab-badge.svg\" alt=\"Open In Colab\"/></a>"
      ]
    },
    {
      "cell_type": "code",
      "execution_count": null,
      "metadata": {
        "id": "Gi7XLxvfgrOo"
      },
      "outputs": [],
      "source": [
        "import numpy as np\n",
        "hw=0.3\n",
        "pw=0.4\n",
        "rw=0.3\n",
        "\n",
        "hr=0.02\n",
        "pr=0.12\n",
        "rr=0.2\n",
        "\n",
        "ah=0.4\n",
        "ap=0.5\n",
        "ar=0.1\n",
        "\n",
        "arh=0.08\n",
        "arp=0.15\n",
        "arr=0.18\n",
        "\n",
        "bw=[hw,pw,rw]\n",
        "br=[hr,pr,rr]\n",
        "aaw=[ah,ap,ar]\n",
        "aar=[arh,arp,arr]\n",
        "bw1=np.array(bw)\n",
        "br1=np.array(br)\n",
        "aaw1=np.array(aaw)\n",
        "aar1=np.array(aar)\n"
      ]
    },
    {
      "cell_type": "code",
      "source": [
        "total_r=aaw1*aar1\n",
        "total_r.sum()"
      ],
      "metadata": {
        "colab": {
          "base_uri": "https://localhost:8080/"
        },
        "id": "EJkhyaLilYzm",
        "outputId": "5d779b1c-a393-4d03-b474-b9ddcdbb57a3"
      },
      "execution_count": null,
      "outputs": [
        {
          "output_type": "execute_result",
          "data": {
            "text/plain": [
              "0.125"
            ]
          },
          "metadata": {},
          "execution_count": 6
        }
      ]
    },
    {
      "cell_type": "code",
      "source": [
        "c=(aar1-br1)*bw1\n",
        "sum(c)"
      ],
      "metadata": {
        "colab": {
          "base_uri": "https://localhost:8080/"
        },
        "id": "WxvnkcjalwMW",
        "outputId": "31ee407c-5c0f-4a4e-c587-cb47195100fd"
      },
      "execution_count": null,
      "outputs": [
        {
          "output_type": "execute_result",
          "data": {
            "text/plain": [
              "0.023999999999999994"
            ]
          },
          "metadata": {},
          "execution_count": 11
        }
      ]
    },
    {
      "cell_type": "code",
      "source": [
        "d=(aaw1-bw1)*br1\n",
        "sum(d)"
      ],
      "metadata": {
        "colab": {
          "base_uri": "https://localhost:8080/"
        },
        "id": "ohk4llOTojwK",
        "outputId": "55dbe470-bfe8-4cde-8180-0d81ec253f83"
      },
      "execution_count": null,
      "outputs": [
        {
          "output_type": "execute_result",
          "data": {
            "text/plain": [
              "-0.026000000000000002"
            ]
          },
          "metadata": {},
          "execution_count": 12
        }
      ]
    },
    {
      "cell_type": "code",
      "source": [
        "benchmark=bw1*br1\n",
        "sum(benchmark)"
      ],
      "metadata": {
        "colab": {
          "base_uri": "https://localhost:8080/"
        },
        "id": "OCi7SPikp42Y",
        "outputId": "7342524e-eef4-4cd6-f6ca-61015b8b88c2"
      },
      "execution_count": null,
      "outputs": [
        {
          "output_type": "execute_result",
          "data": {
            "text/plain": [
              "0.11399999999999999"
            ]
          },
          "metadata": {},
          "execution_count": 14
        }
      ]
    },
    {
      "cell_type": "code",
      "source": [
        "diff=sum(total_r)-sum(benchmark)\n",
        "diff"
      ],
      "metadata": {
        "colab": {
          "base_uri": "https://localhost:8080/"
        },
        "id": "y-lahBKQqBSa",
        "outputId": "d282c543-1013-4265-da40-3d704a0ffbbb"
      },
      "execution_count": null,
      "outputs": [
        {
          "output_type": "execute_result",
          "data": {
            "text/plain": [
              "0.01100000000000001"
            ]
          },
          "metadata": {},
          "execution_count": 16
        }
      ]
    }
  ]
}