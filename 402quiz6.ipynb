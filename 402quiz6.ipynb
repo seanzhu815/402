{
  "nbformat": 4,
  "nbformat_minor": 0,
  "metadata": {
    "colab": {
      "provenance": [],
      "collapsed_sections": [],
      "authorship_tag": "ABX9TyPvyl1KyNoh0d2VrYoYgvUM",
      "include_colab_link": true
    },
    "kernelspec": {
      "name": "python3",
      "display_name": "Python 3"
    },
    "language_info": {
      "name": "python"
    }
  },
  "cells": [
    {
      "cell_type": "markdown",
      "metadata": {
        "id": "view-in-github",
        "colab_type": "text"
      },
      "source": [
        "<a href=\"https://colab.research.google.com/github/seanzhu815/402/blob/main/402quiz6.ipynb\" target=\"_parent\"><img src=\"https://colab.research.google.com/assets/colab-badge.svg\" alt=\"Open In Colab\"/></a>"
      ]
    },
    {
      "cell_type": "code",
      "execution_count": 1,
      "metadata": {
        "id": "mVLQnmaaGzBb"
      },
      "outputs": [],
      "source": [
        "import pandas as pd\n",
        "import numpy as np\n",
        "from matplotlib import pyplot as plt "
      ]
    },
    {
      "cell_type": "markdown",
      "source": [
        "# (i) & (ii)"
      ],
      "metadata": {
        "id": "5bnZI_NoJia_"
      }
    },
    {
      "cell_type": "code",
      "source": [
        "time=[1,2,3,4]\n",
        "cf=[2,2,2,102]\n",
        "r=0.04\n"
      ],
      "metadata": {
        "id": "jDGpHvF2G8-u"
      },
      "execution_count": 79,
      "outputs": []
    },
    {
      "cell_type": "code",
      "source": [
        "d={'time':time,'cf':cf}\n",
        "df=pd.DataFrame(data=d)"
      ],
      "metadata": {
        "id": "EbW1WCVPIhqi"
      },
      "execution_count": 81,
      "outputs": []
    },
    {
      "cell_type": "code",
      "source": [
        "df[\"discount_factor\"] = (1+r)**(df.index+1)"
      ],
      "metadata": {
        "id": "dg84UBi0H9C6"
      },
      "execution_count": 82,
      "outputs": []
    },
    {
      "cell_type": "code",
      "source": [
        "bondvalue =  sum(df['cf']/df['discount_factor'])                              \n",
        "print(f'The value of the bond per 100$ face value is {bondvalue:.2f}')"
      ],
      "metadata": {
        "colab": {
          "base_uri": "https://localhost:8080/"
        },
        "id": "bClyLCjtIzpZ",
        "outputId": "7dc92150-df36-47a5-b80a-fa7d3aa4081e"
      },
      "execution_count": 83,
      "outputs": [
        {
          "output_type": "stream",
          "name": "stdout",
          "text": [
            "The value of the bond per 100$ face value is 92.74\n"
          ]
        }
      ]
    },
    {
      "cell_type": "markdown",
      "source": [
        "# (iii)\n"
      ],
      "metadata": {
        "id": "kc3JBrhYJnLz"
      }
    },
    {
      "cell_type": "code",
      "source": [
        "r1=0.05\n",
        "year1=5\n",
        "par_value1=100"
      ],
      "metadata": {
        "id": "UseeD4FdJ1Uj"
      },
      "execution_count": 84,
      "outputs": []
    },
    {
      "cell_type": "code",
      "source": [
        "p1=par_value1/(1+r1)**year1\n",
        "p1"
      ],
      "metadata": {
        "colab": {
          "base_uri": "https://localhost:8080/"
        },
        "id": "3SwZQuklJP7C",
        "outputId": "fff5d9f7-f7e6-49b4-e84c-d28e3d9df12e"
      },
      "execution_count": 85,
      "outputs": [
        {
          "output_type": "execute_result",
          "data": {
            "text/plain": [
              "78.35261664684589"
            ]
          },
          "metadata": {},
          "execution_count": 85
        }
      ]
    },
    {
      "cell_type": "markdown",
      "source": [
        "# (iv)"
      ],
      "metadata": {
        "id": "VUj-ICnWKDaM"
      }
    },
    {
      "cell_type": "code",
      "source": [
        "r2=0.04\n",
        "year2=4\n",
        "par_value2=100"
      ],
      "metadata": {
        "id": "w1zb5dxXJ_vo"
      },
      "execution_count": 86,
      "outputs": []
    },
    {
      "cell_type": "code",
      "source": [
        "p2=par_value2/(1+r2)**year2\n",
        "p2"
      ],
      "metadata": {
        "colab": {
          "base_uri": "https://localhost:8080/"
        },
        "id": "_OxPb9aoKQsr",
        "outputId": "e324b21f-797c-4627-d706-f3dd114aff30"
      },
      "execution_count": 87,
      "outputs": [
        {
          "output_type": "execute_result",
          "data": {
            "text/plain": [
              "85.48041910297258"
            ]
          },
          "metadata": {},
          "execution_count": 87
        }
      ]
    },
    {
      "cell_type": "markdown",
      "source": [
        "# (v)\n"
      ],
      "metadata": {
        "id": "yKIwaGEiKoW7"
      }
    },
    {
      "cell_type": "code",
      "source": [
        "return1=(p2-p1)/p1\n",
        "print(f'The return is about{return1*100:.4f}%')"
      ],
      "metadata": {
        "colab": {
          "base_uri": "https://localhost:8080/"
        },
        "id": "eSgMCGucLANg",
        "outputId": "56deb433-a67a-425d-b8af-9d2feb9564a2"
      },
      "execution_count": 88,
      "outputs": [
        {
          "output_type": "stream",
          "name": "stdout",
          "text": [
            "The return is about9.0971%\n"
          ]
        }
      ]
    },
    {
      "cell_type": "markdown",
      "source": [
        "# (vi)"
      ],
      "metadata": {
        "id": "3xl8gGPQLaCI"
      }
    },
    {
      "cell_type": "markdown",
      "source": [
        "puttable bond is a bond with an embedded put option, giving bondholders the right, but not the obligation, to demand early repayment of the principal from the issuer or a third party acting as an agent for the issuer.\n",
        "\n",
        "So bond A has lower risk and should be sold at a higher price than B\n"
      ],
      "metadata": {
        "id": "ZCv5TFM0N5AD"
      }
    },
    {
      "cell_type": "markdown",
      "source": [
        "#(vii)"
      ],
      "metadata": {
        "id": "rAg4ugf-OjBQ"
      }
    },
    {
      "cell_type": "code",
      "source": [
        "TIPS_parv=1000\n",
        "infla_year1=0.03\n",
        "infla_year2=0.04\n",
        "annual_rate=0.03"
      ],
      "metadata": {
        "id": "7H0hbBj_LWNc"
      },
      "execution_count": 89,
      "outputs": []
    },
    {
      "cell_type": "code",
      "source": [
        "coupon_year1=TIPS_parv*(1+infla_year1)*annual_rate\n",
        "coupon_year1"
      ],
      "metadata": {
        "colab": {
          "base_uri": "https://localhost:8080/"
        },
        "id": "hWfZ25n8OwgD",
        "outputId": "ae156753-b2c9-496c-e981-275115857696"
      },
      "execution_count": 90,
      "outputs": [
        {
          "output_type": "execute_result",
          "data": {
            "text/plain": [
              "30.9"
            ]
          },
          "metadata": {},
          "execution_count": 90
        }
      ]
    },
    {
      "cell_type": "code",
      "source": [
        "coupon_year2=TIPS_parv*(1+infla_year1)*(1+infla_year2)*annual_rate\n",
        "coupon_year2"
      ],
      "metadata": {
        "colab": {
          "base_uri": "https://localhost:8080/"
        },
        "id": "8NpzAV56PRe4",
        "outputId": "978015b5-fd46-4e3b-fa0d-cf79951f885b"
      },
      "execution_count": 91,
      "outputs": [
        {
          "output_type": "execute_result",
          "data": {
            "text/plain": [
              "32.136"
            ]
          },
          "metadata": {},
          "execution_count": 91
        }
      ]
    },
    {
      "cell_type": "code",
      "source": [
        "pricipal=TIPS_parv*(1+infla_year1)*(1+infla_year2)\n",
        "pricipal"
      ],
      "metadata": {
        "colab": {
          "base_uri": "https://localhost:8080/"
        },
        "id": "k2MMbKPYPnas",
        "outputId": "b6fe61c5-a015-40b4-c4c8-19d56edf9643"
      },
      "execution_count": 92,
      "outputs": [
        {
          "output_type": "execute_result",
          "data": {
            "text/plain": [
              "1071.2"
            ]
          },
          "metadata": {},
          "execution_count": 92
        }
      ]
    },
    {
      "cell_type": "markdown",
      "source": [
        "# Part2"
      ],
      "metadata": {
        "id": "dKJ1gCp-QB5T"
      }
    },
    {
      "cell_type": "code",
      "source": [
        "price_year1=98\n",
        "price_year2=95.5\n",
        "price_year3=92"
      ],
      "metadata": {
        "id": "cAiX6TVGQEme"
      },
      "execution_count": 96,
      "outputs": []
    },
    {
      "cell_type": "code",
      "source": [
        "y2_fr=(price_year1/price_year3)**(1/2)-1"
      ],
      "metadata": {
        "id": "sD3ePlFmYl3H"
      },
      "execution_count": 97,
      "outputs": []
    },
    {
      "cell_type": "code",
      "source": [
        "print(f'The 2year forward rate is {y2_fr*100:.3f}%')"
      ],
      "metadata": {
        "colab": {
          "base_uri": "https://localhost:8080/"
        },
        "id": "YitYNGdRYzVt",
        "outputId": "e7cafa20-ef9b-4c0a-c1e6-f17788830c0f"
      },
      "execution_count": 98,
      "outputs": [
        {
          "output_type": "stream",
          "name": "stdout",
          "text": [
            "The 2year forward rate is 3.209%\n"
          ]
        }
      ]
    },
    {
      "cell_type": "code",
      "source": [],
      "metadata": {
        "id": "8ZxxCMYwZLzV"
      },
      "execution_count": null,
      "outputs": []
    }
  ]
}