{
  "cells": [
    {
      "cell_type": "markdown",
      "metadata": {
        "id": "view-in-github",
        "colab_type": "text"
      },
      "source": [
        "<a href=\"https://colab.research.google.com/github/seanzhu815/402/blob/main/Assignment3_Code.ipynb\" target=\"_parent\"><img src=\"https://colab.research.google.com/assets/colab-badge.svg\" alt=\"Open In Colab\"/></a>"
      ]
    },
    {
      "cell_type": "markdown",
      "metadata": {
        "id": "RpCCuOKOotvL"
      },
      "source": [
        "# Assignment 3 Sample Code"
      ]
    },
    {
      "cell_type": "markdown",
      "metadata": {
        "id": "TUPWcrtiotvM"
      },
      "source": [
        "### Import Modules"
      ]
    },
    {
      "cell_type": "code",
      "execution_count": 270,
      "metadata": {
        "id": "DTm0uPYhotvM"
      },
      "outputs": [],
      "source": [
        "import pandas            as pd   \n",
        "import numpy             as np   \n",
        "import scipy             as scp  \n",
        "import matplotlib.pyplot as plt  \n",
        "import os                as os   \n",
        "from datetime import date as dd  # for dates\n",
        "from scipy import optimize\n",
        "from scipy import stats\n",
        "import statsmodels.api as sm\n"
      ]
    },
    {
      "cell_type": "markdown",
      "metadata": {
        "id": "fd55TkePotvN"
      },
      "source": [
        "# Part 1"
      ]
    },
    {
      "cell_type": "code",
      "source": [
        "from google.colab import drive\n",
        "drive.mount('/content/drive')"
      ],
      "metadata": {
        "colab": {
          "base_uri": "https://localhost:8080/"
        },
        "id": "uBwFb3Ttoxy_",
        "outputId": "ceb9b9da-b212-4b9d-8047-64e3a7bf17db"
      },
      "execution_count": 271,
      "outputs": [
        {
          "output_type": "stream",
          "name": "stdout",
          "text": [
            "Drive already mounted at /content/drive; to attempt to forcibly remount, call drive.mount(\"/content/drive\", force_remount=True).\n"
          ]
        }
      ]
    },
    {
      "cell_type": "code",
      "execution_count": 272,
      "metadata": {
        "id": "D08ITohgotvO"
      },
      "outputs": [],
      "source": [
        "merger_data = pd.ExcelFile('drive/MyDrive/Merger data.xlsx')\n",
        "sheet_names = merger_data.sheet_names\n",
        "firm_names = sheet_names[1:len(sheet_names)]\n",
        "car_all_firm = pd.DataFrame(data=range(-25,26),columns=['Event time']) #store abnormal return"
      ]
    },
    {
      "cell_type": "code",
      "execution_count": 273,
      "metadata": {
        "colab": {
          "base_uri": "https://localhost:8080/"
        },
        "id": "BZrtmN5gotvO",
        "outputId": "44ae7f1d-a415-411b-d09b-fbbf20915390"
      },
      "outputs": [
        {
          "output_type": "stream",
          "name": "stderr",
          "text": [
            "/usr/local/lib/python3.7/dist-packages/statsmodels/tsa/tsatools.py:142: FutureWarning: In a future version of pandas all arguments of concat except for the argument 'objs' will be keyword-only\n",
            "  x = pd.concat(x[::order], 1)\n",
            "/usr/local/lib/python3.7/dist-packages/statsmodels/tsa/tsatools.py:142: FutureWarning: In a future version of pandas all arguments of concat except for the argument 'objs' will be keyword-only\n",
            "  x = pd.concat(x[::order], 1)\n",
            "/usr/local/lib/python3.7/dist-packages/statsmodels/tsa/tsatools.py:142: FutureWarning: In a future version of pandas all arguments of concat except for the argument 'objs' will be keyword-only\n",
            "  x = pd.concat(x[::order], 1)\n",
            "/usr/local/lib/python3.7/dist-packages/statsmodels/tsa/tsatools.py:142: FutureWarning: In a future version of pandas all arguments of concat except for the argument 'objs' will be keyword-only\n",
            "  x = pd.concat(x[::order], 1)\n",
            "/usr/local/lib/python3.7/dist-packages/statsmodels/tsa/tsatools.py:142: FutureWarning: In a future version of pandas all arguments of concat except for the argument 'objs' will be keyword-only\n",
            "  x = pd.concat(x[::order], 1)\n",
            "/usr/local/lib/python3.7/dist-packages/statsmodels/tsa/tsatools.py:142: FutureWarning: In a future version of pandas all arguments of concat except for the argument 'objs' will be keyword-only\n",
            "  x = pd.concat(x[::order], 1)\n",
            "/usr/local/lib/python3.7/dist-packages/statsmodels/tsa/tsatools.py:142: FutureWarning: In a future version of pandas all arguments of concat except for the argument 'objs' will be keyword-only\n",
            "  x = pd.concat(x[::order], 1)\n",
            "/usr/local/lib/python3.7/dist-packages/statsmodels/tsa/tsatools.py:142: FutureWarning: In a future version of pandas all arguments of concat except for the argument 'objs' will be keyword-only\n",
            "  x = pd.concat(x[::order], 1)\n",
            "/usr/local/lib/python3.7/dist-packages/statsmodels/tsa/tsatools.py:142: FutureWarning: In a future version of pandas all arguments of concat except for the argument 'objs' will be keyword-only\n",
            "  x = pd.concat(x[::order], 1)\n",
            "/usr/local/lib/python3.7/dist-packages/statsmodels/tsa/tsatools.py:142: FutureWarning: In a future version of pandas all arguments of concat except for the argument 'objs' will be keyword-only\n",
            "  x = pd.concat(x[::order], 1)\n"
          ]
        }
      ],
      "source": [
        "#calculate car\n",
        "# %%\n",
        "for i in range(0,len(firm_names)):\n",
        "  firm_data_i = merger_data.parse(firm_names[i])\n",
        "  Event_time = firm_data_i.columns[3]\n",
        "  firm_data_i['r'] =  (firm_data_i['Price']-firm_data_i['Price'].shift(1))/firm_data_i['Price'].shift(1)\n",
        "  firm_data_i['rm'] = (firm_data_i['SP500']-firm_data_i['SP500'].shift(1))/firm_data_i['SP500'].shift(1)\n",
        "  pre_event_interval = (firm_data_i[Event_time]<=-26)&(firm_data_i[Event_time]>=-125)\n",
        "  pre_event_regression_data = firm_data_i.loc[pre_event_interval,['r','rm']] \n",
        "      # estimate alpha and beta\n",
        "  mod = sm.OLS(pre_event_regression_data['r'],sm.add_constant(pre_event_regression_data['rm']))                                                                # Fill the model for the regression\n",
        "  res = mod.fit()\n",
        "  res.summary()\n",
        "  alpha = res.params[0]\n",
        "  beta = res.params[1]\n",
        "    # abnormal return\n",
        "  firm_data_i['abnormal_r'] = firm_data_i['r'] - alpha - beta*firm_data_i['rm']   \n",
        "  event_window = (firm_data_i[Event_time]<=25)&(firm_data_i[Event_time]>=-25)\n",
        "  car_i = firm_data_i.loc[event_window,['abnormal_r']].cumsum()\n",
        "  car_all_firm[firm_names[i]] = car_i.values"
      ]
    },
    {
      "cell_type": "markdown",
      "metadata": {
        "id": "vPaQ19s6otvP"
      },
      "source": [
        "### Q 1.1:"
      ]
    },
    {
      "cell_type": "code",
      "execution_count": 274,
      "metadata": {
        "id": "A6iZI-2FotvQ",
        "outputId": "57380d4a-7c7a-4dae-f310-4d4db4e358ad",
        "colab": {
          "base_uri": "https://localhost:8080/",
          "height": 1000
        }
      },
      "outputs": [
        {
          "output_type": "display_data",
          "data": {
            "text/plain": [
              "<Figure size 720x1440 with 10 Axes>"
            ],
            "image/png": "[encoded data removed]"
          },
          "metadata": {
            "needs_background": "light"
          }
        }
      ],
      "source": [
        "#plot car\n",
        "fig, axs = plt.subplots(5, 2 ,figsize=(10,20))\n",
        "for i in range(0,len(firm_names)):\n",
        "    yind = i%2\n",
        "    xind = int((i-yind)/2)\n",
        "    axs[xind,yind].plot(car_all_firm['Event time'],car_all_firm[firm_names[i]])\n",
        "    axs[xind,yind].set_title(firm_names[i])\n",
        "\n",
        "plt.savefig('car_all_firm.png',bbox_inches='tight') #save image"
      ]
    },
    {
      "cell_type": "markdown",
      "metadata": {
        "id": "gfHQxlKvotvQ"
      },
      "source": [
        "### Q 1.2:"
      ]
    },
    {
      "cell_type": "code",
      "execution_count": 275,
      "metadata": {
        "id": "CoBhsZnGotvQ",
        "outputId": "e255cb8f-377d-4de5-ba26-424728d61bf6",
        "colab": {
          "base_uri": "https://localhost:8080/",
          "height": 283
        }
      },
      "outputs": [
        {
          "output_type": "display_data",
          "data": {
            "text/plain": [
              "<Figure size 432x288 with 1 Axes>"
            ],
            "image/png": "[encoded data removed]"
          },
          "metadata": {
            "needs_background": "light"
          }
        },
        {
          "output_type": "display_data",
          "data": {
            "text/plain": [
              "<Figure size 432x288 with 0 Axes>"
            ]
          },
          "metadata": {}
        }
      ],
      "source": [
        "#plot average car\n",
        "car_all_firm['average_car'] = (np.sum(car_all_firm,axis=1)- car_all_firm['Event time'])/10                                          # calculate the average CAR\n",
        "plt.plot(car_all_firm['Event time'], car_all_firm['average_car'] , linewidth = .8)\n",
        "plt.show()\n",
        "plt.savefig('car_average_firm.png',bbox_inches='tight') #save image"
      ]
    },
    {
      "cell_type": "markdown",
      "metadata": {
        "id": "jdE0LTGtotvR"
      },
      "source": [
        "# Part 2"
      ]
    },
    {
      "cell_type": "code",
      "execution_count": 276,
      "metadata": {
        "id": "KFj_GEgwotvR",
        "colab": {
          "base_uri": "https://localhost:8080/",
          "height": 424
        },
        "outputId": "e5a70235-2e90-41b9-d50d-1709088e8182"
      },
      "outputs": [
        {
          "output_type": "execute_result",
          "data": {
            "text/plain": [
              "       date  Mkt-RF    RF  SMALL LoBM  SMALL HiBM  BIG LoBM  BIG HiBM  \\\n",
              "0    198907    0.60  0.70      -17.69       14.94     -1.51     -3.09   \n",
              "1    198908    1.63  0.74       14.74        4.39      2.68      5.56   \n",
              "2    198909   14.41  0.65       27.55       10.02     17.43     19.57   \n",
              "3    198910   -2.18  0.68        1.96       -5.02     -1.18     -2.92   \n",
              "4    198911    0.72  0.69       -3.80        4.71      0.76     -3.31   \n",
              "..      ...     ...   ...         ...         ...       ...       ...   \n",
              "392  202203   -1.57  0.00       -2.19        0.18     -3.54     -0.10   \n",
              "393  202204   -5.26  0.00       -7.12       -2.39     -6.20     -3.95   \n",
              "394  202205    0.26  0.03       -0.79       -1.84      1.12      0.47   \n",
              "395  202206   -6.77  0.06       -7.64       -5.62     -4.85     -8.87   \n",
              "396  202207    0.23  0.08        0.49        1.84     -0.47      1.14   \n",
              "\n",
              "     Unnamed: 7   SMB    HML  \n",
              "0           NaN -0.39  15.53  \n",
              "1           NaN  8.78  -3.73  \n",
              "2           NaN  3.32  -7.70  \n",
              "3           NaN -0.49  -4.36  \n",
              "4           NaN  0.43   2.22  \n",
              "..          ...   ...    ...  \n",
              "392         NaN  0.45   2.90  \n",
              "393         NaN  0.55   3.49  \n",
              "394         NaN -1.54  -0.85  \n",
              "395         NaN  0.13  -1.00  \n",
              "396         NaN  0.78   1.48  \n",
              "\n",
              "[397 rows x 10 columns]"
            ],
            "text/html": [
              "\n",
              "  <div id=\"df-b4c2a4e9-9939-4ecc-ac2c-ea777fcbbd9e\">\n",
              "    <div class=\"colab-df-container\">\n",
              "      <div>\n",
              "<style scoped>\n",
              "    .dataframe tbody tr th:only-of-type {\n",
              "        vertical-align: middle;\n",
              "    }\n",
              "\n",
              "    .dataframe tbody tr th {\n",
              "        vertical-align: top;\n",
              "    }\n",
              "\n",
              "    .dataframe thead th {\n",
              "        text-align: right;\n",
              "    }\n",
              "</style>\n",
              "<table border=\"1\" class=\"dataframe\">\n",
              "  <thead>\n",
              "    <tr style=\"text-align: right;\">\n",
              "      <th></th>\n",
              "      <th>date</th>\n",
              "      <th>Mkt-RF</th>\n",
              "      <th>RF</th>\n",
              "      <th>SMALL LoBM</th>\n",
              "      <th>SMALL HiBM</th>\n",
              "      <th>BIG LoBM</th>\n",
              "      <th>BIG HiBM</th>\n",
              "      <th>Unnamed: 7</th>\n",
              "      <th>SMB</th>\n",
              "      <th>HML</th>\n",
              "    </tr>\n",
              "  </thead>\n",
              "  <tbody>\n",
              "    <tr>\n",
              "      <th>0</th>\n",
              "      <td>198907</td>\n",
              "      <td>0.60</td>\n",
              "      <td>0.70</td>\n",
              "      <td>-17.69</td>\n",
              "      <td>14.94</td>\n",
              "      <td>-1.51</td>\n",
              "      <td>-3.09</td>\n",
              "      <td>NaN</td>\n",
              "      <td>-0.39</td>\n",
              "      <td>15.53</td>\n",
              "    </tr>\n",
              "    <tr>\n",
              "      <th>1</th>\n",
              "      <td>198908</td>\n",
              "      <td>1.63</td>\n",
              "      <td>0.74</td>\n",
              "      <td>14.74</td>\n",
              "      <td>4.39</td>\n",
              "      <td>2.68</td>\n",
              "      <td>5.56</td>\n",
              "      <td>NaN</td>\n",
              "      <td>8.78</td>\n",
              "      <td>-3.73</td>\n",
              "    </tr>\n",
              "    <tr>\n",
              "      <th>2</th>\n",
              "      <td>198909</td>\n",
              "      <td>14.41</td>\n",
              "      <td>0.65</td>\n",
              "      <td>27.55</td>\n",
              "      <td>10.02</td>\n",
              "      <td>17.43</td>\n",
              "      <td>19.57</td>\n",
              "      <td>NaN</td>\n",
              "      <td>3.32</td>\n",
              "      <td>-7.70</td>\n",
              "    </tr>\n",
              "    <tr>\n",
              "      <th>3</th>\n",
              "      <td>198910</td>\n",
              "      <td>-2.18</td>\n",
              "      <td>0.68</td>\n",
              "      <td>1.96</td>\n",
              "      <td>-5.02</td>\n",
              "      <td>-1.18</td>\n",
              "      <td>-2.92</td>\n",
              "      <td>NaN</td>\n",
              "      <td>-0.49</td>\n",
              "      <td>-4.36</td>\n",
              "    </tr>\n",
              "    <tr>\n",
              "      <th>4</th>\n",
              "      <td>198911</td>\n",
              "      <td>0.72</td>\n",
              "      <td>0.69</td>\n",
              "      <td>-3.80</td>\n",
              "      <td>4.71</td>\n",
              "      <td>0.76</td>\n",
              "      <td>-3.31</td>\n",
              "      <td>NaN</td>\n",
              "      <td>0.43</td>\n",
              "      <td>2.22</td>\n",
              "    </tr>\n",
              "    <tr>\n",
              "      <th>...</th>\n",
              "      <td>...</td>\n",
              "      <td>...</td>\n",
              "      <td>...</td>\n",
              "      <td>...</td>\n",
              "      <td>...</td>\n",
              "      <td>...</td>\n",
              "      <td>...</td>\n",
              "      <td>...</td>\n",
              "      <td>...</td>\n",
              "      <td>...</td>\n",
              "    </tr>\n",
              "    <tr>\n",
              "      <th>392</th>\n",
              "      <td>202203</td>\n",
              "      <td>-1.57</td>\n",
              "      <td>0.00</td>\n",
              "      <td>-2.19</td>\n",
              "      <td>0.18</td>\n",
              "      <td>-3.54</td>\n",
              "      <td>-0.10</td>\n",
              "      <td>NaN</td>\n",
              "      <td>0.45</td>\n",
              "      <td>2.90</td>\n",
              "    </tr>\n",
              "    <tr>\n",
              "      <th>393</th>\n",
              "      <td>202204</td>\n",
              "      <td>-5.26</td>\n",
              "      <td>0.00</td>\n",
              "      <td>-7.12</td>\n",
              "      <td>-2.39</td>\n",
              "      <td>-6.20</td>\n",
              "      <td>-3.95</td>\n",
              "      <td>NaN</td>\n",
              "      <td>0.55</td>\n",
              "      <td>3.49</td>\n",
              "    </tr>\n",
              "    <tr>\n",
              "      <th>394</th>\n",
              "      <td>202205</td>\n",
              "      <td>0.26</td>\n",
              "      <td>0.03</td>\n",
              "      <td>-0.79</td>\n",
              "      <td>-1.84</td>\n",
              "      <td>1.12</td>\n",
              "      <td>0.47</td>\n",
              "      <td>NaN</td>\n",
              "      <td>-1.54</td>\n",
              "      <td>-0.85</td>\n",
              "    </tr>\n",
              "    <tr>\n",
              "      <th>395</th>\n",
              "      <td>202206</td>\n",
              "      <td>-6.77</td>\n",
              "      <td>0.06</td>\n",
              "      <td>-7.64</td>\n",
              "      <td>-5.62</td>\n",
              "      <td>-4.85</td>\n",
              "      <td>-8.87</td>\n",
              "      <td>NaN</td>\n",
              "      <td>0.13</td>\n",
              "      <td>-1.00</td>\n",
              "    </tr>\n",
              "    <tr>\n",
              "      <th>396</th>\n",
              "      <td>202207</td>\n",
              "      <td>0.23</td>\n",
              "      <td>0.08</td>\n",
              "      <td>0.49</td>\n",
              "      <td>1.84</td>\n",
              "      <td>-0.47</td>\n",
              "      <td>1.14</td>\n",
              "      <td>NaN</td>\n",
              "      <td>0.78</td>\n",
              "      <td>1.48</td>\n",
              "    </tr>\n",
              "  </tbody>\n",
              "</table>\n",
              "<p>397 rows × 10 columns</p>\n",
              "</div>\n",
              "      <button class=\"colab-df-convert\" onclick=\"convertToInteractive('df-b4c2a4e9-9939-4ecc-ac2c-ea777fcbbd9e')\"\n",
              "              title=\"Convert this dataframe to an interactive table.\"\n",
              "              style=\"display:none;\">\n",
              "        \n",
              "  <svg xmlns=\"http://www.w3.org/2000/svg\" height=\"24px\"viewBox=\"0 0 24 24\"\n",
              "       width=\"24px\">\n",
              "    <path d=\"M0 0h24v24H0V0z\" fill=\"none\"/>\n",
              "    <path d=\"M18.56 5.44l.94 2.06.94-2.06 2.06-.94-2.06-.94-.94-2.06-.94 2.06-2.06.94zm-11 1L8.5 8.5l.94-2.06 2.06-.94-2.06-.94L8.5 2.5l-.94 2.06-2.06.94zm10 10l.94 2.06.94-2.06 2.06-.94-2.06-.94-.94-2.06-.94 2.06-2.06.94z\"/><path d=\"M17.41 7.96l-1.37-1.37c-.4-.4-.92-.59-1.43-.59-.52 0-1.04.2-1.43.59L10.3 9.45l-7.72 7.72c-.78.78-.78 2.05 0 2.83L4 21.41c.39.39.9.59 1.41.59.51 0 1.02-.2 1.41-.59l7.78-7.78 2.81-2.81c.8-.78.8-2.07 0-2.86zM5.41 20L4 18.59l7.72-7.72 1.47 1.35L5.41 20z\"/>\n",
              "  </svg>\n",
              "      </button>\n",
              "      \n",
              "  <style>\n",
              "    .colab-df-container {\n",
              "      display:flex;\n",
              "      flex-wrap:wrap;\n",
              "      gap: 12px;\n",
              "    }\n",
              "\n",
              "    .colab-df-convert {\n",
              "      background-color: #E8F0FE;\n",
              "      border: none;\n",
              "      border-radius: 50%;\n",
              "      cursor: pointer;\n",
              "      display: none;\n",
              "      fill: #1967D2;\n",
              "      height: 32px;\n",
              "      padding: 0 0 0 0;\n",
              "      width: 32px;\n",
              "    }\n",
              "\n",
              "    .colab-df-convert:hover {\n",
              "      background-color: #E2EBFA;\n",
              "      box-shadow: 0px 1px 2px rgba(60, 64, 67, 0.3), 0px 1px 3px 1px rgba(60, 64, 67, 0.15);\n",
              "      fill: #174EA6;\n",
              "    }\n",
              "\n",
              "    [theme=dark] .colab-df-convert {\n",
              "      background-color: #3B4455;\n",
              "      fill: #D2E3FC;\n",
              "    }\n",
              "\n",
              "    [theme=dark] .colab-df-convert:hover {\n",
              "      background-color: #434B5C;\n",
              "      box-shadow: 0px 1px 3px 1px rgba(0, 0, 0, 0.15);\n",
              "      filter: drop-shadow(0px 1px 2px rgba(0, 0, 0, 0.3));\n",
              "      fill: #FFFFFF;\n",
              "    }\n",
              "  </style>\n",
              "\n",
              "      <script>\n",
              "        const buttonEl =\n",
              "          document.querySelector('#df-b4c2a4e9-9939-4ecc-ac2c-ea777fcbbd9e button.colab-df-convert');\n",
              "        buttonEl.style.display =\n",
              "          google.colab.kernel.accessAllowed ? 'block' : 'none';\n",
              "\n",
              "        async function convertToInteractive(key) {\n",
              "          const element = document.querySelector('#df-b4c2a4e9-9939-4ecc-ac2c-ea777fcbbd9e');\n",
              "          const dataTable =\n",
              "            await google.colab.kernel.invokeFunction('convertToInteractive',\n",
              "                                                     [key], {});\n",
              "          if (!dataTable) return;\n",
              "\n",
              "          const docLinkHtml = 'Like what you see? Visit the ' +\n",
              "            '<a target=\"_blank\" href=https://colab.research.google.com/notebooks/data_table.ipynb>data table notebook</a>'\n",
              "            + ' to learn more about interactive tables.';\n",
              "          element.innerHTML = '';\n",
              "          dataTable['output_type'] = 'display_data';\n",
              "          await google.colab.output.renderOutput(dataTable, element);\n",
              "          const docLink = document.createElement('div');\n",
              "          docLink.innerHTML = docLinkHtml;\n",
              "          element.appendChild(docLink);\n",
              "        }\n",
              "      </script>\n",
              "    </div>\n",
              "  </div>\n",
              "  "
            ]
          },
          "metadata": {},
          "execution_count": 276
        }
      ],
      "source": [
        "em_data = pd.read_excel('drive/MyDrive/Emerging markets.xlsx')                       \n",
        "em_data.columns.values[0] = \"date\"\n",
        "em_data"
      ]
    },
    {
      "cell_type": "markdown",
      "metadata": {
        "id": "36EoNZxVotvS"
      },
      "source": [
        "### Q 2.1:"
      ]
    },
    {
      "cell_type": "code",
      "execution_count": 277,
      "metadata": {
        "id": "tkPANukmotvS",
        "outputId": "7b2aff3d-5c80-4e13-ae7f-287630717ea1",
        "colab": {
          "base_uri": "https://localhost:8080/"
        }
      },
      "outputs": [
        {
          "output_type": "stream",
          "name": "stdout",
          "text": [
            "Annualized average return for small value stocks is 17.1 percent\n",
            "Annualized average return for large growth stocks is 8.346 percent\n"
          ]
        }
      ],
      "source": [
        "small_Hibm_mean = 12*em_data.loc[:,'SMALL HiBM'].mean()                                  # Fill the appropriate columns\n",
        "big_Lobm_mean = 12*em_data.loc[:,'BIG LoBM'].mean()                                    # Fill the appropriate columns\n",
        "print(f'Annualized average return for small value stocks is {small_Hibm_mean:.3} percent' )\n",
        "print(f'Annualized average return for large growth stocks is {big_Lobm_mean:.4} percent' )"
      ]
    },
    {
      "cell_type": "code",
      "source": [
        "premium_bm = small_Hibm_mean- big_Lobm_mean                       # Caluclate the differnce between the 2 returns\n",
        "print(f'Annualized average return for the premium is {premium_bm:.4} percent' )\n",
        "T = em_data.shape[0]\n",
        "excess_bm = em_data['SMALL HiBM']- em_data['BIG LoBM']                  #time series of excess returns\n",
        "tstats_bm = scp.stats.ttest_ind(excess_bm, np.zeros(T))\n",
        "tstats_bm"
      ],
      "metadata": {
        "colab": {
          "base_uri": "https://localhost:8080/"
        },
        "id": "c17RYOKdjfzw",
        "outputId": "569cf47e-ed57-4d10-96af-ce6b1dbbe234"
      },
      "execution_count": 283,
      "outputs": [
        {
          "output_type": "stream",
          "name": "stdout",
          "text": [
            "Annualized average return for the premium is 8.726 percent\n"
          ]
        },
        {
          "output_type": "execute_result",
          "data": {
            "text/plain": [
              "Ttest_indResult(statistic=4.023363887718462, pvalue=6.287064802876803e-05)"
            ]
          },
          "metadata": {},
          "execution_count": 283
        }
      ]
    },
    {
      "cell_type": "markdown",
      "metadata": {
        "id": "EOwNsoTLotvS"
      },
      "source": [
        "### Q 2.2: Do this yourself"
      ]
    },
    {
      "cell_type": "code",
      "source": [
        "\n",
        "big_Hibm_mean = 12*em_data.loc[:,'BIG HiBM'].mean()                                    # Fill the appropriate columns\n",
        "\n",
        "print(f'Annualized average return for large growth stocks is {big_Hibm_mean:.4} percent' )"
      ],
      "metadata": {
        "colab": {
          "base_uri": "https://localhost:8080/"
        },
        "id": "49JqNujHA84m",
        "outputId": "613230d9-48f5-4274-c498-1a2462ada716"
      },
      "execution_count": 279,
      "outputs": [
        {
          "output_type": "stream",
          "name": "stdout",
          "text": [
            "Annualized average return for large growth stocks is 12.55 percent\n"
          ]
        }
      ]
    },
    {
      "cell_type": "code",
      "source": [
        "premium_bm1 =big_Hibm_mean- big_Lobm_mean                       # Caluclate the differnce between the 2 returns\n",
        "print(f'Annualized average return for the premium is {premium_bm1:.4} percent' )\n",
        "\n",
        "excess_bm1 = em_data['SMALL HiBM']- em_data['BIG HiBM']                  #time series of excess returns\n",
        "tstats_bm1 = scp.stats.ttest_ind(excess_bm1,np.zeros(T))\n",
        "tstats_bm1"
      ],
      "metadata": {
        "colab": {
          "base_uri": "https://localhost:8080/"
        },
        "id": "6lDiq-lWBMWA",
        "outputId": "d88235ce-df2c-4bed-dac4-6fa94c31e9a2"
      },
      "execution_count": 281,
      "outputs": [
        {
          "output_type": "stream",
          "name": "stdout",
          "text": [
            "Annualized average return for the premium is 4.199 percent\n"
          ]
        },
        {
          "output_type": "execute_result",
          "data": {
            "text/plain": [
              "Ttest_indResult(statistic=2.200349998038696, pvalue=0.028070096019784434)"
            ]
          },
          "metadata": {},
          "execution_count": 281
        }
      ]
    },
    {
      "cell_type": "markdown",
      "metadata": {
        "id": "SE-N7V6lotvS"
      },
      "source": [
        "### Q 2.3:"
      ]
    },
    {
      "cell_type": "code",
      "execution_count": 284,
      "metadata": {
        "id": "V1BD2C_RotvT",
        "outputId": "8a034c59-e705-49f6-f5bf-6d61931f8897",
        "colab": {
          "base_uri": "https://localhost:8080/",
          "height": 507
        }
      },
      "outputs": [
        {
          "output_type": "stream",
          "name": "stderr",
          "text": [
            "/usr/local/lib/python3.7/dist-packages/statsmodels/tsa/tsatools.py:142: FutureWarning: In a future version of pandas all arguments of concat except for the argument 'objs' will be keyword-only\n",
            "  x = pd.concat(x[::order], 1)\n"
          ]
        },
        {
          "output_type": "execute_result",
          "data": {
            "text/plain": [
              "<class 'statsmodels.iolib.summary.Summary'>\n",
              "\"\"\"\n",
              "                            OLS Regression Results                            \n",
              "==============================================================================\n",
              "Dep. Variable:                      y   R-squared:                       0.804\n",
              "Model:                            OLS   Adj. R-squared:                  0.804\n",
              "Method:                 Least Squares   F-statistic:                     1623.\n",
              "Date:                Wed, 19 Oct 2022   Prob (F-statistic):          5.63e-142\n",
              "Time:                        07:15:13   Log-Likelihood:                -968.30\n",
              "No. Observations:                 397   AIC:                             1941.\n",
              "Df Residuals:                     395   BIC:                             1949.\n",
              "Df Model:                           1                                         \n",
              "Covariance Type:            nonrobust                                         \n",
              "==============================================================================\n",
              "                 coef    std err          t      P>|t|      [0.025      0.975]\n",
              "------------------------------------------------------------------------------\n",
              "const          0.6066      0.140      4.322      0.000       0.331       0.882\n",
              "Mkt-RF         0.9357      0.023     40.288      0.000       0.890       0.981\n",
              "==============================================================================\n",
              "Omnibus:                      102.422   Durbin-Watson:                   1.775\n",
              "Prob(Omnibus):                  0.000   Jarque-Bera (JB):              511.680\n",
              "Skew:                           1.003   Prob(JB):                    7.76e-112\n",
              "Kurtosis:                       8.188   Cond. No.                         6.08\n",
              "==============================================================================\n",
              "\n",
              "Notes:\n",
              "[1] Standard Errors assume that the covariance matrix of the errors is correctly specified.\n",
              "\"\"\""
            ],
            "text/html": [
              "<table class=\"simpletable\">\n",
              "<caption>OLS Regression Results</caption>\n",
              "<tr>\n",
              "  <th>Dep. Variable:</th>            <td>y</td>        <th>  R-squared:         </th> <td>   0.804</td> \n",
              "</tr>\n",
              "<tr>\n",
              "  <th>Model:</th>                   <td>OLS</td>       <th>  Adj. R-squared:    </th> <td>   0.804</td> \n",
              "</tr>\n",
              "<tr>\n",
              "  <th>Method:</th>             <td>Least Squares</td>  <th>  F-statistic:       </th> <td>   1623.</td> \n",
              "</tr>\n",
              "<tr>\n",
              "  <th>Date:</th>             <td>Wed, 19 Oct 2022</td> <th>  Prob (F-statistic):</th> <td>5.63e-142</td>\n",
              "</tr>\n",
              "<tr>\n",
              "  <th>Time:</th>                 <td>07:15:13</td>     <th>  Log-Likelihood:    </th> <td> -968.30</td> \n",
              "</tr>\n",
              "<tr>\n",
              "  <th>No. Observations:</th>      <td>   397</td>      <th>  AIC:               </th> <td>   1941.</td> \n",
              "</tr>\n",
              "<tr>\n",
              "  <th>Df Residuals:</th>          <td>   395</td>      <th>  BIC:               </th> <td>   1949.</td> \n",
              "</tr>\n",
              "<tr>\n",
              "  <th>Df Model:</th>              <td>     1</td>      <th>                     </th>     <td> </td>    \n",
              "</tr>\n",
              "<tr>\n",
              "  <th>Covariance Type:</th>      <td>nonrobust</td>    <th>                     </th>     <td> </td>    \n",
              "</tr>\n",
              "</table>\n",
              "<table class=\"simpletable\">\n",
              "<tr>\n",
              "     <td></td>       <th>coef</th>     <th>std err</th>      <th>t</th>      <th>P>|t|</th>  <th>[0.025</th>    <th>0.975]</th>  \n",
              "</tr>\n",
              "<tr>\n",
              "  <th>const</th>  <td>    0.6066</td> <td>    0.140</td> <td>    4.322</td> <td> 0.000</td> <td>    0.331</td> <td>    0.882</td>\n",
              "</tr>\n",
              "<tr>\n",
              "  <th>Mkt-RF</th> <td>    0.9357</td> <td>    0.023</td> <td>   40.288</td> <td> 0.000</td> <td>    0.890</td> <td>    0.981</td>\n",
              "</tr>\n",
              "</table>\n",
              "<table class=\"simpletable\">\n",
              "<tr>\n",
              "  <th>Omnibus:</th>       <td>102.422</td> <th>  Durbin-Watson:     </th> <td>   1.775</td> \n",
              "</tr>\n",
              "<tr>\n",
              "  <th>Prob(Omnibus):</th> <td> 0.000</td>  <th>  Jarque-Bera (JB):  </th> <td> 511.680</td> \n",
              "</tr>\n",
              "<tr>\n",
              "  <th>Skew:</th>          <td> 1.003</td>  <th>  Prob(JB):          </th> <td>7.76e-112</td>\n",
              "</tr>\n",
              "<tr>\n",
              "  <th>Kurtosis:</th>      <td> 8.188</td>  <th>  Cond. No.          </th> <td>    6.08</td> \n",
              "</tr>\n",
              "</table><br/><br/>Notes:<br/>[1] Standard Errors assume that the covariance matrix of the errors is correctly specified."
            ]
          },
          "metadata": {},
          "execution_count": 284
        }
      ],
      "source": [
        "mod = sm.OLS(em_data['SMALL HiBM']-em_data['RF'],sm.add_constant(em_data['Mkt-RF']))\n",
        "res = mod.fit()\n",
        "res.summary()"
      ]
    },
    {
      "cell_type": "code",
      "source": [
        "talpha =  res.tvalues[0]                      # Calculate the tstat of the intercept\n",
        "beta =    res.params[1]                         # Calcuate the market beta\n",
        "tbeta =   res.tvalues[1]                         # Calculate the tstat of the market beta\n",
        "print(f'The tstat for the alpha is {talpha:.4}' )\n",
        "print(f'The value of beta is {beta:.4}' )\n",
        "print(f'The tstat for the beta is {tbeta:.4}' )"
      ],
      "metadata": {
        "colab": {
          "base_uri": "https://localhost:8080/"
        },
        "id": "ksS2RD4pGHjx",
        "outputId": "b85c4b59-1cc8-436b-b6e9-bad8559004d2"
      },
      "execution_count": 286,
      "outputs": [
        {
          "output_type": "stream",
          "name": "stdout",
          "text": [
            "The tstat for the alpha is 4.322\n",
            "The value of beta is 0.9357\n",
            "The tstat for the beta is 40.29\n"
          ]
        }
      ]
    },
    {
      "cell_type": "markdown",
      "metadata": {
        "id": "nB7K7XPwotvT"
      },
      "source": [
        "Repeat the same for BIG LoBM"
      ]
    },
    {
      "cell_type": "code",
      "source": [
        "mod = sm.OLS(em_data['BIG LoBM']-em_data['RF'],sm.add_constant(em_data['Mkt-RF']))\n",
        "res = mod.fit()\n",
        "res.summary()"
      ],
      "metadata": {
        "colab": {
          "base_uri": "https://localhost:8080/",
          "height": 507
        },
        "id": "QjHMipkJG-uo",
        "outputId": "3e0a798f-25f0-4320-9d32-2a6453b8533e"
      },
      "execution_count": 287,
      "outputs": [
        {
          "output_type": "stream",
          "name": "stderr",
          "text": [
            "/usr/local/lib/python3.7/dist-packages/statsmodels/tsa/tsatools.py:142: FutureWarning: In a future version of pandas all arguments of concat except for the argument 'objs' will be keyword-only\n",
            "  x = pd.concat(x[::order], 1)\n"
          ]
        },
        {
          "output_type": "execute_result",
          "data": {
            "text/plain": [
              "<class 'statsmodels.iolib.summary.Summary'>\n",
              "\"\"\"\n",
              "                            OLS Regression Results                            \n",
              "==============================================================================\n",
              "Dep. Variable:                      y   R-squared:                       0.933\n",
              "Model:                            OLS   Adj. R-squared:                  0.933\n",
              "Method:                 Least Squares   F-statistic:                     5509.\n",
              "Date:                Wed, 19 Oct 2022   Prob (F-statistic):          4.35e-234\n",
              "Time:                        07:19:43   Log-Likelihood:                -732.62\n",
              "No. Observations:                 397   AIC:                             1469.\n",
              "Df Residuals:                     395   BIC:                             1477.\n",
              "Df Model:                           1                                         \n",
              "Covariance Type:            nonrobust                                         \n",
              "==============================================================================\n",
              "                 coef    std err          t      P>|t|      [0.025      0.975]\n",
              "------------------------------------------------------------------------------\n",
              "const         -0.1312      0.078     -1.692      0.091      -0.284       0.021\n",
              "Mkt-RF         0.9522      0.013     74.226      0.000       0.927       0.977\n",
              "==============================================================================\n",
              "Omnibus:                       20.966   Durbin-Watson:                   1.869\n",
              "Prob(Omnibus):                  0.000   Jarque-Bera (JB):               60.534\n",
              "Skew:                          -0.054   Prob(JB):                     7.16e-14\n",
              "Kurtosis:                       4.910   Cond. No.                         6.08\n",
              "==============================================================================\n",
              "\n",
              "Notes:\n",
              "[1] Standard Errors assume that the covariance matrix of the errors is correctly specified.\n",
              "\"\"\""
            ],
            "text/html": [
              "<table class=\"simpletable\">\n",
              "<caption>OLS Regression Results</caption>\n",
              "<tr>\n",
              "  <th>Dep. Variable:</th>            <td>y</td>        <th>  R-squared:         </th> <td>   0.933</td> \n",
              "</tr>\n",
              "<tr>\n",
              "  <th>Model:</th>                   <td>OLS</td>       <th>  Adj. R-squared:    </th> <td>   0.933</td> \n",
              "</tr>\n",
              "<tr>\n",
              "  <th>Method:</th>             <td>Least Squares</td>  <th>  F-statistic:       </th> <td>   5509.</td> \n",
              "</tr>\n",
              "<tr>\n",
              "  <th>Date:</th>             <td>Wed, 19 Oct 2022</td> <th>  Prob (F-statistic):</th> <td>4.35e-234</td>\n",
              "</tr>\n",
              "<tr>\n",
              "  <th>Time:</th>                 <td>07:19:43</td>     <th>  Log-Likelihood:    </th> <td> -732.62</td> \n",
              "</tr>\n",
              "<tr>\n",
              "  <th>No. Observations:</th>      <td>   397</td>      <th>  AIC:               </th> <td>   1469.</td> \n",
              "</tr>\n",
              "<tr>\n",
              "  <th>Df Residuals:</th>          <td>   395</td>      <th>  BIC:               </th> <td>   1477.</td> \n",
              "</tr>\n",
              "<tr>\n",
              "  <th>Df Model:</th>              <td>     1</td>      <th>                     </th>     <td> </td>    \n",
              "</tr>\n",
              "<tr>\n",
              "  <th>Covariance Type:</th>      <td>nonrobust</td>    <th>                     </th>     <td> </td>    \n",
              "</tr>\n",
              "</table>\n",
              "<table class=\"simpletable\">\n",
              "<tr>\n",
              "     <td></td>       <th>coef</th>     <th>std err</th>      <th>t</th>      <th>P>|t|</th>  <th>[0.025</th>    <th>0.975]</th>  \n",
              "</tr>\n",
              "<tr>\n",
              "  <th>const</th>  <td>   -0.1312</td> <td>    0.078</td> <td>   -1.692</td> <td> 0.091</td> <td>   -0.284</td> <td>    0.021</td>\n",
              "</tr>\n",
              "<tr>\n",
              "  <th>Mkt-RF</th> <td>    0.9522</td> <td>    0.013</td> <td>   74.226</td> <td> 0.000</td> <td>    0.927</td> <td>    0.977</td>\n",
              "</tr>\n",
              "</table>\n",
              "<table class=\"simpletable\">\n",
              "<tr>\n",
              "  <th>Omnibus:</th>       <td>20.966</td> <th>  Durbin-Watson:     </th> <td>   1.869</td>\n",
              "</tr>\n",
              "<tr>\n",
              "  <th>Prob(Omnibus):</th> <td> 0.000</td> <th>  Jarque-Bera (JB):  </th> <td>  60.534</td>\n",
              "</tr>\n",
              "<tr>\n",
              "  <th>Skew:</th>          <td>-0.054</td> <th>  Prob(JB):          </th> <td>7.16e-14</td>\n",
              "</tr>\n",
              "<tr>\n",
              "  <th>Kurtosis:</th>      <td> 4.910</td> <th>  Cond. No.          </th> <td>    6.08</td>\n",
              "</tr>\n",
              "</table><br/><br/>Notes:<br/>[1] Standard Errors assume that the covariance matrix of the errors is correctly specified."
            ]
          },
          "metadata": {},
          "execution_count": 287
        }
      ]
    },
    {
      "cell_type": "code",
      "source": [
        "talpha =  res.tvalues[0]                      # Calculate the tstat of the intercept\n",
        "beta =    res.params[1]                         # Calcuate the market beta\n",
        "tbeta =   res.tvalues[1]                         # Calculate the tstat of the market beta\n",
        "print(f'The tstat for the alpha is {talpha:.4}' )\n",
        "print(f'The value of beta is {beta:.4}' )\n",
        "print(f'The tstat for the beta is {tbeta:.4}' )"
      ],
      "metadata": {
        "colab": {
          "base_uri": "https://localhost:8080/"
        },
        "id": "yTO1xDphHOXH",
        "outputId": "493e5269-bcd0-4c2d-f5d1-d60251637655"
      },
      "execution_count": 288,
      "outputs": [
        {
          "output_type": "stream",
          "name": "stdout",
          "text": [
            "The tstat for the alpha is -1.692\n",
            "The value of beta is 0.9522\n",
            "The tstat for the beta is 74.23\n"
          ]
        }
      ]
    },
    {
      "cell_type": "markdown",
      "metadata": {
        "id": "g9sjpHIrotvT"
      },
      "source": [
        "### Q 2.4: Do this yourself"
      ]
    },
    {
      "cell_type": "code",
      "source": [
        "factors=em_data[['Mkt-RF','SMB','HML']]\n",
        "mod = sm.OLS(em_data['SMALL HiBM']-em_data['RF'],sm.add_constant(factors))\n",
        "res = mod.fit()\n",
        "res.summary()"
      ],
      "metadata": {
        "colab": {
          "base_uri": "https://localhost:8080/",
          "height": 550
        },
        "id": "wvmJy2U8Ho6_",
        "outputId": "35936635-03d9-45d7-f140-5033f523a2bf"
      },
      "execution_count": 295,
      "outputs": [
        {
          "output_type": "stream",
          "name": "stderr",
          "text": [
            "/usr/local/lib/python3.7/dist-packages/statsmodels/tsa/tsatools.py:142: FutureWarning: In a future version of pandas all arguments of concat except for the argument 'objs' will be keyword-only\n",
            "  x = pd.concat(x[::order], 1)\n"
          ]
        },
        {
          "output_type": "execute_result",
          "data": {
            "text/plain": [
              "<class 'statsmodels.iolib.summary.Summary'>\n",
              "\"\"\"\n",
              "                            OLS Regression Results                            \n",
              "==============================================================================\n",
              "Dep. Variable:                      y   R-squared:                       0.957\n",
              "Model:                            OLS   Adj. R-squared:                  0.956\n",
              "Method:                 Least Squares   F-statistic:                     2884.\n",
              "Date:                Wed, 19 Oct 2022   Prob (F-statistic):          3.59e-267\n",
              "Time:                        07:29:31   Log-Likelihood:                -669.54\n",
              "No. Observations:                 397   AIC:                             1347.\n",
              "Df Residuals:                     393   BIC:                             1363.\n",
              "Df Model:                           3                                         \n",
              "Covariance Type:            nonrobust                                         \n",
              "==============================================================================\n",
              "                 coef    std err          t      P>|t|      [0.025      0.975]\n",
              "------------------------------------------------------------------------------\n",
              "const          0.0335      0.068      0.491      0.624      -0.101       0.168\n",
              "Mkt-RF         0.9715      0.011     86.259      0.000       0.949       0.994\n",
              "SMB            0.8064      0.029     28.222      0.000       0.750       0.863\n",
              "HML            0.5959      0.023     25.536      0.000       0.550       0.642\n",
              "==============================================================================\n",
              "Omnibus:                       91.409   Durbin-Watson:                   1.713\n",
              "Prob(Omnibus):                  0.000   Jarque-Bera (JB):              915.224\n",
              "Skew:                           0.640   Prob(JB):                    1.83e-199\n",
              "Kurtosis:                      10.327   Cond. No.                         6.33\n",
              "==============================================================================\n",
              "\n",
              "Notes:\n",
              "[1] Standard Errors assume that the covariance matrix of the errors is correctly specified.\n",
              "\"\"\""
            ],
            "text/html": [
              "<table class=\"simpletable\">\n",
              "<caption>OLS Regression Results</caption>\n",
              "<tr>\n",
              "  <th>Dep. Variable:</th>            <td>y</td>        <th>  R-squared:         </th> <td>   0.957</td> \n",
              "</tr>\n",
              "<tr>\n",
              "  <th>Model:</th>                   <td>OLS</td>       <th>  Adj. R-squared:    </th> <td>   0.956</td> \n",
              "</tr>\n",
              "<tr>\n",
              "  <th>Method:</th>             <td>Least Squares</td>  <th>  F-statistic:       </th> <td>   2884.</td> \n",
              "</tr>\n",
              "<tr>\n",
              "  <th>Date:</th>             <td>Wed, 19 Oct 2022</td> <th>  Prob (F-statistic):</th> <td>3.59e-267</td>\n",
              "</tr>\n",
              "<tr>\n",
              "  <th>Time:</th>                 <td>07:29:31</td>     <th>  Log-Likelihood:    </th> <td> -669.54</td> \n",
              "</tr>\n",
              "<tr>\n",
              "  <th>No. Observations:</th>      <td>   397</td>      <th>  AIC:               </th> <td>   1347.</td> \n",
              "</tr>\n",
              "<tr>\n",
              "  <th>Df Residuals:</th>          <td>   393</td>      <th>  BIC:               </th> <td>   1363.</td> \n",
              "</tr>\n",
              "<tr>\n",
              "  <th>Df Model:</th>              <td>     3</td>      <th>                     </th>     <td> </td>    \n",
              "</tr>\n",
              "<tr>\n",
              "  <th>Covariance Type:</th>      <td>nonrobust</td>    <th>                     </th>     <td> </td>    \n",
              "</tr>\n",
              "</table>\n",
              "<table class=\"simpletable\">\n",
              "<tr>\n",
              "     <td></td>       <th>coef</th>     <th>std err</th>      <th>t</th>      <th>P>|t|</th>  <th>[0.025</th>    <th>0.975]</th>  \n",
              "</tr>\n",
              "<tr>\n",
              "  <th>const</th>  <td>    0.0335</td> <td>    0.068</td> <td>    0.491</td> <td> 0.624</td> <td>   -0.101</td> <td>    0.168</td>\n",
              "</tr>\n",
              "<tr>\n",
              "  <th>Mkt-RF</th> <td>    0.9715</td> <td>    0.011</td> <td>   86.259</td> <td> 0.000</td> <td>    0.949</td> <td>    0.994</td>\n",
              "</tr>\n",
              "<tr>\n",
              "  <th>SMB</th>    <td>    0.8064</td> <td>    0.029</td> <td>   28.222</td> <td> 0.000</td> <td>    0.750</td> <td>    0.863</td>\n",
              "</tr>\n",
              "<tr>\n",
              "  <th>HML</th>    <td>    0.5959</td> <td>    0.023</td> <td>   25.536</td> <td> 0.000</td> <td>    0.550</td> <td>    0.642</td>\n",
              "</tr>\n",
              "</table>\n",
              "<table class=\"simpletable\">\n",
              "<tr>\n",
              "  <th>Omnibus:</th>       <td>91.409</td> <th>  Durbin-Watson:     </th> <td>   1.713</td> \n",
              "</tr>\n",
              "<tr>\n",
              "  <th>Prob(Omnibus):</th> <td> 0.000</td> <th>  Jarque-Bera (JB):  </th> <td> 915.224</td> \n",
              "</tr>\n",
              "<tr>\n",
              "  <th>Skew:</th>          <td> 0.640</td> <th>  Prob(JB):          </th> <td>1.83e-199</td>\n",
              "</tr>\n",
              "<tr>\n",
              "  <th>Kurtosis:</th>      <td>10.327</td> <th>  Cond. No.          </th> <td>    6.33</td> \n",
              "</tr>\n",
              "</table><br/><br/>Notes:<br/>[1] Standard Errors assume that the covariance matrix of the errors is correctly specified."
            ]
          },
          "metadata": {},
          "execution_count": 295
        }
      ]
    },
    {
      "cell_type": "code",
      "source": [
        "talpha =  res.tvalues[0]                     \n",
        "beta =    res.params[1]                        \n",
        "tbeta =   res.tvalues[1] \n",
        "tbeta2=res.tvalues[2] \n",
        "tbeta3=res.tvalues[3]                     \n",
        "print(f'The tstat for the alpha is {talpha:.4}' )\n",
        "print(f'The value of beta is {beta:.4}' )\n",
        "print(f'The tstat for the beta is {tbeta:.4}' )\n",
        "print(f'The tstat for the beta2 is {tbeta2:.4}' )\n",
        "print(f'The tstat for the beta3 is {tbeta3:.4}' )"
      ],
      "metadata": {
        "colab": {
          "base_uri": "https://localhost:8080/"
        },
        "id": "P83uO34-I4Ob",
        "outputId": "ba735fd6-387a-4a98-a438-0f8d63af9acb"
      },
      "execution_count": 296,
      "outputs": [
        {
          "output_type": "stream",
          "name": "stdout",
          "text": [
            "The tstat for the alpha is 0.4906\n",
            "The value of beta is 0.9715\n",
            "The tstat for the beta is 86.26\n",
            "The tstat for the beta2 is 28.22\n",
            "The tstat for the beta3 is 25.54\n"
          ]
        }
      ]
    },
    {
      "cell_type": "code",
      "source": [
        "mod = sm.OLS(em_data['BIG LoBM']-em_data['RF'],sm.add_constant(factors))\n",
        "res = mod.fit()\n",
        "res.summary()"
      ],
      "metadata": {
        "colab": {
          "base_uri": "https://localhost:8080/",
          "height": 550
        },
        "id": "YB2ndOYOJyYi",
        "outputId": "292b19fe-fdeb-4629-b69f-9c77db683711"
      },
      "execution_count": 297,
      "outputs": [
        {
          "output_type": "stream",
          "name": "stderr",
          "text": [
            "/usr/local/lib/python3.7/dist-packages/statsmodels/tsa/tsatools.py:142: FutureWarning: In a future version of pandas all arguments of concat except for the argument 'objs' will be keyword-only\n",
            "  x = pd.concat(x[::order], 1)\n"
          ]
        },
        {
          "output_type": "execute_result",
          "data": {
            "text/plain": [
              "<class 'statsmodels.iolib.summary.Summary'>\n",
              "\"\"\"\n",
              "                            OLS Regression Results                            \n",
              "==============================================================================\n",
              "Dep. Variable:                      y   R-squared:                       0.965\n",
              "Model:                            OLS   Adj. R-squared:                  0.964\n",
              "Method:                 Least Squares   F-statistic:                     3582.\n",
              "Date:                Wed, 19 Oct 2022   Prob (F-statistic):          6.17e-285\n",
              "Time:                        07:31:37   Log-Likelihood:                -605.63\n",
              "No. Observations:                 397   AIC:                             1219.\n",
              "Df Residuals:                     393   BIC:                             1235.\n",
              "Df Model:                           3                                         \n",
              "Covariance Type:            nonrobust                                         \n",
              "==============================================================================\n",
              "                 coef    std err          t      P>|t|      [0.025      0.975]\n",
              "------------------------------------------------------------------------------\n",
              "const          0.1232      0.058      2.118      0.035       0.009       0.238\n",
              "Mkt-RF         0.9622      0.010    100.357      0.000       0.943       0.981\n",
              "SMB           -0.1020      0.024     -4.192      0.000      -0.150      -0.054\n",
              "HML           -0.3672      0.020    -18.484      0.000      -0.406      -0.328\n",
              "==============================================================================\n",
              "Omnibus:                       27.966   Durbin-Watson:                   2.049\n",
              "Prob(Omnibus):                  0.000   Jarque-Bera (JB):               85.426\n",
              "Skew:                          -0.226   Prob(JB):                     2.82e-19\n",
              "Kurtosis:                       5.227   Cond. No.                         6.33\n",
              "==============================================================================\n",
              "\n",
              "Notes:\n",
              "[1] Standard Errors assume that the covariance matrix of the errors is correctly specified.\n",
              "\"\"\""
            ],
            "text/html": [
              "<table class=\"simpletable\">\n",
              "<caption>OLS Regression Results</caption>\n",
              "<tr>\n",
              "  <th>Dep. Variable:</th>            <td>y</td>        <th>  R-squared:         </th> <td>   0.965</td> \n",
              "</tr>\n",
              "<tr>\n",
              "  <th>Model:</th>                   <td>OLS</td>       <th>  Adj. R-squared:    </th> <td>   0.964</td> \n",
              "</tr>\n",
              "<tr>\n",
              "  <th>Method:</th>             <td>Least Squares</td>  <th>  F-statistic:       </th> <td>   3582.</td> \n",
              "</tr>\n",
              "<tr>\n",
              "  <th>Date:</th>             <td>Wed, 19 Oct 2022</td> <th>  Prob (F-statistic):</th> <td>6.17e-285</td>\n",
              "</tr>\n",
              "<tr>\n",
              "  <th>Time:</th>                 <td>07:31:37</td>     <th>  Log-Likelihood:    </th> <td> -605.63</td> \n",
              "</tr>\n",
              "<tr>\n",
              "  <th>No. Observations:</th>      <td>   397</td>      <th>  AIC:               </th> <td>   1219.</td> \n",
              "</tr>\n",
              "<tr>\n",
              "  <th>Df Residuals:</th>          <td>   393</td>      <th>  BIC:               </th> <td>   1235.</td> \n",
              "</tr>\n",
              "<tr>\n",
              "  <th>Df Model:</th>              <td>     3</td>      <th>                     </th>     <td> </td>    \n",
              "</tr>\n",
              "<tr>\n",
              "  <th>Covariance Type:</th>      <td>nonrobust</td>    <th>                     </th>     <td> </td>    \n",
              "</tr>\n",
              "</table>\n",
              "<table class=\"simpletable\">\n",
              "<tr>\n",
              "     <td></td>       <th>coef</th>     <th>std err</th>      <th>t</th>      <th>P>|t|</th>  <th>[0.025</th>    <th>0.975]</th>  \n",
              "</tr>\n",
              "<tr>\n",
              "  <th>const</th>  <td>    0.1232</td> <td>    0.058</td> <td>    2.118</td> <td> 0.035</td> <td>    0.009</td> <td>    0.238</td>\n",
              "</tr>\n",
              "<tr>\n",
              "  <th>Mkt-RF</th> <td>    0.9622</td> <td>    0.010</td> <td>  100.357</td> <td> 0.000</td> <td>    0.943</td> <td>    0.981</td>\n",
              "</tr>\n",
              "<tr>\n",
              "  <th>SMB</th>    <td>   -0.1020</td> <td>    0.024</td> <td>   -4.192</td> <td> 0.000</td> <td>   -0.150</td> <td>   -0.054</td>\n",
              "</tr>\n",
              "<tr>\n",
              "  <th>HML</th>    <td>   -0.3672</td> <td>    0.020</td> <td>  -18.484</td> <td> 0.000</td> <td>   -0.406</td> <td>   -0.328</td>\n",
              "</tr>\n",
              "</table>\n",
              "<table class=\"simpletable\">\n",
              "<tr>\n",
              "  <th>Omnibus:</th>       <td>27.966</td> <th>  Durbin-Watson:     </th> <td>   2.049</td>\n",
              "</tr>\n",
              "<tr>\n",
              "  <th>Prob(Omnibus):</th> <td> 0.000</td> <th>  Jarque-Bera (JB):  </th> <td>  85.426</td>\n",
              "</tr>\n",
              "<tr>\n",
              "  <th>Skew:</th>          <td>-0.226</td> <th>  Prob(JB):          </th> <td>2.82e-19</td>\n",
              "</tr>\n",
              "<tr>\n",
              "  <th>Kurtosis:</th>      <td> 5.227</td> <th>  Cond. No.          </th> <td>    6.33</td>\n",
              "</tr>\n",
              "</table><br/><br/>Notes:<br/>[1] Standard Errors assume that the covariance matrix of the errors is correctly specified."
            ]
          },
          "metadata": {},
          "execution_count": 297
        }
      ]
    },
    {
      "cell_type": "code",
      "source": [
        "talpha =  res.tvalues[0]                     \n",
        "beta =    res.params[1]                        \n",
        "tbeta =   res.tvalues[1] \n",
        "tbeta2=res.tvalues[2] \n",
        "tbeta3=res.tvalues[3]                     \n",
        "print(f'The tstat for the alpha is {talpha:.4}' )\n",
        "print(f'The value of beta is {beta:.4}' )\n",
        "print(f'The tstat for the beta is {tbeta:.4}' )\n",
        "print(f'The tstat for the beta2 is {tbeta2:.4}' )\n",
        "print(f'The tstat for the beta3 is {tbeta3:.4}' )"
      ],
      "metadata": {
        "colab": {
          "base_uri": "https://localhost:8080/"
        },
        "id": "s0K9hxcxJ76a",
        "outputId": "3ea57051-8418-4e2b-cb8f-370323774aa0"
      },
      "execution_count": 298,
      "outputs": [
        {
          "output_type": "stream",
          "name": "stdout",
          "text": [
            "The tstat for the alpha is 2.118\n",
            "The value of beta is 0.9622\n",
            "The tstat for the beta is 100.4\n",
            "The tstat for the beta2 is -4.192\n",
            "The tstat for the beta3 is -18.48\n"
          ]
        }
      ]
    }
  ],
  "metadata": {
    "kernelspec": {
      "display_name": "Python 3.9.7 ('base')",
      "language": "python",
      "name": "python3"
    },
    "language_info": {
      "codemirror_mode": {
        "name": "ipython",
        "version": 3
      },
      "file_extension": ".py",
      "mimetype": "text/x-python",
      "name": "python",
      "nbconvert_exporter": "python",
      "pygments_lexer": "ipython3",
      "version": "3.9.7"
    },
    "orig_nbformat": 4,
    "vscode": {
      "interpreter": {
        "hash": "639e406a5771ae6be96f4b944df43e571a63d1198e3617b1046929a34f060e05"
      }
    },
    "colab": {
      "provenance": [],
      "collapsed_sections": [],
      "include_colab_link": true
    }
  },
  "nbformat": 4,
  "nbformat_minor": 0
}