{
  "cells": [
    {
      "cell_type": "markdown",
      "metadata": {
        "id": "view-in-github",
        "colab_type": "text"
      },
      "source": [
        "<a href=\"https://colab.research.google.com/github/seanzhu815/402/blob/main/assignment_1_sample_code.ipynb\" target=\"_parent\"><img src=\"https://colab.research.google.com/assets/colab-badge.svg\" alt=\"Open In Colab\"/></a>"
      ]
    },
    {
      "cell_type": "markdown",
      "metadata": {
        "id": "Aby9eLh7CvJx",
        "tags": []
      },
      "source": [
        "# Assignment 1: Solution"
      ]
    },
    {
      "cell_type": "code",
      "source": [
        "from google.colab import files\n",
        "uploaded = files.upload()"
      ],
      "metadata": {
        "id": "cGCDURSIZ-xJ",
        "outputId": "836bb5f0-d4d5-4d68-f6fa-0525f3ae6c72",
        "colab": {
          "base_uri": "https://localhost:8080/",
          "height": 91
        }
      },
      "execution_count": 7,
      "outputs": [
        {
          "output_type": "display_data",
          "data": {
            "text/plain": [
              "<IPython.core.display.HTML object>"
            ],
            "text/html": [
              "\n",
              "     <input type=\"file\" id=\"files-08d91ab6-d783-4c39-a4f3-ec07c118fd44\" name=\"files[]\" multiple disabled\n",
              "        style=\"border:none\" />\n",
              "     <output id=\"result-08d91ab6-d783-4c39-a4f3-ec07c118fd44\">\n",
              "      Upload widget is only available when the cell has been executed in the\n",
              "      current browser session. Please rerun this cell to enable.\n",
              "      </output>\n",
              "      <script>// Copyright 2017 Google LLC\n",
              "//\n",
              "// Licensed under the Apache License, Version 2.0 (the \"License\");\n",
              "// you may not use this file except in compliance with the License.\n",
              "// You may obtain a copy of the License at\n",
              "//\n",
              "//      http://www.apache.org/licenses/LICENSE-2.0\n",
              "//\n",
              "// Unless required by applicable law or agreed to in writing, software\n",
              "// distributed under the License is distributed on an \"AS IS\" BASIS,\n",
              "// WITHOUT WARRANTIES OR CONDITIONS OF ANY KIND, either express or implied.\n",
              "// See the License for the specific language governing permissions and\n",
              "// limitations under the License.\n",
              "\n",
              "/**\n",
              " * @fileoverview Helpers for google.colab Python module.\n",
              " */\n",
              "(function(scope) {\n",
              "function span(text, styleAttributes = {}) {\n",
              "  const element = document.createElement('span');\n",
              "  element.textContent = text;\n",
              "  for (const key of Object.keys(styleAttributes)) {\n",
              "    element.style[key] = styleAttributes[key];\n",
              "  }\n",
              "  return element;\n",
              "}\n",
              "\n",
              "// Max number of bytes which will be uploaded at a time.\n",
              "const MAX_PAYLOAD_SIZE = 100 * 1024;\n",
              "\n",
              "function _uploadFiles(inputId, outputId) {\n",
              "  const steps = uploadFilesStep(inputId, outputId);\n",
              "  const outputElement = document.getElementById(outputId);\n",
              "  // Cache steps on the outputElement to make it available for the next call\n",
              "  // to uploadFilesContinue from Python.\n",
              "  outputElement.steps = steps;\n",
              "\n",
              "  return _uploadFilesContinue(outputId);\n",
              "}\n",
              "\n",
              "// This is roughly an async generator (not supported in the browser yet),\n",
              "// where there are multiple asynchronous steps and the Python side is going\n",
              "// to poll for completion of each step.\n",
              "// This uses a Promise to block the python side on completion of each step,\n",
              "// then passes the result of the previous step as the input to the next step.\n",
              "function _uploadFilesContinue(outputId) {\n",
              "  const outputElement = document.getElementById(outputId);\n",
              "  const steps = outputElement.steps;\n",
              "\n",
              "  const next = steps.next(outputElement.lastPromiseValue);\n",
              "  return Promise.resolve(next.value.promise).then((value) => {\n",
              "    // Cache the last promise value to make it available to the next\n",
              "    // step of the generator.\n",
              "    outputElement.lastPromiseValue = value;\n",
              "    return next.value.response;\n",
              "  });\n",
              "}\n",
              "\n",
              "/**\n",
              " * Generator function which is called between each async step of the upload\n",
              " * process.\n",
              " * @param {string} inputId Element ID of the input file picker element.\n",
              " * @param {string} outputId Element ID of the output display.\n",
              " * @return {!Iterable<!Object>} Iterable of next steps.\n",
              " */\n",
              "function* uploadFilesStep(inputId, outputId) {\n",
              "  const inputElement = document.getElementById(inputId);\n",
              "  inputElement.disabled = false;\n",
              "\n",
              "  const outputElement = document.getElementById(outputId);\n",
              "  outputElement.innerHTML = '';\n",
              "\n",
              "  const pickedPromise = new Promise((resolve) => {\n",
              "    inputElement.addEventListener('change', (e) => {\n",
              "      resolve(e.target.files);\n",
              "    });\n",
              "  });\n",
              "\n",
              "  const cancel = document.createElement('button');\n",
              "  inputElement.parentElement.appendChild(cancel);\n",
              "  cancel.textContent = 'Cancel upload';\n",
              "  const cancelPromise = new Promise((resolve) => {\n",
              "    cancel.onclick = () => {\n",
              "      resolve(null);\n",
              "    };\n",
              "  });\n",
              "\n",
              "  // Wait for the user to pick the files.\n",
              "  const files = yield {\n",
              "    promise: Promise.race([pickedPromise, cancelPromise]),\n",
              "    response: {\n",
              "      action: 'starting',\n",
              "    }\n",
              "  };\n",
              "\n",
              "  cancel.remove();\n",
              "\n",
              "  // Disable the input element since further picks are not allowed.\n",
              "  inputElement.disabled = true;\n",
              "\n",
              "  if (!files) {\n",
              "    return {\n",
              "      response: {\n",
              "        action: 'complete',\n",
              "      }\n",
              "    };\n",
              "  }\n",
              "\n",
              "  for (const file of files) {\n",
              "    const li = document.createElement('li');\n",
              "    li.append(span(file.name, {fontWeight: 'bold'}));\n",
              "    li.append(span(\n",
              "        `(${file.type || 'n/a'}) - ${file.size} bytes, ` +\n",
              "        `last modified: ${\n",
              "            file.lastModifiedDate ? file.lastModifiedDate.toLocaleDateString() :\n",
              "                                    'n/a'} - `));\n",
              "    const percent = span('0% done');\n",
              "    li.appendChild(percent);\n",
              "\n",
              "    outputElement.appendChild(li);\n",
              "\n",
              "    const fileDataPromise = new Promise((resolve) => {\n",
              "      const reader = new FileReader();\n",
              "      reader.onload = (e) => {\n",
              "        resolve(e.target.result);\n",
              "      };\n",
              "      reader.readAsArrayBuffer(file);\n",
              "    });\n",
              "    // Wait for the data to be ready.\n",
              "    let fileData = yield {\n",
              "      promise: fileDataPromise,\n",
              "      response: {\n",
              "        action: 'continue',\n",
              "      }\n",
              "    };\n",
              "\n",
              "    // Use a chunked sending to avoid message size limits. See b/62115660.\n",
              "    let position = 0;\n",
              "    do {\n",
              "      const length = Math.min(fileData.byteLength - position, MAX_PAYLOAD_SIZE);\n",
              "      const chunk = new Uint8Array(fileData, position, length);\n",
              "      position += length;\n",
              "\n",
              "      const base64 = btoa(String.fromCharCode.apply(null, chunk));\n",
              "      yield {\n",
              "        response: {\n",
              "          action: 'append',\n",
              "          file: file.name,\n",
              "          data: base64,\n",
              "        },\n",
              "      };\n",
              "\n",
              "      let percentDone = fileData.byteLength === 0 ?\n",
              "          100 :\n",
              "          Math.round((position / fileData.byteLength) * 100);\n",
              "      percent.textContent = `${percentDone}% done`;\n",
              "\n",
              "    } while (position < fileData.byteLength);\n",
              "  }\n",
              "\n",
              "  // All done.\n",
              "  yield {\n",
              "    response: {\n",
              "      action: 'complete',\n",
              "    }\n",
              "  };\n",
              "}\n",
              "\n",
              "scope.google = scope.google || {};\n",
              "scope.google.colab = scope.google.colab || {};\n",
              "scope.google.colab._files = {\n",
              "  _uploadFiles,\n",
              "  _uploadFilesContinue,\n",
              "};\n",
              "})(self);\n",
              "</script> "
            ]
          },
          "metadata": {}
        },
        {
          "output_type": "stream",
          "name": "stdout",
          "text": [
            "Saving AAPL.xlsx to AAPL.xlsx\n"
          ]
        }
      ]
    },
    {
      "cell_type": "markdown",
      "metadata": {
        "id": "2ylTXk7JDGTW",
        "tags": []
      },
      "source": [
        "### We first import the necessary packages"
      ]
    },
    {
      "cell_type": "code",
      "execution_count": 8,
      "metadata": {
        "id": "Ui6Rz3jEECn8",
        "tags": []
      },
      "outputs": [],
      "source": [
        "import pandas            as pd   \n",
        "import numpy             as np   \n",
        "import scipy             as scp  \n",
        "import matplotlib.pyplot as plt \n",
        "import os as os\n",
        "from datetime import date as dd \n",
        "from scipy import stats    \n",
        "from scipy import optimize\n",
        "import statsmodels.api as sm\n",
        "# %matplotlib inline"
      ]
    },
    {
      "cell_type": "markdown",
      "metadata": {
        "id": "oFS1oOYPGF0Z",
        "tags": []
      },
      "source": [
        "### We now get the data\n"
      ]
    },
    {
      "cell_type": "code",
      "execution_count": 40,
      "metadata": {
        "colab": {
          "base_uri": "https://localhost:8080/",
          "height": 35
        },
        "id": "sXvEPraUJ3fp",
        "outputId": "06c43758-b625-47f2-cdf6-8f2406eaee8c"
      },
      "outputs": [
        {
          "output_type": "execute_result",
          "data": {
            "text/plain": [
              "'/content'"
            ],
            "application/vnd.google.colaboratory.intrinsic+json": {
              "type": "string"
            }
          },
          "metadata": {},
          "execution_count": 40
        }
      ],
      "source": [
        "os.getcwd()\n",
        "df=pd.read_excel('AAPL.xlsx')\n",
        "os.getcwd()"
      ]
    },
    {
      "cell_type": "markdown",
      "metadata": {
        "id": "3LUNiORmKF8i"
      },
      "source": [
        "## Part One"
      ]
    },
    {
      "cell_type": "code",
      "execution_count": 41,
      "metadata": {
        "id": "5H7A6ojXJ3fr"
      },
      "outputs": [],
      "source": [
        "df.head()\n",
        "date=df.iloc[:,0]"
      ]
    },
    {
      "cell_type": "code",
      "execution_count": 42,
      "metadata": {
        "id": "SWsz_zhthHma"
      },
      "outputs": [],
      "source": [
        "df['cd']=np.log(df['Adj Close']/df['Adj Close'].shift(1)).dropna()"
      ]
    },
    {
      "cell_type": "code",
      "source": [
        "c=df['cd']\n",
        "np.mean(c)\n",
        "np.std(c)\n",
        "\n",
        "\n",
        "df['d']=(df['Adj Close']-df['Adj Close'].shift(1))\n",
        "d=df['d']/df['Adj Close'].shift(1)\n",
        "np.mean(c)"
      ],
      "metadata": {
        "id": "U2yb1fzRbys7",
        "outputId": "925e4950-a5ab-40c4-8871-05f64f5a9c9b",
        "colab": {
          "base_uri": "https://localhost:8080/"
        }
      },
      "execution_count": 71,
      "outputs": [
        {
          "output_type": "execute_result",
          "data": {
            "text/plain": [
              "0.0011619812436020355"
            ]
          },
          "metadata": {},
          "execution_count": 71
        }
      ]
    },
    {
      "cell_type": "code",
      "execution_count": 72,
      "metadata": {
        "id": "ir-X2VQ5J3fz"
      },
      "outputs": [],
      "source": [
        "def maxdrawdown(x): \n",
        "    \"\"\"\n",
        "    NumPy analog to corresponding MATLAB Financial Toolbox Function\n",
        "    OUTPUT: start, end, and max drawdown in terms of max percentage drop from a peak\n",
        "    \"\"\"\n",
        "    i = np.argmax(np.maximum.accumulate(x) - x) # end of period\n",
        "    j = np.argmax(x[:i]) # start of the period\n",
        "    percent_change = 100*( x[i] - x[j] ) / x[j]\n",
        "    return j,i,percent_change\n",
        "\n",
        "def datenum(date):\n",
        "    \"\"\"\n",
        "    Converts yyyymmdd dates to ordinal code\n",
        "    \"\"\"\n",
        "    dn = np.zeros(date.shape)\n",
        "    for i in range(len(date)):\n",
        "        dt = str(date[i])\n",
        "        dn[i] = dd.toordinal(dd(int(dt[0:4]),int(dt[4:6]),int(dt[6:8])))\n",
        "    return dn"
      ]
    },
    {
      "cell_type": "code",
      "execution_count": 83,
      "metadata": {
        "id": "hyzwJb8QJ3fz",
        "outputId": "593d3de8-1593-4b86-92da-bc1b057d1ca4",
        "colab": {
          "base_uri": "https://localhost:8080/"
        }
      },
      "outputs": [
        {
          "output_type": "execute_result",
          "data": {
            "text/plain": [
              "1.0"
            ]
          },
          "metadata": {},
          "execution_count": 83
        }
      ],
      "source": [
        "cumulativeret = np.cumprod(d+1)\n",
        "\n",
        "cumulativeret[0]=1\n",
        "cumulativeret[0]"
      ]
    },
    {
      "cell_type": "code",
      "execution_count": 84,
      "metadata": {
        "id": "2hAhQ38oZi58",
        "outputId": "2a39f936-7f84-493c-c707-0781c5417e26",
        "colab": {
          "base_uri": "https://localhost:8080/"
        }
      },
      "outputs": [
        {
          "output_type": "execute_result",
          "data": {
            "text/plain": [
              "-18.598862756655993"
            ]
          },
          "metadata": {},
          "execution_count": 84
        }
      ],
      "source": [
        "MaxDDStartIndex, MaxDDEndIndex, MaxDD = maxdrawdown(cumulativeret[1:])\n",
        "begdate = date[MaxDDStartIndex]\n",
        "enddate = date[MaxDDEndIndex]\n",
        "MaxDD"
      ]
    },
    {
      "cell_type": "code",
      "execution_count": 85,
      "metadata": {
        "id": "B1tCOUCgJ3fz",
        "outputId": "66bdb58b-39cf-4d44-eace-99c219125a81",
        "colab": {
          "base_uri": "https://localhost:8080/"
        }
      },
      "outputs": [
        {
          "output_type": "stream",
          "name": "stdout",
          "text": [
            "The Maximum Drawdown is -18.6%\n"
          ]
        }
      ],
      "source": [
        "print(f'The Maximum Drawdown is {MaxDD:.4}%')"
      ]
    },
    {
      "cell_type": "code",
      "execution_count": 86,
      "metadata": {
        "id": "OxWJriZ5J3fz",
        "outputId": "e5e200ed-ab3b-4b21-8747-bdbe9a27ac7e",
        "colab": {
          "base_uri": "https://localhost:8080/"
        }
      },
      "outputs": [
        {
          "output_type": "stream",
          "name": "stdout",
          "text": [
            "Max VC DrawDown from date 2021-01-26 00:00:00 to date 2021-03-08 00:00:00\n"
          ]
        }
      ],
      "source": [
        "print(f'Max VC DrawDown from date {begdate} to date {enddate}')"
      ]
    },
    {
      "cell_type": "markdown",
      "metadata": {
        "id": "UHgakqnCJ3fz"
      },
      "source": [
        "g. Checking normality"
      ]
    },
    {
      "cell_type": "code",
      "execution_count": null,
      "metadata": {
        "id": "-vraTnJFJ3f0",
        "outputId": "8d0cdab3-244d-4e0c-bf6a-9242f77e7aad"
      },
      "outputs": [
        {
          "data": {
            "text/plain": [
              "(array([  1.,   2.,   5.,  32., 107., 295., 311.,  93.,  15.,   3.]),\n",
              " array([-0.21763043, -0.17956269, -0.14149496, -0.10342723, -0.0653595 ,\n",
              "        -0.02729176,  0.01077597,  0.0488437 ,  0.08691143,  0.12497917,\n",
              "         0.1630469 ]),\n",
              " <a list of 10 Patch objects>)"
            ]
          },
          "execution_count": 71,
          "metadata": {},
          "output_type": "execute_result"
        },
        {
          "data": {
            "image/png": "[encoded data removed]",
            "text/plain": [
              "<Figure size 432x288 with 1 Axes>"
            ]
          },
          "metadata": {
            "needs_background": "light"
          },
          "output_type": "display_data"
        }
      ],
      "source": [
        "plt.hist(returns)"
      ]
    },
    {
      "cell_type": "markdown",
      "metadata": {
        "id": "ZC0wYk88J3f0"
      },
      "source": [
        "Looking at the histogram, skewness and kurtosis, we conclude xxx."
      ]
    },
    {
      "cell_type": "markdown",
      "metadata": {
        "id": "zanAr0TRJ3f0"
      },
      "source": [
        "### Question 2.2"
      ]
    },
    {
      "cell_type": "markdown",
      "metadata": {
        "id": "jpUibeaVJ3f0"
      },
      "source": [
        "We first setup the Sharpe ratio function for the optimization problem. "
      ]
    },
    {
      "cell_type": "code",
      "execution_count": null,
      "metadata": {
        "id": "g78WJ_oNJ3f0"
      },
      "outputs": [],
      "source": [
        "def Shratio(w,mu,Sigma,Rf): \n",
        "    portfolio_return = np.sum(mu * w) - Rf    # portfolio excess return\n",
        "    portfolio_vol    = np.sqrt(np.dot(w.T, np.dot(Sigma,w)))  # portfolio volatility\n",
        "    return portfolio_return / portfolio_vol"
      ]
    },
    {
      "cell_type": "markdown",
      "metadata": {
        "id": "UCZqooeVJ3f0"
      },
      "source": [
        "We now need to set the risk free rate and select the number of assets in our portfolio."
      ]
    },
    {
      "cell_type": "code",
      "execution_count": null,
      "metadata": {
        "id": "nyq8YqnTJ3f0",
        "outputId": "2f952433-db2f-48a3-95ec-fcc984ac29e4"
      },
      "outputs": [
        {
          "data": {
            "text/plain": [
              "8.1e-05"
            ]
          },
          "execution_count": 27,
          "metadata": {},
          "output_type": "execute_result"
        }
      ],
      "source": [
        "Rf = rfrate[len(rfrate)-1]  # risk free rate\n",
        "n = 2                      # number of assets\n",
        "tbonds_ret = df.iloc[:,4]   # tbonds\n",
        "tbills_ret =df.iloc[:,6]    # tbills\n",
        "Rf"
      ]
    },
    {
      "cell_type": "markdown",
      "metadata": {
        "id": "M8mEBiy9J3f0"
      },
      "source": [
        "Combine stock, and bond returns in to a matrix, calculate the mean return of all assets, and the covariance."
      ]
    },
    {
      "cell_type": "code",
      "execution_count": null,
      "metadata": {
        "id": "PG-f2iKbJ3f0",
        "outputId": "31cc5c00-6909-4427-e0c9-f0fa3e31ac7d"
      },
      "outputs": [
        {
          "data": {
            "text/plain": [
              "array([[1.72729425e-03, 5.52795606e-05],\n",
              "       [5.52795606e-05, 4.27534215e-04]])"
            ]
          },
          "execution_count": 28,
          "metadata": {},
          "output_type": "execute_result"
        }
      ],
      "source": [
        "ret = np.concatenate((np.expand_dims(returns,1), np.expand_dims(tbonds_ret,1)),axis = 1)\n",
        "mu = np.mean(ret, axis = 0)\n",
        "Sigma = np.cov(ret, rowvar = False)\n",
        "Sigma"
      ]
    },
    {
      "cell_type": "markdown",
      "metadata": {
        "id": "zSBnXa2dJ3f0"
      },
      "source": [
        "Set the initial weights to be equal"
      ]
    },
    {
      "cell_type": "code",
      "execution_count": null,
      "metadata": {
        "id": "f7P-shi6J3f0",
        "outputId": "f77a37c6-3355-41a9-ec78-919d86d4f9cb"
      },
      "outputs": [
        {
          "data": {
            "text/plain": [
              "array([[0.5],\n",
              "       [0.5]])"
            ]
          },
          "execution_count": 29,
          "metadata": {},
          "output_type": "execute_result"
        }
      ],
      "source": [
        "w0 = np.ones((n,1))/n \n",
        "w0"
      ]
    },
    {
      "cell_type": "markdown",
      "metadata": {
        "id": "0AwhBGC7J3f1"
      },
      "source": [
        "Set the constraint condition and solve for the tangency portfolio."
      ]
    },
    {
      "cell_type": "code",
      "execution_count": null,
      "metadata": {
        "id": "x_PPmWO7J3f1",
        "outputId": "420f7380-6faa-424f-ac8c-cfbdc8fa36ff"
      },
      "outputs": [
        {
          "name": "stdout",
          "output_type": "stream",
          "text": [
            "optimal weights are [0.27653573 0.72346427] with Sharpe ratio 0.28\n"
          ]
        }
      ],
      "source": [
        "cons = ({'type' : 'eq', 'fun': lambda x: x[0] + x[1] - 1}) # portfolio weights sum to 1\n",
        "\n",
        "# solve for tangency portfolio\n",
        "sol = scp.optimize.minimize(lambda w: -Shratio(w, mu, Sigma, Rf), x0 = w0, constraints = cons) \n",
        "w_uncon = sol.x\n",
        "val = -sol.fun\n",
        "\n",
        "print(f'optimal weights are {w_uncon} with Sharpe ratio {val:.2}')\n"
      ]
    },
    {
      "cell_type": "markdown",
      "metadata": {
        "id": "2LClR_xbJ3f1"
      },
      "source": [
        "Calculate the mean and variance of the tangency portfolio, and the weight on the portfolio."
      ]
    },
    {
      "cell_type": "code",
      "execution_count": null,
      "metadata": {
        "id": "Mjcn_PIBJ3f1"
      },
      "outputs": [],
      "source": [
        "#### add risk-free asset\n",
        "gam = 5                                         # gamma: risk aversion coefficient\n",
        "mu_uncon  = w_uncon.T.dot(mu)                   # mean of tangency portfolio\n",
        "var_uncon = np.dot(w_uncon.T, np.dot(Sigma,w_uncon))                                    # variance of tangency portfolio\n",
        "wT_con    =(mu_uncon-Rf)/(gam*var_uncon)                                    # weight to be put in the tangency when maximizing mean variance utility\n",
        "rcon      = wT_con*mu_uncon + (1-wT_con)*Rf"
      ]
    },
    {
      "cell_type": "code",
      "execution_count": null,
      "metadata": {
        "id": "Ya24aOhRZi5_",
        "outputId": "c4ee6880-1a89-437f-d08a-fda550496dde"
      },
      "outputs": [
        {
          "data": {
            "text/plain": [
              "array([0.27653573, 0.72346427])"
            ]
          },
          "execution_count": 32,
          "metadata": {},
          "output_type": "execute_result"
        }
      ],
      "source": [
        "c=np.dot(Sigma,w_uncon)\n",
        "w_uncon\n"
      ]
    },
    {
      "cell_type": "code",
      "execution_count": null,
      "metadata": {
        "id": "1NZpW-j6J3f1",
        "outputId": "cb6c40db-1113-498f-e4f2-172014767ac2"
      },
      "outputs": [
        {
          "name": "stdout",
          "output_type": "stream",
          "text": [
            "The mean of the tnagency portfolio is :0.0055\n",
            "The variance of the tangency portfolio is : 0.00038\n",
            "The weight on the risky portfolio is : 2.8\n",
            "The return of the tangency portfolio is : 0.015\n"
          ]
        }
      ],
      "source": [
        "print(f'The mean of the tnagency portfolio is :{mu_uncon:.2}')\n",
        "print(f'The variance of the tangency portfolio is : {var_uncon:.2}')\n",
        "print(f'The weight on the risky portfolio is : {wT_con:.2}')\n",
        "print(f'The return of the tangency portfolio is : {rcon:.2}')\n"
      ]
    },
    {
      "cell_type": "markdown",
      "metadata": {
        "id": "UX09-ZgOJ3f1"
      },
      "source": [
        "### Question 2.3"
      ]
    },
    {
      "cell_type": "code",
      "execution_count": null,
      "metadata": {
        "id": "jfwqid3mJ3f1"
      },
      "outputs": [],
      "source": [
        "delta = tbonds_ret - returns\n",
        "sumd=0\n",
        "for i in delta:\n",
        "    if i>0:\n",
        "        sumd+=1\n",
        "    \n",
        "under = sumd / dim"
      ]
    },
    {
      "cell_type": "code",
      "execution_count": null,
      "metadata": {
        "id": "tbv6-rntJ3f1",
        "outputId": "0ef501ed-e9d1-4602-b097-9d0518c485c6"
      },
      "outputs": [
        {
          "name": "stdout",
          "output_type": "stream",
          "text": [
            "a. Stocks underperform bonds approx. 43.98% of the time.\n"
          ]
        }
      ],
      "source": [
        "print(f'a. Stocks underperform bonds approx. {100*under:.4}% of the time.')"
      ]
    },
    {
      "cell_type": "code",
      "execution_count": null,
      "metadata": {
        "id": "4f_ZV7nsJ3f1"
      },
      "outputs": [],
      "source": [
        "def CumReturnsAndDeltas(df, num_months, dim):\n",
        "    \n",
        "    ret =[]\n",
        "    delta = []\n",
        "    stk=[]\n",
        "    bond=[]\n",
        "    for i in range(num_months-1, dim):\n",
        "        ret.append(np.array([(df.iloc[i,2] / df.iloc[i-num_months+1,2]) - 1,          # Stocks\n",
        "                                 ( df.iloc[i,5] / df.iloc[i-num_months+1,5] ) - 1,    # Bonds\n",
        "                                 ( df.iloc[i,7] / df.iloc[i-num_months+1,7] ) - 1,    # T-bill\n",
        "                                 ( df.iloc[i,11] / df.iloc[i-num_months+1,11] ) - 1,  # BTC\n",
        "                                 ( df.iloc[i,14] / df.iloc[i-num_months+1,14] ) - 1,  # Gold\n",
        "                                 ( df.iloc[i,9] / df.iloc[i-num_months+1,9] ) - 1 ])) # Inflation\n",
        "        delta.append(ret[i-num_months+1][1]- ret[i-num_months+1][0])\n",
        "\n",
        "    ret = np.array(ret)\n",
        "    delta = np.array(delta)\n",
        "    stk.append(ret[i-num_months+1][0])\n",
        "    bond=stk.append(ret[i-num_months+1][1])\n",
        "    return ret, delta \n",
        "\n"
      ]
    },
    {
      "cell_type": "code",
      "execution_count": null,
      "metadata": {
        "id": "yzrQ_PiWJ3f1"
      },
      "outputs": [],
      "source": [
        "ret_cumulative_1yr, delta_1yr = CumReturnsAndDeltas(df, 12, dim)\n",
        "sumd1=0\n",
        "for i in delta_1yr:\n",
        "    if i>0:\n",
        "        sumd1+=1\n",
        "delt_1yr=sumd1 / delta_1yr.shape[0]\n",
        "\n",
        "ret_cumulative_5yr, delta_5yr = CumReturnsAndDeltas(df, 60, dim)\n",
        "sumd2=0\n",
        "for i in delta_5yr:\n",
        "    if i>0:\n",
        "        sumd2+=1\n",
        "\n",
        "\n",
        "ret_cumulative_10yr, delta_10yr = CumReturnsAndDeltas(df, 120, dim)\n",
        "sumd3=0\n",
        "for i in delta_10yr:\n",
        "    if i>0:\n",
        "        sumd3+=1\n",
        "delt_10yr=sumd3 / delta_10yr.shape[0]"
      ]
    },
    {
      "cell_type": "code",
      "execution_count": null,
      "metadata": {
        "id": "JjE0etO1J3f1",
        "outputId": "b1f47b5f-dfd0-4e70-92b5-de1b92a543e0"
      },
      "outputs": [
        {
          "name": "stdout",
          "output_type": "stream",
          "text": [
            "b.i At the 1 year horizon stocks underperformed bonds 40.09% of the time.\n"
          ]
        }
      ],
      "source": [
        "print( f'b.i At the 1 year horizon stocks underperformed bonds {delt_1yr*100:.4}% of the time.')"
      ]
    },
    {
      "cell_type": "code",
      "execution_count": null,
      "metadata": {
        "id": "qwJ13g0oJ3f2",
        "outputId": "47800d0a-8b3a-4f10-d43f-e543dde34d6c"
      },
      "outputs": [
        {
          "name": "stdout",
          "output_type": "stream",
          "text": [
            "b.ii At the 5 year horizon stocks underperformed bonds 40.87% of the time.\n"
          ]
        }
      ],
      "source": [
        "print(f'b.ii At the 5 year horizon stocks underperformed bonds {delt_5yr*100:.4}% of the time.')"
      ]
    },
    {
      "cell_type": "code",
      "execution_count": null,
      "metadata": {
        "id": "USWej32IJ3f2",
        "outputId": "8139731c-de02-4bf3-dfc4-8cf2b8dc3acb"
      },
      "outputs": [
        {
          "name": "stdout",
          "output_type": "stream",
          "text": [
            "b.iii At the 10 year horizon stocks underperformed bonds 43.09% of the time.\n"
          ]
        }
      ],
      "source": [
        "print(f'b.iii At the 10 year horizon stocks underperformed bonds {delt_10yr*100:.4}% of the time.')"
      ]
    },
    {
      "cell_type": "code",
      "execution_count": null,
      "metadata": {
        "id": "clEJ3R2TZi6A"
      },
      "outputs": [],
      "source": [
        "def CumStocksAndBonds(df, num_months, dim):\n",
        "    \n",
        "    ret =[]\n",
        "    stk=[]\n",
        "    bond=[]\n",
        "    tbl=[]\n",
        "    btc=[]\n",
        "    gld=[]\n",
        "    inf=[]\n",
        "    for i in range(num_months-1, dim):\n",
        "        ret.append(np.array([(df.iloc[i,2] / df.iloc[i-num_months+1,2]) - 1,          # Stocks\n",
        "                                 ( df.iloc[i,5] / df.iloc[i-num_months+1,5] ) - 1,    # Bonds\n",
        "                                 ( df.iloc[i,7] / df.iloc[i-num_months+1,7] ) - 1,    # T-bill\n",
        "                                 ( df.iloc[i,11] / df.iloc[i-num_months+1,11] ) - 1,  # BTC\n",
        "                                 ( df.iloc[i,14] / df.iloc[i-num_months+1,14] ) - 1,  # Gold\n",
        "                                 ( df.iloc[i,9] / df.iloc[i-num_months+1,9] ) - 1 ])) # Inflation\n",
        "        stk.append(ret[i-num_months+1][0])\n",
        "        bond.append(ret[i-num_months+1][1])\n",
        "        tbl.append(ret[i-num_months+1][2])\n",
        "        btc.append(ret[i-num_months+1][3])\n",
        "        gld.append(ret[i-num_months+1][4])\n",
        "        inf.append(ret[i-num_months+1][5])\n",
        "    ret = np.array(ret)\n",
        "    stk = np.array(stk)\n",
        "    bond= np.array(bond)\n",
        "    tbl = np.array(tbl)\n",
        "    btc = np.array(btc)\n",
        "    gld = np.array(gld)\n",
        "    inf = np.array(inf)\n",
        "    return  stk,bond\n"
      ]
    },
    {
      "cell_type": "code",
      "execution_count": null,
      "metadata": {
        "id": "vEM0fQOBZi6A"
      },
      "outputs": [],
      "source": [
        "stk_1yr, bond_1yr = CumStocksAndBonds(df, 12, dim)"
      ]
    },
    {
      "cell_type": "code",
      "execution_count": null,
      "metadata": {
        "id": "gopd0YyLZi6A",
        "outputId": "6459554a-885b-4da4-a8cb-5f7cf0e0f280"
      },
      "outputs": [
        {
          "name": "stdout",
          "output_type": "stream",
          "text": [
            " At the 1 year horizon, the variance of stocks returns is 2.26% \n",
            " At the 1 year horizon, the variance of bonds returns is 0.6088% \n"
          ]
        }
      ],
      "source": [
        "var_stk_1yr=np.var(stk_1yr)\n",
        "var_bond_1yr=np.var(bond_1yr)\n",
        "print( f' At the 1 year horizon, the variance of stocks returns is {var_stk_1yr*100:.4}% ')\n",
        "print( f' At the 1 year horizon, the variance of bonds returns is {var_bond_1yr*100:.4}% ')"
      ]
    },
    {
      "cell_type": "code",
      "execution_count": null,
      "metadata": {
        "id": "zfwvEjtqZi6B",
        "outputId": "9cbd702e-dc94-4f9f-81c3-ccf32bb76f47"
      },
      "outputs": [
        {
          "name": "stdout",
          "output_type": "stream",
          "text": [
            " At the 5 year horizon, the variance of stocks returns is 21.6% \n",
            " At the 5 year horizon, the variance of bonds returns is 7.57% \n"
          ]
        }
      ],
      "source": [
        "stk_5yr, bond_5yr = CumStocksAndBonds(df, 60, dim)\n",
        "var_stk_5yr=np.var(stk_5yr)\n",
        "var_bond_5yr=np.var(bond_5yr)\n",
        "print( f' At the 5 year horizon, the variance of stocks returns is {var_stk_5yr*100:.4}% ')\n",
        "print( f' At the 5 year horizon, the variance of bonds returns is {var_bond_5yr*100:.4}% ')"
      ]
    },
    {
      "cell_type": "code",
      "execution_count": null,
      "metadata": {
        "id": "3qwoJovDZi6B",
        "outputId": "e0767b3d-e384-4705-8b55-68dd4da6ef62"
      },
      "outputs": [
        {
          "name": "stdout",
          "output_type": "stream",
          "text": [
            " At the 10 year horizon, the variance of stocks returns is 76.57% \n",
            " At the 10 year horizon, the variance of bonds returns is 37.25% \n"
          ]
        }
      ],
      "source": [
        "stk_10yr, bond_10yr = CumStocksAndBonds(df, 120, dim)\n",
        "var_stk_10yr=np.var(stk_10yr)\n",
        "var_bond_10yr=np.var(bond_10yr)\n",
        "print( f' At the 10 year horizon, the variance of stocks returns is {var_stk_10yr*100:.4}% ')\n",
        "print( f' At the 10 year horizon, the variance of bonds returns is {var_bond_10yr*100:.4}% ')"
      ]
    },
    {
      "cell_type": "markdown",
      "metadata": {
        "id": "3av0U1Y5J3f2"
      },
      "source": [
        "## PART 3"
      ]
    },
    {
      "cell_type": "markdown",
      "metadata": {
        "id": "pUAfbgfYZi6B"
      },
      "source": [
        "US stocks\n"
      ]
    },
    {
      "cell_type": "code",
      "execution_count": null,
      "metadata": {
        "id": "CVx3PyHsZi6B"
      },
      "outputs": [],
      "source": [
        "def ReturnsAndCov(df, num_months, dim):\n",
        "    \n",
        "    ret =[]\n",
        "    stk=[]\n",
        "    tbl=[]\n",
        "    btc=[]\n",
        "    gld=[]\n",
        "    inf=[]\n",
        "    for i in range(num_months-1, dim):\n",
        "        ret.append(np.array([(df.iloc[i,2] / df.iloc[i-num_months+1,2]) - 1,          # Stocks\n",
        "                                 ( df.iloc[i,5] / df.iloc[i-num_months+1,5] ) - 1,    # Bonds\n",
        "                                 ( df.iloc[i,7] / df.iloc[i-num_months+1,7] ) - 1,    # T-bill\n",
        "                                 ( df.iloc[i,11] / df.iloc[i-num_months+1,11] ) - 1,  # BTC\n",
        "                                 ( df.iloc[i,14] / df.iloc[i-num_months+1,14] ) - 1,  # Gold\n",
        "                                 ( df.iloc[i,9] / df.iloc[i-num_months+1,9] ) - 1 ])) # Inflation\n",
        "        stk.append(ret[i-num_months+1][0])\n",
        "        tbl.append(ret[i-num_months+1][2])\n",
        "        btc.append(ret[i-num_months+1][3])\n",
        "        gld.append(ret[i-num_months+1][4])\n",
        "        inf.append(ret[i-num_months+1][5])\n",
        "    ret = np.array(ret)\n",
        "    stk = np.array(stk)\n",
        "    tbl = np.array(tbl)\n",
        "    btc = np.array(btc)\n",
        "    gld = np.array(gld)\n",
        "    inf = np.array(inf)\n",
        "    return  stk,tbl,btc,gld,inf\n"
      ]
    },
    {
      "cell_type": "code",
      "execution_count": null,
      "metadata": {
        "id": "sAIOsfVeZi6B"
      },
      "outputs": [],
      "source": [
        "stk_3m,tbl_3m,btc_3m,gld_3m,inf_3m=ReturnsAndCov(df, 3, dim)"
      ]
    },
    {
      "cell_type": "code",
      "execution_count": null,
      "metadata": {
        "id": "RbvAWP7zZi6B"
      },
      "outputs": [],
      "source": [
        "btc_3m = btc_3m[~np.isnan(btc_3m)]\n",
        "gld_3m=gld_3m[~np.isnan(gld_3m)]"
      ]
    },
    {
      "cell_type": "code",
      "execution_count": null,
      "metadata": {
        "id": "swtkRHnoZi6C",
        "outputId": "f4898529-97b3-404c-83b2-abfb398cb651"
      },
      "outputs": [
        {
          "name": "stdout",
          "output_type": "stream",
          "text": [
            "The covirance of three months stocks and inflation is -0.069678\n",
            "The covirance of three months T-bills and inflation is 0.48414\n",
            "The covirance of three months Bitcoin and inflation is 0.075066\n",
            "The covirance of three months gold and inflation is 0.033833\n"
          ]
        }
      ],
      "source": [
        "a3=np.corrcoef(stk_3m,inf_3m)[0][1]\n",
        "b3=np.corrcoef(tbl_3m,inf_3m)[0][1]\n",
        "c3=np.corrcoef(btc_3m,inf_3m[777:])[0][1]\n",
        "d3=np.corrcoef(gld_3m,inf_3m[608:])[0][1]\n",
        "print(f'The covirance of three months stocks and inflation is {a3:.5}')\n",
        "print(f'The covirance of three months T-bills and inflation is {b3:.5}')\n",
        "print(f'The covirance of three months Bitcoin and inflation is {c3:.5}')\n",
        "print(f'The covirance of three months gold and inflation is {d3:.5}')"
      ]
    },
    {
      "cell_type": "code",
      "execution_count": null,
      "metadata": {
        "id": "IWitorNoZi6C"
      },
      "outputs": [],
      "source": [
        "stk_12m,tbl_12m,btc_12m,gld_12m,inf_12m=ReturnsAndCov(df, 12, dim)"
      ]
    },
    {
      "cell_type": "code",
      "execution_count": null,
      "metadata": {
        "id": "YExX23vNZi6C"
      },
      "outputs": [],
      "source": [
        "btc_12m = btc_12m[~np.isnan(btc_12m)]\n",
        "gld_12m=gld_12m[~np.isnan(gld_12m)]"
      ]
    },
    {
      "cell_type": "code",
      "execution_count": null,
      "metadata": {
        "scrolled": true,
        "id": "kt5_x-xCZi6C",
        "outputId": "c782343f-7d75-494e-90a4-9ecd759a2c2a"
      },
      "outputs": [
        {
          "name": "stdout",
          "output_type": "stream",
          "text": [
            "The covirance of 12 months stocks and inflation is -0.16757\n",
            "The covirance of 12 months T-bills and inflation is 0.63839\n",
            "The covirance of 12 months Bitcoin and inflation is 0.17816\n",
            "The covirance of 12 months gold and inflation is 0.2095\n"
          ]
        }
      ],
      "source": [
        "a12=np.corrcoef(stk_12m,inf_12m)[0][1]\n",
        "b12=np.corrcoef(tbl_12m,inf_12m)[0][1]\n",
        "c12=np.corrcoef(btc_12m,inf_12m[777:])[0][1]\n",
        "d12=np.corrcoef(gld_12m,inf_12m[608:])[0][1]\n",
        "print(f'The covirance of 12 months stocks and inflation is {a12:.5}')\n",
        "print(f'The covirance of 12 months T-bills and inflation is {b12:.5}')\n",
        "print(f'The covirance of 12 months Bitcoin and inflation is {c12:.5}')\n",
        "print(f'The covirance of 12 months gold and inflation is {d12:.5}')"
      ]
    },
    {
      "cell_type": "code",
      "execution_count": null,
      "metadata": {
        "id": "TG_Y3FTTZi6C"
      },
      "outputs": [],
      "source": [
        "stk_24m,tbl_24m,btc_24m,gld_24m,inf_24m=ReturnsAndCov(df, 24, dim)"
      ]
    },
    {
      "cell_type": "code",
      "execution_count": null,
      "metadata": {
        "id": "2tPZaZm7Zi6C"
      },
      "outputs": [],
      "source": [
        "btc_24m = btc_24m[~np.isnan(btc_24m)]\n",
        "gld_24m=gld_24m[~np.isnan(gld_24m)]"
      ]
    },
    {
      "cell_type": "code",
      "execution_count": null,
      "metadata": {
        "id": "uqC9Oh2MZi6C",
        "outputId": "80f55716-1bda-48f0-eb6c-a6a91f3eeece"
      },
      "outputs": [
        {
          "name": "stdout",
          "output_type": "stream",
          "text": [
            "The correlation of 3 months stocks and inflation is -0.069678\n",
            "The correlation of 3 months T-bills and inflation is 0.48414\n",
            "The correlation of 3 months Bitcoin and inflation is 0.075066\n",
            "The correlation of 3 months gold and inflation is 0.033833\n",
            "The correlation of 12 months stocks and inflation is -0.16757\n",
            "The correlation of 12 months T-bills and inflation is 0.63839\n",
            "The correlation of 12 months Bitcoin and inflation is 0.17816\n",
            "The correlation of 12 months gold and inflation is 0.2095\n",
            "The correlation of 24 months stocks and inflation is -0.23049\n",
            "The correlation of 24 months T-bills and inflation is 0.70383\n",
            "The correlation of 24 months Bitcoin and inflation is 0.15062\n",
            "The correlation of 24 months gold and inflation is 0.40425\n"
          ]
        }
      ],
      "source": [
        "a24=np.corrcoef(stk_24m,inf_24m)[0][1]\n",
        "b24=np.corrcoef(tbl_24m,inf_24m)[0][1]\n",
        "c24=np.corrcoef(btc_24m,inf_24m[777:])[0][1]\n",
        "d24=np.corrcoef(gld_24m,inf_24m[608:])[0][1]\n",
        "print(f'The correlation of 3 months stocks and inflation is {a3:.5}')\n",
        "print(f'The correlation of 3 months T-bills and inflation is {b3:.5}')\n",
        "print(f'The correlation of 3 months Bitcoin and inflation is {c3:.5}')\n",
        "print(f'The correlation of 3 months gold and inflation is {d3:.5}')\n",
        "print(f'The correlation of 12 months stocks and inflation is {a12:.5}')\n",
        "print(f'The correlation of 12 months T-bills and inflation is {b12:.5}')\n",
        "print(f'The correlation of 12 months Bitcoin and inflation is {c12:.5}')\n",
        "print(f'The correlation of 12 months gold and inflation is {d12:.5}')\n",
        "print(f'The correlation of 24 months stocks and inflation is {a24:.5}')\n",
        "print(f'The correlation of 24 months T-bills and inflation is {b24:.5}')\n",
        "print(f'The correlation of 24 months Bitcoin and inflation is {c24:.5}')\n",
        "print(f'The correlation of 24 months gold and inflation is {d24:.5}')"
      ]
    },
    {
      "cell_type": "code",
      "execution_count": null,
      "metadata": {
        "id": "H-g6ovl7Zi6C"
      },
      "outputs": [],
      "source": []
    },
    {
      "cell_type": "code",
      "execution_count": null,
      "metadata": {
        "id": "HH35bx-KZi6C"
      },
      "outputs": [],
      "source": []
    }
  ],
  "metadata": {
    "colab": {
      "provenance": [],
      "include_colab_link": true
    },
    "kernelspec": {
      "display_name": "Python 3",
      "language": "python",
      "name": "python3"
    },
    "language_info": {
      "codemirror_mode": {
        "name": "ipython",
        "version": 3
      },
      "file_extension": ".py",
      "mimetype": "text/x-python",
      "name": "python",
      "nbconvert_exporter": "python",
      "pygments_lexer": "ipython3",
      "version": "3.7.4"
    },
    "vscode": {
      "interpreter": {
        "hash": "639e406a5771ae6be96f4b944df43e571a63d1198e3617b1046929a34f060e05"
      }
    }
  },
  "nbformat": 4,
  "nbformat_minor": 0
}