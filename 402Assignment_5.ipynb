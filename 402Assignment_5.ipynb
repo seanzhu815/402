{
  "cells": [
    {
      "cell_type": "markdown",
      "metadata": {
        "id": "view-in-github",
        "colab_type": "text"
      },
      "source": [
        "<a href=\"https://colab.research.google.com/github/seanzhu815/402/blob/main/402Assignment_5.ipynb\" target=\"_parent\"><img src=\"https://colab.research.google.com/assets/colab-badge.svg\" alt=\"Open In Colab\"/></a>"
      ]
    },
    {
      "cell_type": "markdown",
      "metadata": {
        "id": "KeT_CWjWiSIw"
      },
      "source": [
        "# Assignment 5 sample code"
      ]
    },
    {
      "cell_type": "markdown",
      "metadata": {
        "id": "Xsyr692viSIy"
      },
      "source": [
        "## Import Modules"
      ]
    },
    {
      "cell_type": "code",
      "execution_count": 2,
      "metadata": {
        "id": "bIisvocBiSIy"
      },
      "outputs": [],
      "source": [
        "import pandas            as pd   \n",
        "import numpy             as np   \n",
        "import scipy             as scp  \n",
        "import matplotlib.pyplot as plt  \n",
        "import os                as os   \n",
        "from datetime import date as dd  # for dates\n",
        "from scipy import optimize\n",
        "from scipy import stats\n",
        "import statsmodels.api as sm"
      ]
    },
    {
      "cell_type": "markdown",
      "metadata": {
        "id": "EDbkhagaiSIz"
      },
      "source": [
        "# Datafiles"
      ]
    },
    {
      "cell_type": "markdown",
      "metadata": {
        "id": "KzGmmYkXiSIz"
      },
      "source": [
        "## Part 1"
      ]
    },
    {
      "cell_type": "markdown",
      "metadata": {
        "id": "eyQENWxMiSIz"
      },
      "source": [
        "### Q1.1"
      ]
    },
    {
      "cell_type": "code",
      "execution_count": 3,
      "metadata": {
        "colab": {
          "base_uri": "https://localhost:8080/"
        },
        "id": "caFRclIniSI0",
        "outputId": "560bc5cd-ab83-41f1-c7f7-28a211ffdda8"
      },
      "outputs": [
        {
          "output_type": "stream",
          "name": "stdout",
          "text": [
            "The probability is 0.69.\n"
          ]
        }
      ],
      "source": [
        "r = 0.02                          # risk free rate\n",
        "d =  1-0.0476                         # return in down state\n",
        "u =  1+0.05                         # return in up state\n",
        "p =  (1+r-d)/(u-d)                         # risk neutral probability of up state\n",
        "print(f'The probability is {p :.2f}.')"
      ]
    },
    {
      "cell_type": "markdown",
      "metadata": {
        "id": "E-i_WSFtiSI0"
      },
      "source": [
        "### Q 1.2"
      ]
    },
    {
      "cell_type": "code",
      "execution_count": 4,
      "metadata": {
        "colab": {
          "base_uri": "https://localhost:8080/"
        },
        "id": "annvJ98kiSI0",
        "outputId": "22be6c65-505c-4048-9f44-58deb16182d1"
      },
      "outputs": [
        {
          "output_type": "stream",
          "name": "stdout",
          "text": [
            "The option price at node u is 11.86.\n",
            "The option price at node d is 3.40.\n",
            "The option price at node 0 is 9.08.\n"
          ]
        }
      ],
      "source": [
        "S0 =   100                                         # Fill in stock prices at all nodes\n",
        "Su =   105         \n",
        "Sd =   95.24 \n",
        "Suu =   110.25\n",
        "Sud = 100\n",
        "Sdd = 90.7\n",
        "K =   95                                          # Strike price\n",
        "Cuu = max(Suu-K ,0)                                        # Calculate call payoff at all nodes\n",
        "Cud =  max(Sud-K ,0)\n",
        "Cdd =  max(Sdd-K ,0)\n",
        "Cu = (p*Cuu + (1-p)*Cud)/(1+r)                  \n",
        "Cd = (p*Cud + (1-p)*Cdd)/(1+r)\n",
        "C = (p*Cu + (1-p)*Cd)/(1+r)\n",
        "print(f'The option price at node u is {Cu :.2f}.')\n",
        "print(f'The option price at node d is {Cd :.2f}.')\n",
        "print(f'The option price at node 0 is {C :.2f}.')"
      ]
    },
    {
      "cell_type": "markdown",
      "metadata": {
        "id": "Kvofp8nXiSI0"
      },
      "source": [
        "### Q 1.3 "
      ]
    },
    {
      "cell_type": "code",
      "execution_count": 8,
      "metadata": {
        "colab": {
          "base_uri": "https://localhost:8080/"
        },
        "id": "vR9AwrxUiSI1",
        "outputId": "a75f5a21-2c73-4550-bcae-fd9e384a6324"
      },
      "outputs": [
        {
          "output_type": "stream",
          "name": "stdout",
          "text": [
            "The hedge ratio at node 0 is 0.87.\n",
            "The hedge ratio at node u is 1.00.\n",
            "The hedge ratio at node d is 0.54.\n"
          ]
        }
      ],
      "source": [
        "H0 = (Cu - Cd)/(u*S0-d*S0)                           # Fill in the hedge ratios\n",
        "Hu = (Cuu-Cud)/(S0*u**2-S0*u*d)\n",
        "Hd = (Cud-Cdd)/(S0*u*d-S0*d*d)\n",
        "print(f'The hedge ratio at node 0 is {H0 :.2f}.')\n",
        "print(f'The hedge ratio at node u is {Hu :.2f}.')\n",
        "print(f'The hedge ratio at node d is {Hd :.2f}.')"
      ]
    },
    {
      "cell_type": "markdown",
      "metadata": {
        "id": "oGe-l2RZiSI1"
      },
      "source": [
        "### Q 1.4"
      ]
    },
    {
      "cell_type": "code",
      "source": [
        "S0 =   100                                         # Fill in stock prices at all nodes\n",
        "Su =   105         \n",
        "Sd =   95.24 \n",
        "Suu =   110.25\n",
        "Sud = 100\n",
        "Sdd = 90.7\n",
        "K =   105                                          # Strike price\n",
        "Cuu = max(Suu-K ,0)                                        # Calculate call payoff at all nodes\n",
        "Cud =  max(Sud-K ,0)\n",
        "Cdd =  max(Sdd-K ,0)\n",
        "Cu = (p*Cuu + (1-p)*Cud)/(1+r)                  \n",
        "Cd = (p*Cud + (1-p)*Cdd)/(1+r)\n",
        "C = (p*Cu + (1-p)*Cd)/(1+r)\n",
        "print(f'The option price at node u is {Cu :.2f}.')\n",
        "print(f'The option price at node d is {Cd :.2f}.')\n",
        "print(f'The option price at node 0 is {C :.2f}.')"
      ],
      "metadata": {
        "colab": {
          "base_uri": "https://localhost:8080/"
        },
        "id": "sEfJBcWqp4lZ",
        "outputId": "5fa338c3-d19f-4d56-8bb4-144e3d4b5da2"
      },
      "execution_count": 9,
      "outputs": [
        {
          "output_type": "stream",
          "name": "stdout",
          "text": [
            "The option price at node u is 3.56.\n",
            "The option price at node d is 0.00.\n",
            "The option price at node 0 is 2.42.\n"
          ]
        }
      ]
    },
    {
      "cell_type": "code",
      "source": [
        "H0 = (Cu - Cd)/(u*S0-d*S0)                           # Fill in the hedge ratios\n",
        "Hu = (Cuu-Cud)/(S0*u**2-S0*u*d)\n",
        "Hd = (Cud-Cdd)/(S0*u*d-S0*d*d)\n",
        "print(f'The hedge ratio at node 0 is {H0 :.2f}.')\n",
        "print(f'The hedge ratio at node u is {Hu :.2f}.')\n",
        "print(f'The hedge ratio at node d is {Hd :.2f}.')"
      ],
      "metadata": {
        "colab": {
          "base_uri": "https://localhost:8080/"
        },
        "id": "8kzpOYvFqE3j",
        "outputId": "605aeb9f-4d28-4f36-d097-d8fbbdb979c6"
      },
      "execution_count": 10,
      "outputs": [
        {
          "output_type": "stream",
          "name": "stdout",
          "text": [
            "The hedge ratio at node 0 is 0.37.\n",
            "The hedge ratio at node u is 0.51.\n",
            "The hedge ratio at node d is 0.00.\n"
          ]
        }
      ]
    },
    {
      "cell_type": "markdown",
      "metadata": {
        "id": "xYDsC5uHiSI1"
      },
      "source": [
        "## Part 2"
      ]
    },
    {
      "cell_type": "markdown",
      "metadata": {
        "id": "ZFDCcRoHiSI1"
      },
      "source": [
        "### Q 2.1"
      ]
    },
    {
      "cell_type": "code",
      "source": [
        "from google.colab import drive\n",
        "drive.mount('/content/drive')"
      ],
      "metadata": {
        "colab": {
          "base_uri": "https://localhost:8080/"
        },
        "id": "A4GGbGYDq0oT",
        "outputId": "da9659bd-dcdb-47ce-af6e-4374e6ce6ef3"
      },
      "execution_count": 11,
      "outputs": [
        {
          "output_type": "stream",
          "name": "stdout",
          "text": [
            "Mounted at /content/drive\n"
          ]
        }
      ]
    },
    {
      "cell_type": "code",
      "source": [
        "datafile1='/content/drive/MyDrive/MGTF402/options_data_2022.xlsx'"
      ],
      "metadata": {
        "id": "27VBnvmDqwh-"
      },
      "execution_count": 12,
      "outputs": []
    },
    {
      "cell_type": "code",
      "source": [
        "options_data = pd.read_excel(datafile1, usecols = \"A:E\", header = 0) \n",
        "options_data[\"ret\"] = np.log(options_data['sp_500_index']) - np.log(options_data['sp_500_index'].shift(1))\n",
        "T = len(options_data)"
      ],
      "metadata": {
        "id": "92KQlH2-qrHt"
      },
      "execution_count": 15,
      "outputs": []
    },
    {
      "cell_type": "code",
      "source": [
        "T"
      ],
      "metadata": {
        "colab": {
          "base_uri": "https://localhost:8080/"
        },
        "id": "n-WRCDNcrUT-",
        "outputId": "5474beb3-181f-4ddd-ff1b-63a352d85552"
      },
      "execution_count": 27,
      "outputs": [
        {
          "output_type": "execute_result",
          "data": {
            "text/plain": [
              "502"
            ]
          },
          "metadata": {},
          "execution_count": 27
        }
      ]
    },
    {
      "cell_type": "code",
      "execution_count": 16,
      "metadata": {
        "id": "_C9CKRQXiSI1"
      },
      "outputs": [],
      "source": [
        "def BScholes(S,K,maturity, r, sigma, delta): \n",
        "    d1 = (np.log(S/K) + (r + sigma**2/2)*maturity)/(sigma*np.sqrt(maturity))\n",
        "    d2 = d1 - sigma*np.sqrt(maturity)\n",
        "    Nd1 = stats.norm.cdf(d1)\n",
        "    Nd2 = stats.norm.cdf(d2)\n",
        "    Nd1neg = stats.norm.cdf(-d1)\n",
        "    Nd2neg = stats.norm.cdf(-d2)\n",
        "\n",
        "    callprice = S*np.exp(-delta*maturity)*Nd1 - np.exp(-r*maturity)*K*Nd2\n",
        "    putprice = np.exp(-r*maturity)*K*Nd2neg - S*np.exp(-delta*maturity)*Nd1neg\n",
        "    return callprice, putprice"
      ]
    },
    {
      "cell_type": "code",
      "source": [
        "options_data_100=options_data[-100:]"
      ],
      "metadata": {
        "id": "5Vq6NH8nsGUO"
      },
      "execution_count": 20,
      "outputs": []
    },
    {
      "cell_type": "code",
      "source": [
        "options_data_100"
      ],
      "metadata": {
        "id": "CL8tpFcDsKX0"
      },
      "execution_count": null,
      "outputs": []
    },
    {
      "cell_type": "code",
      "source": [
        "np.sqrt(252)*options_data_100['ret'].std()   "
      ],
      "metadata": {
        "colab": {
          "base_uri": "https://localhost:8080/"
        },
        "id": "HlQg8Ni2s9p_",
        "outputId": "defb1b6b-f664-477c-d672-99e32f20dcbb"
      },
      "execution_count": 25,
      "outputs": [
        {
          "output_type": "execute_result",
          "data": {
            "text/plain": [
              "0.24931501773180081"
            ]
          },
          "metadata": {},
          "execution_count": 25
        }
      ]
    },
    {
      "cell_type": "code",
      "execution_count": 29,
      "metadata": {
        "colab": {
          "base_uri": "https://localhost:8080/"
        },
        "id": "eo6F7gkViSI2",
        "outputId": "20247917-b0ad-44ac-feb3-cc4e66e51c85"
      },
      "outputs": [
        {
          "output_type": "stream",
          "name": "stdout",
          "text": [
            "The call price is 136.91.\n",
            "The put price is 216.66.\n"
          ]
        }
      ],
      "source": [
        "sigma =  np.sqrt(252)*options_data_100['ret'].std()                              #calculate the annualized vol using the ret from options_data\n",
        "S =    3901                                 # Fill these in                        \n",
        "K =   4000\n",
        "maturity = 50/252\n",
        "r = 0.04\n",
        "delta = 0.016\n",
        "callprice = BScholes(S,K,maturity, r, sigma, delta)[0]\n",
        "putprice = BScholes(S,K,maturity, r, sigma, delta)[1]\n",
        "print(f'The call price is {callprice :.2f}.')\n",
        "print(f'The put price is {putprice :.2f}.')"
      ]
    },
    {
      "cell_type": "markdown",
      "metadata": {
        "id": "B4k93hcsiSI2"
      },
      "source": [
        "### Q 2.2"
      ]
    },
    {
      "cell_type": "code",
      "source": [
        "options_data_200=options_data[-200:]"
      ],
      "metadata": {
        "id": "tu6BwuZvuI2f"
      },
      "execution_count": 30,
      "outputs": []
    },
    {
      "cell_type": "code",
      "execution_count": 31,
      "metadata": {
        "colab": {
          "base_uri": "https://localhost:8080/"
        },
        "id": "1V2G3Oa1iSI2",
        "outputId": "308928bd-da31-48ec-b045-6239fbc77917"
      },
      "outputs": [
        {
          "output_type": "stream",
          "name": "stdout",
          "text": [
            "The call price with 200 days vol is 136.02.\n",
            "The put price with 200 days vol is 215.76.\n"
          ]
        }
      ],
      "source": [
        "sigma200 =  np.sqrt(252)*options_data_200['ret'].std()                                    #calculate the annualized vol using 200 days\n",
        "callprice200 = BScholes(S,K,maturity, r, sigma200, delta)[0]\n",
        "putprice200 = BScholes(S,K,maturity, r, sigma200, delta)[1]\n",
        "\n",
        "print(f'The call price with 200 days vol is {callprice200 :.2f}.')\n",
        "print(f'The put price with 200 days vol is {putprice200 :.2f}.')\n"
      ]
    },
    {
      "cell_type": "markdown",
      "metadata": {
        "id": "HLU2NClDiSI2"
      },
      "source": [
        "### Q 2.3"
      ]
    },
    {
      "cell_type": "markdown",
      "metadata": {
        "id": "Sz8sfZW-iSI2"
      },
      "source": [
        "The value of the Vix on 10/28/2022 was xxx%. (Use close)"
      ]
    },
    {
      "cell_type": "code",
      "execution_count": 32,
      "metadata": {
        "colab": {
          "base_uri": "https://localhost:8080/"
        },
        "id": "QvGisXmfiSI2",
        "outputId": "db7c32b8-0cfa-4539-9865-855be9b985db"
      },
      "outputs": [
        {
          "output_type": "stream",
          "name": "stdout",
          "text": [
            "The 200 days vol is 24.80 percent.\n",
            "The 100 days vol is 24.93 percent.\n"
          ]
        }
      ],
      "source": [
        "print(f'The 200 days vol is {sigma200*100 :.2f} percent.')\n",
        "print(f'The 100 days vol is {sigma*100 :.2f} percent.')"
      ]
    },
    {
      "cell_type": "markdown",
      "metadata": {
        "id": "D_sy_FS1iSI3"
      },
      "source": [
        "### Q 2.4"
      ]
    },
    {
      "cell_type": "code",
      "execution_count": 36,
      "metadata": {
        "colab": {
          "base_uri": "https://localhost:8080/"
        },
        "id": "wEDBK29hiSI3",
        "outputId": "9075c73b-c6c1-44c4-c47a-64d614a48da0"
      },
      "outputs": [
        {
          "output_type": "stream",
          "name": "stdout",
          "text": [
            "The implied vol with call is 23.78 percent.\n",
            "The implied vol with put is 20.30 percent.\n"
          ]
        }
      ],
      "source": [
        "call = 129\n",
        "put = 185\n",
        "def callfunc(x):                                      # callfunc takes input the volatility x and ouptputs the call price\n",
        "    return BScholes(S,K,maturity, r, x, delta)[0]\n",
        "\n",
        "def putfunc(x):\n",
        "    return  BScholes(S,K,maturity, r, x, delta)[1]                                   # Fill in the output for the putfunc\n",
        "\n",
        "impliedvol_call = (scp.optimize.minimize(lambda x: (callfunc(x) - call)**2, x0 = 0.2).x)[0]\n",
        "impliedvol_put =  (scp.optimize.minimize(lambda x: (put-putfunc(x))**2, x0 = 0.2).x)[0]                           # Perform the optimization \n",
        "\n",
        "print(f'The implied vol with call is {impliedvol_call*100 :.2f} percent.')\n",
        "print(f'The implied vol with put is {impliedvol_put*100 :.2f} percent.')\n"
      ]
    },
    {
      "cell_type": "code",
      "source": [],
      "metadata": {
        "id": "NIbRBUKwxsNS"
      },
      "execution_count": null,
      "outputs": []
    }
  ],
  "metadata": {
    "kernelspec": {
      "display_name": "Python 3.9.7 ('base')",
      "language": "python",
      "name": "python3"
    },
    "language_info": {
      "codemirror_mode": {
        "name": "ipython",
        "version": 3
      },
      "file_extension": ".py",
      "mimetype": "text/x-python",
      "name": "python",
      "nbconvert_exporter": "python",
      "pygments_lexer": "ipython3",
      "version": "3.9.7"
    },
    "orig_nbformat": 4,
    "vscode": {
      "interpreter": {
        "hash": "639e406a5771ae6be96f4b944df43e571a63d1198e3617b1046929a34f060e05"
      }
    },
    "colab": {
      "provenance": [],
      "collapsed_sections": [],
      "include_colab_link": true
    }
  },
  "nbformat": 4,
  "nbformat_minor": 0
}