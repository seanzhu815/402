{
  "cells": [
    {
      "cell_type": "markdown",
      "metadata": {
        "id": "view-in-github",
        "colab_type": "text"
      },
      "source": [
        "<a href=\"https://colab.research.google.com/github/seanzhu815/402/blob/main/402Assignment_5.ipynb\" target=\"_parent\"><img src=\"https://colab.research.google.com/assets/colab-badge.svg\" alt=\"Open In Colab\"/></a>"
      ]
    },
    {
      "cell_type": "markdown",
      "metadata": {
        "id": "KeT_CWjWiSIw"
      },
      "source": [
        "# Assignment 5 sample code"
      ]
    },
    {
      "cell_type": "markdown",
      "metadata": {
        "id": "Xsyr692viSIy"
      },
      "source": [
        "## Import Modules"
      ]
    },
    {
      "cell_type": "code",
      "execution_count": 1,
      "metadata": {
        "id": "bIisvocBiSIy"
      },
      "outputs": [],
      "source": [
        "import pandas            as pd   \n",
        "import numpy             as np   \n",
        "import scipy             as scp  \n",
        "import matplotlib.pyplot as plt  \n",
        "import os                as os   \n",
        "from datetime import date as dd  # for dates\n",
        "from scipy import optimize\n",
        "from scipy import stats\n",
        "import statsmodels.api as sm"
      ]
    },
    {
      "cell_type": "markdown",
      "metadata": {
        "id": "EDbkhagaiSIz"
      },
      "source": [
        "# Datafiles"
      ]
    },
    {
      "cell_type": "markdown",
      "metadata": {
        "id": "KzGmmYkXiSIz"
      },
      "source": [
        "## Part 1"
      ]
    },
    {
      "cell_type": "markdown",
      "metadata": {
        "id": "eyQENWxMiSIz"
      },
      "source": [
        "### Q1.1"
      ]
    },
    {
      "cell_type": "code",
      "execution_count": null,
      "metadata": {
        "id": "caFRclIniSI0"
      },
      "outputs": [],
      "source": [
        "r =                           # risk free rate\n",
        "d =                           # return in down state\n",
        "u =                           # return in up state\n",
        "p =                           # risk neutral probability of up state\n",
        "print(f'The probability is {p :.2f}.')"
      ]
    },
    {
      "cell_type": "markdown",
      "metadata": {
        "id": "E-i_WSFtiSI0"
      },
      "source": [
        "### Q 1.2"
      ]
    },
    {
      "cell_type": "code",
      "execution_count": null,
      "metadata": {
        "id": "annvJ98kiSI0"
      },
      "outputs": [],
      "source": [
        "S0 =                                            # Fill in stock prices at all nodes\n",
        "Su =            \n",
        "Sd = \n",
        "Suu = \n",
        "Sud =\n",
        "Sdd = \n",
        "K =                                             # Strike price\n",
        "Cuu =                                           # Calculate call payoff at all nodes\n",
        "Cud =  \n",
        "Cdd = \n",
        "Cu = (p*Cuu + (1-p)*Cud)/(1+r)                  \n",
        "Cd = \n",
        "C = \n",
        "print(f'The option price at node u is {Cu :.2f}.')\n",
        "print(f'The option price at node d is {Cd :.2f}.')\n",
        "print(f'The option price at node 0 is {C :.2f}.')"
      ]
    },
    {
      "cell_type": "markdown",
      "metadata": {
        "id": "Kvofp8nXiSI0"
      },
      "source": [
        "### Q 1.3 "
      ]
    },
    {
      "cell_type": "code",
      "execution_count": null,
      "metadata": {
        "id": "vR9AwrxUiSI1"
      },
      "outputs": [],
      "source": [
        "H0 = (Cu - Cd)/(u*S0-d*S0)                           # Fill in the hedge ratios\n",
        "Hu = \n",
        "Hd = \n",
        "print(f'The hedge ratio at node 0 is {H0 :.2f}.')\n",
        "print(f'The hedge ratio at node u is {Hu :.2f}.')\n",
        "print(f'The hedge ratio at node d is {Hd :.2f}.')"
      ]
    },
    {
      "cell_type": "markdown",
      "metadata": {
        "id": "oGe-l2RZiSI1"
      },
      "source": [
        "### Q 1.4: Do this yourself"
      ]
    },
    {
      "cell_type": "markdown",
      "metadata": {
        "id": "xYDsC5uHiSI1"
      },
      "source": [
        "## Part 2"
      ]
    },
    {
      "cell_type": "markdown",
      "metadata": {
        "id": "ZFDCcRoHiSI1"
      },
      "source": [
        "### Q 2.1"
      ]
    },
    {
      "cell_type": "markdown",
      "metadata": {
        "id": "apyjV8CXiSI1"
      },
      "source": [
        "options_data = pd.read_excel(datafile1, usecols = \"A:E\", header = 0)\n",
        "options_data[\"ret\"] = np.log(options_data['sp_500_index']) - np.log(options_data['sp_500_index'].shift(1)) \n",
        "T = len(options_data)"
      ]
    },
    {
      "cell_type": "code",
      "execution_count": null,
      "metadata": {
        "id": "_C9CKRQXiSI1"
      },
      "outputs": [],
      "source": [
        "def BScholes(S,K,maturity, r, sigma, delta): \n",
        "    d1 = (np.log(S/K) + (r + sigma**2/2)*maturity)/(sigma*np.sqrt(maturity))\n",
        "    d2 = d1 - sigma*np.sqrt(maturity)\n",
        "    Nd1 = stats.norm.cdf(d1)\n",
        "    Nd2 = stats.norm.cdf(d2)\n",
        "    Nd1neg = stats.norm.cdf(-d1)\n",
        "    Nd2neg = stats.norm.cdf(-d2)\n",
        "\n",
        "    callprice = S*np.exp(-delta*maturity)*Nd1 - np.exp(-r*maturity)*K*Nd2\n",
        "    putprice = np.exp(-r*maturity)*K*Nd2neg - S*np.exp(-delta*maturity)*Nd1neg\n",
        "    return callprice, putprice"
      ]
    },
    {
      "cell_type": "code",
      "execution_count": null,
      "metadata": {
        "id": "eo6F7gkViSI2"
      },
      "outputs": [],
      "source": [
        "sigma =                                 #calculate the annualized vol using the ret from options_data\n",
        "S =                                     # Fill these in                        \n",
        "K = \n",
        "maturity = 50/252\n",
        "r = \n",
        "delta = \n",
        "callprice = BScholes(S,K,maturity, r, sigma, delta)[0]\n",
        "putprice = BScholes(S,K,maturity, r, sigma, delta)[1]\n",
        "print(f'The call price is {callprice :.2f}.')\n",
        "print(f'The put price is {putprice :.2f}.')"
      ]
    },
    {
      "cell_type": "markdown",
      "metadata": {
        "id": "B4k93hcsiSI2"
      },
      "source": [
        "### Q 2.2"
      ]
    },
    {
      "cell_type": "code",
      "execution_count": null,
      "metadata": {
        "id": "1V2G3Oa1iSI2"
      },
      "outputs": [],
      "source": [
        "sigma200 =                                     #calculate the annualized vol using 200 days\n",
        "callprice200 = BScholes(S,K,maturity, r, sigma200, delta)[0]\n",
        "putprice200 = BScholes(S,K,maturity, r, sigma200, delta)[1]\n",
        "\n",
        "print(f'The call price with 200 days vol is {callprice200 :.2f}.')\n",
        "print(f'The put price with 200 days vol is {putprice200 :.2f}.')\n"
      ]
    },
    {
      "cell_type": "markdown",
      "metadata": {
        "id": "HLU2NClDiSI2"
      },
      "source": [
        "### Q 2.3"
      ]
    },
    {
      "cell_type": "markdown",
      "metadata": {
        "id": "Sz8sfZW-iSI2"
      },
      "source": [
        "The value of the Vix on 10/28/2022 was xxx%. (Use close)"
      ]
    },
    {
      "cell_type": "code",
      "execution_count": null,
      "metadata": {
        "id": "QvGisXmfiSI2",
        "outputId": "34feeb33-b954-448c-c598-fbcea2ba71a2"
      },
      "outputs": [
        {
          "ename": "NameError",
          "evalue": "name 'sigma200' is not defined",
          "output_type": "error",
          "traceback": [
            "\u001b[1;31m---------------------------------------------------------------------------\u001b[0m",
            "\u001b[1;31mNameError\u001b[0m                                 Traceback (most recent call last)",
            "\u001b[1;32m~\\AppData\\Local\\Temp/ipykernel_14820/1606862287.py\u001b[0m in \u001b[0;36m<module>\u001b[1;34m\u001b[0m\n\u001b[1;32m----> 1\u001b[1;33m \u001b[0mprint\u001b[0m\u001b[1;33m(\u001b[0m\u001b[1;34mf'The 200 days vol is {sigma200*100 :.2f} percent.'\u001b[0m\u001b[1;33m)\u001b[0m\u001b[1;33m\u001b[0m\u001b[1;33m\u001b[0m\u001b[0m\n\u001b[0m\u001b[0;32m      2\u001b[0m \u001b[0mprint\u001b[0m\u001b[1;33m(\u001b[0m\u001b[1;34mf'The 100 days vol is {sigma*100 :.2f} percent.'\u001b[0m\u001b[1;33m)\u001b[0m\u001b[1;33m\u001b[0m\u001b[1;33m\u001b[0m\u001b[0m\n",
            "\u001b[1;31mNameError\u001b[0m: name 'sigma200' is not defined"
          ]
        }
      ],
      "source": [
        "print(f'The 200 days vol is {sigma200*100 :.2f} percent.')\n",
        "print(f'The 100 days vol is {sigma*100 :.2f} percent.')"
      ]
    },
    {
      "cell_type": "markdown",
      "metadata": {
        "id": "D_sy_FS1iSI3"
      },
      "source": [
        "### Q 2.4"
      ]
    },
    {
      "cell_type": "code",
      "execution_count": null,
      "metadata": {
        "id": "wEDBK29hiSI3"
      },
      "outputs": [],
      "source": [
        "call = 129\n",
        "put = 185\n",
        "def callfunc(x):                                      # callfunc takes input the volatility x and ouptputs the call price\n",
        "    return BScholes(S,K,maturity, r, x, delta)[0]\n",
        "\n",
        "def putfunc(x):\n",
        "    return                                     # Fill in the output for the putfunc\n",
        "\n",
        "impliedvol_call = (scp.optimize.minimize(lambda x: (callfunc(x) - call)**2, x0 = 0.2).x)[0]\n",
        "impliedvol_put =                               # Perform the optimization \n",
        "\n",
        "print(f'The implied vol with call is {impliedvol_call*100 :.2f} percent.')\n",
        "print(f'The implied vol with put is {impliedvol_put*100 :.2f} percent.')\n"
      ]
    }
  ],
  "metadata": {
    "kernelspec": {
      "display_name": "Python 3.9.7 ('base')",
      "language": "python",
      "name": "python3"
    },
    "language_info": {
      "codemirror_mode": {
        "name": "ipython",
        "version": 3
      },
      "file_extension": ".py",
      "mimetype": "text/x-python",
      "name": "python",
      "nbconvert_exporter": "python",
      "pygments_lexer": "ipython3",
      "version": "3.9.7"
    },
    "orig_nbformat": 4,
    "vscode": {
      "interpreter": {
        "hash": "639e406a5771ae6be96f4b944df43e571a63d1198e3617b1046929a34f060e05"
      }
    },
    "colab": {
      "provenance": [],
      "include_colab_link": true
    }
  },
  "nbformat": 4,
  "nbformat_minor": 0
}